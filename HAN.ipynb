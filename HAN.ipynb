{
 "cells": [
  {
   "cell_type": "markdown",
   "metadata": {},
   "source": [
    "## Hierarchical attention network for document classification"
   ]
  },
  {
   "cell_type": "code",
   "execution_count": 1,
   "metadata": {},
   "outputs": [],
   "source": [
    "import os\n",
    "import torch\n",
    "import torch.nn as nn\n",
    "from torch.utils.data import DataLoader\n",
    "from src.utils import get_max_lengths, get_evaluation\n",
    "from src.dataset import MyDataset\n",
    "from src.hierarchical_att_model import HierAttNet\n",
    "from tensorboardX import SummaryWriter\n",
    "import shutil\n",
    "import numpy as np"
   ]
  },
  {
   "cell_type": "markdown",
   "metadata": {},
   "source": [
    "### Params"
   ]
  },
  {
   "cell_type": "code",
   "execution_count": 2,
   "metadata": {},
   "outputs": [],
   "source": [
    "class opts:\n",
    "    def __init__(self):\n",
    "        self.batch_size = 128\n",
    "        self.num_epoches = 100\n",
    "        self.lr = 0.1\n",
    "        self.momentum = 0.9\n",
    "        self.word_hidden_size = 50\n",
    "        self.sent_hidden_size = 50\n",
    "        self.es_min_delta = 0.0\n",
    "        self.es_patience = 5\n",
    "        self.train_set = \"data\\\\TextClassificationDatasets\\\\ag_news_csv\\\\train.csv\"\n",
    "        self.test_set = \"data\\\\TextClassificationDatasets\\\\ag_news_csv\\\\test.csv\"\n",
    "        self.test_interval = 1\n",
    "        self.word2vec_path = \"data\\\\glove.6B.50d.txt\"\n",
    "        self.log_path = \"tensorboard\\\\han_voc\"\n",
    "        self.saved_path = \"trained_models\"\n",
    "opt = opts()"
   ]
  },
  {
   "cell_type": "markdown",
   "metadata": {},
   "source": [
    "### Training model"
   ]
  },
  {
   "cell_type": "markdown",
   "metadata": {},
   "source": [
    "Setup"
   ]
  },
  {
   "cell_type": "code",
   "execution_count": 3,
   "metadata": {},
   "outputs": [],
   "source": [
    "# Set random seed for reproducibility\n",
    "if torch.cuda.is_available():\n",
    "    torch.cuda.manual_seed(123)\n",
    "else:\n",
    "    torch.manual_seed(123)\n",
    "\n",
    "# Create a log file to save training logs\n",
    "output_file = open(opt.saved_path + os.sep + \"logs.txt\", \"w\")\n",
    "output_file.write(\"Model's parameters: {}\".format(vars(opt)))\n",
    "\n",
    "# Define DataLoader parameters for training and testing\n",
    "training_params = {\"batch_size\": opt.batch_size,\n",
    "                    \"shuffle\": True,\n",
    "                    \"drop_last\": True}\n",
    "test_params = {\"batch_size\": opt.batch_size,\n",
    "                \"shuffle\": False,\n",
    "                \"drop_last\": False}"
   ]
  },
  {
   "cell_type": "code",
   "execution_count": 4,
   "metadata": {},
   "outputs": [],
   "source": [
    "\n",
    "# Get maximum sentence and word lengths from training set\n",
    "max_word_length, max_sent_length = get_max_lengths(opt.train_set)\n",
    "training_set = MyDataset(opt.train_set, opt.word2vec_path, max_sent_length, max_word_length)\n",
    "training_generator = DataLoader(training_set, **training_params)\n",
    "test_set = MyDataset(opt.test_set, opt.word2vec_path, max_sent_length, max_word_length)\n",
    "test_generator = DataLoader(test_set, **test_params)"
   ]
  },
  {
   "cell_type": "code",
   "execution_count": 5,
   "metadata": {},
   "outputs": [],
   "source": [
    "# Create the model\n",
    "model = HierAttNet(opt.word_hidden_size, opt.sent_hidden_size, opt.batch_size, training_set.num_classes,\n",
    "                    opt.word2vec_path, max_sent_length, max_word_length)"
   ]
  },
  {
   "cell_type": "code",
   "execution_count": 6,
   "metadata": {},
   "outputs": [],
   "source": [
    "\n",
    "# Create a tensorboard writer to log training process\n",
    "if os.path.isdir(opt.log_path):\n",
    "    shutil.rmtree(opt.log_path)\n",
    "os.makedirs(opt.log_path)\n",
    "writer = SummaryWriter(opt.log_path)\n",
    "# writer.add_graph(model, torch.zeros(opt.batch_size, max_sent_length, max_word_length))\n",
    "\n",
    "if torch.cuda.is_available():\n",
    "    model.cuda()\n",
    "\n",
    "# Define loss function and optimizer\n",
    "criterion = nn.CrossEntropyLoss()\n",
    "optimizer = torch.optim.SGD(filter(lambda p: p.requires_grad, model.parameters()), lr=opt.lr, momentum=opt.momentum)\n",
    "best_loss = 1e5\n",
    "best_epoch = 0\n"
   ]
  },
  {
   "cell_type": "markdown",
   "metadata": {},
   "source": [
    "Training process"
   ]
  },
  {
   "cell_type": "code",
   "execution_count": 7,
   "metadata": {},
   "outputs": [
    {
     "name": "stderr",
     "output_type": "stream",
     "text": [
      "e:\\OneDrive - Hanoi University of Science and Technology\\Code project\\ML\\NLP\\uvipen_HAN\\src\\word_att_model.py:37: UserWarning: Implicit dimension choice for softmax has been deprecated. Change the call to include dim=X as an argument.\n",
      "  output = F.softmax(output)\n",
      "e:\\OneDrive - Hanoi University of Science and Technology\\Code project\\ML\\NLP\\uvipen_HAN\\src\\sent_att_model.py:29: UserWarning: Implicit dimension choice for softmax has been deprecated. Change the call to include dim=X as an argument.\n",
      "  output = F.softmax(output)\n"
     ]
    },
    {
     "name": "stdout",
     "output_type": "stream",
     "text": [
      "Epoch: 1/100, Iteration: 1/937, Lr: 0.1, Loss: 1.3807331323623657, Accuracy: 0.265625\n"
     ]
    },
    {
     "name": "stderr",
     "output_type": "stream",
     "text": [
      "e:\\OneDrive - Hanoi University of Science and Technology\\Code project\\ML\\NLP\\uvipen_HAN\\src\\word_att_model.py:37: UserWarning: Implicit dimension choice for softmax has been deprecated. Change the call to include dim=X as an argument.\n",
      "  output = F.softmax(output)\n",
      "e:\\OneDrive - Hanoi University of Science and Technology\\Code project\\ML\\NLP\\uvipen_HAN\\src\\sent_att_model.py:29: UserWarning: Implicit dimension choice for softmax has been deprecated. Change the call to include dim=X as an argument.\n",
      "  output = F.softmax(output)\n"
     ]
    },
    {
     "name": "stdout",
     "output_type": "stream",
     "text": [
      "Epoch: 1/100, Iteration: 2/937, Lr: 0.1, Loss: 1.3837823867797852, Accuracy: 0.171875\n"
     ]
    },
    {
     "name": "stderr",
     "output_type": "stream",
     "text": [
      "e:\\OneDrive - Hanoi University of Science and Technology\\Code project\\ML\\NLP\\uvipen_HAN\\src\\word_att_model.py:37: UserWarning: Implicit dimension choice for softmax has been deprecated. Change the call to include dim=X as an argument.\n",
      "  output = F.softmax(output)\n",
      "e:\\OneDrive - Hanoi University of Science and Technology\\Code project\\ML\\NLP\\uvipen_HAN\\src\\sent_att_model.py:29: UserWarning: Implicit dimension choice for softmax has been deprecated. Change the call to include dim=X as an argument.\n",
      "  output = F.softmax(output)\n"
     ]
    },
    {
     "name": "stdout",
     "output_type": "stream",
     "text": [
      "Epoch: 1/100, Iteration: 3/937, Lr: 0.1, Loss: 1.3800337314605713, Accuracy: 0.203125\n"
     ]
    },
    {
     "name": "stderr",
     "output_type": "stream",
     "text": [
      "e:\\OneDrive - Hanoi University of Science and Technology\\Code project\\ML\\NLP\\uvipen_HAN\\src\\word_att_model.py:37: UserWarning: Implicit dimension choice for softmax has been deprecated. Change the call to include dim=X as an argument.\n",
      "  output = F.softmax(output)\n",
      "e:\\OneDrive - Hanoi University of Science and Technology\\Code project\\ML\\NLP\\uvipen_HAN\\src\\sent_att_model.py:29: UserWarning: Implicit dimension choice for softmax has been deprecated. Change the call to include dim=X as an argument.\n",
      "  output = F.softmax(output)\n"
     ]
    },
    {
     "name": "stdout",
     "output_type": "stream",
     "text": [
      "Epoch: 1/100, Iteration: 4/937, Lr: 0.1, Loss: 1.3835012912750244, Accuracy: 0.203125\n"
     ]
    },
    {
     "name": "stderr",
     "output_type": "stream",
     "text": [
      "e:\\OneDrive - Hanoi University of Science and Technology\\Code project\\ML\\NLP\\uvipen_HAN\\src\\word_att_model.py:37: UserWarning: Implicit dimension choice for softmax has been deprecated. Change the call to include dim=X as an argument.\n",
      "  output = F.softmax(output)\n",
      "e:\\OneDrive - Hanoi University of Science and Technology\\Code project\\ML\\NLP\\uvipen_HAN\\src\\sent_att_model.py:29: UserWarning: Implicit dimension choice for softmax has been deprecated. Change the call to include dim=X as an argument.\n",
      "  output = F.softmax(output)\n"
     ]
    },
    {
     "name": "stdout",
     "output_type": "stream",
     "text": [
      "Epoch: 1/100, Iteration: 5/937, Lr: 0.1, Loss: 1.3816617727279663, Accuracy: 0.265625\n"
     ]
    },
    {
     "name": "stderr",
     "output_type": "stream",
     "text": [
      "e:\\OneDrive - Hanoi University of Science and Technology\\Code project\\ML\\NLP\\uvipen_HAN\\src\\word_att_model.py:37: UserWarning: Implicit dimension choice for softmax has been deprecated. Change the call to include dim=X as an argument.\n",
      "  output = F.softmax(output)\n",
      "e:\\OneDrive - Hanoi University of Science and Technology\\Code project\\ML\\NLP\\uvipen_HAN\\src\\sent_att_model.py:29: UserWarning: Implicit dimension choice for softmax has been deprecated. Change the call to include dim=X as an argument.\n",
      "  output = F.softmax(output)\n"
     ]
    },
    {
     "name": "stdout",
     "output_type": "stream",
     "text": [
      "Epoch: 1/100, Iteration: 6/937, Lr: 0.1, Loss: 1.3835796117782593, Accuracy: 0.2734375\n"
     ]
    },
    {
     "name": "stderr",
     "output_type": "stream",
     "text": [
      "e:\\OneDrive - Hanoi University of Science and Technology\\Code project\\ML\\NLP\\uvipen_HAN\\src\\word_att_model.py:37: UserWarning: Implicit dimension choice for softmax has been deprecated. Change the call to include dim=X as an argument.\n",
      "  output = F.softmax(output)\n",
      "e:\\OneDrive - Hanoi University of Science and Technology\\Code project\\ML\\NLP\\uvipen_HAN\\src\\sent_att_model.py:29: UserWarning: Implicit dimension choice for softmax has been deprecated. Change the call to include dim=X as an argument.\n",
      "  output = F.softmax(output)\n"
     ]
    },
    {
     "name": "stdout",
     "output_type": "stream",
     "text": [
      "Epoch: 1/100, Iteration: 7/937, Lr: 0.1, Loss: 1.3911972045898438, Accuracy: 0.3828125\n"
     ]
    },
    {
     "name": "stderr",
     "output_type": "stream",
     "text": [
      "e:\\OneDrive - Hanoi University of Science and Technology\\Code project\\ML\\NLP\\uvipen_HAN\\src\\word_att_model.py:37: UserWarning: Implicit dimension choice for softmax has been deprecated. Change the call to include dim=X as an argument.\n",
      "  output = F.softmax(output)\n",
      "e:\\OneDrive - Hanoi University of Science and Technology\\Code project\\ML\\NLP\\uvipen_HAN\\src\\sent_att_model.py:29: UserWarning: Implicit dimension choice for softmax has been deprecated. Change the call to include dim=X as an argument.\n",
      "  output = F.softmax(output)\n"
     ]
    },
    {
     "name": "stdout",
     "output_type": "stream",
     "text": [
      "Epoch: 1/100, Iteration: 8/937, Lr: 0.1, Loss: 1.3846482038497925, Accuracy: 0.46875\n"
     ]
    },
    {
     "name": "stderr",
     "output_type": "stream",
     "text": [
      "e:\\OneDrive - Hanoi University of Science and Technology\\Code project\\ML\\NLP\\uvipen_HAN\\src\\word_att_model.py:37: UserWarning: Implicit dimension choice for softmax has been deprecated. Change the call to include dim=X as an argument.\n",
      "  output = F.softmax(output)\n",
      "e:\\OneDrive - Hanoi University of Science and Technology\\Code project\\ML\\NLP\\uvipen_HAN\\src\\sent_att_model.py:29: UserWarning: Implicit dimension choice for softmax has been deprecated. Change the call to include dim=X as an argument.\n",
      "  output = F.softmax(output)\n"
     ]
    },
    {
     "name": "stdout",
     "output_type": "stream",
     "text": [
      "Epoch: 1/100, Iteration: 9/937, Lr: 0.1, Loss: 1.3873653411865234, Accuracy: 0.390625\n"
     ]
    },
    {
     "name": "stderr",
     "output_type": "stream",
     "text": [
      "e:\\OneDrive - Hanoi University of Science and Technology\\Code project\\ML\\NLP\\uvipen_HAN\\src\\word_att_model.py:37: UserWarning: Implicit dimension choice for softmax has been deprecated. Change the call to include dim=X as an argument.\n",
      "  output = F.softmax(output)\n",
      "e:\\OneDrive - Hanoi University of Science and Technology\\Code project\\ML\\NLP\\uvipen_HAN\\src\\sent_att_model.py:29: UserWarning: Implicit dimension choice for softmax has been deprecated. Change the call to include dim=X as an argument.\n",
      "  output = F.softmax(output)\n"
     ]
    },
    {
     "name": "stdout",
     "output_type": "stream",
     "text": [
      "Epoch: 1/100, Iteration: 10/937, Lr: 0.1, Loss: 1.3650795221328735, Accuracy: 0.5546875\n"
     ]
    },
    {
     "name": "stderr",
     "output_type": "stream",
     "text": [
      "e:\\OneDrive - Hanoi University of Science and Technology\\Code project\\ML\\NLP\\uvipen_HAN\\src\\word_att_model.py:37: UserWarning: Implicit dimension choice for softmax has been deprecated. Change the call to include dim=X as an argument.\n",
      "  output = F.softmax(output)\n",
      "e:\\OneDrive - Hanoi University of Science and Technology\\Code project\\ML\\NLP\\uvipen_HAN\\src\\sent_att_model.py:29: UserWarning: Implicit dimension choice for softmax has been deprecated. Change the call to include dim=X as an argument.\n",
      "  output = F.softmax(output)\n"
     ]
    },
    {
     "name": "stdout",
     "output_type": "stream",
     "text": [
      "Epoch: 1/100, Iteration: 11/937, Lr: 0.1, Loss: 1.3699294328689575, Accuracy: 0.578125\n"
     ]
    },
    {
     "name": "stderr",
     "output_type": "stream",
     "text": [
      "e:\\OneDrive - Hanoi University of Science and Technology\\Code project\\ML\\NLP\\uvipen_HAN\\src\\word_att_model.py:37: UserWarning: Implicit dimension choice for softmax has been deprecated. Change the call to include dim=X as an argument.\n",
      "  output = F.softmax(output)\n",
      "e:\\OneDrive - Hanoi University of Science and Technology\\Code project\\ML\\NLP\\uvipen_HAN\\src\\sent_att_model.py:29: UserWarning: Implicit dimension choice for softmax has been deprecated. Change the call to include dim=X as an argument.\n",
      "  output = F.softmax(output)\n"
     ]
    },
    {
     "name": "stdout",
     "output_type": "stream",
     "text": [
      "Epoch: 1/100, Iteration: 12/937, Lr: 0.1, Loss: 1.3617979288101196, Accuracy: 0.6484375\n"
     ]
    },
    {
     "name": "stderr",
     "output_type": "stream",
     "text": [
      "e:\\OneDrive - Hanoi University of Science and Technology\\Code project\\ML\\NLP\\uvipen_HAN\\src\\word_att_model.py:37: UserWarning: Implicit dimension choice for softmax has been deprecated. Change the call to include dim=X as an argument.\n",
      "  output = F.softmax(output)\n",
      "e:\\OneDrive - Hanoi University of Science and Technology\\Code project\\ML\\NLP\\uvipen_HAN\\src\\sent_att_model.py:29: UserWarning: Implicit dimension choice for softmax has been deprecated. Change the call to include dim=X as an argument.\n",
      "  output = F.softmax(output)\n"
     ]
    },
    {
     "name": "stdout",
     "output_type": "stream",
     "text": [
      "Epoch: 1/100, Iteration: 13/937, Lr: 0.1, Loss: 1.3586519956588745, Accuracy: 0.625\n"
     ]
    },
    {
     "name": "stderr",
     "output_type": "stream",
     "text": [
      "e:\\OneDrive - Hanoi University of Science and Technology\\Code project\\ML\\NLP\\uvipen_HAN\\src\\word_att_model.py:37: UserWarning: Implicit dimension choice for softmax has been deprecated. Change the call to include dim=X as an argument.\n",
      "  output = F.softmax(output)\n",
      "e:\\OneDrive - Hanoi University of Science and Technology\\Code project\\ML\\NLP\\uvipen_HAN\\src\\sent_att_model.py:29: UserWarning: Implicit dimension choice for softmax has been deprecated. Change the call to include dim=X as an argument.\n",
      "  output = F.softmax(output)\n"
     ]
    },
    {
     "name": "stdout",
     "output_type": "stream",
     "text": [
      "Epoch: 1/100, Iteration: 14/937, Lr: 0.1, Loss: 1.359688401222229, Accuracy: 0.4140625\n"
     ]
    },
    {
     "name": "stderr",
     "output_type": "stream",
     "text": [
      "e:\\OneDrive - Hanoi University of Science and Technology\\Code project\\ML\\NLP\\uvipen_HAN\\src\\word_att_model.py:37: UserWarning: Implicit dimension choice for softmax has been deprecated. Change the call to include dim=X as an argument.\n",
      "  output = F.softmax(output)\n",
      "e:\\OneDrive - Hanoi University of Science and Technology\\Code project\\ML\\NLP\\uvipen_HAN\\src\\sent_att_model.py:29: UserWarning: Implicit dimension choice for softmax has been deprecated. Change the call to include dim=X as an argument.\n",
      "  output = F.softmax(output)\n"
     ]
    },
    {
     "name": "stdout",
     "output_type": "stream",
     "text": [
      "Epoch: 1/100, Iteration: 15/937, Lr: 0.1, Loss: 1.3572263717651367, Accuracy: 0.3828125\n"
     ]
    },
    {
     "name": "stderr",
     "output_type": "stream",
     "text": [
      "e:\\OneDrive - Hanoi University of Science and Technology\\Code project\\ML\\NLP\\uvipen_HAN\\src\\word_att_model.py:37: UserWarning: Implicit dimension choice for softmax has been deprecated. Change the call to include dim=X as an argument.\n",
      "  output = F.softmax(output)\n",
      "e:\\OneDrive - Hanoi University of Science and Technology\\Code project\\ML\\NLP\\uvipen_HAN\\src\\sent_att_model.py:29: UserWarning: Implicit dimension choice for softmax has been deprecated. Change the call to include dim=X as an argument.\n",
      "  output = F.softmax(output)\n"
     ]
    },
    {
     "name": "stdout",
     "output_type": "stream",
     "text": [
      "Epoch: 1/100, Iteration: 16/937, Lr: 0.1, Loss: 1.3507457971572876, Accuracy: 0.421875\n"
     ]
    },
    {
     "name": "stderr",
     "output_type": "stream",
     "text": [
      "e:\\OneDrive - Hanoi University of Science and Technology\\Code project\\ML\\NLP\\uvipen_HAN\\src\\word_att_model.py:37: UserWarning: Implicit dimension choice for softmax has been deprecated. Change the call to include dim=X as an argument.\n",
      "  output = F.softmax(output)\n",
      "e:\\OneDrive - Hanoi University of Science and Technology\\Code project\\ML\\NLP\\uvipen_HAN\\src\\sent_att_model.py:29: UserWarning: Implicit dimension choice for softmax has been deprecated. Change the call to include dim=X as an argument.\n",
      "  output = F.softmax(output)\n"
     ]
    },
    {
     "name": "stdout",
     "output_type": "stream",
     "text": [
      "Epoch: 1/100, Iteration: 17/937, Lr: 0.1, Loss: 1.3453552722930908, Accuracy: 0.3828125\n"
     ]
    },
    {
     "name": "stderr",
     "output_type": "stream",
     "text": [
      "e:\\OneDrive - Hanoi University of Science and Technology\\Code project\\ML\\NLP\\uvipen_HAN\\src\\word_att_model.py:37: UserWarning: Implicit dimension choice for softmax has been deprecated. Change the call to include dim=X as an argument.\n",
      "  output = F.softmax(output)\n",
      "e:\\OneDrive - Hanoi University of Science and Technology\\Code project\\ML\\NLP\\uvipen_HAN\\src\\sent_att_model.py:29: UserWarning: Implicit dimension choice for softmax has been deprecated. Change the call to include dim=X as an argument.\n",
      "  output = F.softmax(output)\n"
     ]
    },
    {
     "name": "stdout",
     "output_type": "stream",
     "text": [
      "Epoch: 1/100, Iteration: 18/937, Lr: 0.1, Loss: 1.3251303434371948, Accuracy: 0.6796875\n"
     ]
    },
    {
     "name": "stderr",
     "output_type": "stream",
     "text": [
      "e:\\OneDrive - Hanoi University of Science and Technology\\Code project\\ML\\NLP\\uvipen_HAN\\src\\word_att_model.py:37: UserWarning: Implicit dimension choice for softmax has been deprecated. Change the call to include dim=X as an argument.\n",
      "  output = F.softmax(output)\n",
      "e:\\OneDrive - Hanoi University of Science and Technology\\Code project\\ML\\NLP\\uvipen_HAN\\src\\sent_att_model.py:29: UserWarning: Implicit dimension choice for softmax has been deprecated. Change the call to include dim=X as an argument.\n",
      "  output = F.softmax(output)\n"
     ]
    },
    {
     "name": "stdout",
     "output_type": "stream",
     "text": [
      "Epoch: 1/100, Iteration: 19/937, Lr: 0.1, Loss: 1.3207439184188843, Accuracy: 0.5703125\n"
     ]
    },
    {
     "name": "stderr",
     "output_type": "stream",
     "text": [
      "e:\\OneDrive - Hanoi University of Science and Technology\\Code project\\ML\\NLP\\uvipen_HAN\\src\\word_att_model.py:37: UserWarning: Implicit dimension choice for softmax has been deprecated. Change the call to include dim=X as an argument.\n",
      "  output = F.softmax(output)\n",
      "e:\\OneDrive - Hanoi University of Science and Technology\\Code project\\ML\\NLP\\uvipen_HAN\\src\\sent_att_model.py:29: UserWarning: Implicit dimension choice for softmax has been deprecated. Change the call to include dim=X as an argument.\n",
      "  output = F.softmax(output)\n"
     ]
    },
    {
     "name": "stdout",
     "output_type": "stream",
     "text": [
      "Epoch: 1/100, Iteration: 20/937, Lr: 0.1, Loss: 1.3185093402862549, Accuracy: 0.4765625\n"
     ]
    },
    {
     "name": "stderr",
     "output_type": "stream",
     "text": [
      "e:\\OneDrive - Hanoi University of Science and Technology\\Code project\\ML\\NLP\\uvipen_HAN\\src\\word_att_model.py:37: UserWarning: Implicit dimension choice for softmax has been deprecated. Change the call to include dim=X as an argument.\n",
      "  output = F.softmax(output)\n",
      "e:\\OneDrive - Hanoi University of Science and Technology\\Code project\\ML\\NLP\\uvipen_HAN\\src\\sent_att_model.py:29: UserWarning: Implicit dimension choice for softmax has been deprecated. Change the call to include dim=X as an argument.\n",
      "  output = F.softmax(output)\n"
     ]
    },
    {
     "name": "stdout",
     "output_type": "stream",
     "text": [
      "Epoch: 1/100, Iteration: 21/937, Lr: 0.1, Loss: 1.3408297300338745, Accuracy: 0.375\n"
     ]
    },
    {
     "name": "stderr",
     "output_type": "stream",
     "text": [
      "e:\\OneDrive - Hanoi University of Science and Technology\\Code project\\ML\\NLP\\uvipen_HAN\\src\\word_att_model.py:37: UserWarning: Implicit dimension choice for softmax has been deprecated. Change the call to include dim=X as an argument.\n",
      "  output = F.softmax(output)\n",
      "e:\\OneDrive - Hanoi University of Science and Technology\\Code project\\ML\\NLP\\uvipen_HAN\\src\\sent_att_model.py:29: UserWarning: Implicit dimension choice for softmax has been deprecated. Change the call to include dim=X as an argument.\n",
      "  output = F.softmax(output)\n"
     ]
    },
    {
     "name": "stdout",
     "output_type": "stream",
     "text": [
      "Epoch: 1/100, Iteration: 22/937, Lr: 0.1, Loss: 1.3330802917480469, Accuracy: 0.421875\n"
     ]
    },
    {
     "name": "stderr",
     "output_type": "stream",
     "text": [
      "e:\\OneDrive - Hanoi University of Science and Technology\\Code project\\ML\\NLP\\uvipen_HAN\\src\\word_att_model.py:37: UserWarning: Implicit dimension choice for softmax has been deprecated. Change the call to include dim=X as an argument.\n",
      "  output = F.softmax(output)\n",
      "e:\\OneDrive - Hanoi University of Science and Technology\\Code project\\ML\\NLP\\uvipen_HAN\\src\\sent_att_model.py:29: UserWarning: Implicit dimension choice for softmax has been deprecated. Change the call to include dim=X as an argument.\n",
      "  output = F.softmax(output)\n"
     ]
    },
    {
     "name": "stdout",
     "output_type": "stream",
     "text": [
      "Epoch: 1/100, Iteration: 23/937, Lr: 0.1, Loss: 1.3363969326019287, Accuracy: 0.375\n"
     ]
    },
    {
     "name": "stderr",
     "output_type": "stream",
     "text": [
      "e:\\OneDrive - Hanoi University of Science and Technology\\Code project\\ML\\NLP\\uvipen_HAN\\src\\word_att_model.py:37: UserWarning: Implicit dimension choice for softmax has been deprecated. Change the call to include dim=X as an argument.\n",
      "  output = F.softmax(output)\n",
      "e:\\OneDrive - Hanoi University of Science and Technology\\Code project\\ML\\NLP\\uvipen_HAN\\src\\sent_att_model.py:29: UserWarning: Implicit dimension choice for softmax has been deprecated. Change the call to include dim=X as an argument.\n",
      "  output = F.softmax(output)\n"
     ]
    },
    {
     "name": "stdout",
     "output_type": "stream",
     "text": [
      "Epoch: 1/100, Iteration: 24/937, Lr: 0.1, Loss: 1.281680941581726, Accuracy: 0.6328125\n"
     ]
    },
    {
     "name": "stderr",
     "output_type": "stream",
     "text": [
      "e:\\OneDrive - Hanoi University of Science and Technology\\Code project\\ML\\NLP\\uvipen_HAN\\src\\word_att_model.py:37: UserWarning: Implicit dimension choice for softmax has been deprecated. Change the call to include dim=X as an argument.\n",
      "  output = F.softmax(output)\n",
      "e:\\OneDrive - Hanoi University of Science and Technology\\Code project\\ML\\NLP\\uvipen_HAN\\src\\sent_att_model.py:29: UserWarning: Implicit dimension choice for softmax has been deprecated. Change the call to include dim=X as an argument.\n",
      "  output = F.softmax(output)\n"
     ]
    },
    {
     "name": "stdout",
     "output_type": "stream",
     "text": [
      "Epoch: 1/100, Iteration: 25/937, Lr: 0.1, Loss: 1.280486822128296, Accuracy: 0.6328125\n"
     ]
    },
    {
     "name": "stderr",
     "output_type": "stream",
     "text": [
      "e:\\OneDrive - Hanoi University of Science and Technology\\Code project\\ML\\NLP\\uvipen_HAN\\src\\word_att_model.py:37: UserWarning: Implicit dimension choice for softmax has been deprecated. Change the call to include dim=X as an argument.\n",
      "  output = F.softmax(output)\n",
      "e:\\OneDrive - Hanoi University of Science and Technology\\Code project\\ML\\NLP\\uvipen_HAN\\src\\sent_att_model.py:29: UserWarning: Implicit dimension choice for softmax has been deprecated. Change the call to include dim=X as an argument.\n",
      "  output = F.softmax(output)\n"
     ]
    },
    {
     "name": "stdout",
     "output_type": "stream",
     "text": [
      "Epoch: 1/100, Iteration: 26/937, Lr: 0.1, Loss: 1.262355089187622, Accuracy: 0.5390625\n"
     ]
    },
    {
     "name": "stderr",
     "output_type": "stream",
     "text": [
      "e:\\OneDrive - Hanoi University of Science and Technology\\Code project\\ML\\NLP\\uvipen_HAN\\src\\word_att_model.py:37: UserWarning: Implicit dimension choice for softmax has been deprecated. Change the call to include dim=X as an argument.\n",
      "  output = F.softmax(output)\n",
      "e:\\OneDrive - Hanoi University of Science and Technology\\Code project\\ML\\NLP\\uvipen_HAN\\src\\sent_att_model.py:29: UserWarning: Implicit dimension choice for softmax has been deprecated. Change the call to include dim=X as an argument.\n",
      "  output = F.softmax(output)\n"
     ]
    },
    {
     "name": "stdout",
     "output_type": "stream",
     "text": [
      "Epoch: 1/100, Iteration: 27/937, Lr: 0.1, Loss: 1.2759126424789429, Accuracy: 0.375\n"
     ]
    },
    {
     "name": "stderr",
     "output_type": "stream",
     "text": [
      "e:\\OneDrive - Hanoi University of Science and Technology\\Code project\\ML\\NLP\\uvipen_HAN\\src\\word_att_model.py:37: UserWarning: Implicit dimension choice for softmax has been deprecated. Change the call to include dim=X as an argument.\n",
      "  output = F.softmax(output)\n",
      "e:\\OneDrive - Hanoi University of Science and Technology\\Code project\\ML\\NLP\\uvipen_HAN\\src\\sent_att_model.py:29: UserWarning: Implicit dimension choice for softmax has been deprecated. Change the call to include dim=X as an argument.\n",
      "  output = F.softmax(output)\n"
     ]
    },
    {
     "name": "stdout",
     "output_type": "stream",
     "text": [
      "Epoch: 1/100, Iteration: 28/937, Lr: 0.1, Loss: 1.277137279510498, Accuracy: 0.3984375\n"
     ]
    },
    {
     "name": "stderr",
     "output_type": "stream",
     "text": [
      "e:\\OneDrive - Hanoi University of Science and Technology\\Code project\\ML\\NLP\\uvipen_HAN\\src\\word_att_model.py:37: UserWarning: Implicit dimension choice for softmax has been deprecated. Change the call to include dim=X as an argument.\n",
      "  output = F.softmax(output)\n",
      "e:\\OneDrive - Hanoi University of Science and Technology\\Code project\\ML\\NLP\\uvipen_HAN\\src\\sent_att_model.py:29: UserWarning: Implicit dimension choice for softmax has been deprecated. Change the call to include dim=X as an argument.\n",
      "  output = F.softmax(output)\n"
     ]
    },
    {
     "name": "stdout",
     "output_type": "stream",
     "text": [
      "Epoch: 1/100, Iteration: 29/937, Lr: 0.1, Loss: 1.2441707849502563, Accuracy: 0.4140625\n"
     ]
    },
    {
     "name": "stderr",
     "output_type": "stream",
     "text": [
      "e:\\OneDrive - Hanoi University of Science and Technology\\Code project\\ML\\NLP\\uvipen_HAN\\src\\word_att_model.py:37: UserWarning: Implicit dimension choice for softmax has been deprecated. Change the call to include dim=X as an argument.\n",
      "  output = F.softmax(output)\n",
      "e:\\OneDrive - Hanoi University of Science and Technology\\Code project\\ML\\NLP\\uvipen_HAN\\src\\sent_att_model.py:29: UserWarning: Implicit dimension choice for softmax has been deprecated. Change the call to include dim=X as an argument.\n",
      "  output = F.softmax(output)\n"
     ]
    },
    {
     "name": "stdout",
     "output_type": "stream",
     "text": [
      "Epoch: 1/100, Iteration: 30/937, Lr: 0.1, Loss: 1.1946823596954346, Accuracy: 0.484375\n"
     ]
    },
    {
     "name": "stderr",
     "output_type": "stream",
     "text": [
      "e:\\OneDrive - Hanoi University of Science and Technology\\Code project\\ML\\NLP\\uvipen_HAN\\src\\word_att_model.py:37: UserWarning: Implicit dimension choice for softmax has been deprecated. Change the call to include dim=X as an argument.\n",
      "  output = F.softmax(output)\n",
      "e:\\OneDrive - Hanoi University of Science and Technology\\Code project\\ML\\NLP\\uvipen_HAN\\src\\sent_att_model.py:29: UserWarning: Implicit dimension choice for softmax has been deprecated. Change the call to include dim=X as an argument.\n",
      "  output = F.softmax(output)\n"
     ]
    },
    {
     "name": "stdout",
     "output_type": "stream",
     "text": [
      "Epoch: 1/100, Iteration: 31/937, Lr: 0.1, Loss: 1.158733606338501, Accuracy: 0.5\n"
     ]
    },
    {
     "name": "stderr",
     "output_type": "stream",
     "text": [
      "e:\\OneDrive - Hanoi University of Science and Technology\\Code project\\ML\\NLP\\uvipen_HAN\\src\\word_att_model.py:37: UserWarning: Implicit dimension choice for softmax has been deprecated. Change the call to include dim=X as an argument.\n",
      "  output = F.softmax(output)\n",
      "e:\\OneDrive - Hanoi University of Science and Technology\\Code project\\ML\\NLP\\uvipen_HAN\\src\\sent_att_model.py:29: UserWarning: Implicit dimension choice for softmax has been deprecated. Change the call to include dim=X as an argument.\n",
      "  output = F.softmax(output)\n"
     ]
    },
    {
     "name": "stdout",
     "output_type": "stream",
     "text": [
      "Epoch: 1/100, Iteration: 32/937, Lr: 0.1, Loss: 1.1606380939483643, Accuracy: 0.5\n"
     ]
    },
    {
     "name": "stderr",
     "output_type": "stream",
     "text": [
      "e:\\OneDrive - Hanoi University of Science and Technology\\Code project\\ML\\NLP\\uvipen_HAN\\src\\word_att_model.py:37: UserWarning: Implicit dimension choice for softmax has been deprecated. Change the call to include dim=X as an argument.\n",
      "  output = F.softmax(output)\n",
      "e:\\OneDrive - Hanoi University of Science and Technology\\Code project\\ML\\NLP\\uvipen_HAN\\src\\sent_att_model.py:29: UserWarning: Implicit dimension choice for softmax has been deprecated. Change the call to include dim=X as an argument.\n",
      "  output = F.softmax(output)\n"
     ]
    },
    {
     "name": "stdout",
     "output_type": "stream",
     "text": [
      "Epoch: 1/100, Iteration: 33/937, Lr: 0.1, Loss: 1.1932718753814697, Accuracy: 0.4296875\n"
     ]
    },
    {
     "name": "stderr",
     "output_type": "stream",
     "text": [
      "e:\\OneDrive - Hanoi University of Science and Technology\\Code project\\ML\\NLP\\uvipen_HAN\\src\\word_att_model.py:37: UserWarning: Implicit dimension choice for softmax has been deprecated. Change the call to include dim=X as an argument.\n",
      "  output = F.softmax(output)\n",
      "e:\\OneDrive - Hanoi University of Science and Technology\\Code project\\ML\\NLP\\uvipen_HAN\\src\\sent_att_model.py:29: UserWarning: Implicit dimension choice for softmax has been deprecated. Change the call to include dim=X as an argument.\n",
      "  output = F.softmax(output)\n"
     ]
    },
    {
     "name": "stdout",
     "output_type": "stream",
     "text": [
      "Epoch: 1/100, Iteration: 34/937, Lr: 0.1, Loss: 1.0690267086029053, Accuracy: 0.640625\n"
     ]
    },
    {
     "name": "stderr",
     "output_type": "stream",
     "text": [
      "e:\\OneDrive - Hanoi University of Science and Technology\\Code project\\ML\\NLP\\uvipen_HAN\\src\\word_att_model.py:37: UserWarning: Implicit dimension choice for softmax has been deprecated. Change the call to include dim=X as an argument.\n",
      "  output = F.softmax(output)\n",
      "e:\\OneDrive - Hanoi University of Science and Technology\\Code project\\ML\\NLP\\uvipen_HAN\\src\\sent_att_model.py:29: UserWarning: Implicit dimension choice for softmax has been deprecated. Change the call to include dim=X as an argument.\n",
      "  output = F.softmax(output)\n"
     ]
    },
    {
     "name": "stdout",
     "output_type": "stream",
     "text": [
      "Epoch: 1/100, Iteration: 35/937, Lr: 0.1, Loss: 1.0778100490570068, Accuracy: 0.7265625\n"
     ]
    },
    {
     "name": "stderr",
     "output_type": "stream",
     "text": [
      "e:\\OneDrive - Hanoi University of Science and Technology\\Code project\\ML\\NLP\\uvipen_HAN\\src\\word_att_model.py:37: UserWarning: Implicit dimension choice for softmax has been deprecated. Change the call to include dim=X as an argument.\n",
      "  output = F.softmax(output)\n",
      "e:\\OneDrive - Hanoi University of Science and Technology\\Code project\\ML\\NLP\\uvipen_HAN\\src\\sent_att_model.py:29: UserWarning: Implicit dimension choice for softmax has been deprecated. Change the call to include dim=X as an argument.\n",
      "  output = F.softmax(output)\n"
     ]
    },
    {
     "name": "stdout",
     "output_type": "stream",
     "text": [
      "Epoch: 1/100, Iteration: 36/937, Lr: 0.1, Loss: 1.0371334552764893, Accuracy: 0.6796875\n"
     ]
    },
    {
     "name": "stderr",
     "output_type": "stream",
     "text": [
      "e:\\OneDrive - Hanoi University of Science and Technology\\Code project\\ML\\NLP\\uvipen_HAN\\src\\word_att_model.py:37: UserWarning: Implicit dimension choice for softmax has been deprecated. Change the call to include dim=X as an argument.\n",
      "  output = F.softmax(output)\n",
      "e:\\OneDrive - Hanoi University of Science and Technology\\Code project\\ML\\NLP\\uvipen_HAN\\src\\sent_att_model.py:29: UserWarning: Implicit dimension choice for softmax has been deprecated. Change the call to include dim=X as an argument.\n",
      "  output = F.softmax(output)\n"
     ]
    },
    {
     "name": "stdout",
     "output_type": "stream",
     "text": [
      "Epoch: 1/100, Iteration: 37/937, Lr: 0.1, Loss: 1.0056023597717285, Accuracy: 0.7578125\n"
     ]
    },
    {
     "name": "stderr",
     "output_type": "stream",
     "text": [
      "e:\\OneDrive - Hanoi University of Science and Technology\\Code project\\ML\\NLP\\uvipen_HAN\\src\\word_att_model.py:37: UserWarning: Implicit dimension choice for softmax has been deprecated. Change the call to include dim=X as an argument.\n",
      "  output = F.softmax(output)\n",
      "e:\\OneDrive - Hanoi University of Science and Technology\\Code project\\ML\\NLP\\uvipen_HAN\\src\\sent_att_model.py:29: UserWarning: Implicit dimension choice for softmax has been deprecated. Change the call to include dim=X as an argument.\n",
      "  output = F.softmax(output)\n"
     ]
    },
    {
     "name": "stdout",
     "output_type": "stream",
     "text": [
      "Epoch: 1/100, Iteration: 38/937, Lr: 0.1, Loss: 1.0102847814559937, Accuracy: 0.71875\n"
     ]
    },
    {
     "name": "stderr",
     "output_type": "stream",
     "text": [
      "e:\\OneDrive - Hanoi University of Science and Technology\\Code project\\ML\\NLP\\uvipen_HAN\\src\\word_att_model.py:37: UserWarning: Implicit dimension choice for softmax has been deprecated. Change the call to include dim=X as an argument.\n",
      "  output = F.softmax(output)\n",
      "e:\\OneDrive - Hanoi University of Science and Technology\\Code project\\ML\\NLP\\uvipen_HAN\\src\\sent_att_model.py:29: UserWarning: Implicit dimension choice for softmax has been deprecated. Change the call to include dim=X as an argument.\n",
      "  output = F.softmax(output)\n"
     ]
    },
    {
     "name": "stdout",
     "output_type": "stream",
     "text": [
      "Epoch: 1/100, Iteration: 39/937, Lr: 0.1, Loss: 0.9687001705169678, Accuracy: 0.671875\n"
     ]
    },
    {
     "name": "stderr",
     "output_type": "stream",
     "text": [
      "e:\\OneDrive - Hanoi University of Science and Technology\\Code project\\ML\\NLP\\uvipen_HAN\\src\\word_att_model.py:37: UserWarning: Implicit dimension choice for softmax has been deprecated. Change the call to include dim=X as an argument.\n",
      "  output = F.softmax(output)\n",
      "e:\\OneDrive - Hanoi University of Science and Technology\\Code project\\ML\\NLP\\uvipen_HAN\\src\\sent_att_model.py:29: UserWarning: Implicit dimension choice for softmax has been deprecated. Change the call to include dim=X as an argument.\n",
      "  output = F.softmax(output)\n"
     ]
    },
    {
     "name": "stdout",
     "output_type": "stream",
     "text": [
      "Epoch: 1/100, Iteration: 40/937, Lr: 0.1, Loss: 0.8492146134376526, Accuracy: 0.7421875\n"
     ]
    },
    {
     "name": "stderr",
     "output_type": "stream",
     "text": [
      "e:\\OneDrive - Hanoi University of Science and Technology\\Code project\\ML\\NLP\\uvipen_HAN\\src\\word_att_model.py:37: UserWarning: Implicit dimension choice for softmax has been deprecated. Change the call to include dim=X as an argument.\n",
      "  output = F.softmax(output)\n",
      "e:\\OneDrive - Hanoi University of Science and Technology\\Code project\\ML\\NLP\\uvipen_HAN\\src\\sent_att_model.py:29: UserWarning: Implicit dimension choice for softmax has been deprecated. Change the call to include dim=X as an argument.\n",
      "  output = F.softmax(output)\n"
     ]
    },
    {
     "name": "stdout",
     "output_type": "stream",
     "text": [
      "Epoch: 1/100, Iteration: 41/937, Lr: 0.1, Loss: 0.85381680727005, Accuracy: 0.75\n"
     ]
    },
    {
     "name": "stderr",
     "output_type": "stream",
     "text": [
      "e:\\OneDrive - Hanoi University of Science and Technology\\Code project\\ML\\NLP\\uvipen_HAN\\src\\word_att_model.py:37: UserWarning: Implicit dimension choice for softmax has been deprecated. Change the call to include dim=X as an argument.\n",
      "  output = F.softmax(output)\n",
      "e:\\OneDrive - Hanoi University of Science and Technology\\Code project\\ML\\NLP\\uvipen_HAN\\src\\sent_att_model.py:29: UserWarning: Implicit dimension choice for softmax has been deprecated. Change the call to include dim=X as an argument.\n",
      "  output = F.softmax(output)\n"
     ]
    },
    {
     "name": "stdout",
     "output_type": "stream",
     "text": [
      "Epoch: 1/100, Iteration: 42/937, Lr: 0.1, Loss: 0.8206121921539307, Accuracy: 0.796875\n"
     ]
    },
    {
     "name": "stderr",
     "output_type": "stream",
     "text": [
      "e:\\OneDrive - Hanoi University of Science and Technology\\Code project\\ML\\NLP\\uvipen_HAN\\src\\word_att_model.py:37: UserWarning: Implicit dimension choice for softmax has been deprecated. Change the call to include dim=X as an argument.\n",
      "  output = F.softmax(output)\n",
      "e:\\OneDrive - Hanoi University of Science and Technology\\Code project\\ML\\NLP\\uvipen_HAN\\src\\sent_att_model.py:29: UserWarning: Implicit dimension choice for softmax has been deprecated. Change the call to include dim=X as an argument.\n",
      "  output = F.softmax(output)\n"
     ]
    },
    {
     "name": "stdout",
     "output_type": "stream",
     "text": [
      "Epoch: 1/100, Iteration: 43/937, Lr: 0.1, Loss: 0.805034875869751, Accuracy: 0.78125\n"
     ]
    },
    {
     "name": "stderr",
     "output_type": "stream",
     "text": [
      "e:\\OneDrive - Hanoi University of Science and Technology\\Code project\\ML\\NLP\\uvipen_HAN\\src\\word_att_model.py:37: UserWarning: Implicit dimension choice for softmax has been deprecated. Change the call to include dim=X as an argument.\n",
      "  output = F.softmax(output)\n",
      "e:\\OneDrive - Hanoi University of Science and Technology\\Code project\\ML\\NLP\\uvipen_HAN\\src\\sent_att_model.py:29: UserWarning: Implicit dimension choice for softmax has been deprecated. Change the call to include dim=X as an argument.\n",
      "  output = F.softmax(output)\n"
     ]
    },
    {
     "name": "stdout",
     "output_type": "stream",
     "text": [
      "Epoch: 1/100, Iteration: 44/937, Lr: 0.1, Loss: 0.7924078106880188, Accuracy: 0.78125\n"
     ]
    },
    {
     "name": "stderr",
     "output_type": "stream",
     "text": [
      "e:\\OneDrive - Hanoi University of Science and Technology\\Code project\\ML\\NLP\\uvipen_HAN\\src\\word_att_model.py:37: UserWarning: Implicit dimension choice for softmax has been deprecated. Change the call to include dim=X as an argument.\n",
      "  output = F.softmax(output)\n",
      "e:\\OneDrive - Hanoi University of Science and Technology\\Code project\\ML\\NLP\\uvipen_HAN\\src\\sent_att_model.py:29: UserWarning: Implicit dimension choice for softmax has been deprecated. Change the call to include dim=X as an argument.\n",
      "  output = F.softmax(output)\n"
     ]
    },
    {
     "name": "stdout",
     "output_type": "stream",
     "text": [
      "Epoch: 1/100, Iteration: 45/937, Lr: 0.1, Loss: 0.8029683828353882, Accuracy: 0.7578125\n"
     ]
    },
    {
     "name": "stderr",
     "output_type": "stream",
     "text": [
      "e:\\OneDrive - Hanoi University of Science and Technology\\Code project\\ML\\NLP\\uvipen_HAN\\src\\word_att_model.py:37: UserWarning: Implicit dimension choice for softmax has been deprecated. Change the call to include dim=X as an argument.\n",
      "  output = F.softmax(output)\n",
      "e:\\OneDrive - Hanoi University of Science and Technology\\Code project\\ML\\NLP\\uvipen_HAN\\src\\sent_att_model.py:29: UserWarning: Implicit dimension choice for softmax has been deprecated. Change the call to include dim=X as an argument.\n",
      "  output = F.softmax(output)\n"
     ]
    },
    {
     "name": "stdout",
     "output_type": "stream",
     "text": [
      "Epoch: 1/100, Iteration: 46/937, Lr: 0.1, Loss: 0.704974889755249, Accuracy: 0.7734375\n"
     ]
    },
    {
     "name": "stderr",
     "output_type": "stream",
     "text": [
      "e:\\OneDrive - Hanoi University of Science and Technology\\Code project\\ML\\NLP\\uvipen_HAN\\src\\word_att_model.py:37: UserWarning: Implicit dimension choice for softmax has been deprecated. Change the call to include dim=X as an argument.\n",
      "  output = F.softmax(output)\n",
      "e:\\OneDrive - Hanoi University of Science and Technology\\Code project\\ML\\NLP\\uvipen_HAN\\src\\sent_att_model.py:29: UserWarning: Implicit dimension choice for softmax has been deprecated. Change the call to include dim=X as an argument.\n",
      "  output = F.softmax(output)\n"
     ]
    },
    {
     "name": "stdout",
     "output_type": "stream",
     "text": [
      "Epoch: 1/100, Iteration: 47/937, Lr: 0.1, Loss: 0.6153019070625305, Accuracy: 0.8359375\n"
     ]
    },
    {
     "name": "stderr",
     "output_type": "stream",
     "text": [
      "e:\\OneDrive - Hanoi University of Science and Technology\\Code project\\ML\\NLP\\uvipen_HAN\\src\\word_att_model.py:37: UserWarning: Implicit dimension choice for softmax has been deprecated. Change the call to include dim=X as an argument.\n",
      "  output = F.softmax(output)\n",
      "e:\\OneDrive - Hanoi University of Science and Technology\\Code project\\ML\\NLP\\uvipen_HAN\\src\\sent_att_model.py:29: UserWarning: Implicit dimension choice for softmax has been deprecated. Change the call to include dim=X as an argument.\n",
      "  output = F.softmax(output)\n"
     ]
    },
    {
     "name": "stdout",
     "output_type": "stream",
     "text": [
      "Epoch: 1/100, Iteration: 48/937, Lr: 0.1, Loss: 0.6576560139656067, Accuracy: 0.796875\n"
     ]
    },
    {
     "name": "stderr",
     "output_type": "stream",
     "text": [
      "e:\\OneDrive - Hanoi University of Science and Technology\\Code project\\ML\\NLP\\uvipen_HAN\\src\\word_att_model.py:37: UserWarning: Implicit dimension choice for softmax has been deprecated. Change the call to include dim=X as an argument.\n",
      "  output = F.softmax(output)\n",
      "e:\\OneDrive - Hanoi University of Science and Technology\\Code project\\ML\\NLP\\uvipen_HAN\\src\\sent_att_model.py:29: UserWarning: Implicit dimension choice for softmax has been deprecated. Change the call to include dim=X as an argument.\n",
      "  output = F.softmax(output)\n"
     ]
    },
    {
     "name": "stdout",
     "output_type": "stream",
     "text": [
      "Epoch: 1/100, Iteration: 49/937, Lr: 0.1, Loss: 0.664423406124115, Accuracy: 0.6953125\n"
     ]
    },
    {
     "name": "stderr",
     "output_type": "stream",
     "text": [
      "e:\\OneDrive - Hanoi University of Science and Technology\\Code project\\ML\\NLP\\uvipen_HAN\\src\\word_att_model.py:37: UserWarning: Implicit dimension choice for softmax has been deprecated. Change the call to include dim=X as an argument.\n",
      "  output = F.softmax(output)\n",
      "e:\\OneDrive - Hanoi University of Science and Technology\\Code project\\ML\\NLP\\uvipen_HAN\\src\\sent_att_model.py:29: UserWarning: Implicit dimension choice for softmax has been deprecated. Change the call to include dim=X as an argument.\n",
      "  output = F.softmax(output)\n"
     ]
    },
    {
     "name": "stdout",
     "output_type": "stream",
     "text": [
      "Epoch: 1/100, Iteration: 50/937, Lr: 0.1, Loss: 0.651141345500946, Accuracy: 0.7578125\n"
     ]
    },
    {
     "name": "stderr",
     "output_type": "stream",
     "text": [
      "e:\\OneDrive - Hanoi University of Science and Technology\\Code project\\ML\\NLP\\uvipen_HAN\\src\\word_att_model.py:37: UserWarning: Implicit dimension choice for softmax has been deprecated. Change the call to include dim=X as an argument.\n",
      "  output = F.softmax(output)\n",
      "e:\\OneDrive - Hanoi University of Science and Technology\\Code project\\ML\\NLP\\uvipen_HAN\\src\\sent_att_model.py:29: UserWarning: Implicit dimension choice for softmax has been deprecated. Change the call to include dim=X as an argument.\n",
      "  output = F.softmax(output)\n"
     ]
    },
    {
     "name": "stdout",
     "output_type": "stream",
     "text": [
      "Epoch: 1/100, Iteration: 51/937, Lr: 0.1, Loss: 0.6352621912956238, Accuracy: 0.8046875\n"
     ]
    },
    {
     "name": "stderr",
     "output_type": "stream",
     "text": [
      "e:\\OneDrive - Hanoi University of Science and Technology\\Code project\\ML\\NLP\\uvipen_HAN\\src\\word_att_model.py:37: UserWarning: Implicit dimension choice for softmax has been deprecated. Change the call to include dim=X as an argument.\n",
      "  output = F.softmax(output)\n",
      "e:\\OneDrive - Hanoi University of Science and Technology\\Code project\\ML\\NLP\\uvipen_HAN\\src\\sent_att_model.py:29: UserWarning: Implicit dimension choice for softmax has been deprecated. Change the call to include dim=X as an argument.\n",
      "  output = F.softmax(output)\n"
     ]
    },
    {
     "name": "stdout",
     "output_type": "stream",
     "text": [
      "Epoch: 1/100, Iteration: 52/937, Lr: 0.1, Loss: 0.6816174983978271, Accuracy: 0.78125\n"
     ]
    },
    {
     "name": "stderr",
     "output_type": "stream",
     "text": [
      "e:\\OneDrive - Hanoi University of Science and Technology\\Code project\\ML\\NLP\\uvipen_HAN\\src\\word_att_model.py:37: UserWarning: Implicit dimension choice for softmax has been deprecated. Change the call to include dim=X as an argument.\n",
      "  output = F.softmax(output)\n",
      "e:\\OneDrive - Hanoi University of Science and Technology\\Code project\\ML\\NLP\\uvipen_HAN\\src\\sent_att_model.py:29: UserWarning: Implicit dimension choice for softmax has been deprecated. Change the call to include dim=X as an argument.\n",
      "  output = F.softmax(output)\n"
     ]
    },
    {
     "name": "stdout",
     "output_type": "stream",
     "text": [
      "Epoch: 1/100, Iteration: 53/937, Lr: 0.1, Loss: 0.656295895576477, Accuracy: 0.828125\n"
     ]
    },
    {
     "name": "stderr",
     "output_type": "stream",
     "text": [
      "e:\\OneDrive - Hanoi University of Science and Technology\\Code project\\ML\\NLP\\uvipen_HAN\\src\\word_att_model.py:37: UserWarning: Implicit dimension choice for softmax has been deprecated. Change the call to include dim=X as an argument.\n",
      "  output = F.softmax(output)\n",
      "e:\\OneDrive - Hanoi University of Science and Technology\\Code project\\ML\\NLP\\uvipen_HAN\\src\\sent_att_model.py:29: UserWarning: Implicit dimension choice for softmax has been deprecated. Change the call to include dim=X as an argument.\n",
      "  output = F.softmax(output)\n"
     ]
    },
    {
     "name": "stdout",
     "output_type": "stream",
     "text": [
      "Epoch: 1/100, Iteration: 54/937, Lr: 0.1, Loss: 0.5777959227561951, Accuracy: 0.8359375\n"
     ]
    },
    {
     "name": "stderr",
     "output_type": "stream",
     "text": [
      "e:\\OneDrive - Hanoi University of Science and Technology\\Code project\\ML\\NLP\\uvipen_HAN\\src\\word_att_model.py:37: UserWarning: Implicit dimension choice for softmax has been deprecated. Change the call to include dim=X as an argument.\n",
      "  output = F.softmax(output)\n",
      "e:\\OneDrive - Hanoi University of Science and Technology\\Code project\\ML\\NLP\\uvipen_HAN\\src\\sent_att_model.py:29: UserWarning: Implicit dimension choice for softmax has been deprecated. Change the call to include dim=X as an argument.\n",
      "  output = F.softmax(output)\n"
     ]
    },
    {
     "name": "stdout",
     "output_type": "stream",
     "text": [
      "Epoch: 1/100, Iteration: 55/937, Lr: 0.1, Loss: 0.6334004402160645, Accuracy: 0.796875\n"
     ]
    },
    {
     "name": "stderr",
     "output_type": "stream",
     "text": [
      "e:\\OneDrive - Hanoi University of Science and Technology\\Code project\\ML\\NLP\\uvipen_HAN\\src\\word_att_model.py:37: UserWarning: Implicit dimension choice for softmax has been deprecated. Change the call to include dim=X as an argument.\n",
      "  output = F.softmax(output)\n",
      "e:\\OneDrive - Hanoi University of Science and Technology\\Code project\\ML\\NLP\\uvipen_HAN\\src\\sent_att_model.py:29: UserWarning: Implicit dimension choice for softmax has been deprecated. Change the call to include dim=X as an argument.\n",
      "  output = F.softmax(output)\n"
     ]
    },
    {
     "name": "stdout",
     "output_type": "stream",
     "text": [
      "Epoch: 1/100, Iteration: 56/937, Lr: 0.1, Loss: 0.690015971660614, Accuracy: 0.765625\n"
     ]
    },
    {
     "name": "stderr",
     "output_type": "stream",
     "text": [
      "e:\\OneDrive - Hanoi University of Science and Technology\\Code project\\ML\\NLP\\uvipen_HAN\\src\\word_att_model.py:37: UserWarning: Implicit dimension choice for softmax has been deprecated. Change the call to include dim=X as an argument.\n",
      "  output = F.softmax(output)\n",
      "e:\\OneDrive - Hanoi University of Science and Technology\\Code project\\ML\\NLP\\uvipen_HAN\\src\\sent_att_model.py:29: UserWarning: Implicit dimension choice for softmax has been deprecated. Change the call to include dim=X as an argument.\n",
      "  output = F.softmax(output)\n"
     ]
    },
    {
     "name": "stdout",
     "output_type": "stream",
     "text": [
      "Epoch: 1/100, Iteration: 57/937, Lr: 0.1, Loss: 0.790793240070343, Accuracy: 0.71875\n"
     ]
    },
    {
     "name": "stderr",
     "output_type": "stream",
     "text": [
      "e:\\OneDrive - Hanoi University of Science and Technology\\Code project\\ML\\NLP\\uvipen_HAN\\src\\word_att_model.py:37: UserWarning: Implicit dimension choice for softmax has been deprecated. Change the call to include dim=X as an argument.\n",
      "  output = F.softmax(output)\n",
      "e:\\OneDrive - Hanoi University of Science and Technology\\Code project\\ML\\NLP\\uvipen_HAN\\src\\sent_att_model.py:29: UserWarning: Implicit dimension choice for softmax has been deprecated. Change the call to include dim=X as an argument.\n",
      "  output = F.softmax(output)\n"
     ]
    },
    {
     "name": "stdout",
     "output_type": "stream",
     "text": [
      "Epoch: 1/100, Iteration: 58/937, Lr: 0.1, Loss: 0.5247591137886047, Accuracy: 0.796875\n"
     ]
    },
    {
     "name": "stderr",
     "output_type": "stream",
     "text": [
      "e:\\OneDrive - Hanoi University of Science and Technology\\Code project\\ML\\NLP\\uvipen_HAN\\src\\word_att_model.py:37: UserWarning: Implicit dimension choice for softmax has been deprecated. Change the call to include dim=X as an argument.\n",
      "  output = F.softmax(output)\n",
      "e:\\OneDrive - Hanoi University of Science and Technology\\Code project\\ML\\NLP\\uvipen_HAN\\src\\sent_att_model.py:29: UserWarning: Implicit dimension choice for softmax has been deprecated. Change the call to include dim=X as an argument.\n",
      "  output = F.softmax(output)\n"
     ]
    },
    {
     "name": "stdout",
     "output_type": "stream",
     "text": [
      "Epoch: 1/100, Iteration: 59/937, Lr: 0.1, Loss: 0.5087667107582092, Accuracy: 0.7890625\n"
     ]
    },
    {
     "name": "stderr",
     "output_type": "stream",
     "text": [
      "e:\\OneDrive - Hanoi University of Science and Technology\\Code project\\ML\\NLP\\uvipen_HAN\\src\\word_att_model.py:37: UserWarning: Implicit dimension choice for softmax has been deprecated. Change the call to include dim=X as an argument.\n",
      "  output = F.softmax(output)\n",
      "e:\\OneDrive - Hanoi University of Science and Technology\\Code project\\ML\\NLP\\uvipen_HAN\\src\\sent_att_model.py:29: UserWarning: Implicit dimension choice for softmax has been deprecated. Change the call to include dim=X as an argument.\n",
      "  output = F.softmax(output)\n"
     ]
    },
    {
     "name": "stdout",
     "output_type": "stream",
     "text": [
      "Epoch: 1/100, Iteration: 60/937, Lr: 0.1, Loss: 0.8123871684074402, Accuracy: 0.7265625\n"
     ]
    },
    {
     "name": "stderr",
     "output_type": "stream",
     "text": [
      "e:\\OneDrive - Hanoi University of Science and Technology\\Code project\\ML\\NLP\\uvipen_HAN\\src\\word_att_model.py:37: UserWarning: Implicit dimension choice for softmax has been deprecated. Change the call to include dim=X as an argument.\n",
      "  output = F.softmax(output)\n",
      "e:\\OneDrive - Hanoi University of Science and Technology\\Code project\\ML\\NLP\\uvipen_HAN\\src\\sent_att_model.py:29: UserWarning: Implicit dimension choice for softmax has been deprecated. Change the call to include dim=X as an argument.\n",
      "  output = F.softmax(output)\n"
     ]
    },
    {
     "name": "stdout",
     "output_type": "stream",
     "text": [
      "Epoch: 1/100, Iteration: 61/937, Lr: 0.1, Loss: 0.4807059168815613, Accuracy: 0.796875\n"
     ]
    },
    {
     "name": "stderr",
     "output_type": "stream",
     "text": [
      "e:\\OneDrive - Hanoi University of Science and Technology\\Code project\\ML\\NLP\\uvipen_HAN\\src\\word_att_model.py:37: UserWarning: Implicit dimension choice for softmax has been deprecated. Change the call to include dim=X as an argument.\n",
      "  output = F.softmax(output)\n",
      "e:\\OneDrive - Hanoi University of Science and Technology\\Code project\\ML\\NLP\\uvipen_HAN\\src\\sent_att_model.py:29: UserWarning: Implicit dimension choice for softmax has been deprecated. Change the call to include dim=X as an argument.\n",
      "  output = F.softmax(output)\n"
     ]
    },
    {
     "name": "stdout",
     "output_type": "stream",
     "text": [
      "Epoch: 1/100, Iteration: 62/937, Lr: 0.1, Loss: 0.5969469547271729, Accuracy: 0.8515625\n"
     ]
    },
    {
     "name": "stderr",
     "output_type": "stream",
     "text": [
      "e:\\OneDrive - Hanoi University of Science and Technology\\Code project\\ML\\NLP\\uvipen_HAN\\src\\word_att_model.py:37: UserWarning: Implicit dimension choice for softmax has been deprecated. Change the call to include dim=X as an argument.\n",
      "  output = F.softmax(output)\n",
      "e:\\OneDrive - Hanoi University of Science and Technology\\Code project\\ML\\NLP\\uvipen_HAN\\src\\sent_att_model.py:29: UserWarning: Implicit dimension choice for softmax has been deprecated. Change the call to include dim=X as an argument.\n",
      "  output = F.softmax(output)\n"
     ]
    },
    {
     "name": "stdout",
     "output_type": "stream",
     "text": [
      "Epoch: 1/100, Iteration: 63/937, Lr: 0.1, Loss: 0.8208140730857849, Accuracy: 0.703125\n"
     ]
    },
    {
     "name": "stderr",
     "output_type": "stream",
     "text": [
      "e:\\OneDrive - Hanoi University of Science and Technology\\Code project\\ML\\NLP\\uvipen_HAN\\src\\word_att_model.py:37: UserWarning: Implicit dimension choice for softmax has been deprecated. Change the call to include dim=X as an argument.\n",
      "  output = F.softmax(output)\n",
      "e:\\OneDrive - Hanoi University of Science and Technology\\Code project\\ML\\NLP\\uvipen_HAN\\src\\sent_att_model.py:29: UserWarning: Implicit dimension choice for softmax has been deprecated. Change the call to include dim=X as an argument.\n",
      "  output = F.softmax(output)\n"
     ]
    },
    {
     "name": "stdout",
     "output_type": "stream",
     "text": [
      "Epoch: 1/100, Iteration: 64/937, Lr: 0.1, Loss: 0.47974082827568054, Accuracy: 0.828125\n"
     ]
    },
    {
     "name": "stderr",
     "output_type": "stream",
     "text": [
      "e:\\OneDrive - Hanoi University of Science and Technology\\Code project\\ML\\NLP\\uvipen_HAN\\src\\word_att_model.py:37: UserWarning: Implicit dimension choice for softmax has been deprecated. Change the call to include dim=X as an argument.\n",
      "  output = F.softmax(output)\n",
      "e:\\OneDrive - Hanoi University of Science and Technology\\Code project\\ML\\NLP\\uvipen_HAN\\src\\sent_att_model.py:29: UserWarning: Implicit dimension choice for softmax has been deprecated. Change the call to include dim=X as an argument.\n",
      "  output = F.softmax(output)\n"
     ]
    },
    {
     "name": "stdout",
     "output_type": "stream",
     "text": [
      "Epoch: 1/100, Iteration: 65/937, Lr: 0.1, Loss: 0.7800965905189514, Accuracy: 0.7265625\n"
     ]
    },
    {
     "name": "stderr",
     "output_type": "stream",
     "text": [
      "e:\\OneDrive - Hanoi University of Science and Technology\\Code project\\ML\\NLP\\uvipen_HAN\\src\\word_att_model.py:37: UserWarning: Implicit dimension choice for softmax has been deprecated. Change the call to include dim=X as an argument.\n",
      "  output = F.softmax(output)\n",
      "e:\\OneDrive - Hanoi University of Science and Technology\\Code project\\ML\\NLP\\uvipen_HAN\\src\\sent_att_model.py:29: UserWarning: Implicit dimension choice for softmax has been deprecated. Change the call to include dim=X as an argument.\n",
      "  output = F.softmax(output)\n"
     ]
    },
    {
     "name": "stdout",
     "output_type": "stream",
     "text": [
      "Epoch: 1/100, Iteration: 66/937, Lr: 0.1, Loss: 0.5967394113540649, Accuracy: 0.7578125\n"
     ]
    },
    {
     "name": "stderr",
     "output_type": "stream",
     "text": [
      "e:\\OneDrive - Hanoi University of Science and Technology\\Code project\\ML\\NLP\\uvipen_HAN\\src\\word_att_model.py:37: UserWarning: Implicit dimension choice for softmax has been deprecated. Change the call to include dim=X as an argument.\n",
      "  output = F.softmax(output)\n",
      "e:\\OneDrive - Hanoi University of Science and Technology\\Code project\\ML\\NLP\\uvipen_HAN\\src\\sent_att_model.py:29: UserWarning: Implicit dimension choice for softmax has been deprecated. Change the call to include dim=X as an argument.\n",
      "  output = F.softmax(output)\n"
     ]
    },
    {
     "name": "stdout",
     "output_type": "stream",
     "text": [
      "Epoch: 1/100, Iteration: 67/937, Lr: 0.1, Loss: 0.4933619797229767, Accuracy: 0.8046875\n"
     ]
    },
    {
     "name": "stderr",
     "output_type": "stream",
     "text": [
      "e:\\OneDrive - Hanoi University of Science and Technology\\Code project\\ML\\NLP\\uvipen_HAN\\src\\word_att_model.py:37: UserWarning: Implicit dimension choice for softmax has been deprecated. Change the call to include dim=X as an argument.\n",
      "  output = F.softmax(output)\n",
      "e:\\OneDrive - Hanoi University of Science and Technology\\Code project\\ML\\NLP\\uvipen_HAN\\src\\sent_att_model.py:29: UserWarning: Implicit dimension choice for softmax has been deprecated. Change the call to include dim=X as an argument.\n",
      "  output = F.softmax(output)\n"
     ]
    },
    {
     "name": "stdout",
     "output_type": "stream",
     "text": [
      "Epoch: 1/100, Iteration: 68/937, Lr: 0.1, Loss: 0.43596118688583374, Accuracy: 0.8203125\n"
     ]
    },
    {
     "name": "stderr",
     "output_type": "stream",
     "text": [
      "e:\\OneDrive - Hanoi University of Science and Technology\\Code project\\ML\\NLP\\uvipen_HAN\\src\\word_att_model.py:37: UserWarning: Implicit dimension choice for softmax has been deprecated. Change the call to include dim=X as an argument.\n",
      "  output = F.softmax(output)\n",
      "e:\\OneDrive - Hanoi University of Science and Technology\\Code project\\ML\\NLP\\uvipen_HAN\\src\\sent_att_model.py:29: UserWarning: Implicit dimension choice for softmax has been deprecated. Change the call to include dim=X as an argument.\n",
      "  output = F.softmax(output)\n"
     ]
    },
    {
     "name": "stdout",
     "output_type": "stream",
     "text": [
      "Epoch: 1/100, Iteration: 69/937, Lr: 0.1, Loss: 0.6125745177268982, Accuracy: 0.8125\n"
     ]
    },
    {
     "name": "stderr",
     "output_type": "stream",
     "text": [
      "e:\\OneDrive - Hanoi University of Science and Technology\\Code project\\ML\\NLP\\uvipen_HAN\\src\\word_att_model.py:37: UserWarning: Implicit dimension choice for softmax has been deprecated. Change the call to include dim=X as an argument.\n",
      "  output = F.softmax(output)\n",
      "e:\\OneDrive - Hanoi University of Science and Technology\\Code project\\ML\\NLP\\uvipen_HAN\\src\\sent_att_model.py:29: UserWarning: Implicit dimension choice for softmax has been deprecated. Change the call to include dim=X as an argument.\n",
      "  output = F.softmax(output)\n"
     ]
    },
    {
     "name": "stdout",
     "output_type": "stream",
     "text": [
      "Epoch: 1/100, Iteration: 70/937, Lr: 0.1, Loss: 0.5572600960731506, Accuracy: 0.796875\n"
     ]
    },
    {
     "name": "stderr",
     "output_type": "stream",
     "text": [
      "e:\\OneDrive - Hanoi University of Science and Technology\\Code project\\ML\\NLP\\uvipen_HAN\\src\\word_att_model.py:37: UserWarning: Implicit dimension choice for softmax has been deprecated. Change the call to include dim=X as an argument.\n",
      "  output = F.softmax(output)\n",
      "e:\\OneDrive - Hanoi University of Science and Technology\\Code project\\ML\\NLP\\uvipen_HAN\\src\\sent_att_model.py:29: UserWarning: Implicit dimension choice for softmax has been deprecated. Change the call to include dim=X as an argument.\n",
      "  output = F.softmax(output)\n"
     ]
    },
    {
     "name": "stdout",
     "output_type": "stream",
     "text": [
      "Epoch: 1/100, Iteration: 71/937, Lr: 0.1, Loss: 0.5292178988456726, Accuracy: 0.8359375\n"
     ]
    },
    {
     "name": "stderr",
     "output_type": "stream",
     "text": [
      "e:\\OneDrive - Hanoi University of Science and Technology\\Code project\\ML\\NLP\\uvipen_HAN\\src\\word_att_model.py:37: UserWarning: Implicit dimension choice for softmax has been deprecated. Change the call to include dim=X as an argument.\n",
      "  output = F.softmax(output)\n",
      "e:\\OneDrive - Hanoi University of Science and Technology\\Code project\\ML\\NLP\\uvipen_HAN\\src\\sent_att_model.py:29: UserWarning: Implicit dimension choice for softmax has been deprecated. Change the call to include dim=X as an argument.\n",
      "  output = F.softmax(output)\n"
     ]
    },
    {
     "name": "stdout",
     "output_type": "stream",
     "text": [
      "Epoch: 1/100, Iteration: 72/937, Lr: 0.1, Loss: 0.5031943321228027, Accuracy: 0.8359375\n"
     ]
    },
    {
     "name": "stderr",
     "output_type": "stream",
     "text": [
      "e:\\OneDrive - Hanoi University of Science and Technology\\Code project\\ML\\NLP\\uvipen_HAN\\src\\word_att_model.py:37: UserWarning: Implicit dimension choice for softmax has been deprecated. Change the call to include dim=X as an argument.\n",
      "  output = F.softmax(output)\n",
      "e:\\OneDrive - Hanoi University of Science and Technology\\Code project\\ML\\NLP\\uvipen_HAN\\src\\sent_att_model.py:29: UserWarning: Implicit dimension choice for softmax has been deprecated. Change the call to include dim=X as an argument.\n",
      "  output = F.softmax(output)\n"
     ]
    },
    {
     "name": "stdout",
     "output_type": "stream",
     "text": [
      "Epoch: 1/100, Iteration: 73/937, Lr: 0.1, Loss: 0.6800436973571777, Accuracy: 0.75\n"
     ]
    },
    {
     "name": "stderr",
     "output_type": "stream",
     "text": [
      "e:\\OneDrive - Hanoi University of Science and Technology\\Code project\\ML\\NLP\\uvipen_HAN\\src\\word_att_model.py:37: UserWarning: Implicit dimension choice for softmax has been deprecated. Change the call to include dim=X as an argument.\n",
      "  output = F.softmax(output)\n",
      "e:\\OneDrive - Hanoi University of Science and Technology\\Code project\\ML\\NLP\\uvipen_HAN\\src\\sent_att_model.py:29: UserWarning: Implicit dimension choice for softmax has been deprecated. Change the call to include dim=X as an argument.\n",
      "  output = F.softmax(output)\n"
     ]
    },
    {
     "name": "stdout",
     "output_type": "stream",
     "text": [
      "Epoch: 1/100, Iteration: 74/937, Lr: 0.1, Loss: 0.45856770873069763, Accuracy: 0.828125\n"
     ]
    },
    {
     "name": "stderr",
     "output_type": "stream",
     "text": [
      "e:\\OneDrive - Hanoi University of Science and Technology\\Code project\\ML\\NLP\\uvipen_HAN\\src\\word_att_model.py:37: UserWarning: Implicit dimension choice for softmax has been deprecated. Change the call to include dim=X as an argument.\n",
      "  output = F.softmax(output)\n",
      "e:\\OneDrive - Hanoi University of Science and Technology\\Code project\\ML\\NLP\\uvipen_HAN\\src\\sent_att_model.py:29: UserWarning: Implicit dimension choice for softmax has been deprecated. Change the call to include dim=X as an argument.\n",
      "  output = F.softmax(output)\n"
     ]
    },
    {
     "name": "stdout",
     "output_type": "stream",
     "text": [
      "Epoch: 1/100, Iteration: 75/937, Lr: 0.1, Loss: 0.585219144821167, Accuracy: 0.828125\n"
     ]
    },
    {
     "name": "stderr",
     "output_type": "stream",
     "text": [
      "e:\\OneDrive - Hanoi University of Science and Technology\\Code project\\ML\\NLP\\uvipen_HAN\\src\\word_att_model.py:37: UserWarning: Implicit dimension choice for softmax has been deprecated. Change the call to include dim=X as an argument.\n",
      "  output = F.softmax(output)\n",
      "e:\\OneDrive - Hanoi University of Science and Technology\\Code project\\ML\\NLP\\uvipen_HAN\\src\\sent_att_model.py:29: UserWarning: Implicit dimension choice for softmax has been deprecated. Change the call to include dim=X as an argument.\n",
      "  output = F.softmax(output)\n"
     ]
    },
    {
     "name": "stdout",
     "output_type": "stream",
     "text": [
      "Epoch: 1/100, Iteration: 76/937, Lr: 0.1, Loss: 0.4807536005973816, Accuracy: 0.8515625\n"
     ]
    },
    {
     "name": "stderr",
     "output_type": "stream",
     "text": [
      "e:\\OneDrive - Hanoi University of Science and Technology\\Code project\\ML\\NLP\\uvipen_HAN\\src\\word_att_model.py:37: UserWarning: Implicit dimension choice for softmax has been deprecated. Change the call to include dim=X as an argument.\n",
      "  output = F.softmax(output)\n",
      "e:\\OneDrive - Hanoi University of Science and Technology\\Code project\\ML\\NLP\\uvipen_HAN\\src\\sent_att_model.py:29: UserWarning: Implicit dimension choice for softmax has been deprecated. Change the call to include dim=X as an argument.\n",
      "  output = F.softmax(output)\n"
     ]
    },
    {
     "name": "stdout",
     "output_type": "stream",
     "text": [
      "Epoch: 1/100, Iteration: 77/937, Lr: 0.1, Loss: 0.4105638265609741, Accuracy: 0.8359375\n"
     ]
    },
    {
     "name": "stderr",
     "output_type": "stream",
     "text": [
      "e:\\OneDrive - Hanoi University of Science and Technology\\Code project\\ML\\NLP\\uvipen_HAN\\src\\word_att_model.py:37: UserWarning: Implicit dimension choice for softmax has been deprecated. Change the call to include dim=X as an argument.\n",
      "  output = F.softmax(output)\n",
      "e:\\OneDrive - Hanoi University of Science and Technology\\Code project\\ML\\NLP\\uvipen_HAN\\src\\sent_att_model.py:29: UserWarning: Implicit dimension choice for softmax has been deprecated. Change the call to include dim=X as an argument.\n",
      "  output = F.softmax(output)\n"
     ]
    },
    {
     "name": "stdout",
     "output_type": "stream",
     "text": [
      "Epoch: 1/100, Iteration: 78/937, Lr: 0.1, Loss: 0.6482173800468445, Accuracy: 0.8046875\n"
     ]
    },
    {
     "name": "stderr",
     "output_type": "stream",
     "text": [
      "e:\\OneDrive - Hanoi University of Science and Technology\\Code project\\ML\\NLP\\uvipen_HAN\\src\\word_att_model.py:37: UserWarning: Implicit dimension choice for softmax has been deprecated. Change the call to include dim=X as an argument.\n",
      "  output = F.softmax(output)\n",
      "e:\\OneDrive - Hanoi University of Science and Technology\\Code project\\ML\\NLP\\uvipen_HAN\\src\\sent_att_model.py:29: UserWarning: Implicit dimension choice for softmax has been deprecated. Change the call to include dim=X as an argument.\n",
      "  output = F.softmax(output)\n"
     ]
    },
    {
     "name": "stdout",
     "output_type": "stream",
     "text": [
      "Epoch: 1/100, Iteration: 79/937, Lr: 0.1, Loss: 0.4393315315246582, Accuracy: 0.828125\n"
     ]
    },
    {
     "name": "stderr",
     "output_type": "stream",
     "text": [
      "e:\\OneDrive - Hanoi University of Science and Technology\\Code project\\ML\\NLP\\uvipen_HAN\\src\\word_att_model.py:37: UserWarning: Implicit dimension choice for softmax has been deprecated. Change the call to include dim=X as an argument.\n",
      "  output = F.softmax(output)\n",
      "e:\\OneDrive - Hanoi University of Science and Technology\\Code project\\ML\\NLP\\uvipen_HAN\\src\\sent_att_model.py:29: UserWarning: Implicit dimension choice for softmax has been deprecated. Change the call to include dim=X as an argument.\n",
      "  output = F.softmax(output)\n"
     ]
    },
    {
     "name": "stdout",
     "output_type": "stream",
     "text": [
      "Epoch: 1/100, Iteration: 80/937, Lr: 0.1, Loss: 0.4178985357284546, Accuracy: 0.875\n"
     ]
    },
    {
     "name": "stderr",
     "output_type": "stream",
     "text": [
      "e:\\OneDrive - Hanoi University of Science and Technology\\Code project\\ML\\NLP\\uvipen_HAN\\src\\word_att_model.py:37: UserWarning: Implicit dimension choice for softmax has been deprecated. Change the call to include dim=X as an argument.\n",
      "  output = F.softmax(output)\n",
      "e:\\OneDrive - Hanoi University of Science and Technology\\Code project\\ML\\NLP\\uvipen_HAN\\src\\sent_att_model.py:29: UserWarning: Implicit dimension choice for softmax has been deprecated. Change the call to include dim=X as an argument.\n",
      "  output = F.softmax(output)\n"
     ]
    },
    {
     "name": "stdout",
     "output_type": "stream",
     "text": [
      "Epoch: 1/100, Iteration: 81/937, Lr: 0.1, Loss: 0.4323349893093109, Accuracy: 0.8515625\n"
     ]
    },
    {
     "name": "stderr",
     "output_type": "stream",
     "text": [
      "e:\\OneDrive - Hanoi University of Science and Technology\\Code project\\ML\\NLP\\uvipen_HAN\\src\\word_att_model.py:37: UserWarning: Implicit dimension choice for softmax has been deprecated. Change the call to include dim=X as an argument.\n",
      "  output = F.softmax(output)\n",
      "e:\\OneDrive - Hanoi University of Science and Technology\\Code project\\ML\\NLP\\uvipen_HAN\\src\\sent_att_model.py:29: UserWarning: Implicit dimension choice for softmax has been deprecated. Change the call to include dim=X as an argument.\n",
      "  output = F.softmax(output)\n"
     ]
    },
    {
     "name": "stdout",
     "output_type": "stream",
     "text": [
      "Epoch: 1/100, Iteration: 82/937, Lr: 0.1, Loss: 0.5230250954627991, Accuracy: 0.8046875\n"
     ]
    },
    {
     "name": "stderr",
     "output_type": "stream",
     "text": [
      "e:\\OneDrive - Hanoi University of Science and Technology\\Code project\\ML\\NLP\\uvipen_HAN\\src\\word_att_model.py:37: UserWarning: Implicit dimension choice for softmax has been deprecated. Change the call to include dim=X as an argument.\n",
      "  output = F.softmax(output)\n",
      "e:\\OneDrive - Hanoi University of Science and Technology\\Code project\\ML\\NLP\\uvipen_HAN\\src\\sent_att_model.py:29: UserWarning: Implicit dimension choice for softmax has been deprecated. Change the call to include dim=X as an argument.\n",
      "  output = F.softmax(output)\n"
     ]
    },
    {
     "name": "stdout",
     "output_type": "stream",
     "text": [
      "Epoch: 1/100, Iteration: 83/937, Lr: 0.1, Loss: 0.3473629653453827, Accuracy: 0.875\n"
     ]
    },
    {
     "name": "stderr",
     "output_type": "stream",
     "text": [
      "e:\\OneDrive - Hanoi University of Science and Technology\\Code project\\ML\\NLP\\uvipen_HAN\\src\\word_att_model.py:37: UserWarning: Implicit dimension choice for softmax has been deprecated. Change the call to include dim=X as an argument.\n",
      "  output = F.softmax(output)\n",
      "e:\\OneDrive - Hanoi University of Science and Technology\\Code project\\ML\\NLP\\uvipen_HAN\\src\\sent_att_model.py:29: UserWarning: Implicit dimension choice for softmax has been deprecated. Change the call to include dim=X as an argument.\n",
      "  output = F.softmax(output)\n"
     ]
    },
    {
     "name": "stdout",
     "output_type": "stream",
     "text": [
      "Epoch: 1/100, Iteration: 84/937, Lr: 0.1, Loss: 0.4498094916343689, Accuracy: 0.8671875\n"
     ]
    },
    {
     "name": "stderr",
     "output_type": "stream",
     "text": [
      "e:\\OneDrive - Hanoi University of Science and Technology\\Code project\\ML\\NLP\\uvipen_HAN\\src\\word_att_model.py:37: UserWarning: Implicit dimension choice for softmax has been deprecated. Change the call to include dim=X as an argument.\n",
      "  output = F.softmax(output)\n",
      "e:\\OneDrive - Hanoi University of Science and Technology\\Code project\\ML\\NLP\\uvipen_HAN\\src\\sent_att_model.py:29: UserWarning: Implicit dimension choice for softmax has been deprecated. Change the call to include dim=X as an argument.\n",
      "  output = F.softmax(output)\n"
     ]
    },
    {
     "name": "stdout",
     "output_type": "stream",
     "text": [
      "Epoch: 1/100, Iteration: 85/937, Lr: 0.1, Loss: 0.4159857928752899, Accuracy: 0.875\n"
     ]
    },
    {
     "name": "stderr",
     "output_type": "stream",
     "text": [
      "e:\\OneDrive - Hanoi University of Science and Technology\\Code project\\ML\\NLP\\uvipen_HAN\\src\\word_att_model.py:37: UserWarning: Implicit dimension choice for softmax has been deprecated. Change the call to include dim=X as an argument.\n",
      "  output = F.softmax(output)\n",
      "e:\\OneDrive - Hanoi University of Science and Technology\\Code project\\ML\\NLP\\uvipen_HAN\\src\\sent_att_model.py:29: UserWarning: Implicit dimension choice for softmax has been deprecated. Change the call to include dim=X as an argument.\n",
      "  output = F.softmax(output)\n"
     ]
    },
    {
     "name": "stdout",
     "output_type": "stream",
     "text": [
      "Epoch: 1/100, Iteration: 86/937, Lr: 0.1, Loss: 0.415176123380661, Accuracy: 0.859375\n"
     ]
    },
    {
     "name": "stderr",
     "output_type": "stream",
     "text": [
      "e:\\OneDrive - Hanoi University of Science and Technology\\Code project\\ML\\NLP\\uvipen_HAN\\src\\word_att_model.py:37: UserWarning: Implicit dimension choice for softmax has been deprecated. Change the call to include dim=X as an argument.\n",
      "  output = F.softmax(output)\n",
      "e:\\OneDrive - Hanoi University of Science and Technology\\Code project\\ML\\NLP\\uvipen_HAN\\src\\sent_att_model.py:29: UserWarning: Implicit dimension choice for softmax has been deprecated. Change the call to include dim=X as an argument.\n",
      "  output = F.softmax(output)\n"
     ]
    },
    {
     "name": "stdout",
     "output_type": "stream",
     "text": [
      "Epoch: 1/100, Iteration: 87/937, Lr: 0.1, Loss: 0.5239853262901306, Accuracy: 0.828125\n"
     ]
    },
    {
     "name": "stderr",
     "output_type": "stream",
     "text": [
      "e:\\OneDrive - Hanoi University of Science and Technology\\Code project\\ML\\NLP\\uvipen_HAN\\src\\word_att_model.py:37: UserWarning: Implicit dimension choice for softmax has been deprecated. Change the call to include dim=X as an argument.\n",
      "  output = F.softmax(output)\n",
      "e:\\OneDrive - Hanoi University of Science and Technology\\Code project\\ML\\NLP\\uvipen_HAN\\src\\sent_att_model.py:29: UserWarning: Implicit dimension choice for softmax has been deprecated. Change the call to include dim=X as an argument.\n",
      "  output = F.softmax(output)\n"
     ]
    },
    {
     "name": "stdout",
     "output_type": "stream",
     "text": [
      "Epoch: 1/100, Iteration: 88/937, Lr: 0.1, Loss: 0.43804922699928284, Accuracy: 0.859375\n"
     ]
    },
    {
     "name": "stderr",
     "output_type": "stream",
     "text": [
      "e:\\OneDrive - Hanoi University of Science and Technology\\Code project\\ML\\NLP\\uvipen_HAN\\src\\word_att_model.py:37: UserWarning: Implicit dimension choice for softmax has been deprecated. Change the call to include dim=X as an argument.\n",
      "  output = F.softmax(output)\n",
      "e:\\OneDrive - Hanoi University of Science and Technology\\Code project\\ML\\NLP\\uvipen_HAN\\src\\sent_att_model.py:29: UserWarning: Implicit dimension choice for softmax has been deprecated. Change the call to include dim=X as an argument.\n",
      "  output = F.softmax(output)\n"
     ]
    },
    {
     "name": "stdout",
     "output_type": "stream",
     "text": [
      "Epoch: 1/100, Iteration: 89/937, Lr: 0.1, Loss: 0.4278990626335144, Accuracy: 0.84375\n"
     ]
    },
    {
     "name": "stderr",
     "output_type": "stream",
     "text": [
      "e:\\OneDrive - Hanoi University of Science and Technology\\Code project\\ML\\NLP\\uvipen_HAN\\src\\word_att_model.py:37: UserWarning: Implicit dimension choice for softmax has been deprecated. Change the call to include dim=X as an argument.\n",
      "  output = F.softmax(output)\n",
      "e:\\OneDrive - Hanoi University of Science and Technology\\Code project\\ML\\NLP\\uvipen_HAN\\src\\sent_att_model.py:29: UserWarning: Implicit dimension choice for softmax has been deprecated. Change the call to include dim=X as an argument.\n",
      "  output = F.softmax(output)\n"
     ]
    },
    {
     "name": "stdout",
     "output_type": "stream",
     "text": [
      "Epoch: 1/100, Iteration: 90/937, Lr: 0.1, Loss: 0.4050453305244446, Accuracy: 0.859375\n"
     ]
    },
    {
     "name": "stderr",
     "output_type": "stream",
     "text": [
      "e:\\OneDrive - Hanoi University of Science and Technology\\Code project\\ML\\NLP\\uvipen_HAN\\src\\word_att_model.py:37: UserWarning: Implicit dimension choice for softmax has been deprecated. Change the call to include dim=X as an argument.\n",
      "  output = F.softmax(output)\n",
      "e:\\OneDrive - Hanoi University of Science and Technology\\Code project\\ML\\NLP\\uvipen_HAN\\src\\sent_att_model.py:29: UserWarning: Implicit dimension choice for softmax has been deprecated. Change the call to include dim=X as an argument.\n",
      "  output = F.softmax(output)\n"
     ]
    },
    {
     "name": "stdout",
     "output_type": "stream",
     "text": [
      "Epoch: 1/100, Iteration: 91/937, Lr: 0.1, Loss: 0.5739493370056152, Accuracy: 0.8203125\n"
     ]
    },
    {
     "name": "stderr",
     "output_type": "stream",
     "text": [
      "e:\\OneDrive - Hanoi University of Science and Technology\\Code project\\ML\\NLP\\uvipen_HAN\\src\\word_att_model.py:37: UserWarning: Implicit dimension choice for softmax has been deprecated. Change the call to include dim=X as an argument.\n",
      "  output = F.softmax(output)\n",
      "e:\\OneDrive - Hanoi University of Science and Technology\\Code project\\ML\\NLP\\uvipen_HAN\\src\\sent_att_model.py:29: UserWarning: Implicit dimension choice for softmax has been deprecated. Change the call to include dim=X as an argument.\n",
      "  output = F.softmax(output)\n"
     ]
    },
    {
     "name": "stdout",
     "output_type": "stream",
     "text": [
      "Epoch: 1/100, Iteration: 92/937, Lr: 0.1, Loss: 0.3714931309223175, Accuracy: 0.8515625\n"
     ]
    },
    {
     "name": "stderr",
     "output_type": "stream",
     "text": [
      "e:\\OneDrive - Hanoi University of Science and Technology\\Code project\\ML\\NLP\\uvipen_HAN\\src\\word_att_model.py:37: UserWarning: Implicit dimension choice for softmax has been deprecated. Change the call to include dim=X as an argument.\n",
      "  output = F.softmax(output)\n",
      "e:\\OneDrive - Hanoi University of Science and Technology\\Code project\\ML\\NLP\\uvipen_HAN\\src\\sent_att_model.py:29: UserWarning: Implicit dimension choice for softmax has been deprecated. Change the call to include dim=X as an argument.\n",
      "  output = F.softmax(output)\n"
     ]
    },
    {
     "name": "stdout",
     "output_type": "stream",
     "text": [
      "Epoch: 1/100, Iteration: 93/937, Lr: 0.1, Loss: 0.35324370861053467, Accuracy: 0.8671875\n"
     ]
    },
    {
     "name": "stderr",
     "output_type": "stream",
     "text": [
      "e:\\OneDrive - Hanoi University of Science and Technology\\Code project\\ML\\NLP\\uvipen_HAN\\src\\word_att_model.py:37: UserWarning: Implicit dimension choice for softmax has been deprecated. Change the call to include dim=X as an argument.\n",
      "  output = F.softmax(output)\n",
      "e:\\OneDrive - Hanoi University of Science and Technology\\Code project\\ML\\NLP\\uvipen_HAN\\src\\sent_att_model.py:29: UserWarning: Implicit dimension choice for softmax has been deprecated. Change the call to include dim=X as an argument.\n",
      "  output = F.softmax(output)\n"
     ]
    },
    {
     "name": "stdout",
     "output_type": "stream",
     "text": [
      "Epoch: 1/100, Iteration: 94/937, Lr: 0.1, Loss: 0.36651402711868286, Accuracy: 0.890625\n"
     ]
    },
    {
     "name": "stderr",
     "output_type": "stream",
     "text": [
      "e:\\OneDrive - Hanoi University of Science and Technology\\Code project\\ML\\NLP\\uvipen_HAN\\src\\word_att_model.py:37: UserWarning: Implicit dimension choice for softmax has been deprecated. Change the call to include dim=X as an argument.\n",
      "  output = F.softmax(output)\n",
      "e:\\OneDrive - Hanoi University of Science and Technology\\Code project\\ML\\NLP\\uvipen_HAN\\src\\sent_att_model.py:29: UserWarning: Implicit dimension choice for softmax has been deprecated. Change the call to include dim=X as an argument.\n",
      "  output = F.softmax(output)\n"
     ]
    },
    {
     "name": "stdout",
     "output_type": "stream",
     "text": [
      "Epoch: 1/100, Iteration: 95/937, Lr: 0.1, Loss: 0.48188576102256775, Accuracy: 0.8515625\n"
     ]
    },
    {
     "name": "stderr",
     "output_type": "stream",
     "text": [
      "e:\\OneDrive - Hanoi University of Science and Technology\\Code project\\ML\\NLP\\uvipen_HAN\\src\\word_att_model.py:37: UserWarning: Implicit dimension choice for softmax has been deprecated. Change the call to include dim=X as an argument.\n",
      "  output = F.softmax(output)\n",
      "e:\\OneDrive - Hanoi University of Science and Technology\\Code project\\ML\\NLP\\uvipen_HAN\\src\\sent_att_model.py:29: UserWarning: Implicit dimension choice for softmax has been deprecated. Change the call to include dim=X as an argument.\n",
      "  output = F.softmax(output)\n"
     ]
    },
    {
     "name": "stdout",
     "output_type": "stream",
     "text": [
      "Epoch: 1/100, Iteration: 96/937, Lr: 0.1, Loss: 0.41221749782562256, Accuracy: 0.859375\n"
     ]
    },
    {
     "name": "stderr",
     "output_type": "stream",
     "text": [
      "e:\\OneDrive - Hanoi University of Science and Technology\\Code project\\ML\\NLP\\uvipen_HAN\\src\\word_att_model.py:37: UserWarning: Implicit dimension choice for softmax has been deprecated. Change the call to include dim=X as an argument.\n",
      "  output = F.softmax(output)\n",
      "e:\\OneDrive - Hanoi University of Science and Technology\\Code project\\ML\\NLP\\uvipen_HAN\\src\\sent_att_model.py:29: UserWarning: Implicit dimension choice for softmax has been deprecated. Change the call to include dim=X as an argument.\n",
      "  output = F.softmax(output)\n"
     ]
    },
    {
     "name": "stdout",
     "output_type": "stream",
     "text": [
      "Epoch: 1/100, Iteration: 97/937, Lr: 0.1, Loss: 0.28447049856185913, Accuracy: 0.890625\n"
     ]
    },
    {
     "name": "stderr",
     "output_type": "stream",
     "text": [
      "e:\\OneDrive - Hanoi University of Science and Technology\\Code project\\ML\\NLP\\uvipen_HAN\\src\\word_att_model.py:37: UserWarning: Implicit dimension choice for softmax has been deprecated. Change the call to include dim=X as an argument.\n",
      "  output = F.softmax(output)\n",
      "e:\\OneDrive - Hanoi University of Science and Technology\\Code project\\ML\\NLP\\uvipen_HAN\\src\\sent_att_model.py:29: UserWarning: Implicit dimension choice for softmax has been deprecated. Change the call to include dim=X as an argument.\n",
      "  output = F.softmax(output)\n"
     ]
    },
    {
     "name": "stdout",
     "output_type": "stream",
     "text": [
      "Epoch: 1/100, Iteration: 98/937, Lr: 0.1, Loss: 0.44689393043518066, Accuracy: 0.828125\n"
     ]
    },
    {
     "name": "stderr",
     "output_type": "stream",
     "text": [
      "e:\\OneDrive - Hanoi University of Science and Technology\\Code project\\ML\\NLP\\uvipen_HAN\\src\\word_att_model.py:37: UserWarning: Implicit dimension choice for softmax has been deprecated. Change the call to include dim=X as an argument.\n",
      "  output = F.softmax(output)\n",
      "e:\\OneDrive - Hanoi University of Science and Technology\\Code project\\ML\\NLP\\uvipen_HAN\\src\\sent_att_model.py:29: UserWarning: Implicit dimension choice for softmax has been deprecated. Change the call to include dim=X as an argument.\n",
      "  output = F.softmax(output)\n"
     ]
    },
    {
     "name": "stdout",
     "output_type": "stream",
     "text": [
      "Epoch: 1/100, Iteration: 99/937, Lr: 0.1, Loss: 0.48006656765937805, Accuracy: 0.8203125\n"
     ]
    },
    {
     "name": "stderr",
     "output_type": "stream",
     "text": [
      "e:\\OneDrive - Hanoi University of Science and Technology\\Code project\\ML\\NLP\\uvipen_HAN\\src\\word_att_model.py:37: UserWarning: Implicit dimension choice for softmax has been deprecated. Change the call to include dim=X as an argument.\n",
      "  output = F.softmax(output)\n",
      "e:\\OneDrive - Hanoi University of Science and Technology\\Code project\\ML\\NLP\\uvipen_HAN\\src\\sent_att_model.py:29: UserWarning: Implicit dimension choice for softmax has been deprecated. Change the call to include dim=X as an argument.\n",
      "  output = F.softmax(output)\n"
     ]
    },
    {
     "name": "stdout",
     "output_type": "stream",
     "text": [
      "Epoch: 1/100, Iteration: 100/937, Lr: 0.1, Loss: 0.42685964703559875, Accuracy: 0.8515625\n"
     ]
    },
    {
     "name": "stderr",
     "output_type": "stream",
     "text": [
      "e:\\OneDrive - Hanoi University of Science and Technology\\Code project\\ML\\NLP\\uvipen_HAN\\src\\word_att_model.py:37: UserWarning: Implicit dimension choice for softmax has been deprecated. Change the call to include dim=X as an argument.\n",
      "  output = F.softmax(output)\n",
      "e:\\OneDrive - Hanoi University of Science and Technology\\Code project\\ML\\NLP\\uvipen_HAN\\src\\sent_att_model.py:29: UserWarning: Implicit dimension choice for softmax has been deprecated. Change the call to include dim=X as an argument.\n",
      "  output = F.softmax(output)\n"
     ]
    },
    {
     "name": "stdout",
     "output_type": "stream",
     "text": [
      "Epoch: 1/100, Iteration: 101/937, Lr: 0.1, Loss: 0.45508408546447754, Accuracy: 0.84375\n"
     ]
    },
    {
     "name": "stderr",
     "output_type": "stream",
     "text": [
      "e:\\OneDrive - Hanoi University of Science and Technology\\Code project\\ML\\NLP\\uvipen_HAN\\src\\word_att_model.py:37: UserWarning: Implicit dimension choice for softmax has been deprecated. Change the call to include dim=X as an argument.\n",
      "  output = F.softmax(output)\n",
      "e:\\OneDrive - Hanoi University of Science and Technology\\Code project\\ML\\NLP\\uvipen_HAN\\src\\sent_att_model.py:29: UserWarning: Implicit dimension choice for softmax has been deprecated. Change the call to include dim=X as an argument.\n",
      "  output = F.softmax(output)\n"
     ]
    },
    {
     "name": "stdout",
     "output_type": "stream",
     "text": [
      "Epoch: 1/100, Iteration: 102/937, Lr: 0.1, Loss: 0.33690324425697327, Accuracy: 0.8984375\n"
     ]
    },
    {
     "name": "stderr",
     "output_type": "stream",
     "text": [
      "e:\\OneDrive - Hanoi University of Science and Technology\\Code project\\ML\\NLP\\uvipen_HAN\\src\\word_att_model.py:37: UserWarning: Implicit dimension choice for softmax has been deprecated. Change the call to include dim=X as an argument.\n",
      "  output = F.softmax(output)\n",
      "e:\\OneDrive - Hanoi University of Science and Technology\\Code project\\ML\\NLP\\uvipen_HAN\\src\\sent_att_model.py:29: UserWarning: Implicit dimension choice for softmax has been deprecated. Change the call to include dim=X as an argument.\n",
      "  output = F.softmax(output)\n"
     ]
    },
    {
     "name": "stdout",
     "output_type": "stream",
     "text": [
      "Epoch: 1/100, Iteration: 103/937, Lr: 0.1, Loss: 0.528990626335144, Accuracy: 0.8515625\n"
     ]
    },
    {
     "name": "stderr",
     "output_type": "stream",
     "text": [
      "e:\\OneDrive - Hanoi University of Science and Technology\\Code project\\ML\\NLP\\uvipen_HAN\\src\\word_att_model.py:37: UserWarning: Implicit dimension choice for softmax has been deprecated. Change the call to include dim=X as an argument.\n",
      "  output = F.softmax(output)\n",
      "e:\\OneDrive - Hanoi University of Science and Technology\\Code project\\ML\\NLP\\uvipen_HAN\\src\\sent_att_model.py:29: UserWarning: Implicit dimension choice for softmax has been deprecated. Change the call to include dim=X as an argument.\n",
      "  output = F.softmax(output)\n"
     ]
    },
    {
     "name": "stdout",
     "output_type": "stream",
     "text": [
      "Epoch: 1/100, Iteration: 104/937, Lr: 0.1, Loss: 0.3765559792518616, Accuracy: 0.859375\n"
     ]
    },
    {
     "name": "stderr",
     "output_type": "stream",
     "text": [
      "e:\\OneDrive - Hanoi University of Science and Technology\\Code project\\ML\\NLP\\uvipen_HAN\\src\\word_att_model.py:37: UserWarning: Implicit dimension choice for softmax has been deprecated. Change the call to include dim=X as an argument.\n",
      "  output = F.softmax(output)\n",
      "e:\\OneDrive - Hanoi University of Science and Technology\\Code project\\ML\\NLP\\uvipen_HAN\\src\\sent_att_model.py:29: UserWarning: Implicit dimension choice for softmax has been deprecated. Change the call to include dim=X as an argument.\n",
      "  output = F.softmax(output)\n"
     ]
    },
    {
     "name": "stdout",
     "output_type": "stream",
     "text": [
      "Epoch: 1/100, Iteration: 105/937, Lr: 0.1, Loss: 0.42162370681762695, Accuracy: 0.8125\n"
     ]
    },
    {
     "name": "stderr",
     "output_type": "stream",
     "text": [
      "e:\\OneDrive - Hanoi University of Science and Technology\\Code project\\ML\\NLP\\uvipen_HAN\\src\\word_att_model.py:37: UserWarning: Implicit dimension choice for softmax has been deprecated. Change the call to include dim=X as an argument.\n",
      "  output = F.softmax(output)\n",
      "e:\\OneDrive - Hanoi University of Science and Technology\\Code project\\ML\\NLP\\uvipen_HAN\\src\\sent_att_model.py:29: UserWarning: Implicit dimension choice for softmax has been deprecated. Change the call to include dim=X as an argument.\n",
      "  output = F.softmax(output)\n"
     ]
    },
    {
     "name": "stdout",
     "output_type": "stream",
     "text": [
      "Epoch: 1/100, Iteration: 106/937, Lr: 0.1, Loss: 0.3487890064716339, Accuracy: 0.8828125\n"
     ]
    },
    {
     "name": "stderr",
     "output_type": "stream",
     "text": [
      "e:\\OneDrive - Hanoi University of Science and Technology\\Code project\\ML\\NLP\\uvipen_HAN\\src\\word_att_model.py:37: UserWarning: Implicit dimension choice for softmax has been deprecated. Change the call to include dim=X as an argument.\n",
      "  output = F.softmax(output)\n",
      "e:\\OneDrive - Hanoi University of Science and Technology\\Code project\\ML\\NLP\\uvipen_HAN\\src\\sent_att_model.py:29: UserWarning: Implicit dimension choice for softmax has been deprecated. Change the call to include dim=X as an argument.\n",
      "  output = F.softmax(output)\n"
     ]
    },
    {
     "name": "stdout",
     "output_type": "stream",
     "text": [
      "Epoch: 1/100, Iteration: 107/937, Lr: 0.1, Loss: 0.33283731341362, Accuracy: 0.8828125\n"
     ]
    },
    {
     "name": "stderr",
     "output_type": "stream",
     "text": [
      "e:\\OneDrive - Hanoi University of Science and Technology\\Code project\\ML\\NLP\\uvipen_HAN\\src\\word_att_model.py:37: UserWarning: Implicit dimension choice for softmax has been deprecated. Change the call to include dim=X as an argument.\n",
      "  output = F.softmax(output)\n",
      "e:\\OneDrive - Hanoi University of Science and Technology\\Code project\\ML\\NLP\\uvipen_HAN\\src\\sent_att_model.py:29: UserWarning: Implicit dimension choice for softmax has been deprecated. Change the call to include dim=X as an argument.\n",
      "  output = F.softmax(output)\n"
     ]
    },
    {
     "name": "stdout",
     "output_type": "stream",
     "text": [
      "Epoch: 1/100, Iteration: 108/937, Lr: 0.1, Loss: 0.38420334458351135, Accuracy: 0.8671875\n"
     ]
    },
    {
     "name": "stderr",
     "output_type": "stream",
     "text": [
      "e:\\OneDrive - Hanoi University of Science and Technology\\Code project\\ML\\NLP\\uvipen_HAN\\src\\word_att_model.py:37: UserWarning: Implicit dimension choice for softmax has been deprecated. Change the call to include dim=X as an argument.\n",
      "  output = F.softmax(output)\n",
      "e:\\OneDrive - Hanoi University of Science and Technology\\Code project\\ML\\NLP\\uvipen_HAN\\src\\sent_att_model.py:29: UserWarning: Implicit dimension choice for softmax has been deprecated. Change the call to include dim=X as an argument.\n",
      "  output = F.softmax(output)\n"
     ]
    },
    {
     "name": "stdout",
     "output_type": "stream",
     "text": [
      "Epoch: 1/100, Iteration: 109/937, Lr: 0.1, Loss: 0.458473265171051, Accuracy: 0.875\n"
     ]
    },
    {
     "name": "stderr",
     "output_type": "stream",
     "text": [
      "e:\\OneDrive - Hanoi University of Science and Technology\\Code project\\ML\\NLP\\uvipen_HAN\\src\\word_att_model.py:37: UserWarning: Implicit dimension choice for softmax has been deprecated. Change the call to include dim=X as an argument.\n",
      "  output = F.softmax(output)\n",
      "e:\\OneDrive - Hanoi University of Science and Technology\\Code project\\ML\\NLP\\uvipen_HAN\\src\\sent_att_model.py:29: UserWarning: Implicit dimension choice for softmax has been deprecated. Change the call to include dim=X as an argument.\n",
      "  output = F.softmax(output)\n"
     ]
    },
    {
     "name": "stdout",
     "output_type": "stream",
     "text": [
      "Epoch: 1/100, Iteration: 110/937, Lr: 0.1, Loss: 0.397801011800766, Accuracy: 0.8828125\n"
     ]
    },
    {
     "name": "stderr",
     "output_type": "stream",
     "text": [
      "e:\\OneDrive - Hanoi University of Science and Technology\\Code project\\ML\\NLP\\uvipen_HAN\\src\\word_att_model.py:37: UserWarning: Implicit dimension choice for softmax has been deprecated. Change the call to include dim=X as an argument.\n",
      "  output = F.softmax(output)\n",
      "e:\\OneDrive - Hanoi University of Science and Technology\\Code project\\ML\\NLP\\uvipen_HAN\\src\\sent_att_model.py:29: UserWarning: Implicit dimension choice for softmax has been deprecated. Change the call to include dim=X as an argument.\n",
      "  output = F.softmax(output)\n"
     ]
    },
    {
     "name": "stdout",
     "output_type": "stream",
     "text": [
      "Epoch: 1/100, Iteration: 111/937, Lr: 0.1, Loss: 0.4111424684524536, Accuracy: 0.8359375\n"
     ]
    },
    {
     "name": "stderr",
     "output_type": "stream",
     "text": [
      "e:\\OneDrive - Hanoi University of Science and Technology\\Code project\\ML\\NLP\\uvipen_HAN\\src\\word_att_model.py:37: UserWarning: Implicit dimension choice for softmax has been deprecated. Change the call to include dim=X as an argument.\n",
      "  output = F.softmax(output)\n",
      "e:\\OneDrive - Hanoi University of Science and Technology\\Code project\\ML\\NLP\\uvipen_HAN\\src\\sent_att_model.py:29: UserWarning: Implicit dimension choice for softmax has been deprecated. Change the call to include dim=X as an argument.\n",
      "  output = F.softmax(output)\n"
     ]
    },
    {
     "name": "stdout",
     "output_type": "stream",
     "text": [
      "Epoch: 1/100, Iteration: 112/937, Lr: 0.1, Loss: 0.3943476974964142, Accuracy: 0.8515625\n"
     ]
    },
    {
     "name": "stderr",
     "output_type": "stream",
     "text": [
      "e:\\OneDrive - Hanoi University of Science and Technology\\Code project\\ML\\NLP\\uvipen_HAN\\src\\word_att_model.py:37: UserWarning: Implicit dimension choice for softmax has been deprecated. Change the call to include dim=X as an argument.\n",
      "  output = F.softmax(output)\n",
      "e:\\OneDrive - Hanoi University of Science and Technology\\Code project\\ML\\NLP\\uvipen_HAN\\src\\sent_att_model.py:29: UserWarning: Implicit dimension choice for softmax has been deprecated. Change the call to include dim=X as an argument.\n",
      "  output = F.softmax(output)\n"
     ]
    },
    {
     "name": "stdout",
     "output_type": "stream",
     "text": [
      "Epoch: 1/100, Iteration: 113/937, Lr: 0.1, Loss: 0.5184478163719177, Accuracy: 0.8125\n"
     ]
    },
    {
     "name": "stderr",
     "output_type": "stream",
     "text": [
      "e:\\OneDrive - Hanoi University of Science and Technology\\Code project\\ML\\NLP\\uvipen_HAN\\src\\word_att_model.py:37: UserWarning: Implicit dimension choice for softmax has been deprecated. Change the call to include dim=X as an argument.\n",
      "  output = F.softmax(output)\n",
      "e:\\OneDrive - Hanoi University of Science and Technology\\Code project\\ML\\NLP\\uvipen_HAN\\src\\sent_att_model.py:29: UserWarning: Implicit dimension choice for softmax has been deprecated. Change the call to include dim=X as an argument.\n",
      "  output = F.softmax(output)\n"
     ]
    },
    {
     "name": "stdout",
     "output_type": "stream",
     "text": [
      "Epoch: 1/100, Iteration: 114/937, Lr: 0.1, Loss: 0.5270786285400391, Accuracy: 0.8125\n"
     ]
    },
    {
     "name": "stderr",
     "output_type": "stream",
     "text": [
      "e:\\OneDrive - Hanoi University of Science and Technology\\Code project\\ML\\NLP\\uvipen_HAN\\src\\word_att_model.py:37: UserWarning: Implicit dimension choice for softmax has been deprecated. Change the call to include dim=X as an argument.\n",
      "  output = F.softmax(output)\n",
      "e:\\OneDrive - Hanoi University of Science and Technology\\Code project\\ML\\NLP\\uvipen_HAN\\src\\sent_att_model.py:29: UserWarning: Implicit dimension choice for softmax has been deprecated. Change the call to include dim=X as an argument.\n",
      "  output = F.softmax(output)\n"
     ]
    },
    {
     "name": "stdout",
     "output_type": "stream",
     "text": [
      "Epoch: 1/100, Iteration: 115/937, Lr: 0.1, Loss: 0.49485132098197937, Accuracy: 0.8515625\n"
     ]
    },
    {
     "name": "stderr",
     "output_type": "stream",
     "text": [
      "e:\\OneDrive - Hanoi University of Science and Technology\\Code project\\ML\\NLP\\uvipen_HAN\\src\\word_att_model.py:37: UserWarning: Implicit dimension choice for softmax has been deprecated. Change the call to include dim=X as an argument.\n",
      "  output = F.softmax(output)\n",
      "e:\\OneDrive - Hanoi University of Science and Technology\\Code project\\ML\\NLP\\uvipen_HAN\\src\\sent_att_model.py:29: UserWarning: Implicit dimension choice for softmax has been deprecated. Change the call to include dim=X as an argument.\n",
      "  output = F.softmax(output)\n"
     ]
    },
    {
     "name": "stdout",
     "output_type": "stream",
     "text": [
      "Epoch: 1/100, Iteration: 116/937, Lr: 0.1, Loss: 0.5818449854850769, Accuracy: 0.7890625\n"
     ]
    },
    {
     "name": "stderr",
     "output_type": "stream",
     "text": [
      "e:\\OneDrive - Hanoi University of Science and Technology\\Code project\\ML\\NLP\\uvipen_HAN\\src\\word_att_model.py:37: UserWarning: Implicit dimension choice for softmax has been deprecated. Change the call to include dim=X as an argument.\n",
      "  output = F.softmax(output)\n",
      "e:\\OneDrive - Hanoi University of Science and Technology\\Code project\\ML\\NLP\\uvipen_HAN\\src\\sent_att_model.py:29: UserWarning: Implicit dimension choice for softmax has been deprecated. Change the call to include dim=X as an argument.\n",
      "  output = F.softmax(output)\n"
     ]
    },
    {
     "name": "stdout",
     "output_type": "stream",
     "text": [
      "Epoch: 1/100, Iteration: 117/937, Lr: 0.1, Loss: 0.4810362160205841, Accuracy: 0.7890625\n"
     ]
    },
    {
     "name": "stderr",
     "output_type": "stream",
     "text": [
      "e:\\OneDrive - Hanoi University of Science and Technology\\Code project\\ML\\NLP\\uvipen_HAN\\src\\word_att_model.py:37: UserWarning: Implicit dimension choice for softmax has been deprecated. Change the call to include dim=X as an argument.\n",
      "  output = F.softmax(output)\n",
      "e:\\OneDrive - Hanoi University of Science and Technology\\Code project\\ML\\NLP\\uvipen_HAN\\src\\sent_att_model.py:29: UserWarning: Implicit dimension choice for softmax has been deprecated. Change the call to include dim=X as an argument.\n",
      "  output = F.softmax(output)\n"
     ]
    },
    {
     "name": "stdout",
     "output_type": "stream",
     "text": [
      "Epoch: 1/100, Iteration: 118/937, Lr: 0.1, Loss: 0.4572538435459137, Accuracy: 0.828125\n"
     ]
    },
    {
     "name": "stderr",
     "output_type": "stream",
     "text": [
      "e:\\OneDrive - Hanoi University of Science and Technology\\Code project\\ML\\NLP\\uvipen_HAN\\src\\word_att_model.py:37: UserWarning: Implicit dimension choice for softmax has been deprecated. Change the call to include dim=X as an argument.\n",
      "  output = F.softmax(output)\n",
      "e:\\OneDrive - Hanoi University of Science and Technology\\Code project\\ML\\NLP\\uvipen_HAN\\src\\sent_att_model.py:29: UserWarning: Implicit dimension choice for softmax has been deprecated. Change the call to include dim=X as an argument.\n",
      "  output = F.softmax(output)\n"
     ]
    },
    {
     "name": "stdout",
     "output_type": "stream",
     "text": [
      "Epoch: 1/100, Iteration: 119/937, Lr: 0.1, Loss: 0.5202507376670837, Accuracy: 0.8046875\n"
     ]
    },
    {
     "name": "stderr",
     "output_type": "stream",
     "text": [
      "e:\\OneDrive - Hanoi University of Science and Technology\\Code project\\ML\\NLP\\uvipen_HAN\\src\\word_att_model.py:37: UserWarning: Implicit dimension choice for softmax has been deprecated. Change the call to include dim=X as an argument.\n",
      "  output = F.softmax(output)\n",
      "e:\\OneDrive - Hanoi University of Science and Technology\\Code project\\ML\\NLP\\uvipen_HAN\\src\\sent_att_model.py:29: UserWarning: Implicit dimension choice for softmax has been deprecated. Change the call to include dim=X as an argument.\n",
      "  output = F.softmax(output)\n"
     ]
    },
    {
     "name": "stdout",
     "output_type": "stream",
     "text": [
      "Epoch: 1/100, Iteration: 120/937, Lr: 0.1, Loss: 0.411479651927948, Accuracy: 0.8515625\n"
     ]
    },
    {
     "name": "stderr",
     "output_type": "stream",
     "text": [
      "e:\\OneDrive - Hanoi University of Science and Technology\\Code project\\ML\\NLP\\uvipen_HAN\\src\\word_att_model.py:37: UserWarning: Implicit dimension choice for softmax has been deprecated. Change the call to include dim=X as an argument.\n",
      "  output = F.softmax(output)\n",
      "e:\\OneDrive - Hanoi University of Science and Technology\\Code project\\ML\\NLP\\uvipen_HAN\\src\\sent_att_model.py:29: UserWarning: Implicit dimension choice for softmax has been deprecated. Change the call to include dim=X as an argument.\n",
      "  output = F.softmax(output)\n"
     ]
    },
    {
     "name": "stdout",
     "output_type": "stream",
     "text": [
      "Epoch: 1/100, Iteration: 121/937, Lr: 0.1, Loss: 0.4408887028694153, Accuracy: 0.8359375\n"
     ]
    },
    {
     "name": "stderr",
     "output_type": "stream",
     "text": [
      "e:\\OneDrive - Hanoi University of Science and Technology\\Code project\\ML\\NLP\\uvipen_HAN\\src\\word_att_model.py:37: UserWarning: Implicit dimension choice for softmax has been deprecated. Change the call to include dim=X as an argument.\n",
      "  output = F.softmax(output)\n",
      "e:\\OneDrive - Hanoi University of Science and Technology\\Code project\\ML\\NLP\\uvipen_HAN\\src\\sent_att_model.py:29: UserWarning: Implicit dimension choice for softmax has been deprecated. Change the call to include dim=X as an argument.\n",
      "  output = F.softmax(output)\n"
     ]
    },
    {
     "name": "stdout",
     "output_type": "stream",
     "text": [
      "Epoch: 1/100, Iteration: 122/937, Lr: 0.1, Loss: 0.4358344078063965, Accuracy: 0.828125\n"
     ]
    },
    {
     "name": "stderr",
     "output_type": "stream",
     "text": [
      "e:\\OneDrive - Hanoi University of Science and Technology\\Code project\\ML\\NLP\\uvipen_HAN\\src\\word_att_model.py:37: UserWarning: Implicit dimension choice for softmax has been deprecated. Change the call to include dim=X as an argument.\n",
      "  output = F.softmax(output)\n",
      "e:\\OneDrive - Hanoi University of Science and Technology\\Code project\\ML\\NLP\\uvipen_HAN\\src\\sent_att_model.py:29: UserWarning: Implicit dimension choice for softmax has been deprecated. Change the call to include dim=X as an argument.\n",
      "  output = F.softmax(output)\n"
     ]
    },
    {
     "name": "stdout",
     "output_type": "stream",
     "text": [
      "Epoch: 1/100, Iteration: 123/937, Lr: 0.1, Loss: 0.43845394253730774, Accuracy: 0.859375\n"
     ]
    },
    {
     "name": "stderr",
     "output_type": "stream",
     "text": [
      "e:\\OneDrive - Hanoi University of Science and Technology\\Code project\\ML\\NLP\\uvipen_HAN\\src\\word_att_model.py:37: UserWarning: Implicit dimension choice for softmax has been deprecated. Change the call to include dim=X as an argument.\n",
      "  output = F.softmax(output)\n",
      "e:\\OneDrive - Hanoi University of Science and Technology\\Code project\\ML\\NLP\\uvipen_HAN\\src\\sent_att_model.py:29: UserWarning: Implicit dimension choice for softmax has been deprecated. Change the call to include dim=X as an argument.\n",
      "  output = F.softmax(output)\n"
     ]
    },
    {
     "name": "stdout",
     "output_type": "stream",
     "text": [
      "Epoch: 1/100, Iteration: 124/937, Lr: 0.1, Loss: 0.40710020065307617, Accuracy: 0.8671875\n"
     ]
    },
    {
     "name": "stderr",
     "output_type": "stream",
     "text": [
      "e:\\OneDrive - Hanoi University of Science and Technology\\Code project\\ML\\NLP\\uvipen_HAN\\src\\word_att_model.py:37: UserWarning: Implicit dimension choice for softmax has been deprecated. Change the call to include dim=X as an argument.\n",
      "  output = F.softmax(output)\n",
      "e:\\OneDrive - Hanoi University of Science and Technology\\Code project\\ML\\NLP\\uvipen_HAN\\src\\sent_att_model.py:29: UserWarning: Implicit dimension choice for softmax has been deprecated. Change the call to include dim=X as an argument.\n",
      "  output = F.softmax(output)\n"
     ]
    },
    {
     "name": "stdout",
     "output_type": "stream",
     "text": [
      "Epoch: 1/100, Iteration: 125/937, Lr: 0.1, Loss: 0.39671438932418823, Accuracy: 0.84375\n"
     ]
    },
    {
     "name": "stderr",
     "output_type": "stream",
     "text": [
      "e:\\OneDrive - Hanoi University of Science and Technology\\Code project\\ML\\NLP\\uvipen_HAN\\src\\word_att_model.py:37: UserWarning: Implicit dimension choice for softmax has been deprecated. Change the call to include dim=X as an argument.\n",
      "  output = F.softmax(output)\n",
      "e:\\OneDrive - Hanoi University of Science and Technology\\Code project\\ML\\NLP\\uvipen_HAN\\src\\sent_att_model.py:29: UserWarning: Implicit dimension choice for softmax has been deprecated. Change the call to include dim=X as an argument.\n",
      "  output = F.softmax(output)\n"
     ]
    },
    {
     "name": "stdout",
     "output_type": "stream",
     "text": [
      "Epoch: 1/100, Iteration: 126/937, Lr: 0.1, Loss: 0.44323137402534485, Accuracy: 0.84375\n"
     ]
    },
    {
     "name": "stderr",
     "output_type": "stream",
     "text": [
      "e:\\OneDrive - Hanoi University of Science and Technology\\Code project\\ML\\NLP\\uvipen_HAN\\src\\word_att_model.py:37: UserWarning: Implicit dimension choice for softmax has been deprecated. Change the call to include dim=X as an argument.\n",
      "  output = F.softmax(output)\n",
      "e:\\OneDrive - Hanoi University of Science and Technology\\Code project\\ML\\NLP\\uvipen_HAN\\src\\sent_att_model.py:29: UserWarning: Implicit dimension choice for softmax has been deprecated. Change the call to include dim=X as an argument.\n",
      "  output = F.softmax(output)\n"
     ]
    },
    {
     "name": "stdout",
     "output_type": "stream",
     "text": [
      "Epoch: 1/100, Iteration: 127/937, Lr: 0.1, Loss: 0.3013499975204468, Accuracy: 0.8828125\n"
     ]
    },
    {
     "name": "stderr",
     "output_type": "stream",
     "text": [
      "e:\\OneDrive - Hanoi University of Science and Technology\\Code project\\ML\\NLP\\uvipen_HAN\\src\\word_att_model.py:37: UserWarning: Implicit dimension choice for softmax has been deprecated. Change the call to include dim=X as an argument.\n",
      "  output = F.softmax(output)\n",
      "e:\\OneDrive - Hanoi University of Science and Technology\\Code project\\ML\\NLP\\uvipen_HAN\\src\\sent_att_model.py:29: UserWarning: Implicit dimension choice for softmax has been deprecated. Change the call to include dim=X as an argument.\n",
      "  output = F.softmax(output)\n"
     ]
    },
    {
     "name": "stdout",
     "output_type": "stream",
     "text": [
      "Epoch: 1/100, Iteration: 128/937, Lr: 0.1, Loss: 0.3319849371910095, Accuracy: 0.9140625\n"
     ]
    },
    {
     "name": "stderr",
     "output_type": "stream",
     "text": [
      "e:\\OneDrive - Hanoi University of Science and Technology\\Code project\\ML\\NLP\\uvipen_HAN\\src\\word_att_model.py:37: UserWarning: Implicit dimension choice for softmax has been deprecated. Change the call to include dim=X as an argument.\n",
      "  output = F.softmax(output)\n",
      "e:\\OneDrive - Hanoi University of Science and Technology\\Code project\\ML\\NLP\\uvipen_HAN\\src\\sent_att_model.py:29: UserWarning: Implicit dimension choice for softmax has been deprecated. Change the call to include dim=X as an argument.\n",
      "  output = F.softmax(output)\n"
     ]
    },
    {
     "name": "stdout",
     "output_type": "stream",
     "text": [
      "Epoch: 1/100, Iteration: 129/937, Lr: 0.1, Loss: 0.4385010302066803, Accuracy: 0.8671875\n"
     ]
    },
    {
     "name": "stderr",
     "output_type": "stream",
     "text": [
      "e:\\OneDrive - Hanoi University of Science and Technology\\Code project\\ML\\NLP\\uvipen_HAN\\src\\word_att_model.py:37: UserWarning: Implicit dimension choice for softmax has been deprecated. Change the call to include dim=X as an argument.\n",
      "  output = F.softmax(output)\n",
      "e:\\OneDrive - Hanoi University of Science and Technology\\Code project\\ML\\NLP\\uvipen_HAN\\src\\sent_att_model.py:29: UserWarning: Implicit dimension choice for softmax has been deprecated. Change the call to include dim=X as an argument.\n",
      "  output = F.softmax(output)\n"
     ]
    },
    {
     "name": "stdout",
     "output_type": "stream",
     "text": [
      "Epoch: 1/100, Iteration: 130/937, Lr: 0.1, Loss: 0.4394165873527527, Accuracy: 0.875\n"
     ]
    },
    {
     "name": "stderr",
     "output_type": "stream",
     "text": [
      "e:\\OneDrive - Hanoi University of Science and Technology\\Code project\\ML\\NLP\\uvipen_HAN\\src\\word_att_model.py:37: UserWarning: Implicit dimension choice for softmax has been deprecated. Change the call to include dim=X as an argument.\n",
      "  output = F.softmax(output)\n",
      "e:\\OneDrive - Hanoi University of Science and Technology\\Code project\\ML\\NLP\\uvipen_HAN\\src\\sent_att_model.py:29: UserWarning: Implicit dimension choice for softmax has been deprecated. Change the call to include dim=X as an argument.\n",
      "  output = F.softmax(output)\n"
     ]
    },
    {
     "name": "stdout",
     "output_type": "stream",
     "text": [
      "Epoch: 1/100, Iteration: 131/937, Lr: 0.1, Loss: 0.3778868317604065, Accuracy: 0.859375\n"
     ]
    },
    {
     "name": "stderr",
     "output_type": "stream",
     "text": [
      "e:\\OneDrive - Hanoi University of Science and Technology\\Code project\\ML\\NLP\\uvipen_HAN\\src\\word_att_model.py:37: UserWarning: Implicit dimension choice for softmax has been deprecated. Change the call to include dim=X as an argument.\n",
      "  output = F.softmax(output)\n",
      "e:\\OneDrive - Hanoi University of Science and Technology\\Code project\\ML\\NLP\\uvipen_HAN\\src\\sent_att_model.py:29: UserWarning: Implicit dimension choice for softmax has been deprecated. Change the call to include dim=X as an argument.\n",
      "  output = F.softmax(output)\n"
     ]
    },
    {
     "name": "stdout",
     "output_type": "stream",
     "text": [
      "Epoch: 1/100, Iteration: 132/937, Lr: 0.1, Loss: 0.333967924118042, Accuracy: 0.8671875\n"
     ]
    },
    {
     "name": "stderr",
     "output_type": "stream",
     "text": [
      "e:\\OneDrive - Hanoi University of Science and Technology\\Code project\\ML\\NLP\\uvipen_HAN\\src\\word_att_model.py:37: UserWarning: Implicit dimension choice for softmax has been deprecated. Change the call to include dim=X as an argument.\n",
      "  output = F.softmax(output)\n",
      "e:\\OneDrive - Hanoi University of Science and Technology\\Code project\\ML\\NLP\\uvipen_HAN\\src\\sent_att_model.py:29: UserWarning: Implicit dimension choice for softmax has been deprecated. Change the call to include dim=X as an argument.\n",
      "  output = F.softmax(output)\n"
     ]
    },
    {
     "name": "stdout",
     "output_type": "stream",
     "text": [
      "Epoch: 1/100, Iteration: 133/937, Lr: 0.1, Loss: 0.512761652469635, Accuracy: 0.84375\n"
     ]
    },
    {
     "name": "stderr",
     "output_type": "stream",
     "text": [
      "e:\\OneDrive - Hanoi University of Science and Technology\\Code project\\ML\\NLP\\uvipen_HAN\\src\\word_att_model.py:37: UserWarning: Implicit dimension choice for softmax has been deprecated. Change the call to include dim=X as an argument.\n",
      "  output = F.softmax(output)\n",
      "e:\\OneDrive - Hanoi University of Science and Technology\\Code project\\ML\\NLP\\uvipen_HAN\\src\\sent_att_model.py:29: UserWarning: Implicit dimension choice for softmax has been deprecated. Change the call to include dim=X as an argument.\n",
      "  output = F.softmax(output)\n"
     ]
    },
    {
     "name": "stdout",
     "output_type": "stream",
     "text": [
      "Epoch: 1/100, Iteration: 134/937, Lr: 0.1, Loss: 0.35936829447746277, Accuracy: 0.84375\n"
     ]
    },
    {
     "name": "stderr",
     "output_type": "stream",
     "text": [
      "e:\\OneDrive - Hanoi University of Science and Technology\\Code project\\ML\\NLP\\uvipen_HAN\\src\\word_att_model.py:37: UserWarning: Implicit dimension choice for softmax has been deprecated. Change the call to include dim=X as an argument.\n",
      "  output = F.softmax(output)\n",
      "e:\\OneDrive - Hanoi University of Science and Technology\\Code project\\ML\\NLP\\uvipen_HAN\\src\\sent_att_model.py:29: UserWarning: Implicit dimension choice for softmax has been deprecated. Change the call to include dim=X as an argument.\n",
      "  output = F.softmax(output)\n"
     ]
    },
    {
     "name": "stdout",
     "output_type": "stream",
     "text": [
      "Epoch: 1/100, Iteration: 135/937, Lr: 0.1, Loss: 0.3550388514995575, Accuracy: 0.84375\n"
     ]
    },
    {
     "name": "stderr",
     "output_type": "stream",
     "text": [
      "e:\\OneDrive - Hanoi University of Science and Technology\\Code project\\ML\\NLP\\uvipen_HAN\\src\\word_att_model.py:37: UserWarning: Implicit dimension choice for softmax has been deprecated. Change the call to include dim=X as an argument.\n",
      "  output = F.softmax(output)\n",
      "e:\\OneDrive - Hanoi University of Science and Technology\\Code project\\ML\\NLP\\uvipen_HAN\\src\\sent_att_model.py:29: UserWarning: Implicit dimension choice for softmax has been deprecated. Change the call to include dim=X as an argument.\n",
      "  output = F.softmax(output)\n"
     ]
    },
    {
     "name": "stdout",
     "output_type": "stream",
     "text": [
      "Epoch: 1/100, Iteration: 136/937, Lr: 0.1, Loss: 0.3862740695476532, Accuracy: 0.8828125\n"
     ]
    },
    {
     "name": "stderr",
     "output_type": "stream",
     "text": [
      "e:\\OneDrive - Hanoi University of Science and Technology\\Code project\\ML\\NLP\\uvipen_HAN\\src\\word_att_model.py:37: UserWarning: Implicit dimension choice for softmax has been deprecated. Change the call to include dim=X as an argument.\n",
      "  output = F.softmax(output)\n",
      "e:\\OneDrive - Hanoi University of Science and Technology\\Code project\\ML\\NLP\\uvipen_HAN\\src\\sent_att_model.py:29: UserWarning: Implicit dimension choice for softmax has been deprecated. Change the call to include dim=X as an argument.\n",
      "  output = F.softmax(output)\n"
     ]
    },
    {
     "name": "stdout",
     "output_type": "stream",
     "text": [
      "Epoch: 1/100, Iteration: 137/937, Lr: 0.1, Loss: 0.30652981996536255, Accuracy: 0.8828125\n"
     ]
    },
    {
     "name": "stderr",
     "output_type": "stream",
     "text": [
      "e:\\OneDrive - Hanoi University of Science and Technology\\Code project\\ML\\NLP\\uvipen_HAN\\src\\word_att_model.py:37: UserWarning: Implicit dimension choice for softmax has been deprecated. Change the call to include dim=X as an argument.\n",
      "  output = F.softmax(output)\n",
      "e:\\OneDrive - Hanoi University of Science and Technology\\Code project\\ML\\NLP\\uvipen_HAN\\src\\sent_att_model.py:29: UserWarning: Implicit dimension choice for softmax has been deprecated. Change the call to include dim=X as an argument.\n",
      "  output = F.softmax(output)\n"
     ]
    },
    {
     "name": "stdout",
     "output_type": "stream",
     "text": [
      "Epoch: 1/100, Iteration: 138/937, Lr: 0.1, Loss: 0.28564196825027466, Accuracy: 0.9140625\n"
     ]
    },
    {
     "name": "stderr",
     "output_type": "stream",
     "text": [
      "e:\\OneDrive - Hanoi University of Science and Technology\\Code project\\ML\\NLP\\uvipen_HAN\\src\\word_att_model.py:37: UserWarning: Implicit dimension choice for softmax has been deprecated. Change the call to include dim=X as an argument.\n",
      "  output = F.softmax(output)\n",
      "e:\\OneDrive - Hanoi University of Science and Technology\\Code project\\ML\\NLP\\uvipen_HAN\\src\\sent_att_model.py:29: UserWarning: Implicit dimension choice for softmax has been deprecated. Change the call to include dim=X as an argument.\n",
      "  output = F.softmax(output)\n"
     ]
    },
    {
     "name": "stdout",
     "output_type": "stream",
     "text": [
      "Epoch: 1/100, Iteration: 139/937, Lr: 0.1, Loss: 0.29198703169822693, Accuracy: 0.921875\n"
     ]
    },
    {
     "name": "stderr",
     "output_type": "stream",
     "text": [
      "e:\\OneDrive - Hanoi University of Science and Technology\\Code project\\ML\\NLP\\uvipen_HAN\\src\\word_att_model.py:37: UserWarning: Implicit dimension choice for softmax has been deprecated. Change the call to include dim=X as an argument.\n",
      "  output = F.softmax(output)\n",
      "e:\\OneDrive - Hanoi University of Science and Technology\\Code project\\ML\\NLP\\uvipen_HAN\\src\\sent_att_model.py:29: UserWarning: Implicit dimension choice for softmax has been deprecated. Change the call to include dim=X as an argument.\n",
      "  output = F.softmax(output)\n"
     ]
    },
    {
     "name": "stdout",
     "output_type": "stream",
     "text": [
      "Epoch: 1/100, Iteration: 140/937, Lr: 0.1, Loss: 0.2368912249803543, Accuracy: 0.953125\n"
     ]
    },
    {
     "name": "stderr",
     "output_type": "stream",
     "text": [
      "e:\\OneDrive - Hanoi University of Science and Technology\\Code project\\ML\\NLP\\uvipen_HAN\\src\\word_att_model.py:37: UserWarning: Implicit dimension choice for softmax has been deprecated. Change the call to include dim=X as an argument.\n",
      "  output = F.softmax(output)\n",
      "e:\\OneDrive - Hanoi University of Science and Technology\\Code project\\ML\\NLP\\uvipen_HAN\\src\\sent_att_model.py:29: UserWarning: Implicit dimension choice for softmax has been deprecated. Change the call to include dim=X as an argument.\n",
      "  output = F.softmax(output)\n"
     ]
    },
    {
     "name": "stdout",
     "output_type": "stream",
     "text": [
      "Epoch: 1/100, Iteration: 141/937, Lr: 0.1, Loss: 0.3016057014465332, Accuracy: 0.8828125\n"
     ]
    },
    {
     "name": "stderr",
     "output_type": "stream",
     "text": [
      "e:\\OneDrive - Hanoi University of Science and Technology\\Code project\\ML\\NLP\\uvipen_HAN\\src\\word_att_model.py:37: UserWarning: Implicit dimension choice for softmax has been deprecated. Change the call to include dim=X as an argument.\n",
      "  output = F.softmax(output)\n",
      "e:\\OneDrive - Hanoi University of Science and Technology\\Code project\\ML\\NLP\\uvipen_HAN\\src\\sent_att_model.py:29: UserWarning: Implicit dimension choice for softmax has been deprecated. Change the call to include dim=X as an argument.\n",
      "  output = F.softmax(output)\n"
     ]
    },
    {
     "name": "stdout",
     "output_type": "stream",
     "text": [
      "Epoch: 1/100, Iteration: 142/937, Lr: 0.1, Loss: 0.39587900042533875, Accuracy: 0.8671875\n"
     ]
    },
    {
     "name": "stderr",
     "output_type": "stream",
     "text": [
      "e:\\OneDrive - Hanoi University of Science and Technology\\Code project\\ML\\NLP\\uvipen_HAN\\src\\word_att_model.py:37: UserWarning: Implicit dimension choice for softmax has been deprecated. Change the call to include dim=X as an argument.\n",
      "  output = F.softmax(output)\n",
      "e:\\OneDrive - Hanoi University of Science and Technology\\Code project\\ML\\NLP\\uvipen_HAN\\src\\sent_att_model.py:29: UserWarning: Implicit dimension choice for softmax has been deprecated. Change the call to include dim=X as an argument.\n",
      "  output = F.softmax(output)\n"
     ]
    },
    {
     "name": "stdout",
     "output_type": "stream",
     "text": [
      "Epoch: 1/100, Iteration: 143/937, Lr: 0.1, Loss: 0.346332848072052, Accuracy: 0.8671875\n"
     ]
    },
    {
     "name": "stderr",
     "output_type": "stream",
     "text": [
      "e:\\OneDrive - Hanoi University of Science and Technology\\Code project\\ML\\NLP\\uvipen_HAN\\src\\word_att_model.py:37: UserWarning: Implicit dimension choice for softmax has been deprecated. Change the call to include dim=X as an argument.\n",
      "  output = F.softmax(output)\n",
      "e:\\OneDrive - Hanoi University of Science and Technology\\Code project\\ML\\NLP\\uvipen_HAN\\src\\sent_att_model.py:29: UserWarning: Implicit dimension choice for softmax has been deprecated. Change the call to include dim=X as an argument.\n",
      "  output = F.softmax(output)\n"
     ]
    },
    {
     "name": "stdout",
     "output_type": "stream",
     "text": [
      "Epoch: 1/100, Iteration: 144/937, Lr: 0.1, Loss: 0.3892916440963745, Accuracy: 0.875\n"
     ]
    },
    {
     "name": "stderr",
     "output_type": "stream",
     "text": [
      "e:\\OneDrive - Hanoi University of Science and Technology\\Code project\\ML\\NLP\\uvipen_HAN\\src\\word_att_model.py:37: UserWarning: Implicit dimension choice for softmax has been deprecated. Change the call to include dim=X as an argument.\n",
      "  output = F.softmax(output)\n",
      "e:\\OneDrive - Hanoi University of Science and Technology\\Code project\\ML\\NLP\\uvipen_HAN\\src\\sent_att_model.py:29: UserWarning: Implicit dimension choice for softmax has been deprecated. Change the call to include dim=X as an argument.\n",
      "  output = F.softmax(output)\n"
     ]
    },
    {
     "name": "stdout",
     "output_type": "stream",
     "text": [
      "Epoch: 1/100, Iteration: 145/937, Lr: 0.1, Loss: 0.4161570072174072, Accuracy: 0.8515625\n"
     ]
    },
    {
     "name": "stderr",
     "output_type": "stream",
     "text": [
      "e:\\OneDrive - Hanoi University of Science and Technology\\Code project\\ML\\NLP\\uvipen_HAN\\src\\word_att_model.py:37: UserWarning: Implicit dimension choice for softmax has been deprecated. Change the call to include dim=X as an argument.\n",
      "  output = F.softmax(output)\n",
      "e:\\OneDrive - Hanoi University of Science and Technology\\Code project\\ML\\NLP\\uvipen_HAN\\src\\sent_att_model.py:29: UserWarning: Implicit dimension choice for softmax has been deprecated. Change the call to include dim=X as an argument.\n",
      "  output = F.softmax(output)\n"
     ]
    },
    {
     "name": "stdout",
     "output_type": "stream",
     "text": [
      "Epoch: 1/100, Iteration: 146/937, Lr: 0.1, Loss: 0.3656873106956482, Accuracy: 0.8828125\n"
     ]
    },
    {
     "name": "stderr",
     "output_type": "stream",
     "text": [
      "e:\\OneDrive - Hanoi University of Science and Technology\\Code project\\ML\\NLP\\uvipen_HAN\\src\\word_att_model.py:37: UserWarning: Implicit dimension choice for softmax has been deprecated. Change the call to include dim=X as an argument.\n",
      "  output = F.softmax(output)\n",
      "e:\\OneDrive - Hanoi University of Science and Technology\\Code project\\ML\\NLP\\uvipen_HAN\\src\\sent_att_model.py:29: UserWarning: Implicit dimension choice for softmax has been deprecated. Change the call to include dim=X as an argument.\n",
      "  output = F.softmax(output)\n"
     ]
    },
    {
     "name": "stdout",
     "output_type": "stream",
     "text": [
      "Epoch: 1/100, Iteration: 147/937, Lr: 0.1, Loss: 0.42138054966926575, Accuracy: 0.8671875\n"
     ]
    },
    {
     "name": "stderr",
     "output_type": "stream",
     "text": [
      "e:\\OneDrive - Hanoi University of Science and Technology\\Code project\\ML\\NLP\\uvipen_HAN\\src\\word_att_model.py:37: UserWarning: Implicit dimension choice for softmax has been deprecated. Change the call to include dim=X as an argument.\n",
      "  output = F.softmax(output)\n",
      "e:\\OneDrive - Hanoi University of Science and Technology\\Code project\\ML\\NLP\\uvipen_HAN\\src\\sent_att_model.py:29: UserWarning: Implicit dimension choice for softmax has been deprecated. Change the call to include dim=X as an argument.\n",
      "  output = F.softmax(output)\n"
     ]
    },
    {
     "name": "stdout",
     "output_type": "stream",
     "text": [
      "Epoch: 1/100, Iteration: 148/937, Lr: 0.1, Loss: 0.4024156332015991, Accuracy: 0.859375\n"
     ]
    },
    {
     "name": "stderr",
     "output_type": "stream",
     "text": [
      "e:\\OneDrive - Hanoi University of Science and Technology\\Code project\\ML\\NLP\\uvipen_HAN\\src\\word_att_model.py:37: UserWarning: Implicit dimension choice for softmax has been deprecated. Change the call to include dim=X as an argument.\n",
      "  output = F.softmax(output)\n",
      "e:\\OneDrive - Hanoi University of Science and Technology\\Code project\\ML\\NLP\\uvipen_HAN\\src\\sent_att_model.py:29: UserWarning: Implicit dimension choice for softmax has been deprecated. Change the call to include dim=X as an argument.\n",
      "  output = F.softmax(output)\n"
     ]
    },
    {
     "name": "stdout",
     "output_type": "stream",
     "text": [
      "Epoch: 1/100, Iteration: 149/937, Lr: 0.1, Loss: 0.3320055603981018, Accuracy: 0.8984375\n"
     ]
    },
    {
     "name": "stderr",
     "output_type": "stream",
     "text": [
      "e:\\OneDrive - Hanoi University of Science and Technology\\Code project\\ML\\NLP\\uvipen_HAN\\src\\word_att_model.py:37: UserWarning: Implicit dimension choice for softmax has been deprecated. Change the call to include dim=X as an argument.\n",
      "  output = F.softmax(output)\n",
      "e:\\OneDrive - Hanoi University of Science and Technology\\Code project\\ML\\NLP\\uvipen_HAN\\src\\sent_att_model.py:29: UserWarning: Implicit dimension choice for softmax has been deprecated. Change the call to include dim=X as an argument.\n",
      "  output = F.softmax(output)\n"
     ]
    },
    {
     "name": "stdout",
     "output_type": "stream",
     "text": [
      "Epoch: 1/100, Iteration: 150/937, Lr: 0.1, Loss: 0.26491329073905945, Accuracy: 0.921875\n"
     ]
    },
    {
     "name": "stderr",
     "output_type": "stream",
     "text": [
      "e:\\OneDrive - Hanoi University of Science and Technology\\Code project\\ML\\NLP\\uvipen_HAN\\src\\word_att_model.py:37: UserWarning: Implicit dimension choice for softmax has been deprecated. Change the call to include dim=X as an argument.\n",
      "  output = F.softmax(output)\n",
      "e:\\OneDrive - Hanoi University of Science and Technology\\Code project\\ML\\NLP\\uvipen_HAN\\src\\sent_att_model.py:29: UserWarning: Implicit dimension choice for softmax has been deprecated. Change the call to include dim=X as an argument.\n",
      "  output = F.softmax(output)\n"
     ]
    },
    {
     "name": "stdout",
     "output_type": "stream",
     "text": [
      "Epoch: 1/100, Iteration: 151/937, Lr: 0.1, Loss: 0.301843523979187, Accuracy: 0.890625\n"
     ]
    },
    {
     "name": "stderr",
     "output_type": "stream",
     "text": [
      "e:\\OneDrive - Hanoi University of Science and Technology\\Code project\\ML\\NLP\\uvipen_HAN\\src\\word_att_model.py:37: UserWarning: Implicit dimension choice for softmax has been deprecated. Change the call to include dim=X as an argument.\n",
      "  output = F.softmax(output)\n",
      "e:\\OneDrive - Hanoi University of Science and Technology\\Code project\\ML\\NLP\\uvipen_HAN\\src\\sent_att_model.py:29: UserWarning: Implicit dimension choice for softmax has been deprecated. Change the call to include dim=X as an argument.\n",
      "  output = F.softmax(output)\n"
     ]
    },
    {
     "name": "stdout",
     "output_type": "stream",
     "text": [
      "Epoch: 1/100, Iteration: 152/937, Lr: 0.1, Loss: 0.5402848720550537, Accuracy: 0.84375\n"
     ]
    },
    {
     "name": "stderr",
     "output_type": "stream",
     "text": [
      "e:\\OneDrive - Hanoi University of Science and Technology\\Code project\\ML\\NLP\\uvipen_HAN\\src\\word_att_model.py:37: UserWarning: Implicit dimension choice for softmax has been deprecated. Change the call to include dim=X as an argument.\n",
      "  output = F.softmax(output)\n",
      "e:\\OneDrive - Hanoi University of Science and Technology\\Code project\\ML\\NLP\\uvipen_HAN\\src\\sent_att_model.py:29: UserWarning: Implicit dimension choice for softmax has been deprecated. Change the call to include dim=X as an argument.\n",
      "  output = F.softmax(output)\n"
     ]
    },
    {
     "name": "stdout",
     "output_type": "stream",
     "text": [
      "Epoch: 1/100, Iteration: 153/937, Lr: 0.1, Loss: 0.3087514340877533, Accuracy: 0.9375\n"
     ]
    },
    {
     "name": "stderr",
     "output_type": "stream",
     "text": [
      "e:\\OneDrive - Hanoi University of Science and Technology\\Code project\\ML\\NLP\\uvipen_HAN\\src\\word_att_model.py:37: UserWarning: Implicit dimension choice for softmax has been deprecated. Change the call to include dim=X as an argument.\n",
      "  output = F.softmax(output)\n",
      "e:\\OneDrive - Hanoi University of Science and Technology\\Code project\\ML\\NLP\\uvipen_HAN\\src\\sent_att_model.py:29: UserWarning: Implicit dimension choice for softmax has been deprecated. Change the call to include dim=X as an argument.\n",
      "  output = F.softmax(output)\n"
     ]
    },
    {
     "name": "stdout",
     "output_type": "stream",
     "text": [
      "Epoch: 1/100, Iteration: 154/937, Lr: 0.1, Loss: 0.3816728889942169, Accuracy: 0.859375\n"
     ]
    },
    {
     "name": "stderr",
     "output_type": "stream",
     "text": [
      "e:\\OneDrive - Hanoi University of Science and Technology\\Code project\\ML\\NLP\\uvipen_HAN\\src\\word_att_model.py:37: UserWarning: Implicit dimension choice for softmax has been deprecated. Change the call to include dim=X as an argument.\n",
      "  output = F.softmax(output)\n",
      "e:\\OneDrive - Hanoi University of Science and Technology\\Code project\\ML\\NLP\\uvipen_HAN\\src\\sent_att_model.py:29: UserWarning: Implicit dimension choice for softmax has been deprecated. Change the call to include dim=X as an argument.\n",
      "  output = F.softmax(output)\n"
     ]
    },
    {
     "name": "stdout",
     "output_type": "stream",
     "text": [
      "Epoch: 1/100, Iteration: 155/937, Lr: 0.1, Loss: 0.18521638214588165, Accuracy: 0.953125\n"
     ]
    },
    {
     "name": "stderr",
     "output_type": "stream",
     "text": [
      "e:\\OneDrive - Hanoi University of Science and Technology\\Code project\\ML\\NLP\\uvipen_HAN\\src\\word_att_model.py:37: UserWarning: Implicit dimension choice for softmax has been deprecated. Change the call to include dim=X as an argument.\n",
      "  output = F.softmax(output)\n",
      "e:\\OneDrive - Hanoi University of Science and Technology\\Code project\\ML\\NLP\\uvipen_HAN\\src\\sent_att_model.py:29: UserWarning: Implicit dimension choice for softmax has been deprecated. Change the call to include dim=X as an argument.\n",
      "  output = F.softmax(output)\n"
     ]
    },
    {
     "name": "stdout",
     "output_type": "stream",
     "text": [
      "Epoch: 1/100, Iteration: 156/937, Lr: 0.1, Loss: 0.3175404667854309, Accuracy: 0.875\n"
     ]
    },
    {
     "name": "stderr",
     "output_type": "stream",
     "text": [
      "e:\\OneDrive - Hanoi University of Science and Technology\\Code project\\ML\\NLP\\uvipen_HAN\\src\\word_att_model.py:37: UserWarning: Implicit dimension choice for softmax has been deprecated. Change the call to include dim=X as an argument.\n",
      "  output = F.softmax(output)\n",
      "e:\\OneDrive - Hanoi University of Science and Technology\\Code project\\ML\\NLP\\uvipen_HAN\\src\\sent_att_model.py:29: UserWarning: Implicit dimension choice for softmax has been deprecated. Change the call to include dim=X as an argument.\n",
      "  output = F.softmax(output)\n"
     ]
    },
    {
     "name": "stdout",
     "output_type": "stream",
     "text": [
      "Epoch: 1/100, Iteration: 157/937, Lr: 0.1, Loss: 0.398220419883728, Accuracy: 0.84375\n"
     ]
    },
    {
     "name": "stderr",
     "output_type": "stream",
     "text": [
      "e:\\OneDrive - Hanoi University of Science and Technology\\Code project\\ML\\NLP\\uvipen_HAN\\src\\word_att_model.py:37: UserWarning: Implicit dimension choice for softmax has been deprecated. Change the call to include dim=X as an argument.\n",
      "  output = F.softmax(output)\n",
      "e:\\OneDrive - Hanoi University of Science and Technology\\Code project\\ML\\NLP\\uvipen_HAN\\src\\sent_att_model.py:29: UserWarning: Implicit dimension choice for softmax has been deprecated. Change the call to include dim=X as an argument.\n",
      "  output = F.softmax(output)\n"
     ]
    },
    {
     "name": "stdout",
     "output_type": "stream",
     "text": [
      "Epoch: 1/100, Iteration: 158/937, Lr: 0.1, Loss: 0.30640068650245667, Accuracy: 0.8984375\n"
     ]
    },
    {
     "name": "stderr",
     "output_type": "stream",
     "text": [
      "e:\\OneDrive - Hanoi University of Science and Technology\\Code project\\ML\\NLP\\uvipen_HAN\\src\\word_att_model.py:37: UserWarning: Implicit dimension choice for softmax has been deprecated. Change the call to include dim=X as an argument.\n",
      "  output = F.softmax(output)\n",
      "e:\\OneDrive - Hanoi University of Science and Technology\\Code project\\ML\\NLP\\uvipen_HAN\\src\\sent_att_model.py:29: UserWarning: Implicit dimension choice for softmax has been deprecated. Change the call to include dim=X as an argument.\n",
      "  output = F.softmax(output)\n"
     ]
    },
    {
     "name": "stdout",
     "output_type": "stream",
     "text": [
      "Epoch: 1/100, Iteration: 159/937, Lr: 0.1, Loss: 0.335216224193573, Accuracy: 0.875\n"
     ]
    },
    {
     "name": "stderr",
     "output_type": "stream",
     "text": [
      "e:\\OneDrive - Hanoi University of Science and Technology\\Code project\\ML\\NLP\\uvipen_HAN\\src\\word_att_model.py:37: UserWarning: Implicit dimension choice for softmax has been deprecated. Change the call to include dim=X as an argument.\n",
      "  output = F.softmax(output)\n",
      "e:\\OneDrive - Hanoi University of Science and Technology\\Code project\\ML\\NLP\\uvipen_HAN\\src\\sent_att_model.py:29: UserWarning: Implicit dimension choice for softmax has been deprecated. Change the call to include dim=X as an argument.\n",
      "  output = F.softmax(output)\n"
     ]
    },
    {
     "name": "stdout",
     "output_type": "stream",
     "text": [
      "Epoch: 1/100, Iteration: 160/937, Lr: 0.1, Loss: 0.5347647666931152, Accuracy: 0.8203125\n"
     ]
    },
    {
     "name": "stderr",
     "output_type": "stream",
     "text": [
      "e:\\OneDrive - Hanoi University of Science and Technology\\Code project\\ML\\NLP\\uvipen_HAN\\src\\word_att_model.py:37: UserWarning: Implicit dimension choice for softmax has been deprecated. Change the call to include dim=X as an argument.\n",
      "  output = F.softmax(output)\n",
      "e:\\OneDrive - Hanoi University of Science and Technology\\Code project\\ML\\NLP\\uvipen_HAN\\src\\sent_att_model.py:29: UserWarning: Implicit dimension choice for softmax has been deprecated. Change the call to include dim=X as an argument.\n",
      "  output = F.softmax(output)\n"
     ]
    },
    {
     "name": "stdout",
     "output_type": "stream",
     "text": [
      "Epoch: 1/100, Iteration: 161/937, Lr: 0.1, Loss: 0.274938702583313, Accuracy: 0.9296875\n"
     ]
    },
    {
     "name": "stderr",
     "output_type": "stream",
     "text": [
      "e:\\OneDrive - Hanoi University of Science and Technology\\Code project\\ML\\NLP\\uvipen_HAN\\src\\word_att_model.py:37: UserWarning: Implicit dimension choice for softmax has been deprecated. Change the call to include dim=X as an argument.\n",
      "  output = F.softmax(output)\n",
      "e:\\OneDrive - Hanoi University of Science and Technology\\Code project\\ML\\NLP\\uvipen_HAN\\src\\sent_att_model.py:29: UserWarning: Implicit dimension choice for softmax has been deprecated. Change the call to include dim=X as an argument.\n",
      "  output = F.softmax(output)\n"
     ]
    },
    {
     "name": "stdout",
     "output_type": "stream",
     "text": [
      "Epoch: 1/100, Iteration: 162/937, Lr: 0.1, Loss: 0.4475223422050476, Accuracy: 0.8515625\n"
     ]
    },
    {
     "name": "stderr",
     "output_type": "stream",
     "text": [
      "e:\\OneDrive - Hanoi University of Science and Technology\\Code project\\ML\\NLP\\uvipen_HAN\\src\\word_att_model.py:37: UserWarning: Implicit dimension choice for softmax has been deprecated. Change the call to include dim=X as an argument.\n",
      "  output = F.softmax(output)\n",
      "e:\\OneDrive - Hanoi University of Science and Technology\\Code project\\ML\\NLP\\uvipen_HAN\\src\\sent_att_model.py:29: UserWarning: Implicit dimension choice for softmax has been deprecated. Change the call to include dim=X as an argument.\n",
      "  output = F.softmax(output)\n"
     ]
    },
    {
     "name": "stdout",
     "output_type": "stream",
     "text": [
      "Epoch: 1/100, Iteration: 163/937, Lr: 0.1, Loss: 0.2166261374950409, Accuracy: 0.9296875\n"
     ]
    },
    {
     "name": "stderr",
     "output_type": "stream",
     "text": [
      "e:\\OneDrive - Hanoi University of Science and Technology\\Code project\\ML\\NLP\\uvipen_HAN\\src\\word_att_model.py:37: UserWarning: Implicit dimension choice for softmax has been deprecated. Change the call to include dim=X as an argument.\n",
      "  output = F.softmax(output)\n",
      "e:\\OneDrive - Hanoi University of Science and Technology\\Code project\\ML\\NLP\\uvipen_HAN\\src\\sent_att_model.py:29: UserWarning: Implicit dimension choice for softmax has been deprecated. Change the call to include dim=X as an argument.\n",
      "  output = F.softmax(output)\n"
     ]
    },
    {
     "name": "stdout",
     "output_type": "stream",
     "text": [
      "Epoch: 1/100, Iteration: 164/937, Lr: 0.1, Loss: 0.39623332023620605, Accuracy: 0.84375\n"
     ]
    },
    {
     "name": "stderr",
     "output_type": "stream",
     "text": [
      "e:\\OneDrive - Hanoi University of Science and Technology\\Code project\\ML\\NLP\\uvipen_HAN\\src\\word_att_model.py:37: UserWarning: Implicit dimension choice for softmax has been deprecated. Change the call to include dim=X as an argument.\n",
      "  output = F.softmax(output)\n",
      "e:\\OneDrive - Hanoi University of Science and Technology\\Code project\\ML\\NLP\\uvipen_HAN\\src\\sent_att_model.py:29: UserWarning: Implicit dimension choice for softmax has been deprecated. Change the call to include dim=X as an argument.\n",
      "  output = F.softmax(output)\n"
     ]
    },
    {
     "name": "stdout",
     "output_type": "stream",
     "text": [
      "Epoch: 1/100, Iteration: 165/937, Lr: 0.1, Loss: 0.38679420948028564, Accuracy: 0.8671875\n"
     ]
    },
    {
     "name": "stderr",
     "output_type": "stream",
     "text": [
      "e:\\OneDrive - Hanoi University of Science and Technology\\Code project\\ML\\NLP\\uvipen_HAN\\src\\word_att_model.py:37: UserWarning: Implicit dimension choice for softmax has been deprecated. Change the call to include dim=X as an argument.\n",
      "  output = F.softmax(output)\n",
      "e:\\OneDrive - Hanoi University of Science and Technology\\Code project\\ML\\NLP\\uvipen_HAN\\src\\sent_att_model.py:29: UserWarning: Implicit dimension choice for softmax has been deprecated. Change the call to include dim=X as an argument.\n",
      "  output = F.softmax(output)\n"
     ]
    },
    {
     "name": "stdout",
     "output_type": "stream",
     "text": [
      "Epoch: 1/100, Iteration: 166/937, Lr: 0.1, Loss: 0.24769602715969086, Accuracy: 0.953125\n"
     ]
    },
    {
     "name": "stderr",
     "output_type": "stream",
     "text": [
      "e:\\OneDrive - Hanoi University of Science and Technology\\Code project\\ML\\NLP\\uvipen_HAN\\src\\word_att_model.py:37: UserWarning: Implicit dimension choice for softmax has been deprecated. Change the call to include dim=X as an argument.\n",
      "  output = F.softmax(output)\n",
      "e:\\OneDrive - Hanoi University of Science and Technology\\Code project\\ML\\NLP\\uvipen_HAN\\src\\sent_att_model.py:29: UserWarning: Implicit dimension choice for softmax has been deprecated. Change the call to include dim=X as an argument.\n",
      "  output = F.softmax(output)\n"
     ]
    },
    {
     "name": "stdout",
     "output_type": "stream",
     "text": [
      "Epoch: 1/100, Iteration: 167/937, Lr: 0.1, Loss: 0.35122889280319214, Accuracy: 0.875\n"
     ]
    },
    {
     "name": "stderr",
     "output_type": "stream",
     "text": [
      "e:\\OneDrive - Hanoi University of Science and Technology\\Code project\\ML\\NLP\\uvipen_HAN\\src\\word_att_model.py:37: UserWarning: Implicit dimension choice for softmax has been deprecated. Change the call to include dim=X as an argument.\n",
      "  output = F.softmax(output)\n",
      "e:\\OneDrive - Hanoi University of Science and Technology\\Code project\\ML\\NLP\\uvipen_HAN\\src\\sent_att_model.py:29: UserWarning: Implicit dimension choice for softmax has been deprecated. Change the call to include dim=X as an argument.\n",
      "  output = F.softmax(output)\n"
     ]
    },
    {
     "name": "stdout",
     "output_type": "stream",
     "text": [
      "Epoch: 1/100, Iteration: 168/937, Lr: 0.1, Loss: 0.3518426716327667, Accuracy: 0.875\n"
     ]
    },
    {
     "name": "stderr",
     "output_type": "stream",
     "text": [
      "e:\\OneDrive - Hanoi University of Science and Technology\\Code project\\ML\\NLP\\uvipen_HAN\\src\\word_att_model.py:37: UserWarning: Implicit dimension choice for softmax has been deprecated. Change the call to include dim=X as an argument.\n",
      "  output = F.softmax(output)\n",
      "e:\\OneDrive - Hanoi University of Science and Technology\\Code project\\ML\\NLP\\uvipen_HAN\\src\\sent_att_model.py:29: UserWarning: Implicit dimension choice for softmax has been deprecated. Change the call to include dim=X as an argument.\n",
      "  output = F.softmax(output)\n"
     ]
    },
    {
     "name": "stdout",
     "output_type": "stream",
     "text": [
      "Epoch: 1/100, Iteration: 169/937, Lr: 0.1, Loss: 0.3983909785747528, Accuracy: 0.875\n"
     ]
    },
    {
     "name": "stderr",
     "output_type": "stream",
     "text": [
      "e:\\OneDrive - Hanoi University of Science and Technology\\Code project\\ML\\NLP\\uvipen_HAN\\src\\word_att_model.py:37: UserWarning: Implicit dimension choice for softmax has been deprecated. Change the call to include dim=X as an argument.\n",
      "  output = F.softmax(output)\n",
      "e:\\OneDrive - Hanoi University of Science and Technology\\Code project\\ML\\NLP\\uvipen_HAN\\src\\sent_att_model.py:29: UserWarning: Implicit dimension choice for softmax has been deprecated. Change the call to include dim=X as an argument.\n",
      "  output = F.softmax(output)\n"
     ]
    },
    {
     "name": "stdout",
     "output_type": "stream",
     "text": [
      "Epoch: 1/100, Iteration: 170/937, Lr: 0.1, Loss: 0.3480648100376129, Accuracy: 0.875\n"
     ]
    },
    {
     "name": "stderr",
     "output_type": "stream",
     "text": [
      "e:\\OneDrive - Hanoi University of Science and Technology\\Code project\\ML\\NLP\\uvipen_HAN\\src\\word_att_model.py:37: UserWarning: Implicit dimension choice for softmax has been deprecated. Change the call to include dim=X as an argument.\n",
      "  output = F.softmax(output)\n",
      "e:\\OneDrive - Hanoi University of Science and Technology\\Code project\\ML\\NLP\\uvipen_HAN\\src\\sent_att_model.py:29: UserWarning: Implicit dimension choice for softmax has been deprecated. Change the call to include dim=X as an argument.\n",
      "  output = F.softmax(output)\n"
     ]
    },
    {
     "name": "stdout",
     "output_type": "stream",
     "text": [
      "Epoch: 1/100, Iteration: 171/937, Lr: 0.1, Loss: 0.30575093626976013, Accuracy: 0.8984375\n"
     ]
    },
    {
     "name": "stderr",
     "output_type": "stream",
     "text": [
      "e:\\OneDrive - Hanoi University of Science and Technology\\Code project\\ML\\NLP\\uvipen_HAN\\src\\word_att_model.py:37: UserWarning: Implicit dimension choice for softmax has been deprecated. Change the call to include dim=X as an argument.\n",
      "  output = F.softmax(output)\n",
      "e:\\OneDrive - Hanoi University of Science and Technology\\Code project\\ML\\NLP\\uvipen_HAN\\src\\sent_att_model.py:29: UserWarning: Implicit dimension choice for softmax has been deprecated. Change the call to include dim=X as an argument.\n",
      "  output = F.softmax(output)\n"
     ]
    },
    {
     "name": "stdout",
     "output_type": "stream",
     "text": [
      "Epoch: 1/100, Iteration: 172/937, Lr: 0.1, Loss: 0.42771095037460327, Accuracy: 0.8203125\n"
     ]
    },
    {
     "name": "stderr",
     "output_type": "stream",
     "text": [
      "e:\\OneDrive - Hanoi University of Science and Technology\\Code project\\ML\\NLP\\uvipen_HAN\\src\\word_att_model.py:37: UserWarning: Implicit dimension choice for softmax has been deprecated. Change the call to include dim=X as an argument.\n",
      "  output = F.softmax(output)\n",
      "e:\\OneDrive - Hanoi University of Science and Technology\\Code project\\ML\\NLP\\uvipen_HAN\\src\\sent_att_model.py:29: UserWarning: Implicit dimension choice for softmax has been deprecated. Change the call to include dim=X as an argument.\n",
      "  output = F.softmax(output)\n"
     ]
    },
    {
     "name": "stdout",
     "output_type": "stream",
     "text": [
      "Epoch: 1/100, Iteration: 173/937, Lr: 0.1, Loss: 0.3318805694580078, Accuracy: 0.8671875\n"
     ]
    },
    {
     "name": "stderr",
     "output_type": "stream",
     "text": [
      "e:\\OneDrive - Hanoi University of Science and Technology\\Code project\\ML\\NLP\\uvipen_HAN\\src\\word_att_model.py:37: UserWarning: Implicit dimension choice for softmax has been deprecated. Change the call to include dim=X as an argument.\n",
      "  output = F.softmax(output)\n",
      "e:\\OneDrive - Hanoi University of Science and Technology\\Code project\\ML\\NLP\\uvipen_HAN\\src\\sent_att_model.py:29: UserWarning: Implicit dimension choice for softmax has been deprecated. Change the call to include dim=X as an argument.\n",
      "  output = F.softmax(output)\n"
     ]
    },
    {
     "name": "stdout",
     "output_type": "stream",
     "text": [
      "Epoch: 1/100, Iteration: 174/937, Lr: 0.1, Loss: 0.45502859354019165, Accuracy: 0.84375\n"
     ]
    },
    {
     "name": "stderr",
     "output_type": "stream",
     "text": [
      "e:\\OneDrive - Hanoi University of Science and Technology\\Code project\\ML\\NLP\\uvipen_HAN\\src\\word_att_model.py:37: UserWarning: Implicit dimension choice for softmax has been deprecated. Change the call to include dim=X as an argument.\n",
      "  output = F.softmax(output)\n",
      "e:\\OneDrive - Hanoi University of Science and Technology\\Code project\\ML\\NLP\\uvipen_HAN\\src\\sent_att_model.py:29: UserWarning: Implicit dimension choice for softmax has been deprecated. Change the call to include dim=X as an argument.\n",
      "  output = F.softmax(output)\n"
     ]
    },
    {
     "name": "stdout",
     "output_type": "stream",
     "text": [
      "Epoch: 1/100, Iteration: 175/937, Lr: 0.1, Loss: 0.3710803985595703, Accuracy: 0.875\n"
     ]
    },
    {
     "name": "stderr",
     "output_type": "stream",
     "text": [
      "e:\\OneDrive - Hanoi University of Science and Technology\\Code project\\ML\\NLP\\uvipen_HAN\\src\\word_att_model.py:37: UserWarning: Implicit dimension choice for softmax has been deprecated. Change the call to include dim=X as an argument.\n",
      "  output = F.softmax(output)\n",
      "e:\\OneDrive - Hanoi University of Science and Technology\\Code project\\ML\\NLP\\uvipen_HAN\\src\\sent_att_model.py:29: UserWarning: Implicit dimension choice for softmax has been deprecated. Change the call to include dim=X as an argument.\n",
      "  output = F.softmax(output)\n"
     ]
    },
    {
     "name": "stdout",
     "output_type": "stream",
     "text": [
      "Epoch: 1/100, Iteration: 176/937, Lr: 0.1, Loss: 0.4355189800262451, Accuracy: 0.8359375\n"
     ]
    },
    {
     "name": "stderr",
     "output_type": "stream",
     "text": [
      "e:\\OneDrive - Hanoi University of Science and Technology\\Code project\\ML\\NLP\\uvipen_HAN\\src\\word_att_model.py:37: UserWarning: Implicit dimension choice for softmax has been deprecated. Change the call to include dim=X as an argument.\n",
      "  output = F.softmax(output)\n",
      "e:\\OneDrive - Hanoi University of Science and Technology\\Code project\\ML\\NLP\\uvipen_HAN\\src\\sent_att_model.py:29: UserWarning: Implicit dimension choice for softmax has been deprecated. Change the call to include dim=X as an argument.\n",
      "  output = F.softmax(output)\n"
     ]
    },
    {
     "name": "stdout",
     "output_type": "stream",
     "text": [
      "Epoch: 1/100, Iteration: 177/937, Lr: 0.1, Loss: 0.3265248239040375, Accuracy: 0.890625\n"
     ]
    },
    {
     "name": "stderr",
     "output_type": "stream",
     "text": [
      "e:\\OneDrive - Hanoi University of Science and Technology\\Code project\\ML\\NLP\\uvipen_HAN\\src\\word_att_model.py:37: UserWarning: Implicit dimension choice for softmax has been deprecated. Change the call to include dim=X as an argument.\n",
      "  output = F.softmax(output)\n",
      "e:\\OneDrive - Hanoi University of Science and Technology\\Code project\\ML\\NLP\\uvipen_HAN\\src\\sent_att_model.py:29: UserWarning: Implicit dimension choice for softmax has been deprecated. Change the call to include dim=X as an argument.\n",
      "  output = F.softmax(output)\n"
     ]
    },
    {
     "name": "stdout",
     "output_type": "stream",
     "text": [
      "Epoch: 1/100, Iteration: 178/937, Lr: 0.1, Loss: 0.30189430713653564, Accuracy: 0.9140625\n"
     ]
    },
    {
     "name": "stderr",
     "output_type": "stream",
     "text": [
      "e:\\OneDrive - Hanoi University of Science and Technology\\Code project\\ML\\NLP\\uvipen_HAN\\src\\word_att_model.py:37: UserWarning: Implicit dimension choice for softmax has been deprecated. Change the call to include dim=X as an argument.\n",
      "  output = F.softmax(output)\n",
      "e:\\OneDrive - Hanoi University of Science and Technology\\Code project\\ML\\NLP\\uvipen_HAN\\src\\sent_att_model.py:29: UserWarning: Implicit dimension choice for softmax has been deprecated. Change the call to include dim=X as an argument.\n",
      "  output = F.softmax(output)\n"
     ]
    },
    {
     "name": "stdout",
     "output_type": "stream",
     "text": [
      "Epoch: 1/100, Iteration: 179/937, Lr: 0.1, Loss: 0.31869998574256897, Accuracy: 0.9140625\n"
     ]
    },
    {
     "name": "stderr",
     "output_type": "stream",
     "text": [
      "e:\\OneDrive - Hanoi University of Science and Technology\\Code project\\ML\\NLP\\uvipen_HAN\\src\\word_att_model.py:37: UserWarning: Implicit dimension choice for softmax has been deprecated. Change the call to include dim=X as an argument.\n",
      "  output = F.softmax(output)\n",
      "e:\\OneDrive - Hanoi University of Science and Technology\\Code project\\ML\\NLP\\uvipen_HAN\\src\\sent_att_model.py:29: UserWarning: Implicit dimension choice for softmax has been deprecated. Change the call to include dim=X as an argument.\n",
      "  output = F.softmax(output)\n"
     ]
    },
    {
     "name": "stdout",
     "output_type": "stream",
     "text": [
      "Epoch: 1/100, Iteration: 180/937, Lr: 0.1, Loss: 0.5056775212287903, Accuracy: 0.8359375\n"
     ]
    },
    {
     "name": "stderr",
     "output_type": "stream",
     "text": [
      "e:\\OneDrive - Hanoi University of Science and Technology\\Code project\\ML\\NLP\\uvipen_HAN\\src\\word_att_model.py:37: UserWarning: Implicit dimension choice for softmax has been deprecated. Change the call to include dim=X as an argument.\n",
      "  output = F.softmax(output)\n",
      "e:\\OneDrive - Hanoi University of Science and Technology\\Code project\\ML\\NLP\\uvipen_HAN\\src\\sent_att_model.py:29: UserWarning: Implicit dimension choice for softmax has been deprecated. Change the call to include dim=X as an argument.\n",
      "  output = F.softmax(output)\n"
     ]
    },
    {
     "name": "stdout",
     "output_type": "stream",
     "text": [
      "Epoch: 1/100, Iteration: 181/937, Lr: 0.1, Loss: 0.34909436106681824, Accuracy: 0.8828125\n"
     ]
    },
    {
     "name": "stderr",
     "output_type": "stream",
     "text": [
      "e:\\OneDrive - Hanoi University of Science and Technology\\Code project\\ML\\NLP\\uvipen_HAN\\src\\word_att_model.py:37: UserWarning: Implicit dimension choice for softmax has been deprecated. Change the call to include dim=X as an argument.\n",
      "  output = F.softmax(output)\n",
      "e:\\OneDrive - Hanoi University of Science and Technology\\Code project\\ML\\NLP\\uvipen_HAN\\src\\sent_att_model.py:29: UserWarning: Implicit dimension choice for softmax has been deprecated. Change the call to include dim=X as an argument.\n",
      "  output = F.softmax(output)\n"
     ]
    },
    {
     "name": "stdout",
     "output_type": "stream",
     "text": [
      "Epoch: 1/100, Iteration: 182/937, Lr: 0.1, Loss: 0.2863442301750183, Accuracy: 0.8984375\n"
     ]
    },
    {
     "name": "stderr",
     "output_type": "stream",
     "text": [
      "e:\\OneDrive - Hanoi University of Science and Technology\\Code project\\ML\\NLP\\uvipen_HAN\\src\\word_att_model.py:37: UserWarning: Implicit dimension choice for softmax has been deprecated. Change the call to include dim=X as an argument.\n",
      "  output = F.softmax(output)\n",
      "e:\\OneDrive - Hanoi University of Science and Technology\\Code project\\ML\\NLP\\uvipen_HAN\\src\\sent_att_model.py:29: UserWarning: Implicit dimension choice for softmax has been deprecated. Change the call to include dim=X as an argument.\n",
      "  output = F.softmax(output)\n"
     ]
    },
    {
     "name": "stdout",
     "output_type": "stream",
     "text": [
      "Epoch: 1/100, Iteration: 183/937, Lr: 0.1, Loss: 0.3079582154750824, Accuracy: 0.9140625\n"
     ]
    },
    {
     "name": "stderr",
     "output_type": "stream",
     "text": [
      "e:\\OneDrive - Hanoi University of Science and Technology\\Code project\\ML\\NLP\\uvipen_HAN\\src\\word_att_model.py:37: UserWarning: Implicit dimension choice for softmax has been deprecated. Change the call to include dim=X as an argument.\n",
      "  output = F.softmax(output)\n",
      "e:\\OneDrive - Hanoi University of Science and Technology\\Code project\\ML\\NLP\\uvipen_HAN\\src\\sent_att_model.py:29: UserWarning: Implicit dimension choice for softmax has been deprecated. Change the call to include dim=X as an argument.\n",
      "  output = F.softmax(output)\n"
     ]
    },
    {
     "name": "stdout",
     "output_type": "stream",
     "text": [
      "Epoch: 1/100, Iteration: 184/937, Lr: 0.1, Loss: 0.4958973526954651, Accuracy: 0.8203125\n"
     ]
    },
    {
     "name": "stderr",
     "output_type": "stream",
     "text": [
      "e:\\OneDrive - Hanoi University of Science and Technology\\Code project\\ML\\NLP\\uvipen_HAN\\src\\word_att_model.py:37: UserWarning: Implicit dimension choice for softmax has been deprecated. Change the call to include dim=X as an argument.\n",
      "  output = F.softmax(output)\n",
      "e:\\OneDrive - Hanoi University of Science and Technology\\Code project\\ML\\NLP\\uvipen_HAN\\src\\sent_att_model.py:29: UserWarning: Implicit dimension choice for softmax has been deprecated. Change the call to include dim=X as an argument.\n",
      "  output = F.softmax(output)\n"
     ]
    },
    {
     "name": "stdout",
     "output_type": "stream",
     "text": [
      "Epoch: 1/100, Iteration: 185/937, Lr: 0.1, Loss: 0.2869966924190521, Accuracy: 0.90625\n"
     ]
    },
    {
     "name": "stderr",
     "output_type": "stream",
     "text": [
      "e:\\OneDrive - Hanoi University of Science and Technology\\Code project\\ML\\NLP\\uvipen_HAN\\src\\word_att_model.py:37: UserWarning: Implicit dimension choice for softmax has been deprecated. Change the call to include dim=X as an argument.\n",
      "  output = F.softmax(output)\n",
      "e:\\OneDrive - Hanoi University of Science and Technology\\Code project\\ML\\NLP\\uvipen_HAN\\src\\sent_att_model.py:29: UserWarning: Implicit dimension choice for softmax has been deprecated. Change the call to include dim=X as an argument.\n",
      "  output = F.softmax(output)\n"
     ]
    },
    {
     "name": "stdout",
     "output_type": "stream",
     "text": [
      "Epoch: 1/100, Iteration: 186/937, Lr: 0.1, Loss: 0.40254077315330505, Accuracy: 0.859375\n"
     ]
    },
    {
     "name": "stderr",
     "output_type": "stream",
     "text": [
      "e:\\OneDrive - Hanoi University of Science and Technology\\Code project\\ML\\NLP\\uvipen_HAN\\src\\word_att_model.py:37: UserWarning: Implicit dimension choice for softmax has been deprecated. Change the call to include dim=X as an argument.\n",
      "  output = F.softmax(output)\n",
      "e:\\OneDrive - Hanoi University of Science and Technology\\Code project\\ML\\NLP\\uvipen_HAN\\src\\sent_att_model.py:29: UserWarning: Implicit dimension choice for softmax has been deprecated. Change the call to include dim=X as an argument.\n",
      "  output = F.softmax(output)\n"
     ]
    },
    {
     "name": "stdout",
     "output_type": "stream",
     "text": [
      "Epoch: 1/100, Iteration: 187/937, Lr: 0.1, Loss: 0.42199233174324036, Accuracy: 0.8828125\n"
     ]
    },
    {
     "name": "stderr",
     "output_type": "stream",
     "text": [
      "e:\\OneDrive - Hanoi University of Science and Technology\\Code project\\ML\\NLP\\uvipen_HAN\\src\\word_att_model.py:37: UserWarning: Implicit dimension choice for softmax has been deprecated. Change the call to include dim=X as an argument.\n",
      "  output = F.softmax(output)\n",
      "e:\\OneDrive - Hanoi University of Science and Technology\\Code project\\ML\\NLP\\uvipen_HAN\\src\\sent_att_model.py:29: UserWarning: Implicit dimension choice for softmax has been deprecated. Change the call to include dim=X as an argument.\n",
      "  output = F.softmax(output)\n"
     ]
    },
    {
     "name": "stdout",
     "output_type": "stream",
     "text": [
      "Epoch: 1/100, Iteration: 188/937, Lr: 0.1, Loss: 0.3012944161891937, Accuracy: 0.8984375\n"
     ]
    },
    {
     "name": "stderr",
     "output_type": "stream",
     "text": [
      "e:\\OneDrive - Hanoi University of Science and Technology\\Code project\\ML\\NLP\\uvipen_HAN\\src\\word_att_model.py:37: UserWarning: Implicit dimension choice for softmax has been deprecated. Change the call to include dim=X as an argument.\n",
      "  output = F.softmax(output)\n",
      "e:\\OneDrive - Hanoi University of Science and Technology\\Code project\\ML\\NLP\\uvipen_HAN\\src\\sent_att_model.py:29: UserWarning: Implicit dimension choice for softmax has been deprecated. Change the call to include dim=X as an argument.\n",
      "  output = F.softmax(output)\n"
     ]
    },
    {
     "name": "stdout",
     "output_type": "stream",
     "text": [
      "Epoch: 1/100, Iteration: 189/937, Lr: 0.1, Loss: 0.4176872968673706, Accuracy: 0.84375\n"
     ]
    },
    {
     "name": "stderr",
     "output_type": "stream",
     "text": [
      "e:\\OneDrive - Hanoi University of Science and Technology\\Code project\\ML\\NLP\\uvipen_HAN\\src\\word_att_model.py:37: UserWarning: Implicit dimension choice for softmax has been deprecated. Change the call to include dim=X as an argument.\n",
      "  output = F.softmax(output)\n",
      "e:\\OneDrive - Hanoi University of Science and Technology\\Code project\\ML\\NLP\\uvipen_HAN\\src\\sent_att_model.py:29: UserWarning: Implicit dimension choice for softmax has been deprecated. Change the call to include dim=X as an argument.\n",
      "  output = F.softmax(output)\n"
     ]
    },
    {
     "name": "stdout",
     "output_type": "stream",
     "text": [
      "Epoch: 1/100, Iteration: 190/937, Lr: 0.1, Loss: 0.27617570757865906, Accuracy: 0.90625\n"
     ]
    },
    {
     "name": "stderr",
     "output_type": "stream",
     "text": [
      "e:\\OneDrive - Hanoi University of Science and Technology\\Code project\\ML\\NLP\\uvipen_HAN\\src\\word_att_model.py:37: UserWarning: Implicit dimension choice for softmax has been deprecated. Change the call to include dim=X as an argument.\n",
      "  output = F.softmax(output)\n",
      "e:\\OneDrive - Hanoi University of Science and Technology\\Code project\\ML\\NLP\\uvipen_HAN\\src\\sent_att_model.py:29: UserWarning: Implicit dimension choice for softmax has been deprecated. Change the call to include dim=X as an argument.\n",
      "  output = F.softmax(output)\n"
     ]
    },
    {
     "name": "stdout",
     "output_type": "stream",
     "text": [
      "Epoch: 1/100, Iteration: 191/937, Lr: 0.1, Loss: 0.32636332511901855, Accuracy: 0.875\n"
     ]
    },
    {
     "name": "stderr",
     "output_type": "stream",
     "text": [
      "e:\\OneDrive - Hanoi University of Science and Technology\\Code project\\ML\\NLP\\uvipen_HAN\\src\\word_att_model.py:37: UserWarning: Implicit dimension choice for softmax has been deprecated. Change the call to include dim=X as an argument.\n",
      "  output = F.softmax(output)\n",
      "e:\\OneDrive - Hanoi University of Science and Technology\\Code project\\ML\\NLP\\uvipen_HAN\\src\\sent_att_model.py:29: UserWarning: Implicit dimension choice for softmax has been deprecated. Change the call to include dim=X as an argument.\n",
      "  output = F.softmax(output)\n"
     ]
    },
    {
     "name": "stdout",
     "output_type": "stream",
     "text": [
      "Epoch: 1/100, Iteration: 192/937, Lr: 0.1, Loss: 0.40168091654777527, Accuracy: 0.8828125\n"
     ]
    },
    {
     "name": "stderr",
     "output_type": "stream",
     "text": [
      "e:\\OneDrive - Hanoi University of Science and Technology\\Code project\\ML\\NLP\\uvipen_HAN\\src\\word_att_model.py:37: UserWarning: Implicit dimension choice for softmax has been deprecated. Change the call to include dim=X as an argument.\n",
      "  output = F.softmax(output)\n",
      "e:\\OneDrive - Hanoi University of Science and Technology\\Code project\\ML\\NLP\\uvipen_HAN\\src\\sent_att_model.py:29: UserWarning: Implicit dimension choice for softmax has been deprecated. Change the call to include dim=X as an argument.\n",
      "  output = F.softmax(output)\n"
     ]
    },
    {
     "name": "stdout",
     "output_type": "stream",
     "text": [
      "Epoch: 1/100, Iteration: 193/937, Lr: 0.1, Loss: 0.3200850486755371, Accuracy: 0.8984375\n"
     ]
    },
    {
     "name": "stderr",
     "output_type": "stream",
     "text": [
      "e:\\OneDrive - Hanoi University of Science and Technology\\Code project\\ML\\NLP\\uvipen_HAN\\src\\word_att_model.py:37: UserWarning: Implicit dimension choice for softmax has been deprecated. Change the call to include dim=X as an argument.\n",
      "  output = F.softmax(output)\n",
      "e:\\OneDrive - Hanoi University of Science and Technology\\Code project\\ML\\NLP\\uvipen_HAN\\src\\sent_att_model.py:29: UserWarning: Implicit dimension choice for softmax has been deprecated. Change the call to include dim=X as an argument.\n",
      "  output = F.softmax(output)\n"
     ]
    },
    {
     "name": "stdout",
     "output_type": "stream",
     "text": [
      "Epoch: 1/100, Iteration: 194/937, Lr: 0.1, Loss: 0.3571319878101349, Accuracy: 0.8828125\n"
     ]
    },
    {
     "name": "stderr",
     "output_type": "stream",
     "text": [
      "e:\\OneDrive - Hanoi University of Science and Technology\\Code project\\ML\\NLP\\uvipen_HAN\\src\\word_att_model.py:37: UserWarning: Implicit dimension choice for softmax has been deprecated. Change the call to include dim=X as an argument.\n",
      "  output = F.softmax(output)\n",
      "e:\\OneDrive - Hanoi University of Science and Technology\\Code project\\ML\\NLP\\uvipen_HAN\\src\\sent_att_model.py:29: UserWarning: Implicit dimension choice for softmax has been deprecated. Change the call to include dim=X as an argument.\n",
      "  output = F.softmax(output)\n"
     ]
    },
    {
     "name": "stdout",
     "output_type": "stream",
     "text": [
      "Epoch: 1/100, Iteration: 195/937, Lr: 0.1, Loss: 0.32961344718933105, Accuracy: 0.8671875\n"
     ]
    },
    {
     "name": "stderr",
     "output_type": "stream",
     "text": [
      "e:\\OneDrive - Hanoi University of Science and Technology\\Code project\\ML\\NLP\\uvipen_HAN\\src\\word_att_model.py:37: UserWarning: Implicit dimension choice for softmax has been deprecated. Change the call to include dim=X as an argument.\n",
      "  output = F.softmax(output)\n",
      "e:\\OneDrive - Hanoi University of Science and Technology\\Code project\\ML\\NLP\\uvipen_HAN\\src\\sent_att_model.py:29: UserWarning: Implicit dimension choice for softmax has been deprecated. Change the call to include dim=X as an argument.\n",
      "  output = F.softmax(output)\n"
     ]
    },
    {
     "name": "stdout",
     "output_type": "stream",
     "text": [
      "Epoch: 1/100, Iteration: 196/937, Lr: 0.1, Loss: 0.3505326211452484, Accuracy: 0.8359375\n"
     ]
    },
    {
     "name": "stderr",
     "output_type": "stream",
     "text": [
      "e:\\OneDrive - Hanoi University of Science and Technology\\Code project\\ML\\NLP\\uvipen_HAN\\src\\word_att_model.py:37: UserWarning: Implicit dimension choice for softmax has been deprecated. Change the call to include dim=X as an argument.\n",
      "  output = F.softmax(output)\n",
      "e:\\OneDrive - Hanoi University of Science and Technology\\Code project\\ML\\NLP\\uvipen_HAN\\src\\sent_att_model.py:29: UserWarning: Implicit dimension choice for softmax has been deprecated. Change the call to include dim=X as an argument.\n",
      "  output = F.softmax(output)\n"
     ]
    },
    {
     "name": "stdout",
     "output_type": "stream",
     "text": [
      "Epoch: 1/100, Iteration: 197/937, Lr: 0.1, Loss: 0.31511539220809937, Accuracy: 0.8828125\n"
     ]
    },
    {
     "name": "stderr",
     "output_type": "stream",
     "text": [
      "e:\\OneDrive - Hanoi University of Science and Technology\\Code project\\ML\\NLP\\uvipen_HAN\\src\\word_att_model.py:37: UserWarning: Implicit dimension choice for softmax has been deprecated. Change the call to include dim=X as an argument.\n",
      "  output = F.softmax(output)\n",
      "e:\\OneDrive - Hanoi University of Science and Technology\\Code project\\ML\\NLP\\uvipen_HAN\\src\\sent_att_model.py:29: UserWarning: Implicit dimension choice for softmax has been deprecated. Change the call to include dim=X as an argument.\n",
      "  output = F.softmax(output)\n"
     ]
    },
    {
     "name": "stdout",
     "output_type": "stream",
     "text": [
      "Epoch: 1/100, Iteration: 198/937, Lr: 0.1, Loss: 0.36738502979278564, Accuracy: 0.875\n"
     ]
    },
    {
     "name": "stderr",
     "output_type": "stream",
     "text": [
      "e:\\OneDrive - Hanoi University of Science and Technology\\Code project\\ML\\NLP\\uvipen_HAN\\src\\word_att_model.py:37: UserWarning: Implicit dimension choice for softmax has been deprecated. Change the call to include dim=X as an argument.\n",
      "  output = F.softmax(output)\n",
      "e:\\OneDrive - Hanoi University of Science and Technology\\Code project\\ML\\NLP\\uvipen_HAN\\src\\sent_att_model.py:29: UserWarning: Implicit dimension choice for softmax has been deprecated. Change the call to include dim=X as an argument.\n",
      "  output = F.softmax(output)\n"
     ]
    },
    {
     "name": "stdout",
     "output_type": "stream",
     "text": [
      "Epoch: 1/100, Iteration: 199/937, Lr: 0.1, Loss: 0.3105734884738922, Accuracy: 0.90625\n"
     ]
    },
    {
     "name": "stderr",
     "output_type": "stream",
     "text": [
      "e:\\OneDrive - Hanoi University of Science and Technology\\Code project\\ML\\NLP\\uvipen_HAN\\src\\word_att_model.py:37: UserWarning: Implicit dimension choice for softmax has been deprecated. Change the call to include dim=X as an argument.\n",
      "  output = F.softmax(output)\n",
      "e:\\OneDrive - Hanoi University of Science and Technology\\Code project\\ML\\NLP\\uvipen_HAN\\src\\sent_att_model.py:29: UserWarning: Implicit dimension choice for softmax has been deprecated. Change the call to include dim=X as an argument.\n",
      "  output = F.softmax(output)\n"
     ]
    },
    {
     "name": "stdout",
     "output_type": "stream",
     "text": [
      "Epoch: 1/100, Iteration: 200/937, Lr: 0.1, Loss: 0.31431102752685547, Accuracy: 0.875\n"
     ]
    },
    {
     "name": "stderr",
     "output_type": "stream",
     "text": [
      "e:\\OneDrive - Hanoi University of Science and Technology\\Code project\\ML\\NLP\\uvipen_HAN\\src\\word_att_model.py:37: UserWarning: Implicit dimension choice for softmax has been deprecated. Change the call to include dim=X as an argument.\n",
      "  output = F.softmax(output)\n",
      "e:\\OneDrive - Hanoi University of Science and Technology\\Code project\\ML\\NLP\\uvipen_HAN\\src\\sent_att_model.py:29: UserWarning: Implicit dimension choice for softmax has been deprecated. Change the call to include dim=X as an argument.\n",
      "  output = F.softmax(output)\n"
     ]
    },
    {
     "name": "stdout",
     "output_type": "stream",
     "text": [
      "Epoch: 1/100, Iteration: 201/937, Lr: 0.1, Loss: 0.4066894054412842, Accuracy: 0.84375\n"
     ]
    },
    {
     "name": "stderr",
     "output_type": "stream",
     "text": [
      "e:\\OneDrive - Hanoi University of Science and Technology\\Code project\\ML\\NLP\\uvipen_HAN\\src\\word_att_model.py:37: UserWarning: Implicit dimension choice for softmax has been deprecated. Change the call to include dim=X as an argument.\n",
      "  output = F.softmax(output)\n",
      "e:\\OneDrive - Hanoi University of Science and Technology\\Code project\\ML\\NLP\\uvipen_HAN\\src\\sent_att_model.py:29: UserWarning: Implicit dimension choice for softmax has been deprecated. Change the call to include dim=X as an argument.\n",
      "  output = F.softmax(output)\n"
     ]
    },
    {
     "name": "stdout",
     "output_type": "stream",
     "text": [
      "Epoch: 1/100, Iteration: 202/937, Lr: 0.1, Loss: 0.4263197183609009, Accuracy: 0.8671875\n"
     ]
    },
    {
     "name": "stderr",
     "output_type": "stream",
     "text": [
      "e:\\OneDrive - Hanoi University of Science and Technology\\Code project\\ML\\NLP\\uvipen_HAN\\src\\word_att_model.py:37: UserWarning: Implicit dimension choice for softmax has been deprecated. Change the call to include dim=X as an argument.\n",
      "  output = F.softmax(output)\n",
      "e:\\OneDrive - Hanoi University of Science and Technology\\Code project\\ML\\NLP\\uvipen_HAN\\src\\sent_att_model.py:29: UserWarning: Implicit dimension choice for softmax has been deprecated. Change the call to include dim=X as an argument.\n",
      "  output = F.softmax(output)\n"
     ]
    },
    {
     "name": "stdout",
     "output_type": "stream",
     "text": [
      "Epoch: 1/100, Iteration: 203/937, Lr: 0.1, Loss: 0.3961789906024933, Accuracy: 0.84375\n"
     ]
    },
    {
     "name": "stderr",
     "output_type": "stream",
     "text": [
      "e:\\OneDrive - Hanoi University of Science and Technology\\Code project\\ML\\NLP\\uvipen_HAN\\src\\word_att_model.py:37: UserWarning: Implicit dimension choice for softmax has been deprecated. Change the call to include dim=X as an argument.\n",
      "  output = F.softmax(output)\n",
      "e:\\OneDrive - Hanoi University of Science and Technology\\Code project\\ML\\NLP\\uvipen_HAN\\src\\sent_att_model.py:29: UserWarning: Implicit dimension choice for softmax has been deprecated. Change the call to include dim=X as an argument.\n",
      "  output = F.softmax(output)\n"
     ]
    },
    {
     "name": "stdout",
     "output_type": "stream",
     "text": [
      "Epoch: 1/100, Iteration: 204/937, Lr: 0.1, Loss: 0.4713108241558075, Accuracy: 0.84375\n"
     ]
    },
    {
     "name": "stderr",
     "output_type": "stream",
     "text": [
      "e:\\OneDrive - Hanoi University of Science and Technology\\Code project\\ML\\NLP\\uvipen_HAN\\src\\word_att_model.py:37: UserWarning: Implicit dimension choice for softmax has been deprecated. Change the call to include dim=X as an argument.\n",
      "  output = F.softmax(output)\n",
      "e:\\OneDrive - Hanoi University of Science and Technology\\Code project\\ML\\NLP\\uvipen_HAN\\src\\sent_att_model.py:29: UserWarning: Implicit dimension choice for softmax has been deprecated. Change the call to include dim=X as an argument.\n",
      "  output = F.softmax(output)\n"
     ]
    },
    {
     "name": "stdout",
     "output_type": "stream",
     "text": [
      "Epoch: 1/100, Iteration: 205/937, Lr: 0.1, Loss: 0.3567248284816742, Accuracy: 0.890625\n"
     ]
    },
    {
     "name": "stderr",
     "output_type": "stream",
     "text": [
      "e:\\OneDrive - Hanoi University of Science and Technology\\Code project\\ML\\NLP\\uvipen_HAN\\src\\word_att_model.py:37: UserWarning: Implicit dimension choice for softmax has been deprecated. Change the call to include dim=X as an argument.\n",
      "  output = F.softmax(output)\n",
      "e:\\OneDrive - Hanoi University of Science and Technology\\Code project\\ML\\NLP\\uvipen_HAN\\src\\sent_att_model.py:29: UserWarning: Implicit dimension choice for softmax has been deprecated. Change the call to include dim=X as an argument.\n",
      "  output = F.softmax(output)\n"
     ]
    },
    {
     "name": "stdout",
     "output_type": "stream",
     "text": [
      "Epoch: 1/100, Iteration: 206/937, Lr: 0.1, Loss: 0.3278663158416748, Accuracy: 0.8671875\n"
     ]
    },
    {
     "name": "stderr",
     "output_type": "stream",
     "text": [
      "e:\\OneDrive - Hanoi University of Science and Technology\\Code project\\ML\\NLP\\uvipen_HAN\\src\\word_att_model.py:37: UserWarning: Implicit dimension choice for softmax has been deprecated. Change the call to include dim=X as an argument.\n",
      "  output = F.softmax(output)\n",
      "e:\\OneDrive - Hanoi University of Science and Technology\\Code project\\ML\\NLP\\uvipen_HAN\\src\\sent_att_model.py:29: UserWarning: Implicit dimension choice for softmax has been deprecated. Change the call to include dim=X as an argument.\n",
      "  output = F.softmax(output)\n"
     ]
    },
    {
     "name": "stdout",
     "output_type": "stream",
     "text": [
      "Epoch: 1/100, Iteration: 207/937, Lr: 0.1, Loss: 0.2575821876525879, Accuracy: 0.9140625\n"
     ]
    },
    {
     "name": "stderr",
     "output_type": "stream",
     "text": [
      "e:\\OneDrive - Hanoi University of Science and Technology\\Code project\\ML\\NLP\\uvipen_HAN\\src\\word_att_model.py:37: UserWarning: Implicit dimension choice for softmax has been deprecated. Change the call to include dim=X as an argument.\n",
      "  output = F.softmax(output)\n",
      "e:\\OneDrive - Hanoi University of Science and Technology\\Code project\\ML\\NLP\\uvipen_HAN\\src\\sent_att_model.py:29: UserWarning: Implicit dimension choice for softmax has been deprecated. Change the call to include dim=X as an argument.\n",
      "  output = F.softmax(output)\n"
     ]
    },
    {
     "name": "stdout",
     "output_type": "stream",
     "text": [
      "Epoch: 1/100, Iteration: 208/937, Lr: 0.1, Loss: 0.3190806210041046, Accuracy: 0.90625\n"
     ]
    },
    {
     "name": "stderr",
     "output_type": "stream",
     "text": [
      "e:\\OneDrive - Hanoi University of Science and Technology\\Code project\\ML\\NLP\\uvipen_HAN\\src\\word_att_model.py:37: UserWarning: Implicit dimension choice for softmax has been deprecated. Change the call to include dim=X as an argument.\n",
      "  output = F.softmax(output)\n",
      "e:\\OneDrive - Hanoi University of Science and Technology\\Code project\\ML\\NLP\\uvipen_HAN\\src\\sent_att_model.py:29: UserWarning: Implicit dimension choice for softmax has been deprecated. Change the call to include dim=X as an argument.\n",
      "  output = F.softmax(output)\n"
     ]
    },
    {
     "name": "stdout",
     "output_type": "stream",
     "text": [
      "Epoch: 1/100, Iteration: 209/937, Lr: 0.1, Loss: 0.3290828466415405, Accuracy: 0.890625\n"
     ]
    },
    {
     "name": "stderr",
     "output_type": "stream",
     "text": [
      "e:\\OneDrive - Hanoi University of Science and Technology\\Code project\\ML\\NLP\\uvipen_HAN\\src\\word_att_model.py:37: UserWarning: Implicit dimension choice for softmax has been deprecated. Change the call to include dim=X as an argument.\n",
      "  output = F.softmax(output)\n",
      "e:\\OneDrive - Hanoi University of Science and Technology\\Code project\\ML\\NLP\\uvipen_HAN\\src\\sent_att_model.py:29: UserWarning: Implicit dimension choice for softmax has been deprecated. Change the call to include dim=X as an argument.\n",
      "  output = F.softmax(output)\n"
     ]
    },
    {
     "name": "stdout",
     "output_type": "stream",
     "text": [
      "Epoch: 1/100, Iteration: 210/937, Lr: 0.1, Loss: 0.267929345369339, Accuracy: 0.921875\n"
     ]
    },
    {
     "name": "stderr",
     "output_type": "stream",
     "text": [
      "e:\\OneDrive - Hanoi University of Science and Technology\\Code project\\ML\\NLP\\uvipen_HAN\\src\\word_att_model.py:37: UserWarning: Implicit dimension choice for softmax has been deprecated. Change the call to include dim=X as an argument.\n",
      "  output = F.softmax(output)\n",
      "e:\\OneDrive - Hanoi University of Science and Technology\\Code project\\ML\\NLP\\uvipen_HAN\\src\\sent_att_model.py:29: UserWarning: Implicit dimension choice for softmax has been deprecated. Change the call to include dim=X as an argument.\n",
      "  output = F.softmax(output)\n"
     ]
    },
    {
     "name": "stdout",
     "output_type": "stream",
     "text": [
      "Epoch: 1/100, Iteration: 211/937, Lr: 0.1, Loss: 0.38132888078689575, Accuracy: 0.84375\n"
     ]
    },
    {
     "name": "stderr",
     "output_type": "stream",
     "text": [
      "e:\\OneDrive - Hanoi University of Science and Technology\\Code project\\ML\\NLP\\uvipen_HAN\\src\\word_att_model.py:37: UserWarning: Implicit dimension choice for softmax has been deprecated. Change the call to include dim=X as an argument.\n",
      "  output = F.softmax(output)\n",
      "e:\\OneDrive - Hanoi University of Science and Technology\\Code project\\ML\\NLP\\uvipen_HAN\\src\\sent_att_model.py:29: UserWarning: Implicit dimension choice for softmax has been deprecated. Change the call to include dim=X as an argument.\n",
      "  output = F.softmax(output)\n"
     ]
    },
    {
     "name": "stdout",
     "output_type": "stream",
     "text": [
      "Epoch: 1/100, Iteration: 212/937, Lr: 0.1, Loss: 0.3469657003879547, Accuracy: 0.875\n"
     ]
    },
    {
     "name": "stderr",
     "output_type": "stream",
     "text": [
      "e:\\OneDrive - Hanoi University of Science and Technology\\Code project\\ML\\NLP\\uvipen_HAN\\src\\word_att_model.py:37: UserWarning: Implicit dimension choice for softmax has been deprecated. Change the call to include dim=X as an argument.\n",
      "  output = F.softmax(output)\n",
      "e:\\OneDrive - Hanoi University of Science and Technology\\Code project\\ML\\NLP\\uvipen_HAN\\src\\sent_att_model.py:29: UserWarning: Implicit dimension choice for softmax has been deprecated. Change the call to include dim=X as an argument.\n",
      "  output = F.softmax(output)\n"
     ]
    },
    {
     "name": "stdout",
     "output_type": "stream",
     "text": [
      "Epoch: 1/100, Iteration: 213/937, Lr: 0.1, Loss: 0.2541992664337158, Accuracy: 0.9375\n"
     ]
    },
    {
     "name": "stderr",
     "output_type": "stream",
     "text": [
      "e:\\OneDrive - Hanoi University of Science and Technology\\Code project\\ML\\NLP\\uvipen_HAN\\src\\word_att_model.py:37: UserWarning: Implicit dimension choice for softmax has been deprecated. Change the call to include dim=X as an argument.\n",
      "  output = F.softmax(output)\n",
      "e:\\OneDrive - Hanoi University of Science and Technology\\Code project\\ML\\NLP\\uvipen_HAN\\src\\sent_att_model.py:29: UserWarning: Implicit dimension choice for softmax has been deprecated. Change the call to include dim=X as an argument.\n",
      "  output = F.softmax(output)\n"
     ]
    },
    {
     "name": "stdout",
     "output_type": "stream",
     "text": [
      "Epoch: 1/100, Iteration: 214/937, Lr: 0.1, Loss: 0.41421815752983093, Accuracy: 0.8515625\n"
     ]
    },
    {
     "name": "stderr",
     "output_type": "stream",
     "text": [
      "e:\\OneDrive - Hanoi University of Science and Technology\\Code project\\ML\\NLP\\uvipen_HAN\\src\\word_att_model.py:37: UserWarning: Implicit dimension choice for softmax has been deprecated. Change the call to include dim=X as an argument.\n",
      "  output = F.softmax(output)\n",
      "e:\\OneDrive - Hanoi University of Science and Technology\\Code project\\ML\\NLP\\uvipen_HAN\\src\\sent_att_model.py:29: UserWarning: Implicit dimension choice for softmax has been deprecated. Change the call to include dim=X as an argument.\n",
      "  output = F.softmax(output)\n"
     ]
    },
    {
     "name": "stdout",
     "output_type": "stream",
     "text": [
      "Epoch: 1/100, Iteration: 215/937, Lr: 0.1, Loss: 0.2342689037322998, Accuracy: 0.9140625\n"
     ]
    },
    {
     "name": "stderr",
     "output_type": "stream",
     "text": [
      "e:\\OneDrive - Hanoi University of Science and Technology\\Code project\\ML\\NLP\\uvipen_HAN\\src\\word_att_model.py:37: UserWarning: Implicit dimension choice for softmax has been deprecated. Change the call to include dim=X as an argument.\n",
      "  output = F.softmax(output)\n",
      "e:\\OneDrive - Hanoi University of Science and Technology\\Code project\\ML\\NLP\\uvipen_HAN\\src\\sent_att_model.py:29: UserWarning: Implicit dimension choice for softmax has been deprecated. Change the call to include dim=X as an argument.\n",
      "  output = F.softmax(output)\n"
     ]
    },
    {
     "name": "stdout",
     "output_type": "stream",
     "text": [
      "Epoch: 1/100, Iteration: 216/937, Lr: 0.1, Loss: 0.29534420371055603, Accuracy: 0.875\n"
     ]
    },
    {
     "name": "stderr",
     "output_type": "stream",
     "text": [
      "e:\\OneDrive - Hanoi University of Science and Technology\\Code project\\ML\\NLP\\uvipen_HAN\\src\\word_att_model.py:37: UserWarning: Implicit dimension choice for softmax has been deprecated. Change the call to include dim=X as an argument.\n",
      "  output = F.softmax(output)\n",
      "e:\\OneDrive - Hanoi University of Science and Technology\\Code project\\ML\\NLP\\uvipen_HAN\\src\\sent_att_model.py:29: UserWarning: Implicit dimension choice for softmax has been deprecated. Change the call to include dim=X as an argument.\n",
      "  output = F.softmax(output)\n"
     ]
    },
    {
     "name": "stdout",
     "output_type": "stream",
     "text": [
      "Epoch: 1/100, Iteration: 217/937, Lr: 0.1, Loss: 0.3684873878955841, Accuracy: 0.875\n"
     ]
    },
    {
     "name": "stderr",
     "output_type": "stream",
     "text": [
      "e:\\OneDrive - Hanoi University of Science and Technology\\Code project\\ML\\NLP\\uvipen_HAN\\src\\word_att_model.py:37: UserWarning: Implicit dimension choice for softmax has been deprecated. Change the call to include dim=X as an argument.\n",
      "  output = F.softmax(output)\n",
      "e:\\OneDrive - Hanoi University of Science and Technology\\Code project\\ML\\NLP\\uvipen_HAN\\src\\sent_att_model.py:29: UserWarning: Implicit dimension choice for softmax has been deprecated. Change the call to include dim=X as an argument.\n",
      "  output = F.softmax(output)\n"
     ]
    },
    {
     "name": "stdout",
     "output_type": "stream",
     "text": [
      "Epoch: 1/100, Iteration: 218/937, Lr: 0.1, Loss: 0.3363502025604248, Accuracy: 0.890625\n"
     ]
    },
    {
     "name": "stderr",
     "output_type": "stream",
     "text": [
      "e:\\OneDrive - Hanoi University of Science and Technology\\Code project\\ML\\NLP\\uvipen_HAN\\src\\word_att_model.py:37: UserWarning: Implicit dimension choice for softmax has been deprecated. Change the call to include dim=X as an argument.\n",
      "  output = F.softmax(output)\n",
      "e:\\OneDrive - Hanoi University of Science and Technology\\Code project\\ML\\NLP\\uvipen_HAN\\src\\sent_att_model.py:29: UserWarning: Implicit dimension choice for softmax has been deprecated. Change the call to include dim=X as an argument.\n",
      "  output = F.softmax(output)\n"
     ]
    },
    {
     "name": "stdout",
     "output_type": "stream",
     "text": [
      "Epoch: 1/100, Iteration: 219/937, Lr: 0.1, Loss: 0.26578283309936523, Accuracy: 0.8828125\n"
     ]
    },
    {
     "name": "stderr",
     "output_type": "stream",
     "text": [
      "e:\\OneDrive - Hanoi University of Science and Technology\\Code project\\ML\\NLP\\uvipen_HAN\\src\\word_att_model.py:37: UserWarning: Implicit dimension choice for softmax has been deprecated. Change the call to include dim=X as an argument.\n",
      "  output = F.softmax(output)\n",
      "e:\\OneDrive - Hanoi University of Science and Technology\\Code project\\ML\\NLP\\uvipen_HAN\\src\\sent_att_model.py:29: UserWarning: Implicit dimension choice for softmax has been deprecated. Change the call to include dim=X as an argument.\n",
      "  output = F.softmax(output)\n"
     ]
    },
    {
     "name": "stdout",
     "output_type": "stream",
     "text": [
      "Epoch: 1/100, Iteration: 220/937, Lr: 0.1, Loss: 0.318002849817276, Accuracy: 0.875\n"
     ]
    },
    {
     "name": "stderr",
     "output_type": "stream",
     "text": [
      "e:\\OneDrive - Hanoi University of Science and Technology\\Code project\\ML\\NLP\\uvipen_HAN\\src\\word_att_model.py:37: UserWarning: Implicit dimension choice for softmax has been deprecated. Change the call to include dim=X as an argument.\n",
      "  output = F.softmax(output)\n",
      "e:\\OneDrive - Hanoi University of Science and Technology\\Code project\\ML\\NLP\\uvipen_HAN\\src\\sent_att_model.py:29: UserWarning: Implicit dimension choice for softmax has been deprecated. Change the call to include dim=X as an argument.\n",
      "  output = F.softmax(output)\n"
     ]
    },
    {
     "name": "stdout",
     "output_type": "stream",
     "text": [
      "Epoch: 1/100, Iteration: 221/937, Lr: 0.1, Loss: 0.22123995423316956, Accuracy: 0.9296875\n"
     ]
    },
    {
     "name": "stderr",
     "output_type": "stream",
     "text": [
      "e:\\OneDrive - Hanoi University of Science and Technology\\Code project\\ML\\NLP\\uvipen_HAN\\src\\word_att_model.py:37: UserWarning: Implicit dimension choice for softmax has been deprecated. Change the call to include dim=X as an argument.\n",
      "  output = F.softmax(output)\n",
      "e:\\OneDrive - Hanoi University of Science and Technology\\Code project\\ML\\NLP\\uvipen_HAN\\src\\sent_att_model.py:29: UserWarning: Implicit dimension choice for softmax has been deprecated. Change the call to include dim=X as an argument.\n",
      "  output = F.softmax(output)\n"
     ]
    },
    {
     "name": "stdout",
     "output_type": "stream",
     "text": [
      "Epoch: 1/100, Iteration: 222/937, Lr: 0.1, Loss: 0.43052709102630615, Accuracy: 0.859375\n"
     ]
    },
    {
     "name": "stderr",
     "output_type": "stream",
     "text": [
      "e:\\OneDrive - Hanoi University of Science and Technology\\Code project\\ML\\NLP\\uvipen_HAN\\src\\word_att_model.py:37: UserWarning: Implicit dimension choice for softmax has been deprecated. Change the call to include dim=X as an argument.\n",
      "  output = F.softmax(output)\n",
      "e:\\OneDrive - Hanoi University of Science and Technology\\Code project\\ML\\NLP\\uvipen_HAN\\src\\sent_att_model.py:29: UserWarning: Implicit dimension choice for softmax has been deprecated. Change the call to include dim=X as an argument.\n",
      "  output = F.softmax(output)\n"
     ]
    },
    {
     "name": "stdout",
     "output_type": "stream",
     "text": [
      "Epoch: 1/100, Iteration: 223/937, Lr: 0.1, Loss: 0.2988187372684479, Accuracy: 0.875\n"
     ]
    },
    {
     "name": "stderr",
     "output_type": "stream",
     "text": [
      "e:\\OneDrive - Hanoi University of Science and Technology\\Code project\\ML\\NLP\\uvipen_HAN\\src\\word_att_model.py:37: UserWarning: Implicit dimension choice for softmax has been deprecated. Change the call to include dim=X as an argument.\n",
      "  output = F.softmax(output)\n",
      "e:\\OneDrive - Hanoi University of Science and Technology\\Code project\\ML\\NLP\\uvipen_HAN\\src\\sent_att_model.py:29: UserWarning: Implicit dimension choice for softmax has been deprecated. Change the call to include dim=X as an argument.\n",
      "  output = F.softmax(output)\n"
     ]
    },
    {
     "name": "stdout",
     "output_type": "stream",
     "text": [
      "Epoch: 1/100, Iteration: 224/937, Lr: 0.1, Loss: 0.4011581540107727, Accuracy: 0.8359375\n"
     ]
    },
    {
     "name": "stderr",
     "output_type": "stream",
     "text": [
      "e:\\OneDrive - Hanoi University of Science and Technology\\Code project\\ML\\NLP\\uvipen_HAN\\src\\word_att_model.py:37: UserWarning: Implicit dimension choice for softmax has been deprecated. Change the call to include dim=X as an argument.\n",
      "  output = F.softmax(output)\n",
      "e:\\OneDrive - Hanoi University of Science and Technology\\Code project\\ML\\NLP\\uvipen_HAN\\src\\sent_att_model.py:29: UserWarning: Implicit dimension choice for softmax has been deprecated. Change the call to include dim=X as an argument.\n",
      "  output = F.softmax(output)\n"
     ]
    },
    {
     "name": "stdout",
     "output_type": "stream",
     "text": [
      "Epoch: 1/100, Iteration: 225/937, Lr: 0.1, Loss: 0.377033531665802, Accuracy: 0.875\n"
     ]
    },
    {
     "name": "stderr",
     "output_type": "stream",
     "text": [
      "e:\\OneDrive - Hanoi University of Science and Technology\\Code project\\ML\\NLP\\uvipen_HAN\\src\\word_att_model.py:37: UserWarning: Implicit dimension choice for softmax has been deprecated. Change the call to include dim=X as an argument.\n",
      "  output = F.softmax(output)\n",
      "e:\\OneDrive - Hanoi University of Science and Technology\\Code project\\ML\\NLP\\uvipen_HAN\\src\\sent_att_model.py:29: UserWarning: Implicit dimension choice for softmax has been deprecated. Change the call to include dim=X as an argument.\n",
      "  output = F.softmax(output)\n"
     ]
    },
    {
     "name": "stdout",
     "output_type": "stream",
     "text": [
      "Epoch: 1/100, Iteration: 226/937, Lr: 0.1, Loss: 0.41892436146736145, Accuracy: 0.8828125\n"
     ]
    },
    {
     "name": "stderr",
     "output_type": "stream",
     "text": [
      "e:\\OneDrive - Hanoi University of Science and Technology\\Code project\\ML\\NLP\\uvipen_HAN\\src\\word_att_model.py:37: UserWarning: Implicit dimension choice for softmax has been deprecated. Change the call to include dim=X as an argument.\n",
      "  output = F.softmax(output)\n",
      "e:\\OneDrive - Hanoi University of Science and Technology\\Code project\\ML\\NLP\\uvipen_HAN\\src\\sent_att_model.py:29: UserWarning: Implicit dimension choice for softmax has been deprecated. Change the call to include dim=X as an argument.\n",
      "  output = F.softmax(output)\n"
     ]
    },
    {
     "name": "stdout",
     "output_type": "stream",
     "text": [
      "Epoch: 1/100, Iteration: 227/937, Lr: 0.1, Loss: 0.3300571143627167, Accuracy: 0.890625\n"
     ]
    },
    {
     "name": "stderr",
     "output_type": "stream",
     "text": [
      "e:\\OneDrive - Hanoi University of Science and Technology\\Code project\\ML\\NLP\\uvipen_HAN\\src\\word_att_model.py:37: UserWarning: Implicit dimension choice for softmax has been deprecated. Change the call to include dim=X as an argument.\n",
      "  output = F.softmax(output)\n",
      "e:\\OneDrive - Hanoi University of Science and Technology\\Code project\\ML\\NLP\\uvipen_HAN\\src\\sent_att_model.py:29: UserWarning: Implicit dimension choice for softmax has been deprecated. Change the call to include dim=X as an argument.\n",
      "  output = F.softmax(output)\n"
     ]
    },
    {
     "name": "stdout",
     "output_type": "stream",
     "text": [
      "Epoch: 1/100, Iteration: 228/937, Lr: 0.1, Loss: 0.34199216961860657, Accuracy: 0.90625\n"
     ]
    },
    {
     "name": "stderr",
     "output_type": "stream",
     "text": [
      "e:\\OneDrive - Hanoi University of Science and Technology\\Code project\\ML\\NLP\\uvipen_HAN\\src\\word_att_model.py:37: UserWarning: Implicit dimension choice for softmax has been deprecated. Change the call to include dim=X as an argument.\n",
      "  output = F.softmax(output)\n",
      "e:\\OneDrive - Hanoi University of Science and Technology\\Code project\\ML\\NLP\\uvipen_HAN\\src\\sent_att_model.py:29: UserWarning: Implicit dimension choice for softmax has been deprecated. Change the call to include dim=X as an argument.\n",
      "  output = F.softmax(output)\n"
     ]
    },
    {
     "name": "stdout",
     "output_type": "stream",
     "text": [
      "Epoch: 1/100, Iteration: 229/937, Lr: 0.1, Loss: 0.3278512954711914, Accuracy: 0.8828125\n"
     ]
    },
    {
     "name": "stderr",
     "output_type": "stream",
     "text": [
      "e:\\OneDrive - Hanoi University of Science and Technology\\Code project\\ML\\NLP\\uvipen_HAN\\src\\word_att_model.py:37: UserWarning: Implicit dimension choice for softmax has been deprecated. Change the call to include dim=X as an argument.\n",
      "  output = F.softmax(output)\n",
      "e:\\OneDrive - Hanoi University of Science and Technology\\Code project\\ML\\NLP\\uvipen_HAN\\src\\sent_att_model.py:29: UserWarning: Implicit dimension choice for softmax has been deprecated. Change the call to include dim=X as an argument.\n",
      "  output = F.softmax(output)\n"
     ]
    },
    {
     "name": "stdout",
     "output_type": "stream",
     "text": [
      "Epoch: 1/100, Iteration: 230/937, Lr: 0.1, Loss: 0.23042576014995575, Accuracy: 0.90625\n"
     ]
    },
    {
     "name": "stderr",
     "output_type": "stream",
     "text": [
      "e:\\OneDrive - Hanoi University of Science and Technology\\Code project\\ML\\NLP\\uvipen_HAN\\src\\word_att_model.py:37: UserWarning: Implicit dimension choice for softmax has been deprecated. Change the call to include dim=X as an argument.\n",
      "  output = F.softmax(output)\n",
      "e:\\OneDrive - Hanoi University of Science and Technology\\Code project\\ML\\NLP\\uvipen_HAN\\src\\sent_att_model.py:29: UserWarning: Implicit dimension choice for softmax has been deprecated. Change the call to include dim=X as an argument.\n",
      "  output = F.softmax(output)\n"
     ]
    },
    {
     "name": "stdout",
     "output_type": "stream",
     "text": [
      "Epoch: 1/100, Iteration: 231/937, Lr: 0.1, Loss: 0.3697603642940521, Accuracy: 0.8828125\n"
     ]
    },
    {
     "name": "stderr",
     "output_type": "stream",
     "text": [
      "e:\\OneDrive - Hanoi University of Science and Technology\\Code project\\ML\\NLP\\uvipen_HAN\\src\\word_att_model.py:37: UserWarning: Implicit dimension choice for softmax has been deprecated. Change the call to include dim=X as an argument.\n",
      "  output = F.softmax(output)\n",
      "e:\\OneDrive - Hanoi University of Science and Technology\\Code project\\ML\\NLP\\uvipen_HAN\\src\\sent_att_model.py:29: UserWarning: Implicit dimension choice for softmax has been deprecated. Change the call to include dim=X as an argument.\n",
      "  output = F.softmax(output)\n"
     ]
    },
    {
     "name": "stdout",
     "output_type": "stream",
     "text": [
      "Epoch: 1/100, Iteration: 232/937, Lr: 0.1, Loss: 0.2471119463443756, Accuracy: 0.9140625\n"
     ]
    },
    {
     "name": "stderr",
     "output_type": "stream",
     "text": [
      "e:\\OneDrive - Hanoi University of Science and Technology\\Code project\\ML\\NLP\\uvipen_HAN\\src\\word_att_model.py:37: UserWarning: Implicit dimension choice for softmax has been deprecated. Change the call to include dim=X as an argument.\n",
      "  output = F.softmax(output)\n",
      "e:\\OneDrive - Hanoi University of Science and Technology\\Code project\\ML\\NLP\\uvipen_HAN\\src\\sent_att_model.py:29: UserWarning: Implicit dimension choice for softmax has been deprecated. Change the call to include dim=X as an argument.\n",
      "  output = F.softmax(output)\n"
     ]
    },
    {
     "name": "stdout",
     "output_type": "stream",
     "text": [
      "Epoch: 1/100, Iteration: 233/937, Lr: 0.1, Loss: 0.30088433623313904, Accuracy: 0.890625\n"
     ]
    },
    {
     "name": "stderr",
     "output_type": "stream",
     "text": [
      "e:\\OneDrive - Hanoi University of Science and Technology\\Code project\\ML\\NLP\\uvipen_HAN\\src\\word_att_model.py:37: UserWarning: Implicit dimension choice for softmax has been deprecated. Change the call to include dim=X as an argument.\n",
      "  output = F.softmax(output)\n",
      "e:\\OneDrive - Hanoi University of Science and Technology\\Code project\\ML\\NLP\\uvipen_HAN\\src\\sent_att_model.py:29: UserWarning: Implicit dimension choice for softmax has been deprecated. Change the call to include dim=X as an argument.\n",
      "  output = F.softmax(output)\n"
     ]
    },
    {
     "name": "stdout",
     "output_type": "stream",
     "text": [
      "Epoch: 1/100, Iteration: 234/937, Lr: 0.1, Loss: 0.325967013835907, Accuracy: 0.875\n"
     ]
    },
    {
     "name": "stderr",
     "output_type": "stream",
     "text": [
      "e:\\OneDrive - Hanoi University of Science and Technology\\Code project\\ML\\NLP\\uvipen_HAN\\src\\word_att_model.py:37: UserWarning: Implicit dimension choice for softmax has been deprecated. Change the call to include dim=X as an argument.\n",
      "  output = F.softmax(output)\n",
      "e:\\OneDrive - Hanoi University of Science and Technology\\Code project\\ML\\NLP\\uvipen_HAN\\src\\sent_att_model.py:29: UserWarning: Implicit dimension choice for softmax has been deprecated. Change the call to include dim=X as an argument.\n",
      "  output = F.softmax(output)\n"
     ]
    },
    {
     "name": "stdout",
     "output_type": "stream",
     "text": [
      "Epoch: 1/100, Iteration: 235/937, Lr: 0.1, Loss: 0.4068971574306488, Accuracy: 0.875\n"
     ]
    },
    {
     "name": "stderr",
     "output_type": "stream",
     "text": [
      "e:\\OneDrive - Hanoi University of Science and Technology\\Code project\\ML\\NLP\\uvipen_HAN\\src\\word_att_model.py:37: UserWarning: Implicit dimension choice for softmax has been deprecated. Change the call to include dim=X as an argument.\n",
      "  output = F.softmax(output)\n",
      "e:\\OneDrive - Hanoi University of Science and Technology\\Code project\\ML\\NLP\\uvipen_HAN\\src\\sent_att_model.py:29: UserWarning: Implicit dimension choice for softmax has been deprecated. Change the call to include dim=X as an argument.\n",
      "  output = F.softmax(output)\n"
     ]
    },
    {
     "name": "stdout",
     "output_type": "stream",
     "text": [
      "Epoch: 1/100, Iteration: 236/937, Lr: 0.1, Loss: 0.3833751380443573, Accuracy: 0.875\n"
     ]
    },
    {
     "name": "stderr",
     "output_type": "stream",
     "text": [
      "e:\\OneDrive - Hanoi University of Science and Technology\\Code project\\ML\\NLP\\uvipen_HAN\\src\\word_att_model.py:37: UserWarning: Implicit dimension choice for softmax has been deprecated. Change the call to include dim=X as an argument.\n",
      "  output = F.softmax(output)\n",
      "e:\\OneDrive - Hanoi University of Science and Technology\\Code project\\ML\\NLP\\uvipen_HAN\\src\\sent_att_model.py:29: UserWarning: Implicit dimension choice for softmax has been deprecated. Change the call to include dim=X as an argument.\n",
      "  output = F.softmax(output)\n"
     ]
    },
    {
     "name": "stdout",
     "output_type": "stream",
     "text": [
      "Epoch: 1/100, Iteration: 237/937, Lr: 0.1, Loss: 0.3953086733818054, Accuracy: 0.8515625\n"
     ]
    },
    {
     "name": "stderr",
     "output_type": "stream",
     "text": [
      "e:\\OneDrive - Hanoi University of Science and Technology\\Code project\\ML\\NLP\\uvipen_HAN\\src\\word_att_model.py:37: UserWarning: Implicit dimension choice for softmax has been deprecated. Change the call to include dim=X as an argument.\n",
      "  output = F.softmax(output)\n",
      "e:\\OneDrive - Hanoi University of Science and Technology\\Code project\\ML\\NLP\\uvipen_HAN\\src\\sent_att_model.py:29: UserWarning: Implicit dimension choice for softmax has been deprecated. Change the call to include dim=X as an argument.\n",
      "  output = F.softmax(output)\n"
     ]
    },
    {
     "name": "stdout",
     "output_type": "stream",
     "text": [
      "Epoch: 1/100, Iteration: 238/937, Lr: 0.1, Loss: 0.326527863740921, Accuracy: 0.875\n"
     ]
    },
    {
     "name": "stderr",
     "output_type": "stream",
     "text": [
      "e:\\OneDrive - Hanoi University of Science and Technology\\Code project\\ML\\NLP\\uvipen_HAN\\src\\word_att_model.py:37: UserWarning: Implicit dimension choice for softmax has been deprecated. Change the call to include dim=X as an argument.\n",
      "  output = F.softmax(output)\n",
      "e:\\OneDrive - Hanoi University of Science and Technology\\Code project\\ML\\NLP\\uvipen_HAN\\src\\sent_att_model.py:29: UserWarning: Implicit dimension choice for softmax has been deprecated. Change the call to include dim=X as an argument.\n",
      "  output = F.softmax(output)\n"
     ]
    },
    {
     "name": "stdout",
     "output_type": "stream",
     "text": [
      "Epoch: 1/100, Iteration: 239/937, Lr: 0.1, Loss: 0.36543917655944824, Accuracy: 0.8828125\n"
     ]
    },
    {
     "name": "stderr",
     "output_type": "stream",
     "text": [
      "e:\\OneDrive - Hanoi University of Science and Technology\\Code project\\ML\\NLP\\uvipen_HAN\\src\\word_att_model.py:37: UserWarning: Implicit dimension choice for softmax has been deprecated. Change the call to include dim=X as an argument.\n",
      "  output = F.softmax(output)\n",
      "e:\\OneDrive - Hanoi University of Science and Technology\\Code project\\ML\\NLP\\uvipen_HAN\\src\\sent_att_model.py:29: UserWarning: Implicit dimension choice for softmax has been deprecated. Change the call to include dim=X as an argument.\n",
      "  output = F.softmax(output)\n"
     ]
    },
    {
     "name": "stdout",
     "output_type": "stream",
     "text": [
      "Epoch: 1/100, Iteration: 240/937, Lr: 0.1, Loss: 0.2950836718082428, Accuracy: 0.90625\n"
     ]
    },
    {
     "name": "stderr",
     "output_type": "stream",
     "text": [
      "e:\\OneDrive - Hanoi University of Science and Technology\\Code project\\ML\\NLP\\uvipen_HAN\\src\\word_att_model.py:37: UserWarning: Implicit dimension choice for softmax has been deprecated. Change the call to include dim=X as an argument.\n",
      "  output = F.softmax(output)\n",
      "e:\\OneDrive - Hanoi University of Science and Technology\\Code project\\ML\\NLP\\uvipen_HAN\\src\\sent_att_model.py:29: UserWarning: Implicit dimension choice for softmax has been deprecated. Change the call to include dim=X as an argument.\n",
      "  output = F.softmax(output)\n"
     ]
    },
    {
     "name": "stdout",
     "output_type": "stream",
     "text": [
      "Epoch: 1/100, Iteration: 241/937, Lr: 0.1, Loss: 0.40766671299934387, Accuracy: 0.875\n"
     ]
    },
    {
     "name": "stderr",
     "output_type": "stream",
     "text": [
      "e:\\OneDrive - Hanoi University of Science and Technology\\Code project\\ML\\NLP\\uvipen_HAN\\src\\word_att_model.py:37: UserWarning: Implicit dimension choice for softmax has been deprecated. Change the call to include dim=X as an argument.\n",
      "  output = F.softmax(output)\n",
      "e:\\OneDrive - Hanoi University of Science and Technology\\Code project\\ML\\NLP\\uvipen_HAN\\src\\sent_att_model.py:29: UserWarning: Implicit dimension choice for softmax has been deprecated. Change the call to include dim=X as an argument.\n",
      "  output = F.softmax(output)\n"
     ]
    },
    {
     "name": "stdout",
     "output_type": "stream",
     "text": [
      "Epoch: 1/100, Iteration: 242/937, Lr: 0.1, Loss: 0.3452695906162262, Accuracy: 0.90625\n"
     ]
    },
    {
     "name": "stderr",
     "output_type": "stream",
     "text": [
      "e:\\OneDrive - Hanoi University of Science and Technology\\Code project\\ML\\NLP\\uvipen_HAN\\src\\word_att_model.py:37: UserWarning: Implicit dimension choice for softmax has been deprecated. Change the call to include dim=X as an argument.\n",
      "  output = F.softmax(output)\n",
      "e:\\OneDrive - Hanoi University of Science and Technology\\Code project\\ML\\NLP\\uvipen_HAN\\src\\sent_att_model.py:29: UserWarning: Implicit dimension choice for softmax has been deprecated. Change the call to include dim=X as an argument.\n",
      "  output = F.softmax(output)\n"
     ]
    },
    {
     "name": "stdout",
     "output_type": "stream",
     "text": [
      "Epoch: 1/100, Iteration: 243/937, Lr: 0.1, Loss: 0.35874566435813904, Accuracy: 0.875\n"
     ]
    },
    {
     "name": "stderr",
     "output_type": "stream",
     "text": [
      "e:\\OneDrive - Hanoi University of Science and Technology\\Code project\\ML\\NLP\\uvipen_HAN\\src\\word_att_model.py:37: UserWarning: Implicit dimension choice for softmax has been deprecated. Change the call to include dim=X as an argument.\n",
      "  output = F.softmax(output)\n",
      "e:\\OneDrive - Hanoi University of Science and Technology\\Code project\\ML\\NLP\\uvipen_HAN\\src\\sent_att_model.py:29: UserWarning: Implicit dimension choice for softmax has been deprecated. Change the call to include dim=X as an argument.\n",
      "  output = F.softmax(output)\n"
     ]
    },
    {
     "name": "stdout",
     "output_type": "stream",
     "text": [
      "Epoch: 1/100, Iteration: 244/937, Lr: 0.1, Loss: 0.38306623697280884, Accuracy: 0.8359375\n"
     ]
    },
    {
     "name": "stderr",
     "output_type": "stream",
     "text": [
      "e:\\OneDrive - Hanoi University of Science and Technology\\Code project\\ML\\NLP\\uvipen_HAN\\src\\word_att_model.py:37: UserWarning: Implicit dimension choice for softmax has been deprecated. Change the call to include dim=X as an argument.\n",
      "  output = F.softmax(output)\n",
      "e:\\OneDrive - Hanoi University of Science and Technology\\Code project\\ML\\NLP\\uvipen_HAN\\src\\sent_att_model.py:29: UserWarning: Implicit dimension choice for softmax has been deprecated. Change the call to include dim=X as an argument.\n",
      "  output = F.softmax(output)\n"
     ]
    },
    {
     "name": "stdout",
     "output_type": "stream",
     "text": [
      "Epoch: 1/100, Iteration: 245/937, Lr: 0.1, Loss: 0.2883845567703247, Accuracy: 0.8984375\n"
     ]
    },
    {
     "name": "stderr",
     "output_type": "stream",
     "text": [
      "e:\\OneDrive - Hanoi University of Science and Technology\\Code project\\ML\\NLP\\uvipen_HAN\\src\\word_att_model.py:37: UserWarning: Implicit dimension choice for softmax has been deprecated. Change the call to include dim=X as an argument.\n",
      "  output = F.softmax(output)\n",
      "e:\\OneDrive - Hanoi University of Science and Technology\\Code project\\ML\\NLP\\uvipen_HAN\\src\\sent_att_model.py:29: UserWarning: Implicit dimension choice for softmax has been deprecated. Change the call to include dim=X as an argument.\n",
      "  output = F.softmax(output)\n"
     ]
    },
    {
     "name": "stdout",
     "output_type": "stream",
     "text": [
      "Epoch: 1/100, Iteration: 246/937, Lr: 0.1, Loss: 0.29693761467933655, Accuracy: 0.8984375\n"
     ]
    },
    {
     "name": "stderr",
     "output_type": "stream",
     "text": [
      "e:\\OneDrive - Hanoi University of Science and Technology\\Code project\\ML\\NLP\\uvipen_HAN\\src\\word_att_model.py:37: UserWarning: Implicit dimension choice for softmax has been deprecated. Change the call to include dim=X as an argument.\n",
      "  output = F.softmax(output)\n",
      "e:\\OneDrive - Hanoi University of Science and Technology\\Code project\\ML\\NLP\\uvipen_HAN\\src\\sent_att_model.py:29: UserWarning: Implicit dimension choice for softmax has been deprecated. Change the call to include dim=X as an argument.\n",
      "  output = F.softmax(output)\n"
     ]
    },
    {
     "name": "stdout",
     "output_type": "stream",
     "text": [
      "Epoch: 1/100, Iteration: 247/937, Lr: 0.1, Loss: 0.2214212566614151, Accuracy: 0.9296875\n"
     ]
    },
    {
     "name": "stderr",
     "output_type": "stream",
     "text": [
      "e:\\OneDrive - Hanoi University of Science and Technology\\Code project\\ML\\NLP\\uvipen_HAN\\src\\word_att_model.py:37: UserWarning: Implicit dimension choice for softmax has been deprecated. Change the call to include dim=X as an argument.\n",
      "  output = F.softmax(output)\n",
      "e:\\OneDrive - Hanoi University of Science and Technology\\Code project\\ML\\NLP\\uvipen_HAN\\src\\sent_att_model.py:29: UserWarning: Implicit dimension choice for softmax has been deprecated. Change the call to include dim=X as an argument.\n",
      "  output = F.softmax(output)\n"
     ]
    },
    {
     "name": "stdout",
     "output_type": "stream",
     "text": [
      "Epoch: 1/100, Iteration: 248/937, Lr: 0.1, Loss: 0.46994322538375854, Accuracy: 0.8203125\n"
     ]
    },
    {
     "name": "stderr",
     "output_type": "stream",
     "text": [
      "e:\\OneDrive - Hanoi University of Science and Technology\\Code project\\ML\\NLP\\uvipen_HAN\\src\\word_att_model.py:37: UserWarning: Implicit dimension choice for softmax has been deprecated. Change the call to include dim=X as an argument.\n",
      "  output = F.softmax(output)\n",
      "e:\\OneDrive - Hanoi University of Science and Technology\\Code project\\ML\\NLP\\uvipen_HAN\\src\\sent_att_model.py:29: UserWarning: Implicit dimension choice for softmax has been deprecated. Change the call to include dim=X as an argument.\n",
      "  output = F.softmax(output)\n"
     ]
    },
    {
     "name": "stdout",
     "output_type": "stream",
     "text": [
      "Epoch: 1/100, Iteration: 249/937, Lr: 0.1, Loss: 0.31239578127861023, Accuracy: 0.921875\n"
     ]
    },
    {
     "name": "stderr",
     "output_type": "stream",
     "text": [
      "e:\\OneDrive - Hanoi University of Science and Technology\\Code project\\ML\\NLP\\uvipen_HAN\\src\\word_att_model.py:37: UserWarning: Implicit dimension choice for softmax has been deprecated. Change the call to include dim=X as an argument.\n",
      "  output = F.softmax(output)\n",
      "e:\\OneDrive - Hanoi University of Science and Technology\\Code project\\ML\\NLP\\uvipen_HAN\\src\\sent_att_model.py:29: UserWarning: Implicit dimension choice for softmax has been deprecated. Change the call to include dim=X as an argument.\n",
      "  output = F.softmax(output)\n"
     ]
    },
    {
     "name": "stdout",
     "output_type": "stream",
     "text": [
      "Epoch: 1/100, Iteration: 250/937, Lr: 0.1, Loss: 0.3148363530635834, Accuracy: 0.90625\n"
     ]
    },
    {
     "name": "stderr",
     "output_type": "stream",
     "text": [
      "e:\\OneDrive - Hanoi University of Science and Technology\\Code project\\ML\\NLP\\uvipen_HAN\\src\\word_att_model.py:37: UserWarning: Implicit dimension choice for softmax has been deprecated. Change the call to include dim=X as an argument.\n",
      "  output = F.softmax(output)\n",
      "e:\\OneDrive - Hanoi University of Science and Technology\\Code project\\ML\\NLP\\uvipen_HAN\\src\\sent_att_model.py:29: UserWarning: Implicit dimension choice for softmax has been deprecated. Change the call to include dim=X as an argument.\n",
      "  output = F.softmax(output)\n"
     ]
    },
    {
     "name": "stdout",
     "output_type": "stream",
     "text": [
      "Epoch: 1/100, Iteration: 251/937, Lr: 0.1, Loss: 0.3441333770751953, Accuracy: 0.8515625\n"
     ]
    },
    {
     "name": "stderr",
     "output_type": "stream",
     "text": [
      "e:\\OneDrive - Hanoi University of Science and Technology\\Code project\\ML\\NLP\\uvipen_HAN\\src\\word_att_model.py:37: UserWarning: Implicit dimension choice for softmax has been deprecated. Change the call to include dim=X as an argument.\n",
      "  output = F.softmax(output)\n",
      "e:\\OneDrive - Hanoi University of Science and Technology\\Code project\\ML\\NLP\\uvipen_HAN\\src\\sent_att_model.py:29: UserWarning: Implicit dimension choice for softmax has been deprecated. Change the call to include dim=X as an argument.\n",
      "  output = F.softmax(output)\n"
     ]
    },
    {
     "name": "stdout",
     "output_type": "stream",
     "text": [
      "Epoch: 1/100, Iteration: 252/937, Lr: 0.1, Loss: 0.3646981418132782, Accuracy: 0.859375\n"
     ]
    },
    {
     "name": "stderr",
     "output_type": "stream",
     "text": [
      "e:\\OneDrive - Hanoi University of Science and Technology\\Code project\\ML\\NLP\\uvipen_HAN\\src\\word_att_model.py:37: UserWarning: Implicit dimension choice for softmax has been deprecated. Change the call to include dim=X as an argument.\n",
      "  output = F.softmax(output)\n",
      "e:\\OneDrive - Hanoi University of Science and Technology\\Code project\\ML\\NLP\\uvipen_HAN\\src\\sent_att_model.py:29: UserWarning: Implicit dimension choice for softmax has been deprecated. Change the call to include dim=X as an argument.\n",
      "  output = F.softmax(output)\n"
     ]
    },
    {
     "name": "stdout",
     "output_type": "stream",
     "text": [
      "Epoch: 1/100, Iteration: 253/937, Lr: 0.1, Loss: 0.27612999081611633, Accuracy: 0.90625\n"
     ]
    },
    {
     "name": "stderr",
     "output_type": "stream",
     "text": [
      "e:\\OneDrive - Hanoi University of Science and Technology\\Code project\\ML\\NLP\\uvipen_HAN\\src\\word_att_model.py:37: UserWarning: Implicit dimension choice for softmax has been deprecated. Change the call to include dim=X as an argument.\n",
      "  output = F.softmax(output)\n",
      "e:\\OneDrive - Hanoi University of Science and Technology\\Code project\\ML\\NLP\\uvipen_HAN\\src\\sent_att_model.py:29: UserWarning: Implicit dimension choice for softmax has been deprecated. Change the call to include dim=X as an argument.\n",
      "  output = F.softmax(output)\n"
     ]
    },
    {
     "name": "stdout",
     "output_type": "stream",
     "text": [
      "Epoch: 1/100, Iteration: 254/937, Lr: 0.1, Loss: 0.2860691547393799, Accuracy: 0.90625\n"
     ]
    },
    {
     "name": "stderr",
     "output_type": "stream",
     "text": [
      "e:\\OneDrive - Hanoi University of Science and Technology\\Code project\\ML\\NLP\\uvipen_HAN\\src\\word_att_model.py:37: UserWarning: Implicit dimension choice for softmax has been deprecated. Change the call to include dim=X as an argument.\n",
      "  output = F.softmax(output)\n",
      "e:\\OneDrive - Hanoi University of Science and Technology\\Code project\\ML\\NLP\\uvipen_HAN\\src\\sent_att_model.py:29: UserWarning: Implicit dimension choice for softmax has been deprecated. Change the call to include dim=X as an argument.\n",
      "  output = F.softmax(output)\n"
     ]
    },
    {
     "name": "stdout",
     "output_type": "stream",
     "text": [
      "Epoch: 1/100, Iteration: 255/937, Lr: 0.1, Loss: 0.30220240354537964, Accuracy: 0.9296875\n"
     ]
    },
    {
     "name": "stderr",
     "output_type": "stream",
     "text": [
      "e:\\OneDrive - Hanoi University of Science and Technology\\Code project\\ML\\NLP\\uvipen_HAN\\src\\word_att_model.py:37: UserWarning: Implicit dimension choice for softmax has been deprecated. Change the call to include dim=X as an argument.\n",
      "  output = F.softmax(output)\n",
      "e:\\OneDrive - Hanoi University of Science and Technology\\Code project\\ML\\NLP\\uvipen_HAN\\src\\sent_att_model.py:29: UserWarning: Implicit dimension choice for softmax has been deprecated. Change the call to include dim=X as an argument.\n",
      "  output = F.softmax(output)\n"
     ]
    },
    {
     "name": "stdout",
     "output_type": "stream",
     "text": [
      "Epoch: 1/100, Iteration: 256/937, Lr: 0.1, Loss: 0.2724515199661255, Accuracy: 0.9140625\n"
     ]
    },
    {
     "name": "stderr",
     "output_type": "stream",
     "text": [
      "e:\\OneDrive - Hanoi University of Science and Technology\\Code project\\ML\\NLP\\uvipen_HAN\\src\\word_att_model.py:37: UserWarning: Implicit dimension choice for softmax has been deprecated. Change the call to include dim=X as an argument.\n",
      "  output = F.softmax(output)\n",
      "e:\\OneDrive - Hanoi University of Science and Technology\\Code project\\ML\\NLP\\uvipen_HAN\\src\\sent_att_model.py:29: UserWarning: Implicit dimension choice for softmax has been deprecated. Change the call to include dim=X as an argument.\n",
      "  output = F.softmax(output)\n"
     ]
    },
    {
     "name": "stdout",
     "output_type": "stream",
     "text": [
      "Epoch: 1/100, Iteration: 257/937, Lr: 0.1, Loss: 0.2872386574745178, Accuracy: 0.9140625\n"
     ]
    },
    {
     "name": "stderr",
     "output_type": "stream",
     "text": [
      "e:\\OneDrive - Hanoi University of Science and Technology\\Code project\\ML\\NLP\\uvipen_HAN\\src\\word_att_model.py:37: UserWarning: Implicit dimension choice for softmax has been deprecated. Change the call to include dim=X as an argument.\n",
      "  output = F.softmax(output)\n",
      "e:\\OneDrive - Hanoi University of Science and Technology\\Code project\\ML\\NLP\\uvipen_HAN\\src\\sent_att_model.py:29: UserWarning: Implicit dimension choice for softmax has been deprecated. Change the call to include dim=X as an argument.\n",
      "  output = F.softmax(output)\n"
     ]
    },
    {
     "name": "stdout",
     "output_type": "stream",
     "text": [
      "Epoch: 1/100, Iteration: 258/937, Lr: 0.1, Loss: 0.35943394899368286, Accuracy: 0.890625\n"
     ]
    },
    {
     "name": "stderr",
     "output_type": "stream",
     "text": [
      "e:\\OneDrive - Hanoi University of Science and Technology\\Code project\\ML\\NLP\\uvipen_HAN\\src\\word_att_model.py:37: UserWarning: Implicit dimension choice for softmax has been deprecated. Change the call to include dim=X as an argument.\n",
      "  output = F.softmax(output)\n",
      "e:\\OneDrive - Hanoi University of Science and Technology\\Code project\\ML\\NLP\\uvipen_HAN\\src\\sent_att_model.py:29: UserWarning: Implicit dimension choice for softmax has been deprecated. Change the call to include dim=X as an argument.\n",
      "  output = F.softmax(output)\n"
     ]
    },
    {
     "name": "stdout",
     "output_type": "stream",
     "text": [
      "Epoch: 1/100, Iteration: 259/937, Lr: 0.1, Loss: 0.40856972336769104, Accuracy: 0.8359375\n"
     ]
    },
    {
     "name": "stderr",
     "output_type": "stream",
     "text": [
      "e:\\OneDrive - Hanoi University of Science and Technology\\Code project\\ML\\NLP\\uvipen_HAN\\src\\word_att_model.py:37: UserWarning: Implicit dimension choice for softmax has been deprecated. Change the call to include dim=X as an argument.\n",
      "  output = F.softmax(output)\n",
      "e:\\OneDrive - Hanoi University of Science and Technology\\Code project\\ML\\NLP\\uvipen_HAN\\src\\sent_att_model.py:29: UserWarning: Implicit dimension choice for softmax has been deprecated. Change the call to include dim=X as an argument.\n",
      "  output = F.softmax(output)\n"
     ]
    },
    {
     "name": "stdout",
     "output_type": "stream",
     "text": [
      "Epoch: 1/100, Iteration: 260/937, Lr: 0.1, Loss: 0.4063018560409546, Accuracy: 0.84375\n"
     ]
    },
    {
     "name": "stderr",
     "output_type": "stream",
     "text": [
      "e:\\OneDrive - Hanoi University of Science and Technology\\Code project\\ML\\NLP\\uvipen_HAN\\src\\word_att_model.py:37: UserWarning: Implicit dimension choice for softmax has been deprecated. Change the call to include dim=X as an argument.\n",
      "  output = F.softmax(output)\n",
      "e:\\OneDrive - Hanoi University of Science and Technology\\Code project\\ML\\NLP\\uvipen_HAN\\src\\sent_att_model.py:29: UserWarning: Implicit dimension choice for softmax has been deprecated. Change the call to include dim=X as an argument.\n",
      "  output = F.softmax(output)\n"
     ]
    },
    {
     "name": "stdout",
     "output_type": "stream",
     "text": [
      "Epoch: 1/100, Iteration: 261/937, Lr: 0.1, Loss: 0.28389599919319153, Accuracy: 0.90625\n"
     ]
    },
    {
     "name": "stderr",
     "output_type": "stream",
     "text": [
      "e:\\OneDrive - Hanoi University of Science and Technology\\Code project\\ML\\NLP\\uvipen_HAN\\src\\word_att_model.py:37: UserWarning: Implicit dimension choice for softmax has been deprecated. Change the call to include dim=X as an argument.\n",
      "  output = F.softmax(output)\n",
      "e:\\OneDrive - Hanoi University of Science and Technology\\Code project\\ML\\NLP\\uvipen_HAN\\src\\sent_att_model.py:29: UserWarning: Implicit dimension choice for softmax has been deprecated. Change the call to include dim=X as an argument.\n",
      "  output = F.softmax(output)\n"
     ]
    },
    {
     "name": "stdout",
     "output_type": "stream",
     "text": [
      "Epoch: 1/100, Iteration: 262/937, Lr: 0.1, Loss: 0.5065438747406006, Accuracy: 0.875\n"
     ]
    },
    {
     "name": "stderr",
     "output_type": "stream",
     "text": [
      "e:\\OneDrive - Hanoi University of Science and Technology\\Code project\\ML\\NLP\\uvipen_HAN\\src\\word_att_model.py:37: UserWarning: Implicit dimension choice for softmax has been deprecated. Change the call to include dim=X as an argument.\n",
      "  output = F.softmax(output)\n",
      "e:\\OneDrive - Hanoi University of Science and Technology\\Code project\\ML\\NLP\\uvipen_HAN\\src\\sent_att_model.py:29: UserWarning: Implicit dimension choice for softmax has been deprecated. Change the call to include dim=X as an argument.\n",
      "  output = F.softmax(output)\n"
     ]
    },
    {
     "name": "stdout",
     "output_type": "stream",
     "text": [
      "Epoch: 1/100, Iteration: 263/937, Lr: 0.1, Loss: 0.3681759834289551, Accuracy: 0.890625\n"
     ]
    },
    {
     "name": "stderr",
     "output_type": "stream",
     "text": [
      "e:\\OneDrive - Hanoi University of Science and Technology\\Code project\\ML\\NLP\\uvipen_HAN\\src\\word_att_model.py:37: UserWarning: Implicit dimension choice for softmax has been deprecated. Change the call to include dim=X as an argument.\n",
      "  output = F.softmax(output)\n",
      "e:\\OneDrive - Hanoi University of Science and Technology\\Code project\\ML\\NLP\\uvipen_HAN\\src\\sent_att_model.py:29: UserWarning: Implicit dimension choice for softmax has been deprecated. Change the call to include dim=X as an argument.\n",
      "  output = F.softmax(output)\n"
     ]
    },
    {
     "name": "stdout",
     "output_type": "stream",
     "text": [
      "Epoch: 1/100, Iteration: 264/937, Lr: 0.1, Loss: 0.39268437027931213, Accuracy: 0.859375\n"
     ]
    },
    {
     "name": "stderr",
     "output_type": "stream",
     "text": [
      "e:\\OneDrive - Hanoi University of Science and Technology\\Code project\\ML\\NLP\\uvipen_HAN\\src\\word_att_model.py:37: UserWarning: Implicit dimension choice for softmax has been deprecated. Change the call to include dim=X as an argument.\n",
      "  output = F.softmax(output)\n",
      "e:\\OneDrive - Hanoi University of Science and Technology\\Code project\\ML\\NLP\\uvipen_HAN\\src\\sent_att_model.py:29: UserWarning: Implicit dimension choice for softmax has been deprecated. Change the call to include dim=X as an argument.\n",
      "  output = F.softmax(output)\n"
     ]
    },
    {
     "name": "stdout",
     "output_type": "stream",
     "text": [
      "Epoch: 1/100, Iteration: 265/937, Lr: 0.1, Loss: 0.34973621368408203, Accuracy: 0.8828125\n"
     ]
    },
    {
     "name": "stderr",
     "output_type": "stream",
     "text": [
      "e:\\OneDrive - Hanoi University of Science and Technology\\Code project\\ML\\NLP\\uvipen_HAN\\src\\word_att_model.py:37: UserWarning: Implicit dimension choice for softmax has been deprecated. Change the call to include dim=X as an argument.\n",
      "  output = F.softmax(output)\n",
      "e:\\OneDrive - Hanoi University of Science and Technology\\Code project\\ML\\NLP\\uvipen_HAN\\src\\sent_att_model.py:29: UserWarning: Implicit dimension choice for softmax has been deprecated. Change the call to include dim=X as an argument.\n",
      "  output = F.softmax(output)\n"
     ]
    },
    {
     "name": "stdout",
     "output_type": "stream",
     "text": [
      "Epoch: 1/100, Iteration: 266/937, Lr: 0.1, Loss: 0.3521195650100708, Accuracy: 0.875\n"
     ]
    },
    {
     "name": "stderr",
     "output_type": "stream",
     "text": [
      "e:\\OneDrive - Hanoi University of Science and Technology\\Code project\\ML\\NLP\\uvipen_HAN\\src\\word_att_model.py:37: UserWarning: Implicit dimension choice for softmax has been deprecated. Change the call to include dim=X as an argument.\n",
      "  output = F.softmax(output)\n",
      "e:\\OneDrive - Hanoi University of Science and Technology\\Code project\\ML\\NLP\\uvipen_HAN\\src\\sent_att_model.py:29: UserWarning: Implicit dimension choice for softmax has been deprecated. Change the call to include dim=X as an argument.\n",
      "  output = F.softmax(output)\n"
     ]
    },
    {
     "name": "stdout",
     "output_type": "stream",
     "text": [
      "Epoch: 1/100, Iteration: 267/937, Lr: 0.1, Loss: 0.24940358102321625, Accuracy: 0.9296875\n"
     ]
    },
    {
     "name": "stderr",
     "output_type": "stream",
     "text": [
      "e:\\OneDrive - Hanoi University of Science and Technology\\Code project\\ML\\NLP\\uvipen_HAN\\src\\word_att_model.py:37: UserWarning: Implicit dimension choice for softmax has been deprecated. Change the call to include dim=X as an argument.\n",
      "  output = F.softmax(output)\n",
      "e:\\OneDrive - Hanoi University of Science and Technology\\Code project\\ML\\NLP\\uvipen_HAN\\src\\sent_att_model.py:29: UserWarning: Implicit dimension choice for softmax has been deprecated. Change the call to include dim=X as an argument.\n",
      "  output = F.softmax(output)\n"
     ]
    },
    {
     "name": "stdout",
     "output_type": "stream",
     "text": [
      "Epoch: 1/100, Iteration: 268/937, Lr: 0.1, Loss: 0.34515729546546936, Accuracy: 0.875\n"
     ]
    },
    {
     "name": "stderr",
     "output_type": "stream",
     "text": [
      "e:\\OneDrive - Hanoi University of Science and Technology\\Code project\\ML\\NLP\\uvipen_HAN\\src\\word_att_model.py:37: UserWarning: Implicit dimension choice for softmax has been deprecated. Change the call to include dim=X as an argument.\n",
      "  output = F.softmax(output)\n",
      "e:\\OneDrive - Hanoi University of Science and Technology\\Code project\\ML\\NLP\\uvipen_HAN\\src\\sent_att_model.py:29: UserWarning: Implicit dimension choice for softmax has been deprecated. Change the call to include dim=X as an argument.\n",
      "  output = F.softmax(output)\n"
     ]
    },
    {
     "name": "stdout",
     "output_type": "stream",
     "text": [
      "Epoch: 1/100, Iteration: 269/937, Lr: 0.1, Loss: 0.25470635294914246, Accuracy: 0.9375\n"
     ]
    },
    {
     "name": "stderr",
     "output_type": "stream",
     "text": [
      "e:\\OneDrive - Hanoi University of Science and Technology\\Code project\\ML\\NLP\\uvipen_HAN\\src\\word_att_model.py:37: UserWarning: Implicit dimension choice for softmax has been deprecated. Change the call to include dim=X as an argument.\n",
      "  output = F.softmax(output)\n",
      "e:\\OneDrive - Hanoi University of Science and Technology\\Code project\\ML\\NLP\\uvipen_HAN\\src\\sent_att_model.py:29: UserWarning: Implicit dimension choice for softmax has been deprecated. Change the call to include dim=X as an argument.\n",
      "  output = F.softmax(output)\n"
     ]
    },
    {
     "name": "stdout",
     "output_type": "stream",
     "text": [
      "Epoch: 1/100, Iteration: 270/937, Lr: 0.1, Loss: 0.4500804841518402, Accuracy: 0.828125\n"
     ]
    },
    {
     "name": "stderr",
     "output_type": "stream",
     "text": [
      "e:\\OneDrive - Hanoi University of Science and Technology\\Code project\\ML\\NLP\\uvipen_HAN\\src\\word_att_model.py:37: UserWarning: Implicit dimension choice for softmax has been deprecated. Change the call to include dim=X as an argument.\n",
      "  output = F.softmax(output)\n",
      "e:\\OneDrive - Hanoi University of Science and Technology\\Code project\\ML\\NLP\\uvipen_HAN\\src\\sent_att_model.py:29: UserWarning: Implicit dimension choice for softmax has been deprecated. Change the call to include dim=X as an argument.\n",
      "  output = F.softmax(output)\n"
     ]
    },
    {
     "name": "stdout",
     "output_type": "stream",
     "text": [
      "Epoch: 1/100, Iteration: 271/937, Lr: 0.1, Loss: 0.257656991481781, Accuracy: 0.8984375\n"
     ]
    },
    {
     "name": "stderr",
     "output_type": "stream",
     "text": [
      "e:\\OneDrive - Hanoi University of Science and Technology\\Code project\\ML\\NLP\\uvipen_HAN\\src\\word_att_model.py:37: UserWarning: Implicit dimension choice for softmax has been deprecated. Change the call to include dim=X as an argument.\n",
      "  output = F.softmax(output)\n",
      "e:\\OneDrive - Hanoi University of Science and Technology\\Code project\\ML\\NLP\\uvipen_HAN\\src\\sent_att_model.py:29: UserWarning: Implicit dimension choice for softmax has been deprecated. Change the call to include dim=X as an argument.\n",
      "  output = F.softmax(output)\n"
     ]
    },
    {
     "name": "stdout",
     "output_type": "stream",
     "text": [
      "Epoch: 1/100, Iteration: 272/937, Lr: 0.1, Loss: 0.45944589376449585, Accuracy: 0.8359375\n"
     ]
    },
    {
     "name": "stderr",
     "output_type": "stream",
     "text": [
      "e:\\OneDrive - Hanoi University of Science and Technology\\Code project\\ML\\NLP\\uvipen_HAN\\src\\word_att_model.py:37: UserWarning: Implicit dimension choice for softmax has been deprecated. Change the call to include dim=X as an argument.\n",
      "  output = F.softmax(output)\n",
      "e:\\OneDrive - Hanoi University of Science and Technology\\Code project\\ML\\NLP\\uvipen_HAN\\src\\sent_att_model.py:29: UserWarning: Implicit dimension choice for softmax has been deprecated. Change the call to include dim=X as an argument.\n",
      "  output = F.softmax(output)\n"
     ]
    },
    {
     "name": "stdout",
     "output_type": "stream",
     "text": [
      "Epoch: 1/100, Iteration: 273/937, Lr: 0.1, Loss: 0.33790645003318787, Accuracy: 0.859375\n"
     ]
    },
    {
     "name": "stderr",
     "output_type": "stream",
     "text": [
      "e:\\OneDrive - Hanoi University of Science and Technology\\Code project\\ML\\NLP\\uvipen_HAN\\src\\word_att_model.py:37: UserWarning: Implicit dimension choice for softmax has been deprecated. Change the call to include dim=X as an argument.\n",
      "  output = F.softmax(output)\n",
      "e:\\OneDrive - Hanoi University of Science and Technology\\Code project\\ML\\NLP\\uvipen_HAN\\src\\sent_att_model.py:29: UserWarning: Implicit dimension choice for softmax has been deprecated. Change the call to include dim=X as an argument.\n",
      "  output = F.softmax(output)\n"
     ]
    },
    {
     "name": "stdout",
     "output_type": "stream",
     "text": [
      "Epoch: 1/100, Iteration: 274/937, Lr: 0.1, Loss: 0.4085001051425934, Accuracy: 0.8359375\n"
     ]
    },
    {
     "name": "stderr",
     "output_type": "stream",
     "text": [
      "e:\\OneDrive - Hanoi University of Science and Technology\\Code project\\ML\\NLP\\uvipen_HAN\\src\\word_att_model.py:37: UserWarning: Implicit dimension choice for softmax has been deprecated. Change the call to include dim=X as an argument.\n",
      "  output = F.softmax(output)\n",
      "e:\\OneDrive - Hanoi University of Science and Technology\\Code project\\ML\\NLP\\uvipen_HAN\\src\\sent_att_model.py:29: UserWarning: Implicit dimension choice for softmax has been deprecated. Change the call to include dim=X as an argument.\n",
      "  output = F.softmax(output)\n"
     ]
    },
    {
     "name": "stdout",
     "output_type": "stream",
     "text": [
      "Epoch: 1/100, Iteration: 275/937, Lr: 0.1, Loss: 0.3275165855884552, Accuracy: 0.875\n"
     ]
    },
    {
     "name": "stderr",
     "output_type": "stream",
     "text": [
      "e:\\OneDrive - Hanoi University of Science and Technology\\Code project\\ML\\NLP\\uvipen_HAN\\src\\word_att_model.py:37: UserWarning: Implicit dimension choice for softmax has been deprecated. Change the call to include dim=X as an argument.\n",
      "  output = F.softmax(output)\n",
      "e:\\OneDrive - Hanoi University of Science and Technology\\Code project\\ML\\NLP\\uvipen_HAN\\src\\sent_att_model.py:29: UserWarning: Implicit dimension choice for softmax has been deprecated. Change the call to include dim=X as an argument.\n",
      "  output = F.softmax(output)\n"
     ]
    },
    {
     "name": "stdout",
     "output_type": "stream",
     "text": [
      "Epoch: 1/100, Iteration: 276/937, Lr: 0.1, Loss: 0.3117198348045349, Accuracy: 0.8828125\n"
     ]
    },
    {
     "name": "stderr",
     "output_type": "stream",
     "text": [
      "e:\\OneDrive - Hanoi University of Science and Technology\\Code project\\ML\\NLP\\uvipen_HAN\\src\\word_att_model.py:37: UserWarning: Implicit dimension choice for softmax has been deprecated. Change the call to include dim=X as an argument.\n",
      "  output = F.softmax(output)\n",
      "e:\\OneDrive - Hanoi University of Science and Technology\\Code project\\ML\\NLP\\uvipen_HAN\\src\\sent_att_model.py:29: UserWarning: Implicit dimension choice for softmax has been deprecated. Change the call to include dim=X as an argument.\n",
      "  output = F.softmax(output)\n"
     ]
    },
    {
     "name": "stdout",
     "output_type": "stream",
     "text": [
      "Epoch: 1/100, Iteration: 277/937, Lr: 0.1, Loss: 0.44883862137794495, Accuracy: 0.875\n"
     ]
    },
    {
     "name": "stderr",
     "output_type": "stream",
     "text": [
      "e:\\OneDrive - Hanoi University of Science and Technology\\Code project\\ML\\NLP\\uvipen_HAN\\src\\word_att_model.py:37: UserWarning: Implicit dimension choice for softmax has been deprecated. Change the call to include dim=X as an argument.\n",
      "  output = F.softmax(output)\n",
      "e:\\OneDrive - Hanoi University of Science and Technology\\Code project\\ML\\NLP\\uvipen_HAN\\src\\sent_att_model.py:29: UserWarning: Implicit dimension choice for softmax has been deprecated. Change the call to include dim=X as an argument.\n",
      "  output = F.softmax(output)\n"
     ]
    },
    {
     "name": "stdout",
     "output_type": "stream",
     "text": [
      "Epoch: 1/100, Iteration: 278/937, Lr: 0.1, Loss: 0.3114610016345978, Accuracy: 0.890625\n"
     ]
    },
    {
     "name": "stderr",
     "output_type": "stream",
     "text": [
      "e:\\OneDrive - Hanoi University of Science and Technology\\Code project\\ML\\NLP\\uvipen_HAN\\src\\word_att_model.py:37: UserWarning: Implicit dimension choice for softmax has been deprecated. Change the call to include dim=X as an argument.\n",
      "  output = F.softmax(output)\n",
      "e:\\OneDrive - Hanoi University of Science and Technology\\Code project\\ML\\NLP\\uvipen_HAN\\src\\sent_att_model.py:29: UserWarning: Implicit dimension choice for softmax has been deprecated. Change the call to include dim=X as an argument.\n",
      "  output = F.softmax(output)\n"
     ]
    },
    {
     "name": "stdout",
     "output_type": "stream",
     "text": [
      "Epoch: 1/100, Iteration: 279/937, Lr: 0.1, Loss: 0.2909461259841919, Accuracy: 0.875\n"
     ]
    },
    {
     "name": "stderr",
     "output_type": "stream",
     "text": [
      "e:\\OneDrive - Hanoi University of Science and Technology\\Code project\\ML\\NLP\\uvipen_HAN\\src\\word_att_model.py:37: UserWarning: Implicit dimension choice for softmax has been deprecated. Change the call to include dim=X as an argument.\n",
      "  output = F.softmax(output)\n",
      "e:\\OneDrive - Hanoi University of Science and Technology\\Code project\\ML\\NLP\\uvipen_HAN\\src\\sent_att_model.py:29: UserWarning: Implicit dimension choice for softmax has been deprecated. Change the call to include dim=X as an argument.\n",
      "  output = F.softmax(output)\n"
     ]
    },
    {
     "name": "stdout",
     "output_type": "stream",
     "text": [
      "Epoch: 1/100, Iteration: 280/937, Lr: 0.1, Loss: 0.2992187440395355, Accuracy: 0.890625\n"
     ]
    },
    {
     "name": "stderr",
     "output_type": "stream",
     "text": [
      "e:\\OneDrive - Hanoi University of Science and Technology\\Code project\\ML\\NLP\\uvipen_HAN\\src\\word_att_model.py:37: UserWarning: Implicit dimension choice for softmax has been deprecated. Change the call to include dim=X as an argument.\n",
      "  output = F.softmax(output)\n",
      "e:\\OneDrive - Hanoi University of Science and Technology\\Code project\\ML\\NLP\\uvipen_HAN\\src\\sent_att_model.py:29: UserWarning: Implicit dimension choice for softmax has been deprecated. Change the call to include dim=X as an argument.\n",
      "  output = F.softmax(output)\n"
     ]
    },
    {
     "name": "stdout",
     "output_type": "stream",
     "text": [
      "Epoch: 1/100, Iteration: 281/937, Lr: 0.1, Loss: 0.4209029972553253, Accuracy: 0.8515625\n"
     ]
    },
    {
     "name": "stderr",
     "output_type": "stream",
     "text": [
      "e:\\OneDrive - Hanoi University of Science and Technology\\Code project\\ML\\NLP\\uvipen_HAN\\src\\word_att_model.py:37: UserWarning: Implicit dimension choice for softmax has been deprecated. Change the call to include dim=X as an argument.\n",
      "  output = F.softmax(output)\n",
      "e:\\OneDrive - Hanoi University of Science and Technology\\Code project\\ML\\NLP\\uvipen_HAN\\src\\sent_att_model.py:29: UserWarning: Implicit dimension choice for softmax has been deprecated. Change the call to include dim=X as an argument.\n",
      "  output = F.softmax(output)\n"
     ]
    },
    {
     "name": "stdout",
     "output_type": "stream",
     "text": [
      "Epoch: 1/100, Iteration: 282/937, Lr: 0.1, Loss: 0.47791481018066406, Accuracy: 0.8203125\n"
     ]
    },
    {
     "name": "stderr",
     "output_type": "stream",
     "text": [
      "e:\\OneDrive - Hanoi University of Science and Technology\\Code project\\ML\\NLP\\uvipen_HAN\\src\\word_att_model.py:37: UserWarning: Implicit dimension choice for softmax has been deprecated. Change the call to include dim=X as an argument.\n",
      "  output = F.softmax(output)\n",
      "e:\\OneDrive - Hanoi University of Science and Technology\\Code project\\ML\\NLP\\uvipen_HAN\\src\\sent_att_model.py:29: UserWarning: Implicit dimension choice for softmax has been deprecated. Change the call to include dim=X as an argument.\n",
      "  output = F.softmax(output)\n"
     ]
    },
    {
     "name": "stdout",
     "output_type": "stream",
     "text": [
      "Epoch: 1/100, Iteration: 283/937, Lr: 0.1, Loss: 0.4568231701850891, Accuracy: 0.875\n"
     ]
    },
    {
     "name": "stderr",
     "output_type": "stream",
     "text": [
      "e:\\OneDrive - Hanoi University of Science and Technology\\Code project\\ML\\NLP\\uvipen_HAN\\src\\word_att_model.py:37: UserWarning: Implicit dimension choice for softmax has been deprecated. Change the call to include dim=X as an argument.\n",
      "  output = F.softmax(output)\n",
      "e:\\OneDrive - Hanoi University of Science and Technology\\Code project\\ML\\NLP\\uvipen_HAN\\src\\sent_att_model.py:29: UserWarning: Implicit dimension choice for softmax has been deprecated. Change the call to include dim=X as an argument.\n",
      "  output = F.softmax(output)\n"
     ]
    },
    {
     "name": "stdout",
     "output_type": "stream",
     "text": [
      "Epoch: 1/100, Iteration: 284/937, Lr: 0.1, Loss: 0.44916975498199463, Accuracy: 0.8359375\n"
     ]
    },
    {
     "name": "stderr",
     "output_type": "stream",
     "text": [
      "e:\\OneDrive - Hanoi University of Science and Technology\\Code project\\ML\\NLP\\uvipen_HAN\\src\\word_att_model.py:37: UserWarning: Implicit dimension choice for softmax has been deprecated. Change the call to include dim=X as an argument.\n",
      "  output = F.softmax(output)\n",
      "e:\\OneDrive - Hanoi University of Science and Technology\\Code project\\ML\\NLP\\uvipen_HAN\\src\\sent_att_model.py:29: UserWarning: Implicit dimension choice for softmax has been deprecated. Change the call to include dim=X as an argument.\n",
      "  output = F.softmax(output)\n"
     ]
    },
    {
     "name": "stdout",
     "output_type": "stream",
     "text": [
      "Epoch: 1/100, Iteration: 285/937, Lr: 0.1, Loss: 0.31604456901550293, Accuracy: 0.9140625\n"
     ]
    },
    {
     "name": "stderr",
     "output_type": "stream",
     "text": [
      "e:\\OneDrive - Hanoi University of Science and Technology\\Code project\\ML\\NLP\\uvipen_HAN\\src\\word_att_model.py:37: UserWarning: Implicit dimension choice for softmax has been deprecated. Change the call to include dim=X as an argument.\n",
      "  output = F.softmax(output)\n",
      "e:\\OneDrive - Hanoi University of Science and Technology\\Code project\\ML\\NLP\\uvipen_HAN\\src\\sent_att_model.py:29: UserWarning: Implicit dimension choice for softmax has been deprecated. Change the call to include dim=X as an argument.\n",
      "  output = F.softmax(output)\n"
     ]
    },
    {
     "name": "stdout",
     "output_type": "stream",
     "text": [
      "Epoch: 1/100, Iteration: 286/937, Lr: 0.1, Loss: 0.36273205280303955, Accuracy: 0.859375\n"
     ]
    },
    {
     "name": "stderr",
     "output_type": "stream",
     "text": [
      "e:\\OneDrive - Hanoi University of Science and Technology\\Code project\\ML\\NLP\\uvipen_HAN\\src\\word_att_model.py:37: UserWarning: Implicit dimension choice for softmax has been deprecated. Change the call to include dim=X as an argument.\n",
      "  output = F.softmax(output)\n",
      "e:\\OneDrive - Hanoi University of Science and Technology\\Code project\\ML\\NLP\\uvipen_HAN\\src\\sent_att_model.py:29: UserWarning: Implicit dimension choice for softmax has been deprecated. Change the call to include dim=X as an argument.\n",
      "  output = F.softmax(output)\n"
     ]
    },
    {
     "name": "stdout",
     "output_type": "stream",
     "text": [
      "Epoch: 1/100, Iteration: 287/937, Lr: 0.1, Loss: 0.3624345362186432, Accuracy: 0.890625\n"
     ]
    },
    {
     "name": "stderr",
     "output_type": "stream",
     "text": [
      "e:\\OneDrive - Hanoi University of Science and Technology\\Code project\\ML\\NLP\\uvipen_HAN\\src\\word_att_model.py:37: UserWarning: Implicit dimension choice for softmax has been deprecated. Change the call to include dim=X as an argument.\n",
      "  output = F.softmax(output)\n",
      "e:\\OneDrive - Hanoi University of Science and Technology\\Code project\\ML\\NLP\\uvipen_HAN\\src\\sent_att_model.py:29: UserWarning: Implicit dimension choice for softmax has been deprecated. Change the call to include dim=X as an argument.\n",
      "  output = F.softmax(output)\n"
     ]
    },
    {
     "name": "stdout",
     "output_type": "stream",
     "text": [
      "Epoch: 1/100, Iteration: 288/937, Lr: 0.1, Loss: 0.47419822216033936, Accuracy: 0.8515625\n"
     ]
    },
    {
     "name": "stderr",
     "output_type": "stream",
     "text": [
      "e:\\OneDrive - Hanoi University of Science and Technology\\Code project\\ML\\NLP\\uvipen_HAN\\src\\word_att_model.py:37: UserWarning: Implicit dimension choice for softmax has been deprecated. Change the call to include dim=X as an argument.\n",
      "  output = F.softmax(output)\n",
      "e:\\OneDrive - Hanoi University of Science and Technology\\Code project\\ML\\NLP\\uvipen_HAN\\src\\sent_att_model.py:29: UserWarning: Implicit dimension choice for softmax has been deprecated. Change the call to include dim=X as an argument.\n",
      "  output = F.softmax(output)\n"
     ]
    },
    {
     "name": "stdout",
     "output_type": "stream",
     "text": [
      "Epoch: 1/100, Iteration: 289/937, Lr: 0.1, Loss: 0.3629996180534363, Accuracy: 0.8984375\n"
     ]
    },
    {
     "name": "stderr",
     "output_type": "stream",
     "text": [
      "e:\\OneDrive - Hanoi University of Science and Technology\\Code project\\ML\\NLP\\uvipen_HAN\\src\\word_att_model.py:37: UserWarning: Implicit dimension choice for softmax has been deprecated. Change the call to include dim=X as an argument.\n",
      "  output = F.softmax(output)\n",
      "e:\\OneDrive - Hanoi University of Science and Technology\\Code project\\ML\\NLP\\uvipen_HAN\\src\\sent_att_model.py:29: UserWarning: Implicit dimension choice for softmax has been deprecated. Change the call to include dim=X as an argument.\n",
      "  output = F.softmax(output)\n"
     ]
    },
    {
     "name": "stdout",
     "output_type": "stream",
     "text": [
      "Epoch: 1/100, Iteration: 290/937, Lr: 0.1, Loss: 0.3108251690864563, Accuracy: 0.9140625\n"
     ]
    },
    {
     "name": "stderr",
     "output_type": "stream",
     "text": [
      "e:\\OneDrive - Hanoi University of Science and Technology\\Code project\\ML\\NLP\\uvipen_HAN\\src\\word_att_model.py:37: UserWarning: Implicit dimension choice for softmax has been deprecated. Change the call to include dim=X as an argument.\n",
      "  output = F.softmax(output)\n",
      "e:\\OneDrive - Hanoi University of Science and Technology\\Code project\\ML\\NLP\\uvipen_HAN\\src\\sent_att_model.py:29: UserWarning: Implicit dimension choice for softmax has been deprecated. Change the call to include dim=X as an argument.\n",
      "  output = F.softmax(output)\n"
     ]
    },
    {
     "name": "stdout",
     "output_type": "stream",
     "text": [
      "Epoch: 1/100, Iteration: 291/937, Lr: 0.1, Loss: 0.31353384256362915, Accuracy: 0.890625\n"
     ]
    },
    {
     "name": "stderr",
     "output_type": "stream",
     "text": [
      "e:\\OneDrive - Hanoi University of Science and Technology\\Code project\\ML\\NLP\\uvipen_HAN\\src\\word_att_model.py:37: UserWarning: Implicit dimension choice for softmax has been deprecated. Change the call to include dim=X as an argument.\n",
      "  output = F.softmax(output)\n",
      "e:\\OneDrive - Hanoi University of Science and Technology\\Code project\\ML\\NLP\\uvipen_HAN\\src\\sent_att_model.py:29: UserWarning: Implicit dimension choice for softmax has been deprecated. Change the call to include dim=X as an argument.\n",
      "  output = F.softmax(output)\n"
     ]
    },
    {
     "name": "stdout",
     "output_type": "stream",
     "text": [
      "Epoch: 1/100, Iteration: 292/937, Lr: 0.1, Loss: 0.4133458435535431, Accuracy: 0.8515625\n"
     ]
    },
    {
     "name": "stderr",
     "output_type": "stream",
     "text": [
      "e:\\OneDrive - Hanoi University of Science and Technology\\Code project\\ML\\NLP\\uvipen_HAN\\src\\word_att_model.py:37: UserWarning: Implicit dimension choice for softmax has been deprecated. Change the call to include dim=X as an argument.\n",
      "  output = F.softmax(output)\n",
      "e:\\OneDrive - Hanoi University of Science and Technology\\Code project\\ML\\NLP\\uvipen_HAN\\src\\sent_att_model.py:29: UserWarning: Implicit dimension choice for softmax has been deprecated. Change the call to include dim=X as an argument.\n",
      "  output = F.softmax(output)\n"
     ]
    },
    {
     "name": "stdout",
     "output_type": "stream",
     "text": [
      "Epoch: 1/100, Iteration: 293/937, Lr: 0.1, Loss: 0.4884800910949707, Accuracy: 0.8203125\n"
     ]
    },
    {
     "name": "stderr",
     "output_type": "stream",
     "text": [
      "e:\\OneDrive - Hanoi University of Science and Technology\\Code project\\ML\\NLP\\uvipen_HAN\\src\\word_att_model.py:37: UserWarning: Implicit dimension choice for softmax has been deprecated. Change the call to include dim=X as an argument.\n",
      "  output = F.softmax(output)\n",
      "e:\\OneDrive - Hanoi University of Science and Technology\\Code project\\ML\\NLP\\uvipen_HAN\\src\\sent_att_model.py:29: UserWarning: Implicit dimension choice for softmax has been deprecated. Change the call to include dim=X as an argument.\n",
      "  output = F.softmax(output)\n"
     ]
    },
    {
     "name": "stdout",
     "output_type": "stream",
     "text": [
      "Epoch: 1/100, Iteration: 294/937, Lr: 0.1, Loss: 0.3508632481098175, Accuracy: 0.875\n"
     ]
    },
    {
     "name": "stderr",
     "output_type": "stream",
     "text": [
      "e:\\OneDrive - Hanoi University of Science and Technology\\Code project\\ML\\NLP\\uvipen_HAN\\src\\word_att_model.py:37: UserWarning: Implicit dimension choice for softmax has been deprecated. Change the call to include dim=X as an argument.\n",
      "  output = F.softmax(output)\n",
      "e:\\OneDrive - Hanoi University of Science and Technology\\Code project\\ML\\NLP\\uvipen_HAN\\src\\sent_att_model.py:29: UserWarning: Implicit dimension choice for softmax has been deprecated. Change the call to include dim=X as an argument.\n",
      "  output = F.softmax(output)\n"
     ]
    },
    {
     "name": "stdout",
     "output_type": "stream",
     "text": [
      "Epoch: 1/100, Iteration: 295/937, Lr: 0.1, Loss: 0.36202120780944824, Accuracy: 0.859375\n"
     ]
    },
    {
     "name": "stderr",
     "output_type": "stream",
     "text": [
      "e:\\OneDrive - Hanoi University of Science and Technology\\Code project\\ML\\NLP\\uvipen_HAN\\src\\word_att_model.py:37: UserWarning: Implicit dimension choice for softmax has been deprecated. Change the call to include dim=X as an argument.\n",
      "  output = F.softmax(output)\n",
      "e:\\OneDrive - Hanoi University of Science and Technology\\Code project\\ML\\NLP\\uvipen_HAN\\src\\sent_att_model.py:29: UserWarning: Implicit dimension choice for softmax has been deprecated. Change the call to include dim=X as an argument.\n",
      "  output = F.softmax(output)\n"
     ]
    },
    {
     "name": "stdout",
     "output_type": "stream",
     "text": [
      "Epoch: 1/100, Iteration: 296/937, Lr: 0.1, Loss: 0.35301029682159424, Accuracy: 0.890625\n"
     ]
    },
    {
     "name": "stderr",
     "output_type": "stream",
     "text": [
      "e:\\OneDrive - Hanoi University of Science and Technology\\Code project\\ML\\NLP\\uvipen_HAN\\src\\word_att_model.py:37: UserWarning: Implicit dimension choice for softmax has been deprecated. Change the call to include dim=X as an argument.\n",
      "  output = F.softmax(output)\n",
      "e:\\OneDrive - Hanoi University of Science and Technology\\Code project\\ML\\NLP\\uvipen_HAN\\src\\sent_att_model.py:29: UserWarning: Implicit dimension choice for softmax has been deprecated. Change the call to include dim=X as an argument.\n",
      "  output = F.softmax(output)\n"
     ]
    },
    {
     "name": "stdout",
     "output_type": "stream",
     "text": [
      "Epoch: 1/100, Iteration: 297/937, Lr: 0.1, Loss: 0.3019297420978546, Accuracy: 0.90625\n"
     ]
    },
    {
     "name": "stderr",
     "output_type": "stream",
     "text": [
      "e:\\OneDrive - Hanoi University of Science and Technology\\Code project\\ML\\NLP\\uvipen_HAN\\src\\word_att_model.py:37: UserWarning: Implicit dimension choice for softmax has been deprecated. Change the call to include dim=X as an argument.\n",
      "  output = F.softmax(output)\n",
      "e:\\OneDrive - Hanoi University of Science and Technology\\Code project\\ML\\NLP\\uvipen_HAN\\src\\sent_att_model.py:29: UserWarning: Implicit dimension choice for softmax has been deprecated. Change the call to include dim=X as an argument.\n",
      "  output = F.softmax(output)\n"
     ]
    },
    {
     "name": "stdout",
     "output_type": "stream",
     "text": [
      "Epoch: 1/100, Iteration: 298/937, Lr: 0.1, Loss: 0.498297780752182, Accuracy: 0.8359375\n"
     ]
    },
    {
     "name": "stderr",
     "output_type": "stream",
     "text": [
      "e:\\OneDrive - Hanoi University of Science and Technology\\Code project\\ML\\NLP\\uvipen_HAN\\src\\word_att_model.py:37: UserWarning: Implicit dimension choice for softmax has been deprecated. Change the call to include dim=X as an argument.\n",
      "  output = F.softmax(output)\n",
      "e:\\OneDrive - Hanoi University of Science and Technology\\Code project\\ML\\NLP\\uvipen_HAN\\src\\sent_att_model.py:29: UserWarning: Implicit dimension choice for softmax has been deprecated. Change the call to include dim=X as an argument.\n",
      "  output = F.softmax(output)\n"
     ]
    },
    {
     "name": "stdout",
     "output_type": "stream",
     "text": [
      "Epoch: 1/100, Iteration: 299/937, Lr: 0.1, Loss: 0.3798617124557495, Accuracy: 0.8671875\n"
     ]
    },
    {
     "name": "stderr",
     "output_type": "stream",
     "text": [
      "e:\\OneDrive - Hanoi University of Science and Technology\\Code project\\ML\\NLP\\uvipen_HAN\\src\\word_att_model.py:37: UserWarning: Implicit dimension choice for softmax has been deprecated. Change the call to include dim=X as an argument.\n",
      "  output = F.softmax(output)\n",
      "e:\\OneDrive - Hanoi University of Science and Technology\\Code project\\ML\\NLP\\uvipen_HAN\\src\\sent_att_model.py:29: UserWarning: Implicit dimension choice for softmax has been deprecated. Change the call to include dim=X as an argument.\n",
      "  output = F.softmax(output)\n"
     ]
    },
    {
     "name": "stdout",
     "output_type": "stream",
     "text": [
      "Epoch: 1/100, Iteration: 300/937, Lr: 0.1, Loss: 0.34676724672317505, Accuracy: 0.8828125\n"
     ]
    },
    {
     "name": "stderr",
     "output_type": "stream",
     "text": [
      "e:\\OneDrive - Hanoi University of Science and Technology\\Code project\\ML\\NLP\\uvipen_HAN\\src\\word_att_model.py:37: UserWarning: Implicit dimension choice for softmax has been deprecated. Change the call to include dim=X as an argument.\n",
      "  output = F.softmax(output)\n",
      "e:\\OneDrive - Hanoi University of Science and Technology\\Code project\\ML\\NLP\\uvipen_HAN\\src\\sent_att_model.py:29: UserWarning: Implicit dimension choice for softmax has been deprecated. Change the call to include dim=X as an argument.\n",
      "  output = F.softmax(output)\n"
     ]
    },
    {
     "name": "stdout",
     "output_type": "stream",
     "text": [
      "Epoch: 1/100, Iteration: 301/937, Lr: 0.1, Loss: 0.30322137475013733, Accuracy: 0.890625\n"
     ]
    },
    {
     "name": "stderr",
     "output_type": "stream",
     "text": [
      "e:\\OneDrive - Hanoi University of Science and Technology\\Code project\\ML\\NLP\\uvipen_HAN\\src\\word_att_model.py:37: UserWarning: Implicit dimension choice for softmax has been deprecated. Change the call to include dim=X as an argument.\n",
      "  output = F.softmax(output)\n",
      "e:\\OneDrive - Hanoi University of Science and Technology\\Code project\\ML\\NLP\\uvipen_HAN\\src\\sent_att_model.py:29: UserWarning: Implicit dimension choice for softmax has been deprecated. Change the call to include dim=X as an argument.\n",
      "  output = F.softmax(output)\n"
     ]
    },
    {
     "name": "stdout",
     "output_type": "stream",
     "text": [
      "Epoch: 1/100, Iteration: 302/937, Lr: 0.1, Loss: 0.33089450001716614, Accuracy: 0.90625\n"
     ]
    },
    {
     "name": "stderr",
     "output_type": "stream",
     "text": [
      "e:\\OneDrive - Hanoi University of Science and Technology\\Code project\\ML\\NLP\\uvipen_HAN\\src\\word_att_model.py:37: UserWarning: Implicit dimension choice for softmax has been deprecated. Change the call to include dim=X as an argument.\n",
      "  output = F.softmax(output)\n",
      "e:\\OneDrive - Hanoi University of Science and Technology\\Code project\\ML\\NLP\\uvipen_HAN\\src\\sent_att_model.py:29: UserWarning: Implicit dimension choice for softmax has been deprecated. Change the call to include dim=X as an argument.\n",
      "  output = F.softmax(output)\n"
     ]
    },
    {
     "name": "stdout",
     "output_type": "stream",
     "text": [
      "Epoch: 1/100, Iteration: 303/937, Lr: 0.1, Loss: 0.34865817427635193, Accuracy: 0.8671875\n"
     ]
    },
    {
     "name": "stderr",
     "output_type": "stream",
     "text": [
      "e:\\OneDrive - Hanoi University of Science and Technology\\Code project\\ML\\NLP\\uvipen_HAN\\src\\word_att_model.py:37: UserWarning: Implicit dimension choice for softmax has been deprecated. Change the call to include dim=X as an argument.\n",
      "  output = F.softmax(output)\n",
      "e:\\OneDrive - Hanoi University of Science and Technology\\Code project\\ML\\NLP\\uvipen_HAN\\src\\sent_att_model.py:29: UserWarning: Implicit dimension choice for softmax has been deprecated. Change the call to include dim=X as an argument.\n",
      "  output = F.softmax(output)\n"
     ]
    },
    {
     "name": "stdout",
     "output_type": "stream",
     "text": [
      "Epoch: 1/100, Iteration: 304/937, Lr: 0.1, Loss: 0.4682157635688782, Accuracy: 0.8515625\n"
     ]
    },
    {
     "name": "stderr",
     "output_type": "stream",
     "text": [
      "e:\\OneDrive - Hanoi University of Science and Technology\\Code project\\ML\\NLP\\uvipen_HAN\\src\\word_att_model.py:37: UserWarning: Implicit dimension choice for softmax has been deprecated. Change the call to include dim=X as an argument.\n",
      "  output = F.softmax(output)\n",
      "e:\\OneDrive - Hanoi University of Science and Technology\\Code project\\ML\\NLP\\uvipen_HAN\\src\\sent_att_model.py:29: UserWarning: Implicit dimension choice for softmax has been deprecated. Change the call to include dim=X as an argument.\n",
      "  output = F.softmax(output)\n"
     ]
    },
    {
     "name": "stdout",
     "output_type": "stream",
     "text": [
      "Epoch: 1/100, Iteration: 305/937, Lr: 0.1, Loss: 0.41640421748161316, Accuracy: 0.84375\n"
     ]
    },
    {
     "name": "stderr",
     "output_type": "stream",
     "text": [
      "e:\\OneDrive - Hanoi University of Science and Technology\\Code project\\ML\\NLP\\uvipen_HAN\\src\\word_att_model.py:37: UserWarning: Implicit dimension choice for softmax has been deprecated. Change the call to include dim=X as an argument.\n",
      "  output = F.softmax(output)\n",
      "e:\\OneDrive - Hanoi University of Science and Technology\\Code project\\ML\\NLP\\uvipen_HAN\\src\\sent_att_model.py:29: UserWarning: Implicit dimension choice for softmax has been deprecated. Change the call to include dim=X as an argument.\n",
      "  output = F.softmax(output)\n"
     ]
    },
    {
     "name": "stdout",
     "output_type": "stream",
     "text": [
      "Epoch: 1/100, Iteration: 306/937, Lr: 0.1, Loss: 0.33374616503715515, Accuracy: 0.890625\n"
     ]
    },
    {
     "name": "stderr",
     "output_type": "stream",
     "text": [
      "e:\\OneDrive - Hanoi University of Science and Technology\\Code project\\ML\\NLP\\uvipen_HAN\\src\\word_att_model.py:37: UserWarning: Implicit dimension choice for softmax has been deprecated. Change the call to include dim=X as an argument.\n",
      "  output = F.softmax(output)\n",
      "e:\\OneDrive - Hanoi University of Science and Technology\\Code project\\ML\\NLP\\uvipen_HAN\\src\\sent_att_model.py:29: UserWarning: Implicit dimension choice for softmax has been deprecated. Change the call to include dim=X as an argument.\n",
      "  output = F.softmax(output)\n"
     ]
    },
    {
     "name": "stdout",
     "output_type": "stream",
     "text": [
      "Epoch: 1/100, Iteration: 307/937, Lr: 0.1, Loss: 0.19740654528141022, Accuracy: 0.9296875\n"
     ]
    },
    {
     "name": "stderr",
     "output_type": "stream",
     "text": [
      "e:\\OneDrive - Hanoi University of Science and Technology\\Code project\\ML\\NLP\\uvipen_HAN\\src\\word_att_model.py:37: UserWarning: Implicit dimension choice for softmax has been deprecated. Change the call to include dim=X as an argument.\n",
      "  output = F.softmax(output)\n",
      "e:\\OneDrive - Hanoi University of Science and Technology\\Code project\\ML\\NLP\\uvipen_HAN\\src\\sent_att_model.py:29: UserWarning: Implicit dimension choice for softmax has been deprecated. Change the call to include dim=X as an argument.\n",
      "  output = F.softmax(output)\n"
     ]
    },
    {
     "name": "stdout",
     "output_type": "stream",
     "text": [
      "Epoch: 1/100, Iteration: 308/937, Lr: 0.1, Loss: 0.24792346358299255, Accuracy: 0.90625\n"
     ]
    },
    {
     "name": "stderr",
     "output_type": "stream",
     "text": [
      "e:\\OneDrive - Hanoi University of Science and Technology\\Code project\\ML\\NLP\\uvipen_HAN\\src\\word_att_model.py:37: UserWarning: Implicit dimension choice for softmax has been deprecated. Change the call to include dim=X as an argument.\n",
      "  output = F.softmax(output)\n",
      "e:\\OneDrive - Hanoi University of Science and Technology\\Code project\\ML\\NLP\\uvipen_HAN\\src\\sent_att_model.py:29: UserWarning: Implicit dimension choice for softmax has been deprecated. Change the call to include dim=X as an argument.\n",
      "  output = F.softmax(output)\n"
     ]
    },
    {
     "name": "stdout",
     "output_type": "stream",
     "text": [
      "Epoch: 1/100, Iteration: 309/937, Lr: 0.1, Loss: 0.28189221024513245, Accuracy: 0.875\n"
     ]
    },
    {
     "name": "stderr",
     "output_type": "stream",
     "text": [
      "e:\\OneDrive - Hanoi University of Science and Technology\\Code project\\ML\\NLP\\uvipen_HAN\\src\\word_att_model.py:37: UserWarning: Implicit dimension choice for softmax has been deprecated. Change the call to include dim=X as an argument.\n",
      "  output = F.softmax(output)\n",
      "e:\\OneDrive - Hanoi University of Science and Technology\\Code project\\ML\\NLP\\uvipen_HAN\\src\\sent_att_model.py:29: UserWarning: Implicit dimension choice for softmax has been deprecated. Change the call to include dim=X as an argument.\n",
      "  output = F.softmax(output)\n"
     ]
    },
    {
     "name": "stdout",
     "output_type": "stream",
     "text": [
      "Epoch: 1/100, Iteration: 310/937, Lr: 0.1, Loss: 0.41524839401245117, Accuracy: 0.875\n"
     ]
    },
    {
     "name": "stderr",
     "output_type": "stream",
     "text": [
      "e:\\OneDrive - Hanoi University of Science and Technology\\Code project\\ML\\NLP\\uvipen_HAN\\src\\word_att_model.py:37: UserWarning: Implicit dimension choice for softmax has been deprecated. Change the call to include dim=X as an argument.\n",
      "  output = F.softmax(output)\n",
      "e:\\OneDrive - Hanoi University of Science and Technology\\Code project\\ML\\NLP\\uvipen_HAN\\src\\sent_att_model.py:29: UserWarning: Implicit dimension choice for softmax has been deprecated. Change the call to include dim=X as an argument.\n",
      "  output = F.softmax(output)\n"
     ]
    },
    {
     "name": "stdout",
     "output_type": "stream",
     "text": [
      "Epoch: 1/100, Iteration: 311/937, Lr: 0.1, Loss: 0.3476983904838562, Accuracy: 0.8671875\n"
     ]
    },
    {
     "name": "stderr",
     "output_type": "stream",
     "text": [
      "e:\\OneDrive - Hanoi University of Science and Technology\\Code project\\ML\\NLP\\uvipen_HAN\\src\\word_att_model.py:37: UserWarning: Implicit dimension choice for softmax has been deprecated. Change the call to include dim=X as an argument.\n",
      "  output = F.softmax(output)\n",
      "e:\\OneDrive - Hanoi University of Science and Technology\\Code project\\ML\\NLP\\uvipen_HAN\\src\\sent_att_model.py:29: UserWarning: Implicit dimension choice for softmax has been deprecated. Change the call to include dim=X as an argument.\n",
      "  output = F.softmax(output)\n"
     ]
    },
    {
     "name": "stdout",
     "output_type": "stream",
     "text": [
      "Epoch: 1/100, Iteration: 312/937, Lr: 0.1, Loss: 0.3044319450855255, Accuracy: 0.921875\n"
     ]
    },
    {
     "name": "stderr",
     "output_type": "stream",
     "text": [
      "e:\\OneDrive - Hanoi University of Science and Technology\\Code project\\ML\\NLP\\uvipen_HAN\\src\\word_att_model.py:37: UserWarning: Implicit dimension choice for softmax has been deprecated. Change the call to include dim=X as an argument.\n",
      "  output = F.softmax(output)\n",
      "e:\\OneDrive - Hanoi University of Science and Technology\\Code project\\ML\\NLP\\uvipen_HAN\\src\\sent_att_model.py:29: UserWarning: Implicit dimension choice for softmax has been deprecated. Change the call to include dim=X as an argument.\n",
      "  output = F.softmax(output)\n"
     ]
    },
    {
     "name": "stdout",
     "output_type": "stream",
     "text": [
      "Epoch: 1/100, Iteration: 313/937, Lr: 0.1, Loss: 0.32858842611312866, Accuracy: 0.859375\n"
     ]
    },
    {
     "name": "stderr",
     "output_type": "stream",
     "text": [
      "e:\\OneDrive - Hanoi University of Science and Technology\\Code project\\ML\\NLP\\uvipen_HAN\\src\\word_att_model.py:37: UserWarning: Implicit dimension choice for softmax has been deprecated. Change the call to include dim=X as an argument.\n",
      "  output = F.softmax(output)\n",
      "e:\\OneDrive - Hanoi University of Science and Technology\\Code project\\ML\\NLP\\uvipen_HAN\\src\\sent_att_model.py:29: UserWarning: Implicit dimension choice for softmax has been deprecated. Change the call to include dim=X as an argument.\n",
      "  output = F.softmax(output)\n"
     ]
    },
    {
     "name": "stdout",
     "output_type": "stream",
     "text": [
      "Epoch: 1/100, Iteration: 314/937, Lr: 0.1, Loss: 0.4229485094547272, Accuracy: 0.84375\n"
     ]
    },
    {
     "name": "stderr",
     "output_type": "stream",
     "text": [
      "e:\\OneDrive - Hanoi University of Science and Technology\\Code project\\ML\\NLP\\uvipen_HAN\\src\\word_att_model.py:37: UserWarning: Implicit dimension choice for softmax has been deprecated. Change the call to include dim=X as an argument.\n",
      "  output = F.softmax(output)\n",
      "e:\\OneDrive - Hanoi University of Science and Technology\\Code project\\ML\\NLP\\uvipen_HAN\\src\\sent_att_model.py:29: UserWarning: Implicit dimension choice for softmax has been deprecated. Change the call to include dim=X as an argument.\n",
      "  output = F.softmax(output)\n"
     ]
    },
    {
     "name": "stdout",
     "output_type": "stream",
     "text": [
      "Epoch: 1/100, Iteration: 315/937, Lr: 0.1, Loss: 0.3678535521030426, Accuracy: 0.8828125\n"
     ]
    },
    {
     "name": "stderr",
     "output_type": "stream",
     "text": [
      "e:\\OneDrive - Hanoi University of Science and Technology\\Code project\\ML\\NLP\\uvipen_HAN\\src\\word_att_model.py:37: UserWarning: Implicit dimension choice for softmax has been deprecated. Change the call to include dim=X as an argument.\n",
      "  output = F.softmax(output)\n",
      "e:\\OneDrive - Hanoi University of Science and Technology\\Code project\\ML\\NLP\\uvipen_HAN\\src\\sent_att_model.py:29: UserWarning: Implicit dimension choice for softmax has been deprecated. Change the call to include dim=X as an argument.\n",
      "  output = F.softmax(output)\n"
     ]
    },
    {
     "name": "stdout",
     "output_type": "stream",
     "text": [
      "Epoch: 1/100, Iteration: 316/937, Lr: 0.1, Loss: 0.266529381275177, Accuracy: 0.9140625\n"
     ]
    },
    {
     "name": "stderr",
     "output_type": "stream",
     "text": [
      "e:\\OneDrive - Hanoi University of Science and Technology\\Code project\\ML\\NLP\\uvipen_HAN\\src\\word_att_model.py:37: UserWarning: Implicit dimension choice for softmax has been deprecated. Change the call to include dim=X as an argument.\n",
      "  output = F.softmax(output)\n",
      "e:\\OneDrive - Hanoi University of Science and Technology\\Code project\\ML\\NLP\\uvipen_HAN\\src\\sent_att_model.py:29: UserWarning: Implicit dimension choice for softmax has been deprecated. Change the call to include dim=X as an argument.\n",
      "  output = F.softmax(output)\n"
     ]
    },
    {
     "name": "stdout",
     "output_type": "stream",
     "text": [
      "Epoch: 1/100, Iteration: 317/937, Lr: 0.1, Loss: 0.20587220788002014, Accuracy: 0.9375\n"
     ]
    },
    {
     "name": "stderr",
     "output_type": "stream",
     "text": [
      "e:\\OneDrive - Hanoi University of Science and Technology\\Code project\\ML\\NLP\\uvipen_HAN\\src\\word_att_model.py:37: UserWarning: Implicit dimension choice for softmax has been deprecated. Change the call to include dim=X as an argument.\n",
      "  output = F.softmax(output)\n",
      "e:\\OneDrive - Hanoi University of Science and Technology\\Code project\\ML\\NLP\\uvipen_HAN\\src\\sent_att_model.py:29: UserWarning: Implicit dimension choice for softmax has been deprecated. Change the call to include dim=X as an argument.\n",
      "  output = F.softmax(output)\n"
     ]
    },
    {
     "name": "stdout",
     "output_type": "stream",
     "text": [
      "Epoch: 1/100, Iteration: 318/937, Lr: 0.1, Loss: 0.3257705867290497, Accuracy: 0.859375\n"
     ]
    },
    {
     "name": "stderr",
     "output_type": "stream",
     "text": [
      "e:\\OneDrive - Hanoi University of Science and Technology\\Code project\\ML\\NLP\\uvipen_HAN\\src\\word_att_model.py:37: UserWarning: Implicit dimension choice for softmax has been deprecated. Change the call to include dim=X as an argument.\n",
      "  output = F.softmax(output)\n",
      "e:\\OneDrive - Hanoi University of Science and Technology\\Code project\\ML\\NLP\\uvipen_HAN\\src\\sent_att_model.py:29: UserWarning: Implicit dimension choice for softmax has been deprecated. Change the call to include dim=X as an argument.\n",
      "  output = F.softmax(output)\n"
     ]
    },
    {
     "name": "stdout",
     "output_type": "stream",
     "text": [
      "Epoch: 1/100, Iteration: 319/937, Lr: 0.1, Loss: 0.39276954531669617, Accuracy: 0.859375\n"
     ]
    },
    {
     "name": "stderr",
     "output_type": "stream",
     "text": [
      "e:\\OneDrive - Hanoi University of Science and Technology\\Code project\\ML\\NLP\\uvipen_HAN\\src\\word_att_model.py:37: UserWarning: Implicit dimension choice for softmax has been deprecated. Change the call to include dim=X as an argument.\n",
      "  output = F.softmax(output)\n",
      "e:\\OneDrive - Hanoi University of Science and Technology\\Code project\\ML\\NLP\\uvipen_HAN\\src\\sent_att_model.py:29: UserWarning: Implicit dimension choice for softmax has been deprecated. Change the call to include dim=X as an argument.\n",
      "  output = F.softmax(output)\n"
     ]
    },
    {
     "name": "stdout",
     "output_type": "stream",
     "text": [
      "Epoch: 1/100, Iteration: 320/937, Lr: 0.1, Loss: 0.37109625339508057, Accuracy: 0.890625\n"
     ]
    },
    {
     "name": "stderr",
     "output_type": "stream",
     "text": [
      "e:\\OneDrive - Hanoi University of Science and Technology\\Code project\\ML\\NLP\\uvipen_HAN\\src\\word_att_model.py:37: UserWarning: Implicit dimension choice for softmax has been deprecated. Change the call to include dim=X as an argument.\n",
      "  output = F.softmax(output)\n",
      "e:\\OneDrive - Hanoi University of Science and Technology\\Code project\\ML\\NLP\\uvipen_HAN\\src\\sent_att_model.py:29: UserWarning: Implicit dimension choice for softmax has been deprecated. Change the call to include dim=X as an argument.\n",
      "  output = F.softmax(output)\n"
     ]
    },
    {
     "name": "stdout",
     "output_type": "stream",
     "text": [
      "Epoch: 1/100, Iteration: 321/937, Lr: 0.1, Loss: 0.39817121624946594, Accuracy: 0.8671875\n"
     ]
    },
    {
     "name": "stderr",
     "output_type": "stream",
     "text": [
      "e:\\OneDrive - Hanoi University of Science and Technology\\Code project\\ML\\NLP\\uvipen_HAN\\src\\word_att_model.py:37: UserWarning: Implicit dimension choice for softmax has been deprecated. Change the call to include dim=X as an argument.\n",
      "  output = F.softmax(output)\n",
      "e:\\OneDrive - Hanoi University of Science and Technology\\Code project\\ML\\NLP\\uvipen_HAN\\src\\sent_att_model.py:29: UserWarning: Implicit dimension choice for softmax has been deprecated. Change the call to include dim=X as an argument.\n",
      "  output = F.softmax(output)\n"
     ]
    },
    {
     "name": "stdout",
     "output_type": "stream",
     "text": [
      "Epoch: 1/100, Iteration: 322/937, Lr: 0.1, Loss: 0.3312411904335022, Accuracy: 0.90625\n"
     ]
    },
    {
     "name": "stderr",
     "output_type": "stream",
     "text": [
      "e:\\OneDrive - Hanoi University of Science and Technology\\Code project\\ML\\NLP\\uvipen_HAN\\src\\word_att_model.py:37: UserWarning: Implicit dimension choice for softmax has been deprecated. Change the call to include dim=X as an argument.\n",
      "  output = F.softmax(output)\n",
      "e:\\OneDrive - Hanoi University of Science and Technology\\Code project\\ML\\NLP\\uvipen_HAN\\src\\sent_att_model.py:29: UserWarning: Implicit dimension choice for softmax has been deprecated. Change the call to include dim=X as an argument.\n",
      "  output = F.softmax(output)\n"
     ]
    },
    {
     "name": "stdout",
     "output_type": "stream",
     "text": [
      "Epoch: 1/100, Iteration: 323/937, Lr: 0.1, Loss: 0.372234046459198, Accuracy: 0.8515625\n"
     ]
    },
    {
     "name": "stderr",
     "output_type": "stream",
     "text": [
      "e:\\OneDrive - Hanoi University of Science and Technology\\Code project\\ML\\NLP\\uvipen_HAN\\src\\word_att_model.py:37: UserWarning: Implicit dimension choice for softmax has been deprecated. Change the call to include dim=X as an argument.\n",
      "  output = F.softmax(output)\n",
      "e:\\OneDrive - Hanoi University of Science and Technology\\Code project\\ML\\NLP\\uvipen_HAN\\src\\sent_att_model.py:29: UserWarning: Implicit dimension choice for softmax has been deprecated. Change the call to include dim=X as an argument.\n",
      "  output = F.softmax(output)\n"
     ]
    },
    {
     "name": "stdout",
     "output_type": "stream",
     "text": [
      "Epoch: 1/100, Iteration: 324/937, Lr: 0.1, Loss: 0.46011608839035034, Accuracy: 0.828125\n"
     ]
    },
    {
     "name": "stderr",
     "output_type": "stream",
     "text": [
      "e:\\OneDrive - Hanoi University of Science and Technology\\Code project\\ML\\NLP\\uvipen_HAN\\src\\word_att_model.py:37: UserWarning: Implicit dimension choice for softmax has been deprecated. Change the call to include dim=X as an argument.\n",
      "  output = F.softmax(output)\n",
      "e:\\OneDrive - Hanoi University of Science and Technology\\Code project\\ML\\NLP\\uvipen_HAN\\src\\sent_att_model.py:29: UserWarning: Implicit dimension choice for softmax has been deprecated. Change the call to include dim=X as an argument.\n",
      "  output = F.softmax(output)\n"
     ]
    },
    {
     "name": "stdout",
     "output_type": "stream",
     "text": [
      "Epoch: 1/100, Iteration: 325/937, Lr: 0.1, Loss: 0.3458651602268219, Accuracy: 0.8984375\n"
     ]
    },
    {
     "name": "stderr",
     "output_type": "stream",
     "text": [
      "e:\\OneDrive - Hanoi University of Science and Technology\\Code project\\ML\\NLP\\uvipen_HAN\\src\\word_att_model.py:37: UserWarning: Implicit dimension choice for softmax has been deprecated. Change the call to include dim=X as an argument.\n",
      "  output = F.softmax(output)\n",
      "e:\\OneDrive - Hanoi University of Science and Technology\\Code project\\ML\\NLP\\uvipen_HAN\\src\\sent_att_model.py:29: UserWarning: Implicit dimension choice for softmax has been deprecated. Change the call to include dim=X as an argument.\n",
      "  output = F.softmax(output)\n"
     ]
    },
    {
     "name": "stdout",
     "output_type": "stream",
     "text": [
      "Epoch: 1/100, Iteration: 326/937, Lr: 0.1, Loss: 0.48457157611846924, Accuracy: 0.84375\n"
     ]
    },
    {
     "name": "stderr",
     "output_type": "stream",
     "text": [
      "e:\\OneDrive - Hanoi University of Science and Technology\\Code project\\ML\\NLP\\uvipen_HAN\\src\\word_att_model.py:37: UserWarning: Implicit dimension choice for softmax has been deprecated. Change the call to include dim=X as an argument.\n",
      "  output = F.softmax(output)\n",
      "e:\\OneDrive - Hanoi University of Science and Technology\\Code project\\ML\\NLP\\uvipen_HAN\\src\\sent_att_model.py:29: UserWarning: Implicit dimension choice for softmax has been deprecated. Change the call to include dim=X as an argument.\n",
      "  output = F.softmax(output)\n"
     ]
    },
    {
     "name": "stdout",
     "output_type": "stream",
     "text": [
      "Epoch: 1/100, Iteration: 327/937, Lr: 0.1, Loss: 0.20450735092163086, Accuracy: 0.953125\n"
     ]
    },
    {
     "name": "stderr",
     "output_type": "stream",
     "text": [
      "e:\\OneDrive - Hanoi University of Science and Technology\\Code project\\ML\\NLP\\uvipen_HAN\\src\\word_att_model.py:37: UserWarning: Implicit dimension choice for softmax has been deprecated. Change the call to include dim=X as an argument.\n",
      "  output = F.softmax(output)\n",
      "e:\\OneDrive - Hanoi University of Science and Technology\\Code project\\ML\\NLP\\uvipen_HAN\\src\\sent_att_model.py:29: UserWarning: Implicit dimension choice for softmax has been deprecated. Change the call to include dim=X as an argument.\n",
      "  output = F.softmax(output)\n"
     ]
    },
    {
     "name": "stdout",
     "output_type": "stream",
     "text": [
      "Epoch: 1/100, Iteration: 328/937, Lr: 0.1, Loss: 0.297936350107193, Accuracy: 0.9140625\n"
     ]
    },
    {
     "name": "stderr",
     "output_type": "stream",
     "text": [
      "e:\\OneDrive - Hanoi University of Science and Technology\\Code project\\ML\\NLP\\uvipen_HAN\\src\\word_att_model.py:37: UserWarning: Implicit dimension choice for softmax has been deprecated. Change the call to include dim=X as an argument.\n",
      "  output = F.softmax(output)\n",
      "e:\\OneDrive - Hanoi University of Science and Technology\\Code project\\ML\\NLP\\uvipen_HAN\\src\\sent_att_model.py:29: UserWarning: Implicit dimension choice for softmax has been deprecated. Change the call to include dim=X as an argument.\n",
      "  output = F.softmax(output)\n"
     ]
    },
    {
     "name": "stdout",
     "output_type": "stream",
     "text": [
      "Epoch: 1/100, Iteration: 329/937, Lr: 0.1, Loss: 0.4253818690776825, Accuracy: 0.84375\n"
     ]
    },
    {
     "name": "stderr",
     "output_type": "stream",
     "text": [
      "e:\\OneDrive - Hanoi University of Science and Technology\\Code project\\ML\\NLP\\uvipen_HAN\\src\\word_att_model.py:37: UserWarning: Implicit dimension choice for softmax has been deprecated. Change the call to include dim=X as an argument.\n",
      "  output = F.softmax(output)\n",
      "e:\\OneDrive - Hanoi University of Science and Technology\\Code project\\ML\\NLP\\uvipen_HAN\\src\\sent_att_model.py:29: UserWarning: Implicit dimension choice for softmax has been deprecated. Change the call to include dim=X as an argument.\n",
      "  output = F.softmax(output)\n"
     ]
    },
    {
     "name": "stdout",
     "output_type": "stream",
     "text": [
      "Epoch: 1/100, Iteration: 330/937, Lr: 0.1, Loss: 0.2803223729133606, Accuracy: 0.8828125\n"
     ]
    },
    {
     "name": "stderr",
     "output_type": "stream",
     "text": [
      "e:\\OneDrive - Hanoi University of Science and Technology\\Code project\\ML\\NLP\\uvipen_HAN\\src\\word_att_model.py:37: UserWarning: Implicit dimension choice for softmax has been deprecated. Change the call to include dim=X as an argument.\n",
      "  output = F.softmax(output)\n",
      "e:\\OneDrive - Hanoi University of Science and Technology\\Code project\\ML\\NLP\\uvipen_HAN\\src\\sent_att_model.py:29: UserWarning: Implicit dimension choice for softmax has been deprecated. Change the call to include dim=X as an argument.\n",
      "  output = F.softmax(output)\n"
     ]
    },
    {
     "name": "stdout",
     "output_type": "stream",
     "text": [
      "Epoch: 1/100, Iteration: 331/937, Lr: 0.1, Loss: 0.40835073590278625, Accuracy: 0.875\n"
     ]
    },
    {
     "name": "stderr",
     "output_type": "stream",
     "text": [
      "e:\\OneDrive - Hanoi University of Science and Technology\\Code project\\ML\\NLP\\uvipen_HAN\\src\\word_att_model.py:37: UserWarning: Implicit dimension choice for softmax has been deprecated. Change the call to include dim=X as an argument.\n",
      "  output = F.softmax(output)\n",
      "e:\\OneDrive - Hanoi University of Science and Technology\\Code project\\ML\\NLP\\uvipen_HAN\\src\\sent_att_model.py:29: UserWarning: Implicit dimension choice for softmax has been deprecated. Change the call to include dim=X as an argument.\n",
      "  output = F.softmax(output)\n"
     ]
    },
    {
     "name": "stdout",
     "output_type": "stream",
     "text": [
      "Epoch: 1/100, Iteration: 332/937, Lr: 0.1, Loss: 0.3185495138168335, Accuracy: 0.8828125\n"
     ]
    },
    {
     "name": "stderr",
     "output_type": "stream",
     "text": [
      "e:\\OneDrive - Hanoi University of Science and Technology\\Code project\\ML\\NLP\\uvipen_HAN\\src\\word_att_model.py:37: UserWarning: Implicit dimension choice for softmax has been deprecated. Change the call to include dim=X as an argument.\n",
      "  output = F.softmax(output)\n",
      "e:\\OneDrive - Hanoi University of Science and Technology\\Code project\\ML\\NLP\\uvipen_HAN\\src\\sent_att_model.py:29: UserWarning: Implicit dimension choice for softmax has been deprecated. Change the call to include dim=X as an argument.\n",
      "  output = F.softmax(output)\n"
     ]
    },
    {
     "name": "stdout",
     "output_type": "stream",
     "text": [
      "Epoch: 1/100, Iteration: 333/937, Lr: 0.1, Loss: 0.32031145691871643, Accuracy: 0.8828125\n"
     ]
    },
    {
     "name": "stderr",
     "output_type": "stream",
     "text": [
      "e:\\OneDrive - Hanoi University of Science and Technology\\Code project\\ML\\NLP\\uvipen_HAN\\src\\word_att_model.py:37: UserWarning: Implicit dimension choice for softmax has been deprecated. Change the call to include dim=X as an argument.\n",
      "  output = F.softmax(output)\n",
      "e:\\OneDrive - Hanoi University of Science and Technology\\Code project\\ML\\NLP\\uvipen_HAN\\src\\sent_att_model.py:29: UserWarning: Implicit dimension choice for softmax has been deprecated. Change the call to include dim=X as an argument.\n",
      "  output = F.softmax(output)\n"
     ]
    },
    {
     "name": "stdout",
     "output_type": "stream",
     "text": [
      "Epoch: 1/100, Iteration: 334/937, Lr: 0.1, Loss: 0.35316938161849976, Accuracy: 0.890625\n"
     ]
    },
    {
     "name": "stderr",
     "output_type": "stream",
     "text": [
      "e:\\OneDrive - Hanoi University of Science and Technology\\Code project\\ML\\NLP\\uvipen_HAN\\src\\word_att_model.py:37: UserWarning: Implicit dimension choice for softmax has been deprecated. Change the call to include dim=X as an argument.\n",
      "  output = F.softmax(output)\n",
      "e:\\OneDrive - Hanoi University of Science and Technology\\Code project\\ML\\NLP\\uvipen_HAN\\src\\sent_att_model.py:29: UserWarning: Implicit dimension choice for softmax has been deprecated. Change the call to include dim=X as an argument.\n",
      "  output = F.softmax(output)\n"
     ]
    },
    {
     "name": "stdout",
     "output_type": "stream",
     "text": [
      "Epoch: 1/100, Iteration: 335/937, Lr: 0.1, Loss: 0.24299566447734833, Accuracy: 0.9140625\n"
     ]
    },
    {
     "name": "stderr",
     "output_type": "stream",
     "text": [
      "e:\\OneDrive - Hanoi University of Science and Technology\\Code project\\ML\\NLP\\uvipen_HAN\\src\\word_att_model.py:37: UserWarning: Implicit dimension choice for softmax has been deprecated. Change the call to include dim=X as an argument.\n",
      "  output = F.softmax(output)\n",
      "e:\\OneDrive - Hanoi University of Science and Technology\\Code project\\ML\\NLP\\uvipen_HAN\\src\\sent_att_model.py:29: UserWarning: Implicit dimension choice for softmax has been deprecated. Change the call to include dim=X as an argument.\n",
      "  output = F.softmax(output)\n"
     ]
    },
    {
     "name": "stdout",
     "output_type": "stream",
     "text": [
      "Epoch: 1/100, Iteration: 336/937, Lr: 0.1, Loss: 0.5028677582740784, Accuracy: 0.8203125\n"
     ]
    },
    {
     "name": "stderr",
     "output_type": "stream",
     "text": [
      "e:\\OneDrive - Hanoi University of Science and Technology\\Code project\\ML\\NLP\\uvipen_HAN\\src\\word_att_model.py:37: UserWarning: Implicit dimension choice for softmax has been deprecated. Change the call to include dim=X as an argument.\n",
      "  output = F.softmax(output)\n",
      "e:\\OneDrive - Hanoi University of Science and Technology\\Code project\\ML\\NLP\\uvipen_HAN\\src\\sent_att_model.py:29: UserWarning: Implicit dimension choice for softmax has been deprecated. Change the call to include dim=X as an argument.\n",
      "  output = F.softmax(output)\n"
     ]
    },
    {
     "name": "stdout",
     "output_type": "stream",
     "text": [
      "Epoch: 1/100, Iteration: 337/937, Lr: 0.1, Loss: 0.34249451756477356, Accuracy: 0.890625\n"
     ]
    },
    {
     "name": "stderr",
     "output_type": "stream",
     "text": [
      "e:\\OneDrive - Hanoi University of Science and Technology\\Code project\\ML\\NLP\\uvipen_HAN\\src\\word_att_model.py:37: UserWarning: Implicit dimension choice for softmax has been deprecated. Change the call to include dim=X as an argument.\n",
      "  output = F.softmax(output)\n",
      "e:\\OneDrive - Hanoi University of Science and Technology\\Code project\\ML\\NLP\\uvipen_HAN\\src\\sent_att_model.py:29: UserWarning: Implicit dimension choice for softmax has been deprecated. Change the call to include dim=X as an argument.\n",
      "  output = F.softmax(output)\n"
     ]
    },
    {
     "name": "stdout",
     "output_type": "stream",
     "text": [
      "Epoch: 1/100, Iteration: 338/937, Lr: 0.1, Loss: 0.25839412212371826, Accuracy: 0.9140625\n"
     ]
    },
    {
     "name": "stderr",
     "output_type": "stream",
     "text": [
      "e:\\OneDrive - Hanoi University of Science and Technology\\Code project\\ML\\NLP\\uvipen_HAN\\src\\word_att_model.py:37: UserWarning: Implicit dimension choice for softmax has been deprecated. Change the call to include dim=X as an argument.\n",
      "  output = F.softmax(output)\n",
      "e:\\OneDrive - Hanoi University of Science and Technology\\Code project\\ML\\NLP\\uvipen_HAN\\src\\sent_att_model.py:29: UserWarning: Implicit dimension choice for softmax has been deprecated. Change the call to include dim=X as an argument.\n",
      "  output = F.softmax(output)\n"
     ]
    },
    {
     "name": "stdout",
     "output_type": "stream",
     "text": [
      "Epoch: 1/100, Iteration: 339/937, Lr: 0.1, Loss: 0.3452199101448059, Accuracy: 0.9140625\n"
     ]
    },
    {
     "name": "stderr",
     "output_type": "stream",
     "text": [
      "e:\\OneDrive - Hanoi University of Science and Technology\\Code project\\ML\\NLP\\uvipen_HAN\\src\\word_att_model.py:37: UserWarning: Implicit dimension choice for softmax has been deprecated. Change the call to include dim=X as an argument.\n",
      "  output = F.softmax(output)\n",
      "e:\\OneDrive - Hanoi University of Science and Technology\\Code project\\ML\\NLP\\uvipen_HAN\\src\\sent_att_model.py:29: UserWarning: Implicit dimension choice for softmax has been deprecated. Change the call to include dim=X as an argument.\n",
      "  output = F.softmax(output)\n"
     ]
    },
    {
     "name": "stdout",
     "output_type": "stream",
     "text": [
      "Epoch: 1/100, Iteration: 340/937, Lr: 0.1, Loss: 0.2461729794740677, Accuracy: 0.9375\n"
     ]
    },
    {
     "name": "stderr",
     "output_type": "stream",
     "text": [
      "e:\\OneDrive - Hanoi University of Science and Technology\\Code project\\ML\\NLP\\uvipen_HAN\\src\\word_att_model.py:37: UserWarning: Implicit dimension choice for softmax has been deprecated. Change the call to include dim=X as an argument.\n",
      "  output = F.softmax(output)\n",
      "e:\\OneDrive - Hanoi University of Science and Technology\\Code project\\ML\\NLP\\uvipen_HAN\\src\\sent_att_model.py:29: UserWarning: Implicit dimension choice for softmax has been deprecated. Change the call to include dim=X as an argument.\n",
      "  output = F.softmax(output)\n"
     ]
    },
    {
     "name": "stdout",
     "output_type": "stream",
     "text": [
      "Epoch: 1/100, Iteration: 341/937, Lr: 0.1, Loss: 0.31346532702445984, Accuracy: 0.8984375\n"
     ]
    },
    {
     "name": "stderr",
     "output_type": "stream",
     "text": [
      "e:\\OneDrive - Hanoi University of Science and Technology\\Code project\\ML\\NLP\\uvipen_HAN\\src\\word_att_model.py:37: UserWarning: Implicit dimension choice for softmax has been deprecated. Change the call to include dim=X as an argument.\n",
      "  output = F.softmax(output)\n",
      "e:\\OneDrive - Hanoi University of Science and Technology\\Code project\\ML\\NLP\\uvipen_HAN\\src\\sent_att_model.py:29: UserWarning: Implicit dimension choice for softmax has been deprecated. Change the call to include dim=X as an argument.\n",
      "  output = F.softmax(output)\n"
     ]
    },
    {
     "name": "stdout",
     "output_type": "stream",
     "text": [
      "Epoch: 1/100, Iteration: 342/937, Lr: 0.1, Loss: 0.305952787399292, Accuracy: 0.8828125\n"
     ]
    },
    {
     "name": "stderr",
     "output_type": "stream",
     "text": [
      "e:\\OneDrive - Hanoi University of Science and Technology\\Code project\\ML\\NLP\\uvipen_HAN\\src\\word_att_model.py:37: UserWarning: Implicit dimension choice for softmax has been deprecated. Change the call to include dim=X as an argument.\n",
      "  output = F.softmax(output)\n",
      "e:\\OneDrive - Hanoi University of Science and Technology\\Code project\\ML\\NLP\\uvipen_HAN\\src\\sent_att_model.py:29: UserWarning: Implicit dimension choice for softmax has been deprecated. Change the call to include dim=X as an argument.\n",
      "  output = F.softmax(output)\n"
     ]
    },
    {
     "name": "stdout",
     "output_type": "stream",
     "text": [
      "Epoch: 1/100, Iteration: 343/937, Lr: 0.1, Loss: 0.2815123498439789, Accuracy: 0.921875\n"
     ]
    },
    {
     "name": "stderr",
     "output_type": "stream",
     "text": [
      "e:\\OneDrive - Hanoi University of Science and Technology\\Code project\\ML\\NLP\\uvipen_HAN\\src\\word_att_model.py:37: UserWarning: Implicit dimension choice for softmax has been deprecated. Change the call to include dim=X as an argument.\n",
      "  output = F.softmax(output)\n",
      "e:\\OneDrive - Hanoi University of Science and Technology\\Code project\\ML\\NLP\\uvipen_HAN\\src\\sent_att_model.py:29: UserWarning: Implicit dimension choice for softmax has been deprecated. Change the call to include dim=X as an argument.\n",
      "  output = F.softmax(output)\n"
     ]
    },
    {
     "name": "stdout",
     "output_type": "stream",
     "text": [
      "Epoch: 1/100, Iteration: 344/937, Lr: 0.1, Loss: 0.19738900661468506, Accuracy: 0.921875\n"
     ]
    },
    {
     "name": "stderr",
     "output_type": "stream",
     "text": [
      "e:\\OneDrive - Hanoi University of Science and Technology\\Code project\\ML\\NLP\\uvipen_HAN\\src\\word_att_model.py:37: UserWarning: Implicit dimension choice for softmax has been deprecated. Change the call to include dim=X as an argument.\n",
      "  output = F.softmax(output)\n",
      "e:\\OneDrive - Hanoi University of Science and Technology\\Code project\\ML\\NLP\\uvipen_HAN\\src\\sent_att_model.py:29: UserWarning: Implicit dimension choice for softmax has been deprecated. Change the call to include dim=X as an argument.\n",
      "  output = F.softmax(output)\n"
     ]
    },
    {
     "name": "stdout",
     "output_type": "stream",
     "text": [
      "Epoch: 1/100, Iteration: 345/937, Lr: 0.1, Loss: 0.37673529982566833, Accuracy: 0.8671875\n"
     ]
    },
    {
     "name": "stderr",
     "output_type": "stream",
     "text": [
      "e:\\OneDrive - Hanoi University of Science and Technology\\Code project\\ML\\NLP\\uvipen_HAN\\src\\word_att_model.py:37: UserWarning: Implicit dimension choice for softmax has been deprecated. Change the call to include dim=X as an argument.\n",
      "  output = F.softmax(output)\n",
      "e:\\OneDrive - Hanoi University of Science and Technology\\Code project\\ML\\NLP\\uvipen_HAN\\src\\sent_att_model.py:29: UserWarning: Implicit dimension choice for softmax has been deprecated. Change the call to include dim=X as an argument.\n",
      "  output = F.softmax(output)\n"
     ]
    },
    {
     "name": "stdout",
     "output_type": "stream",
     "text": [
      "Epoch: 1/100, Iteration: 346/937, Lr: 0.1, Loss: 0.39379510283470154, Accuracy: 0.859375\n"
     ]
    },
    {
     "name": "stderr",
     "output_type": "stream",
     "text": [
      "e:\\OneDrive - Hanoi University of Science and Technology\\Code project\\ML\\NLP\\uvipen_HAN\\src\\word_att_model.py:37: UserWarning: Implicit dimension choice for softmax has been deprecated. Change the call to include dim=X as an argument.\n",
      "  output = F.softmax(output)\n",
      "e:\\OneDrive - Hanoi University of Science and Technology\\Code project\\ML\\NLP\\uvipen_HAN\\src\\sent_att_model.py:29: UserWarning: Implicit dimension choice for softmax has been deprecated. Change the call to include dim=X as an argument.\n",
      "  output = F.softmax(output)\n"
     ]
    },
    {
     "name": "stdout",
     "output_type": "stream",
     "text": [
      "Epoch: 1/100, Iteration: 347/937, Lr: 0.1, Loss: 0.3145929276943207, Accuracy: 0.8828125\n"
     ]
    },
    {
     "name": "stderr",
     "output_type": "stream",
     "text": [
      "e:\\OneDrive - Hanoi University of Science and Technology\\Code project\\ML\\NLP\\uvipen_HAN\\src\\word_att_model.py:37: UserWarning: Implicit dimension choice for softmax has been deprecated. Change the call to include dim=X as an argument.\n",
      "  output = F.softmax(output)\n",
      "e:\\OneDrive - Hanoi University of Science and Technology\\Code project\\ML\\NLP\\uvipen_HAN\\src\\sent_att_model.py:29: UserWarning: Implicit dimension choice for softmax has been deprecated. Change the call to include dim=X as an argument.\n",
      "  output = F.softmax(output)\n"
     ]
    },
    {
     "name": "stdout",
     "output_type": "stream",
     "text": [
      "Epoch: 1/100, Iteration: 348/937, Lr: 0.1, Loss: 0.4664821922779083, Accuracy: 0.8359375\n"
     ]
    },
    {
     "name": "stderr",
     "output_type": "stream",
     "text": [
      "e:\\OneDrive - Hanoi University of Science and Technology\\Code project\\ML\\NLP\\uvipen_HAN\\src\\word_att_model.py:37: UserWarning: Implicit dimension choice for softmax has been deprecated. Change the call to include dim=X as an argument.\n",
      "  output = F.softmax(output)\n",
      "e:\\OneDrive - Hanoi University of Science and Technology\\Code project\\ML\\NLP\\uvipen_HAN\\src\\sent_att_model.py:29: UserWarning: Implicit dimension choice for softmax has been deprecated. Change the call to include dim=X as an argument.\n",
      "  output = F.softmax(output)\n"
     ]
    },
    {
     "name": "stdout",
     "output_type": "stream",
     "text": [
      "Epoch: 1/100, Iteration: 349/937, Lr: 0.1, Loss: 0.43525663018226624, Accuracy: 0.8359375\n"
     ]
    },
    {
     "name": "stderr",
     "output_type": "stream",
     "text": [
      "e:\\OneDrive - Hanoi University of Science and Technology\\Code project\\ML\\NLP\\uvipen_HAN\\src\\word_att_model.py:37: UserWarning: Implicit dimension choice for softmax has been deprecated. Change the call to include dim=X as an argument.\n",
      "  output = F.softmax(output)\n",
      "e:\\OneDrive - Hanoi University of Science and Technology\\Code project\\ML\\NLP\\uvipen_HAN\\src\\sent_att_model.py:29: UserWarning: Implicit dimension choice for softmax has been deprecated. Change the call to include dim=X as an argument.\n",
      "  output = F.softmax(output)\n"
     ]
    },
    {
     "name": "stdout",
     "output_type": "stream",
     "text": [
      "Epoch: 1/100, Iteration: 350/937, Lr: 0.1, Loss: 0.22720037400722504, Accuracy: 0.9296875\n"
     ]
    },
    {
     "name": "stderr",
     "output_type": "stream",
     "text": [
      "e:\\OneDrive - Hanoi University of Science and Technology\\Code project\\ML\\NLP\\uvipen_HAN\\src\\word_att_model.py:37: UserWarning: Implicit dimension choice for softmax has been deprecated. Change the call to include dim=X as an argument.\n",
      "  output = F.softmax(output)\n",
      "e:\\OneDrive - Hanoi University of Science and Technology\\Code project\\ML\\NLP\\uvipen_HAN\\src\\sent_att_model.py:29: UserWarning: Implicit dimension choice for softmax has been deprecated. Change the call to include dim=X as an argument.\n",
      "  output = F.softmax(output)\n"
     ]
    },
    {
     "name": "stdout",
     "output_type": "stream",
     "text": [
      "Epoch: 1/100, Iteration: 351/937, Lr: 0.1, Loss: 0.2901604175567627, Accuracy: 0.859375\n"
     ]
    },
    {
     "name": "stderr",
     "output_type": "stream",
     "text": [
      "e:\\OneDrive - Hanoi University of Science and Technology\\Code project\\ML\\NLP\\uvipen_HAN\\src\\word_att_model.py:37: UserWarning: Implicit dimension choice for softmax has been deprecated. Change the call to include dim=X as an argument.\n",
      "  output = F.softmax(output)\n",
      "e:\\OneDrive - Hanoi University of Science and Technology\\Code project\\ML\\NLP\\uvipen_HAN\\src\\sent_att_model.py:29: UserWarning: Implicit dimension choice for softmax has been deprecated. Change the call to include dim=X as an argument.\n",
      "  output = F.softmax(output)\n"
     ]
    },
    {
     "name": "stdout",
     "output_type": "stream",
     "text": [
      "Epoch: 1/100, Iteration: 352/937, Lr: 0.1, Loss: 0.32380369305610657, Accuracy: 0.8828125\n"
     ]
    },
    {
     "name": "stderr",
     "output_type": "stream",
     "text": [
      "e:\\OneDrive - Hanoi University of Science and Technology\\Code project\\ML\\NLP\\uvipen_HAN\\src\\word_att_model.py:37: UserWarning: Implicit dimension choice for softmax has been deprecated. Change the call to include dim=X as an argument.\n",
      "  output = F.softmax(output)\n",
      "e:\\OneDrive - Hanoi University of Science and Technology\\Code project\\ML\\NLP\\uvipen_HAN\\src\\sent_att_model.py:29: UserWarning: Implicit dimension choice for softmax has been deprecated. Change the call to include dim=X as an argument.\n",
      "  output = F.softmax(output)\n"
     ]
    },
    {
     "name": "stdout",
     "output_type": "stream",
     "text": [
      "Epoch: 1/100, Iteration: 353/937, Lr: 0.1, Loss: 0.35940301418304443, Accuracy: 0.8984375\n"
     ]
    },
    {
     "name": "stderr",
     "output_type": "stream",
     "text": [
      "e:\\OneDrive - Hanoi University of Science and Technology\\Code project\\ML\\NLP\\uvipen_HAN\\src\\word_att_model.py:37: UserWarning: Implicit dimension choice for softmax has been deprecated. Change the call to include dim=X as an argument.\n",
      "  output = F.softmax(output)\n",
      "e:\\OneDrive - Hanoi University of Science and Technology\\Code project\\ML\\NLP\\uvipen_HAN\\src\\sent_att_model.py:29: UserWarning: Implicit dimension choice for softmax has been deprecated. Change the call to include dim=X as an argument.\n",
      "  output = F.softmax(output)\n"
     ]
    },
    {
     "name": "stdout",
     "output_type": "stream",
     "text": [
      "Epoch: 1/100, Iteration: 354/937, Lr: 0.1, Loss: 0.2460375428199768, Accuracy: 0.921875\n"
     ]
    },
    {
     "name": "stderr",
     "output_type": "stream",
     "text": [
      "e:\\OneDrive - Hanoi University of Science and Technology\\Code project\\ML\\NLP\\uvipen_HAN\\src\\word_att_model.py:37: UserWarning: Implicit dimension choice for softmax has been deprecated. Change the call to include dim=X as an argument.\n",
      "  output = F.softmax(output)\n",
      "e:\\OneDrive - Hanoi University of Science and Technology\\Code project\\ML\\NLP\\uvipen_HAN\\src\\sent_att_model.py:29: UserWarning: Implicit dimension choice for softmax has been deprecated. Change the call to include dim=X as an argument.\n",
      "  output = F.softmax(output)\n"
     ]
    },
    {
     "name": "stdout",
     "output_type": "stream",
     "text": [
      "Epoch: 1/100, Iteration: 355/937, Lr: 0.1, Loss: 0.39088428020477295, Accuracy: 0.8359375\n"
     ]
    },
    {
     "name": "stderr",
     "output_type": "stream",
     "text": [
      "e:\\OneDrive - Hanoi University of Science and Technology\\Code project\\ML\\NLP\\uvipen_HAN\\src\\word_att_model.py:37: UserWarning: Implicit dimension choice for softmax has been deprecated. Change the call to include dim=X as an argument.\n",
      "  output = F.softmax(output)\n",
      "e:\\OneDrive - Hanoi University of Science and Technology\\Code project\\ML\\NLP\\uvipen_HAN\\src\\sent_att_model.py:29: UserWarning: Implicit dimension choice for softmax has been deprecated. Change the call to include dim=X as an argument.\n",
      "  output = F.softmax(output)\n"
     ]
    },
    {
     "name": "stdout",
     "output_type": "stream",
     "text": [
      "Epoch: 1/100, Iteration: 356/937, Lr: 0.1, Loss: 0.20957037806510925, Accuracy: 0.9375\n"
     ]
    },
    {
     "name": "stderr",
     "output_type": "stream",
     "text": [
      "e:\\OneDrive - Hanoi University of Science and Technology\\Code project\\ML\\NLP\\uvipen_HAN\\src\\word_att_model.py:37: UserWarning: Implicit dimension choice for softmax has been deprecated. Change the call to include dim=X as an argument.\n",
      "  output = F.softmax(output)\n",
      "e:\\OneDrive - Hanoi University of Science and Technology\\Code project\\ML\\NLP\\uvipen_HAN\\src\\sent_att_model.py:29: UserWarning: Implicit dimension choice for softmax has been deprecated. Change the call to include dim=X as an argument.\n",
      "  output = F.softmax(output)\n"
     ]
    },
    {
     "name": "stdout",
     "output_type": "stream",
     "text": [
      "Epoch: 1/100, Iteration: 357/937, Lr: 0.1, Loss: 0.31420376896858215, Accuracy: 0.90625\n"
     ]
    },
    {
     "name": "stderr",
     "output_type": "stream",
     "text": [
      "e:\\OneDrive - Hanoi University of Science and Technology\\Code project\\ML\\NLP\\uvipen_HAN\\src\\word_att_model.py:37: UserWarning: Implicit dimension choice for softmax has been deprecated. Change the call to include dim=X as an argument.\n",
      "  output = F.softmax(output)\n",
      "e:\\OneDrive - Hanoi University of Science and Technology\\Code project\\ML\\NLP\\uvipen_HAN\\src\\sent_att_model.py:29: UserWarning: Implicit dimension choice for softmax has been deprecated. Change the call to include dim=X as an argument.\n",
      "  output = F.softmax(output)\n"
     ]
    },
    {
     "name": "stdout",
     "output_type": "stream",
     "text": [
      "Epoch: 1/100, Iteration: 358/937, Lr: 0.1, Loss: 0.3686688542366028, Accuracy: 0.890625\n"
     ]
    },
    {
     "name": "stderr",
     "output_type": "stream",
     "text": [
      "e:\\OneDrive - Hanoi University of Science and Technology\\Code project\\ML\\NLP\\uvipen_HAN\\src\\word_att_model.py:37: UserWarning: Implicit dimension choice for softmax has been deprecated. Change the call to include dim=X as an argument.\n",
      "  output = F.softmax(output)\n",
      "e:\\OneDrive - Hanoi University of Science and Technology\\Code project\\ML\\NLP\\uvipen_HAN\\src\\sent_att_model.py:29: UserWarning: Implicit dimension choice for softmax has been deprecated. Change the call to include dim=X as an argument.\n",
      "  output = F.softmax(output)\n"
     ]
    },
    {
     "name": "stdout",
     "output_type": "stream",
     "text": [
      "Epoch: 1/100, Iteration: 359/937, Lr: 0.1, Loss: 0.46247974038124084, Accuracy: 0.8203125\n"
     ]
    },
    {
     "name": "stderr",
     "output_type": "stream",
     "text": [
      "e:\\OneDrive - Hanoi University of Science and Technology\\Code project\\ML\\NLP\\uvipen_HAN\\src\\word_att_model.py:37: UserWarning: Implicit dimension choice for softmax has been deprecated. Change the call to include dim=X as an argument.\n",
      "  output = F.softmax(output)\n",
      "e:\\OneDrive - Hanoi University of Science and Technology\\Code project\\ML\\NLP\\uvipen_HAN\\src\\sent_att_model.py:29: UserWarning: Implicit dimension choice for softmax has been deprecated. Change the call to include dim=X as an argument.\n",
      "  output = F.softmax(output)\n"
     ]
    },
    {
     "name": "stdout",
     "output_type": "stream",
     "text": [
      "Epoch: 1/100, Iteration: 360/937, Lr: 0.1, Loss: 0.3919958472251892, Accuracy: 0.859375\n"
     ]
    },
    {
     "name": "stderr",
     "output_type": "stream",
     "text": [
      "e:\\OneDrive - Hanoi University of Science and Technology\\Code project\\ML\\NLP\\uvipen_HAN\\src\\word_att_model.py:37: UserWarning: Implicit dimension choice for softmax has been deprecated. Change the call to include dim=X as an argument.\n",
      "  output = F.softmax(output)\n",
      "e:\\OneDrive - Hanoi University of Science and Technology\\Code project\\ML\\NLP\\uvipen_HAN\\src\\sent_att_model.py:29: UserWarning: Implicit dimension choice for softmax has been deprecated. Change the call to include dim=X as an argument.\n",
      "  output = F.softmax(output)\n"
     ]
    },
    {
     "name": "stdout",
     "output_type": "stream",
     "text": [
      "Epoch: 1/100, Iteration: 361/937, Lr: 0.1, Loss: 0.39017608761787415, Accuracy: 0.8671875\n"
     ]
    },
    {
     "name": "stderr",
     "output_type": "stream",
     "text": [
      "e:\\OneDrive - Hanoi University of Science and Technology\\Code project\\ML\\NLP\\uvipen_HAN\\src\\word_att_model.py:37: UserWarning: Implicit dimension choice for softmax has been deprecated. Change the call to include dim=X as an argument.\n",
      "  output = F.softmax(output)\n",
      "e:\\OneDrive - Hanoi University of Science and Technology\\Code project\\ML\\NLP\\uvipen_HAN\\src\\sent_att_model.py:29: UserWarning: Implicit dimension choice for softmax has been deprecated. Change the call to include dim=X as an argument.\n",
      "  output = F.softmax(output)\n"
     ]
    },
    {
     "name": "stdout",
     "output_type": "stream",
     "text": [
      "Epoch: 1/100, Iteration: 362/937, Lr: 0.1, Loss: 0.27789679169654846, Accuracy: 0.9140625\n"
     ]
    },
    {
     "name": "stderr",
     "output_type": "stream",
     "text": [
      "e:\\OneDrive - Hanoi University of Science and Technology\\Code project\\ML\\NLP\\uvipen_HAN\\src\\word_att_model.py:37: UserWarning: Implicit dimension choice for softmax has been deprecated. Change the call to include dim=X as an argument.\n",
      "  output = F.softmax(output)\n",
      "e:\\OneDrive - Hanoi University of Science and Technology\\Code project\\ML\\NLP\\uvipen_HAN\\src\\sent_att_model.py:29: UserWarning: Implicit dimension choice for softmax has been deprecated. Change the call to include dim=X as an argument.\n",
      "  output = F.softmax(output)\n"
     ]
    },
    {
     "name": "stdout",
     "output_type": "stream",
     "text": [
      "Epoch: 1/100, Iteration: 363/937, Lr: 0.1, Loss: 0.44841036200523376, Accuracy: 0.8515625\n"
     ]
    },
    {
     "name": "stderr",
     "output_type": "stream",
     "text": [
      "e:\\OneDrive - Hanoi University of Science and Technology\\Code project\\ML\\NLP\\uvipen_HAN\\src\\word_att_model.py:37: UserWarning: Implicit dimension choice for softmax has been deprecated. Change the call to include dim=X as an argument.\n",
      "  output = F.softmax(output)\n",
      "e:\\OneDrive - Hanoi University of Science and Technology\\Code project\\ML\\NLP\\uvipen_HAN\\src\\sent_att_model.py:29: UserWarning: Implicit dimension choice for softmax has been deprecated. Change the call to include dim=X as an argument.\n",
      "  output = F.softmax(output)\n"
     ]
    },
    {
     "name": "stdout",
     "output_type": "stream",
     "text": [
      "Epoch: 1/100, Iteration: 364/937, Lr: 0.1, Loss: 0.4257902204990387, Accuracy: 0.8671875\n"
     ]
    },
    {
     "name": "stderr",
     "output_type": "stream",
     "text": [
      "e:\\OneDrive - Hanoi University of Science and Technology\\Code project\\ML\\NLP\\uvipen_HAN\\src\\word_att_model.py:37: UserWarning: Implicit dimension choice for softmax has been deprecated. Change the call to include dim=X as an argument.\n",
      "  output = F.softmax(output)\n",
      "e:\\OneDrive - Hanoi University of Science and Technology\\Code project\\ML\\NLP\\uvipen_HAN\\src\\sent_att_model.py:29: UserWarning: Implicit dimension choice for softmax has been deprecated. Change the call to include dim=X as an argument.\n",
      "  output = F.softmax(output)\n"
     ]
    },
    {
     "name": "stdout",
     "output_type": "stream",
     "text": [
      "Epoch: 1/100, Iteration: 365/937, Lr: 0.1, Loss: 0.40208902955055237, Accuracy: 0.875\n"
     ]
    },
    {
     "name": "stderr",
     "output_type": "stream",
     "text": [
      "e:\\OneDrive - Hanoi University of Science and Technology\\Code project\\ML\\NLP\\uvipen_HAN\\src\\word_att_model.py:37: UserWarning: Implicit dimension choice for softmax has been deprecated. Change the call to include dim=X as an argument.\n",
      "  output = F.softmax(output)\n",
      "e:\\OneDrive - Hanoi University of Science and Technology\\Code project\\ML\\NLP\\uvipen_HAN\\src\\sent_att_model.py:29: UserWarning: Implicit dimension choice for softmax has been deprecated. Change the call to include dim=X as an argument.\n",
      "  output = F.softmax(output)\n"
     ]
    },
    {
     "name": "stdout",
     "output_type": "stream",
     "text": [
      "Epoch: 1/100, Iteration: 366/937, Lr: 0.1, Loss: 0.3520607352256775, Accuracy: 0.875\n"
     ]
    },
    {
     "name": "stderr",
     "output_type": "stream",
     "text": [
      "e:\\OneDrive - Hanoi University of Science and Technology\\Code project\\ML\\NLP\\uvipen_HAN\\src\\word_att_model.py:37: UserWarning: Implicit dimension choice for softmax has been deprecated. Change the call to include dim=X as an argument.\n",
      "  output = F.softmax(output)\n",
      "e:\\OneDrive - Hanoi University of Science and Technology\\Code project\\ML\\NLP\\uvipen_HAN\\src\\sent_att_model.py:29: UserWarning: Implicit dimension choice for softmax has been deprecated. Change the call to include dim=X as an argument.\n",
      "  output = F.softmax(output)\n"
     ]
    },
    {
     "name": "stdout",
     "output_type": "stream",
     "text": [
      "Epoch: 1/100, Iteration: 367/937, Lr: 0.1, Loss: 0.2988984286785126, Accuracy: 0.8984375\n"
     ]
    },
    {
     "name": "stderr",
     "output_type": "stream",
     "text": [
      "e:\\OneDrive - Hanoi University of Science and Technology\\Code project\\ML\\NLP\\uvipen_HAN\\src\\word_att_model.py:37: UserWarning: Implicit dimension choice for softmax has been deprecated. Change the call to include dim=X as an argument.\n",
      "  output = F.softmax(output)\n",
      "e:\\OneDrive - Hanoi University of Science and Technology\\Code project\\ML\\NLP\\uvipen_HAN\\src\\sent_att_model.py:29: UserWarning: Implicit dimension choice for softmax has been deprecated. Change the call to include dim=X as an argument.\n",
      "  output = F.softmax(output)\n"
     ]
    },
    {
     "name": "stdout",
     "output_type": "stream",
     "text": [
      "Epoch: 1/100, Iteration: 368/937, Lr: 0.1, Loss: 0.26151102781295776, Accuracy: 0.90625\n"
     ]
    },
    {
     "name": "stderr",
     "output_type": "stream",
     "text": [
      "e:\\OneDrive - Hanoi University of Science and Technology\\Code project\\ML\\NLP\\uvipen_HAN\\src\\word_att_model.py:37: UserWarning: Implicit dimension choice for softmax has been deprecated. Change the call to include dim=X as an argument.\n",
      "  output = F.softmax(output)\n",
      "e:\\OneDrive - Hanoi University of Science and Technology\\Code project\\ML\\NLP\\uvipen_HAN\\src\\sent_att_model.py:29: UserWarning: Implicit dimension choice for softmax has been deprecated. Change the call to include dim=X as an argument.\n",
      "  output = F.softmax(output)\n"
     ]
    },
    {
     "name": "stdout",
     "output_type": "stream",
     "text": [
      "Epoch: 1/100, Iteration: 369/937, Lr: 0.1, Loss: 0.19235539436340332, Accuracy: 0.9375\n"
     ]
    },
    {
     "name": "stderr",
     "output_type": "stream",
     "text": [
      "e:\\OneDrive - Hanoi University of Science and Technology\\Code project\\ML\\NLP\\uvipen_HAN\\src\\word_att_model.py:37: UserWarning: Implicit dimension choice for softmax has been deprecated. Change the call to include dim=X as an argument.\n",
      "  output = F.softmax(output)\n",
      "e:\\OneDrive - Hanoi University of Science and Technology\\Code project\\ML\\NLP\\uvipen_HAN\\src\\sent_att_model.py:29: UserWarning: Implicit dimension choice for softmax has been deprecated. Change the call to include dim=X as an argument.\n",
      "  output = F.softmax(output)\n"
     ]
    },
    {
     "name": "stdout",
     "output_type": "stream",
     "text": [
      "Epoch: 1/100, Iteration: 370/937, Lr: 0.1, Loss: 0.31275293231010437, Accuracy: 0.8671875\n"
     ]
    },
    {
     "name": "stderr",
     "output_type": "stream",
     "text": [
      "e:\\OneDrive - Hanoi University of Science and Technology\\Code project\\ML\\NLP\\uvipen_HAN\\src\\word_att_model.py:37: UserWarning: Implicit dimension choice for softmax has been deprecated. Change the call to include dim=X as an argument.\n",
      "  output = F.softmax(output)\n",
      "e:\\OneDrive - Hanoi University of Science and Technology\\Code project\\ML\\NLP\\uvipen_HAN\\src\\sent_att_model.py:29: UserWarning: Implicit dimension choice for softmax has been deprecated. Change the call to include dim=X as an argument.\n",
      "  output = F.softmax(output)\n"
     ]
    },
    {
     "name": "stdout",
     "output_type": "stream",
     "text": [
      "Epoch: 1/100, Iteration: 371/937, Lr: 0.1, Loss: 0.4198596477508545, Accuracy: 0.84375\n"
     ]
    },
    {
     "name": "stderr",
     "output_type": "stream",
     "text": [
      "e:\\OneDrive - Hanoi University of Science and Technology\\Code project\\ML\\NLP\\uvipen_HAN\\src\\word_att_model.py:37: UserWarning: Implicit dimension choice for softmax has been deprecated. Change the call to include dim=X as an argument.\n",
      "  output = F.softmax(output)\n",
      "e:\\OneDrive - Hanoi University of Science and Technology\\Code project\\ML\\NLP\\uvipen_HAN\\src\\sent_att_model.py:29: UserWarning: Implicit dimension choice for softmax has been deprecated. Change the call to include dim=X as an argument.\n",
      "  output = F.softmax(output)\n"
     ]
    },
    {
     "name": "stdout",
     "output_type": "stream",
     "text": [
      "Epoch: 1/100, Iteration: 372/937, Lr: 0.1, Loss: 0.31597796082496643, Accuracy: 0.890625\n"
     ]
    },
    {
     "name": "stderr",
     "output_type": "stream",
     "text": [
      "e:\\OneDrive - Hanoi University of Science and Technology\\Code project\\ML\\NLP\\uvipen_HAN\\src\\word_att_model.py:37: UserWarning: Implicit dimension choice for softmax has been deprecated. Change the call to include dim=X as an argument.\n",
      "  output = F.softmax(output)\n",
      "e:\\OneDrive - Hanoi University of Science and Technology\\Code project\\ML\\NLP\\uvipen_HAN\\src\\sent_att_model.py:29: UserWarning: Implicit dimension choice for softmax has been deprecated. Change the call to include dim=X as an argument.\n",
      "  output = F.softmax(output)\n"
     ]
    },
    {
     "name": "stdout",
     "output_type": "stream",
     "text": [
      "Epoch: 1/100, Iteration: 373/937, Lr: 0.1, Loss: 0.37349963188171387, Accuracy: 0.8671875\n"
     ]
    },
    {
     "name": "stderr",
     "output_type": "stream",
     "text": [
      "e:\\OneDrive - Hanoi University of Science and Technology\\Code project\\ML\\NLP\\uvipen_HAN\\src\\word_att_model.py:37: UserWarning: Implicit dimension choice for softmax has been deprecated. Change the call to include dim=X as an argument.\n",
      "  output = F.softmax(output)\n",
      "e:\\OneDrive - Hanoi University of Science and Technology\\Code project\\ML\\NLP\\uvipen_HAN\\src\\sent_att_model.py:29: UserWarning: Implicit dimension choice for softmax has been deprecated. Change the call to include dim=X as an argument.\n",
      "  output = F.softmax(output)\n"
     ]
    },
    {
     "name": "stdout",
     "output_type": "stream",
     "text": [
      "Epoch: 1/100, Iteration: 374/937, Lr: 0.1, Loss: 0.3356935679912567, Accuracy: 0.8828125\n"
     ]
    },
    {
     "name": "stderr",
     "output_type": "stream",
     "text": [
      "e:\\OneDrive - Hanoi University of Science and Technology\\Code project\\ML\\NLP\\uvipen_HAN\\src\\word_att_model.py:37: UserWarning: Implicit dimension choice for softmax has been deprecated. Change the call to include dim=X as an argument.\n",
      "  output = F.softmax(output)\n",
      "e:\\OneDrive - Hanoi University of Science and Technology\\Code project\\ML\\NLP\\uvipen_HAN\\src\\sent_att_model.py:29: UserWarning: Implicit dimension choice for softmax has been deprecated. Change the call to include dim=X as an argument.\n",
      "  output = F.softmax(output)\n"
     ]
    },
    {
     "name": "stdout",
     "output_type": "stream",
     "text": [
      "Epoch: 1/100, Iteration: 375/937, Lr: 0.1, Loss: 0.26409074664115906, Accuracy: 0.9296875\n"
     ]
    },
    {
     "name": "stderr",
     "output_type": "stream",
     "text": [
      "e:\\OneDrive - Hanoi University of Science and Technology\\Code project\\ML\\NLP\\uvipen_HAN\\src\\word_att_model.py:37: UserWarning: Implicit dimension choice for softmax has been deprecated. Change the call to include dim=X as an argument.\n",
      "  output = F.softmax(output)\n",
      "e:\\OneDrive - Hanoi University of Science and Technology\\Code project\\ML\\NLP\\uvipen_HAN\\src\\sent_att_model.py:29: UserWarning: Implicit dimension choice for softmax has been deprecated. Change the call to include dim=X as an argument.\n",
      "  output = F.softmax(output)\n"
     ]
    },
    {
     "name": "stdout",
     "output_type": "stream",
     "text": [
      "Epoch: 1/100, Iteration: 376/937, Lr: 0.1, Loss: 0.3354537785053253, Accuracy: 0.8671875\n"
     ]
    },
    {
     "name": "stderr",
     "output_type": "stream",
     "text": [
      "e:\\OneDrive - Hanoi University of Science and Technology\\Code project\\ML\\NLP\\uvipen_HAN\\src\\word_att_model.py:37: UserWarning: Implicit dimension choice for softmax has been deprecated. Change the call to include dim=X as an argument.\n",
      "  output = F.softmax(output)\n",
      "e:\\OneDrive - Hanoi University of Science and Technology\\Code project\\ML\\NLP\\uvipen_HAN\\src\\sent_att_model.py:29: UserWarning: Implicit dimension choice for softmax has been deprecated. Change the call to include dim=X as an argument.\n",
      "  output = F.softmax(output)\n"
     ]
    },
    {
     "name": "stdout",
     "output_type": "stream",
     "text": [
      "Epoch: 1/100, Iteration: 377/937, Lr: 0.1, Loss: 0.2657405138015747, Accuracy: 0.90625\n"
     ]
    },
    {
     "name": "stderr",
     "output_type": "stream",
     "text": [
      "e:\\OneDrive - Hanoi University of Science and Technology\\Code project\\ML\\NLP\\uvipen_HAN\\src\\word_att_model.py:37: UserWarning: Implicit dimension choice for softmax has been deprecated. Change the call to include dim=X as an argument.\n",
      "  output = F.softmax(output)\n",
      "e:\\OneDrive - Hanoi University of Science and Technology\\Code project\\ML\\NLP\\uvipen_HAN\\src\\sent_att_model.py:29: UserWarning: Implicit dimension choice for softmax has been deprecated. Change the call to include dim=X as an argument.\n",
      "  output = F.softmax(output)\n"
     ]
    },
    {
     "name": "stdout",
     "output_type": "stream",
     "text": [
      "Epoch: 1/100, Iteration: 378/937, Lr: 0.1, Loss: 0.3282563090324402, Accuracy: 0.8828125\n"
     ]
    },
    {
     "name": "stderr",
     "output_type": "stream",
     "text": [
      "e:\\OneDrive - Hanoi University of Science and Technology\\Code project\\ML\\NLP\\uvipen_HAN\\src\\word_att_model.py:37: UserWarning: Implicit dimension choice for softmax has been deprecated. Change the call to include dim=X as an argument.\n",
      "  output = F.softmax(output)\n",
      "e:\\OneDrive - Hanoi University of Science and Technology\\Code project\\ML\\NLP\\uvipen_HAN\\src\\sent_att_model.py:29: UserWarning: Implicit dimension choice for softmax has been deprecated. Change the call to include dim=X as an argument.\n",
      "  output = F.softmax(output)\n"
     ]
    },
    {
     "name": "stdout",
     "output_type": "stream",
     "text": [
      "Epoch: 1/100, Iteration: 379/937, Lr: 0.1, Loss: 0.2825873792171478, Accuracy: 0.90625\n"
     ]
    },
    {
     "name": "stderr",
     "output_type": "stream",
     "text": [
      "e:\\OneDrive - Hanoi University of Science and Technology\\Code project\\ML\\NLP\\uvipen_HAN\\src\\word_att_model.py:37: UserWarning: Implicit dimension choice for softmax has been deprecated. Change the call to include dim=X as an argument.\n",
      "  output = F.softmax(output)\n",
      "e:\\OneDrive - Hanoi University of Science and Technology\\Code project\\ML\\NLP\\uvipen_HAN\\src\\sent_att_model.py:29: UserWarning: Implicit dimension choice for softmax has been deprecated. Change the call to include dim=X as an argument.\n",
      "  output = F.softmax(output)\n"
     ]
    },
    {
     "name": "stdout",
     "output_type": "stream",
     "text": [
      "Epoch: 1/100, Iteration: 380/937, Lr: 0.1, Loss: 0.28388479351997375, Accuracy: 0.9140625\n"
     ]
    },
    {
     "name": "stderr",
     "output_type": "stream",
     "text": [
      "e:\\OneDrive - Hanoi University of Science and Technology\\Code project\\ML\\NLP\\uvipen_HAN\\src\\word_att_model.py:37: UserWarning: Implicit dimension choice for softmax has been deprecated. Change the call to include dim=X as an argument.\n",
      "  output = F.softmax(output)\n",
      "e:\\OneDrive - Hanoi University of Science and Technology\\Code project\\ML\\NLP\\uvipen_HAN\\src\\sent_att_model.py:29: UserWarning: Implicit dimension choice for softmax has been deprecated. Change the call to include dim=X as an argument.\n",
      "  output = F.softmax(output)\n"
     ]
    },
    {
     "name": "stdout",
     "output_type": "stream",
     "text": [
      "Epoch: 1/100, Iteration: 381/937, Lr: 0.1, Loss: 0.32020601630210876, Accuracy: 0.8828125\n"
     ]
    },
    {
     "name": "stderr",
     "output_type": "stream",
     "text": [
      "e:\\OneDrive - Hanoi University of Science and Technology\\Code project\\ML\\NLP\\uvipen_HAN\\src\\word_att_model.py:37: UserWarning: Implicit dimension choice for softmax has been deprecated. Change the call to include dim=X as an argument.\n",
      "  output = F.softmax(output)\n",
      "e:\\OneDrive - Hanoi University of Science and Technology\\Code project\\ML\\NLP\\uvipen_HAN\\src\\sent_att_model.py:29: UserWarning: Implicit dimension choice for softmax has been deprecated. Change the call to include dim=X as an argument.\n",
      "  output = F.softmax(output)\n"
     ]
    },
    {
     "name": "stdout",
     "output_type": "stream",
     "text": [
      "Epoch: 1/100, Iteration: 382/937, Lr: 0.1, Loss: 0.4132789671421051, Accuracy: 0.84375\n"
     ]
    },
    {
     "name": "stderr",
     "output_type": "stream",
     "text": [
      "e:\\OneDrive - Hanoi University of Science and Technology\\Code project\\ML\\NLP\\uvipen_HAN\\src\\word_att_model.py:37: UserWarning: Implicit dimension choice for softmax has been deprecated. Change the call to include dim=X as an argument.\n",
      "  output = F.softmax(output)\n",
      "e:\\OneDrive - Hanoi University of Science and Technology\\Code project\\ML\\NLP\\uvipen_HAN\\src\\sent_att_model.py:29: UserWarning: Implicit dimension choice for softmax has been deprecated. Change the call to include dim=X as an argument.\n",
      "  output = F.softmax(output)\n"
     ]
    },
    {
     "name": "stdout",
     "output_type": "stream",
     "text": [
      "Epoch: 1/100, Iteration: 383/937, Lr: 0.1, Loss: 0.3795206546783447, Accuracy: 0.90625\n"
     ]
    },
    {
     "name": "stderr",
     "output_type": "stream",
     "text": [
      "e:\\OneDrive - Hanoi University of Science and Technology\\Code project\\ML\\NLP\\uvipen_HAN\\src\\word_att_model.py:37: UserWarning: Implicit dimension choice for softmax has been deprecated. Change the call to include dim=X as an argument.\n",
      "  output = F.softmax(output)\n",
      "e:\\OneDrive - Hanoi University of Science and Technology\\Code project\\ML\\NLP\\uvipen_HAN\\src\\sent_att_model.py:29: UserWarning: Implicit dimension choice for softmax has been deprecated. Change the call to include dim=X as an argument.\n",
      "  output = F.softmax(output)\n"
     ]
    },
    {
     "name": "stdout",
     "output_type": "stream",
     "text": [
      "Epoch: 1/100, Iteration: 384/937, Lr: 0.1, Loss: 0.3577204644680023, Accuracy: 0.84375\n"
     ]
    },
    {
     "name": "stderr",
     "output_type": "stream",
     "text": [
      "e:\\OneDrive - Hanoi University of Science and Technology\\Code project\\ML\\NLP\\uvipen_HAN\\src\\word_att_model.py:37: UserWarning: Implicit dimension choice for softmax has been deprecated. Change the call to include dim=X as an argument.\n",
      "  output = F.softmax(output)\n",
      "e:\\OneDrive - Hanoi University of Science and Technology\\Code project\\ML\\NLP\\uvipen_HAN\\src\\sent_att_model.py:29: UserWarning: Implicit dimension choice for softmax has been deprecated. Change the call to include dim=X as an argument.\n",
      "  output = F.softmax(output)\n"
     ]
    },
    {
     "name": "stdout",
     "output_type": "stream",
     "text": [
      "Epoch: 1/100, Iteration: 385/937, Lr: 0.1, Loss: 0.39604896306991577, Accuracy: 0.859375\n"
     ]
    },
    {
     "name": "stderr",
     "output_type": "stream",
     "text": [
      "e:\\OneDrive - Hanoi University of Science and Technology\\Code project\\ML\\NLP\\uvipen_HAN\\src\\word_att_model.py:37: UserWarning: Implicit dimension choice for softmax has been deprecated. Change the call to include dim=X as an argument.\n",
      "  output = F.softmax(output)\n",
      "e:\\OneDrive - Hanoi University of Science and Technology\\Code project\\ML\\NLP\\uvipen_HAN\\src\\sent_att_model.py:29: UserWarning: Implicit dimension choice for softmax has been deprecated. Change the call to include dim=X as an argument.\n",
      "  output = F.softmax(output)\n"
     ]
    },
    {
     "name": "stdout",
     "output_type": "stream",
     "text": [
      "Epoch: 1/100, Iteration: 386/937, Lr: 0.1, Loss: 0.4992307722568512, Accuracy: 0.828125\n"
     ]
    },
    {
     "name": "stderr",
     "output_type": "stream",
     "text": [
      "e:\\OneDrive - Hanoi University of Science and Technology\\Code project\\ML\\NLP\\uvipen_HAN\\src\\word_att_model.py:37: UserWarning: Implicit dimension choice for softmax has been deprecated. Change the call to include dim=X as an argument.\n",
      "  output = F.softmax(output)\n",
      "e:\\OneDrive - Hanoi University of Science and Technology\\Code project\\ML\\NLP\\uvipen_HAN\\src\\sent_att_model.py:29: UserWarning: Implicit dimension choice for softmax has been deprecated. Change the call to include dim=X as an argument.\n",
      "  output = F.softmax(output)\n"
     ]
    },
    {
     "name": "stdout",
     "output_type": "stream",
     "text": [
      "Epoch: 1/100, Iteration: 387/937, Lr: 0.1, Loss: 0.26468583941459656, Accuracy: 0.90625\n"
     ]
    },
    {
     "name": "stderr",
     "output_type": "stream",
     "text": [
      "e:\\OneDrive - Hanoi University of Science and Technology\\Code project\\ML\\NLP\\uvipen_HAN\\src\\word_att_model.py:37: UserWarning: Implicit dimension choice for softmax has been deprecated. Change the call to include dim=X as an argument.\n",
      "  output = F.softmax(output)\n",
      "e:\\OneDrive - Hanoi University of Science and Technology\\Code project\\ML\\NLP\\uvipen_HAN\\src\\sent_att_model.py:29: UserWarning: Implicit dimension choice for softmax has been deprecated. Change the call to include dim=X as an argument.\n",
      "  output = F.softmax(output)\n"
     ]
    },
    {
     "name": "stdout",
     "output_type": "stream",
     "text": [
      "Epoch: 1/100, Iteration: 388/937, Lr: 0.1, Loss: 0.20090210437774658, Accuracy: 0.921875\n"
     ]
    },
    {
     "name": "stderr",
     "output_type": "stream",
     "text": [
      "e:\\OneDrive - Hanoi University of Science and Technology\\Code project\\ML\\NLP\\uvipen_HAN\\src\\word_att_model.py:37: UserWarning: Implicit dimension choice for softmax has been deprecated. Change the call to include dim=X as an argument.\n",
      "  output = F.softmax(output)\n",
      "e:\\OneDrive - Hanoi University of Science and Technology\\Code project\\ML\\NLP\\uvipen_HAN\\src\\sent_att_model.py:29: UserWarning: Implicit dimension choice for softmax has been deprecated. Change the call to include dim=X as an argument.\n",
      "  output = F.softmax(output)\n"
     ]
    },
    {
     "name": "stdout",
     "output_type": "stream",
     "text": [
      "Epoch: 1/100, Iteration: 389/937, Lr: 0.1, Loss: 0.37175360321998596, Accuracy: 0.84375\n"
     ]
    },
    {
     "name": "stderr",
     "output_type": "stream",
     "text": [
      "e:\\OneDrive - Hanoi University of Science and Technology\\Code project\\ML\\NLP\\uvipen_HAN\\src\\word_att_model.py:37: UserWarning: Implicit dimension choice for softmax has been deprecated. Change the call to include dim=X as an argument.\n",
      "  output = F.softmax(output)\n",
      "e:\\OneDrive - Hanoi University of Science and Technology\\Code project\\ML\\NLP\\uvipen_HAN\\src\\sent_att_model.py:29: UserWarning: Implicit dimension choice for softmax has been deprecated. Change the call to include dim=X as an argument.\n",
      "  output = F.softmax(output)\n"
     ]
    },
    {
     "name": "stdout",
     "output_type": "stream",
     "text": [
      "Epoch: 1/100, Iteration: 390/937, Lr: 0.1, Loss: 0.27851006388664246, Accuracy: 0.8828125\n"
     ]
    },
    {
     "name": "stderr",
     "output_type": "stream",
     "text": [
      "e:\\OneDrive - Hanoi University of Science and Technology\\Code project\\ML\\NLP\\uvipen_HAN\\src\\word_att_model.py:37: UserWarning: Implicit dimension choice for softmax has been deprecated. Change the call to include dim=X as an argument.\n",
      "  output = F.softmax(output)\n",
      "e:\\OneDrive - Hanoi University of Science and Technology\\Code project\\ML\\NLP\\uvipen_HAN\\src\\sent_att_model.py:29: UserWarning: Implicit dimension choice for softmax has been deprecated. Change the call to include dim=X as an argument.\n",
      "  output = F.softmax(output)\n"
     ]
    },
    {
     "name": "stdout",
     "output_type": "stream",
     "text": [
      "Epoch: 1/100, Iteration: 391/937, Lr: 0.1, Loss: 0.37784168124198914, Accuracy: 0.8984375\n"
     ]
    },
    {
     "name": "stderr",
     "output_type": "stream",
     "text": [
      "e:\\OneDrive - Hanoi University of Science and Technology\\Code project\\ML\\NLP\\uvipen_HAN\\src\\word_att_model.py:37: UserWarning: Implicit dimension choice for softmax has been deprecated. Change the call to include dim=X as an argument.\n",
      "  output = F.softmax(output)\n",
      "e:\\OneDrive - Hanoi University of Science and Technology\\Code project\\ML\\NLP\\uvipen_HAN\\src\\sent_att_model.py:29: UserWarning: Implicit dimension choice for softmax has been deprecated. Change the call to include dim=X as an argument.\n",
      "  output = F.softmax(output)\n"
     ]
    },
    {
     "name": "stdout",
     "output_type": "stream",
     "text": [
      "Epoch: 1/100, Iteration: 392/937, Lr: 0.1, Loss: 0.2614077925682068, Accuracy: 0.875\n"
     ]
    },
    {
     "name": "stderr",
     "output_type": "stream",
     "text": [
      "e:\\OneDrive - Hanoi University of Science and Technology\\Code project\\ML\\NLP\\uvipen_HAN\\src\\word_att_model.py:37: UserWarning: Implicit dimension choice for softmax has been deprecated. Change the call to include dim=X as an argument.\n",
      "  output = F.softmax(output)\n",
      "e:\\OneDrive - Hanoi University of Science and Technology\\Code project\\ML\\NLP\\uvipen_HAN\\src\\sent_att_model.py:29: UserWarning: Implicit dimension choice for softmax has been deprecated. Change the call to include dim=X as an argument.\n",
      "  output = F.softmax(output)\n"
     ]
    },
    {
     "name": "stdout",
     "output_type": "stream",
     "text": [
      "Epoch: 1/100, Iteration: 393/937, Lr: 0.1, Loss: 0.34708893299102783, Accuracy: 0.875\n"
     ]
    },
    {
     "name": "stderr",
     "output_type": "stream",
     "text": [
      "e:\\OneDrive - Hanoi University of Science and Technology\\Code project\\ML\\NLP\\uvipen_HAN\\src\\word_att_model.py:37: UserWarning: Implicit dimension choice for softmax has been deprecated. Change the call to include dim=X as an argument.\n",
      "  output = F.softmax(output)\n",
      "e:\\OneDrive - Hanoi University of Science and Technology\\Code project\\ML\\NLP\\uvipen_HAN\\src\\sent_att_model.py:29: UserWarning: Implicit dimension choice for softmax has been deprecated. Change the call to include dim=X as an argument.\n",
      "  output = F.softmax(output)\n"
     ]
    },
    {
     "name": "stdout",
     "output_type": "stream",
     "text": [
      "Epoch: 1/100, Iteration: 394/937, Lr: 0.1, Loss: 0.36875417828559875, Accuracy: 0.890625\n"
     ]
    },
    {
     "name": "stderr",
     "output_type": "stream",
     "text": [
      "e:\\OneDrive - Hanoi University of Science and Technology\\Code project\\ML\\NLP\\uvipen_HAN\\src\\word_att_model.py:37: UserWarning: Implicit dimension choice for softmax has been deprecated. Change the call to include dim=X as an argument.\n",
      "  output = F.softmax(output)\n",
      "e:\\OneDrive - Hanoi University of Science and Technology\\Code project\\ML\\NLP\\uvipen_HAN\\src\\sent_att_model.py:29: UserWarning: Implicit dimension choice for softmax has been deprecated. Change the call to include dim=X as an argument.\n",
      "  output = F.softmax(output)\n"
     ]
    },
    {
     "name": "stdout",
     "output_type": "stream",
     "text": [
      "Epoch: 1/100, Iteration: 395/937, Lr: 0.1, Loss: 0.4746139645576477, Accuracy: 0.8125\n"
     ]
    },
    {
     "name": "stderr",
     "output_type": "stream",
     "text": [
      "e:\\OneDrive - Hanoi University of Science and Technology\\Code project\\ML\\NLP\\uvipen_HAN\\src\\word_att_model.py:37: UserWarning: Implicit dimension choice for softmax has been deprecated. Change the call to include dim=X as an argument.\n",
      "  output = F.softmax(output)\n",
      "e:\\OneDrive - Hanoi University of Science and Technology\\Code project\\ML\\NLP\\uvipen_HAN\\src\\sent_att_model.py:29: UserWarning: Implicit dimension choice for softmax has been deprecated. Change the call to include dim=X as an argument.\n",
      "  output = F.softmax(output)\n"
     ]
    },
    {
     "name": "stdout",
     "output_type": "stream",
     "text": [
      "Epoch: 1/100, Iteration: 396/937, Lr: 0.1, Loss: 0.21610485017299652, Accuracy: 0.921875\n"
     ]
    },
    {
     "name": "stderr",
     "output_type": "stream",
     "text": [
      "e:\\OneDrive - Hanoi University of Science and Technology\\Code project\\ML\\NLP\\uvipen_HAN\\src\\word_att_model.py:37: UserWarning: Implicit dimension choice for softmax has been deprecated. Change the call to include dim=X as an argument.\n",
      "  output = F.softmax(output)\n",
      "e:\\OneDrive - Hanoi University of Science and Technology\\Code project\\ML\\NLP\\uvipen_HAN\\src\\sent_att_model.py:29: UserWarning: Implicit dimension choice for softmax has been deprecated. Change the call to include dim=X as an argument.\n",
      "  output = F.softmax(output)\n"
     ]
    },
    {
     "name": "stdout",
     "output_type": "stream",
     "text": [
      "Epoch: 1/100, Iteration: 397/937, Lr: 0.1, Loss: 0.2598226070404053, Accuracy: 0.921875\n"
     ]
    },
    {
     "name": "stderr",
     "output_type": "stream",
     "text": [
      "e:\\OneDrive - Hanoi University of Science and Technology\\Code project\\ML\\NLP\\uvipen_HAN\\src\\word_att_model.py:37: UserWarning: Implicit dimension choice for softmax has been deprecated. Change the call to include dim=X as an argument.\n",
      "  output = F.softmax(output)\n",
      "e:\\OneDrive - Hanoi University of Science and Technology\\Code project\\ML\\NLP\\uvipen_HAN\\src\\sent_att_model.py:29: UserWarning: Implicit dimension choice for softmax has been deprecated. Change the call to include dim=X as an argument.\n",
      "  output = F.softmax(output)\n"
     ]
    },
    {
     "name": "stdout",
     "output_type": "stream",
     "text": [
      "Epoch: 1/100, Iteration: 398/937, Lr: 0.1, Loss: 0.19898730516433716, Accuracy: 0.953125\n"
     ]
    },
    {
     "name": "stderr",
     "output_type": "stream",
     "text": [
      "e:\\OneDrive - Hanoi University of Science and Technology\\Code project\\ML\\NLP\\uvipen_HAN\\src\\word_att_model.py:37: UserWarning: Implicit dimension choice for softmax has been deprecated. Change the call to include dim=X as an argument.\n",
      "  output = F.softmax(output)\n",
      "e:\\OneDrive - Hanoi University of Science and Technology\\Code project\\ML\\NLP\\uvipen_HAN\\src\\sent_att_model.py:29: UserWarning: Implicit dimension choice for softmax has been deprecated. Change the call to include dim=X as an argument.\n",
      "  output = F.softmax(output)\n"
     ]
    },
    {
     "name": "stdout",
     "output_type": "stream",
     "text": [
      "Epoch: 1/100, Iteration: 399/937, Lr: 0.1, Loss: 0.261482834815979, Accuracy: 0.921875\n"
     ]
    },
    {
     "name": "stderr",
     "output_type": "stream",
     "text": [
      "e:\\OneDrive - Hanoi University of Science and Technology\\Code project\\ML\\NLP\\uvipen_HAN\\src\\word_att_model.py:37: UserWarning: Implicit dimension choice for softmax has been deprecated. Change the call to include dim=X as an argument.\n",
      "  output = F.softmax(output)\n",
      "e:\\OneDrive - Hanoi University of Science and Technology\\Code project\\ML\\NLP\\uvipen_HAN\\src\\sent_att_model.py:29: UserWarning: Implicit dimension choice for softmax has been deprecated. Change the call to include dim=X as an argument.\n",
      "  output = F.softmax(output)\n"
     ]
    },
    {
     "name": "stdout",
     "output_type": "stream",
     "text": [
      "Epoch: 1/100, Iteration: 400/937, Lr: 0.1, Loss: 0.3852570354938507, Accuracy: 0.8671875\n"
     ]
    },
    {
     "name": "stderr",
     "output_type": "stream",
     "text": [
      "e:\\OneDrive - Hanoi University of Science and Technology\\Code project\\ML\\NLP\\uvipen_HAN\\src\\word_att_model.py:37: UserWarning: Implicit dimension choice for softmax has been deprecated. Change the call to include dim=X as an argument.\n",
      "  output = F.softmax(output)\n",
      "e:\\OneDrive - Hanoi University of Science and Technology\\Code project\\ML\\NLP\\uvipen_HAN\\src\\sent_att_model.py:29: UserWarning: Implicit dimension choice for softmax has been deprecated. Change the call to include dim=X as an argument.\n",
      "  output = F.softmax(output)\n"
     ]
    },
    {
     "name": "stdout",
     "output_type": "stream",
     "text": [
      "Epoch: 1/100, Iteration: 401/937, Lr: 0.1, Loss: 0.3252069652080536, Accuracy: 0.8671875\n"
     ]
    },
    {
     "name": "stderr",
     "output_type": "stream",
     "text": [
      "e:\\OneDrive - Hanoi University of Science and Technology\\Code project\\ML\\NLP\\uvipen_HAN\\src\\word_att_model.py:37: UserWarning: Implicit dimension choice for softmax has been deprecated. Change the call to include dim=X as an argument.\n",
      "  output = F.softmax(output)\n",
      "e:\\OneDrive - Hanoi University of Science and Technology\\Code project\\ML\\NLP\\uvipen_HAN\\src\\sent_att_model.py:29: UserWarning: Implicit dimension choice for softmax has been deprecated. Change the call to include dim=X as an argument.\n",
      "  output = F.softmax(output)\n"
     ]
    },
    {
     "name": "stdout",
     "output_type": "stream",
     "text": [
      "Epoch: 1/100, Iteration: 402/937, Lr: 0.1, Loss: 0.14964568614959717, Accuracy: 0.9609375\n"
     ]
    },
    {
     "name": "stderr",
     "output_type": "stream",
     "text": [
      "e:\\OneDrive - Hanoi University of Science and Technology\\Code project\\ML\\NLP\\uvipen_HAN\\src\\word_att_model.py:37: UserWarning: Implicit dimension choice for softmax has been deprecated. Change the call to include dim=X as an argument.\n",
      "  output = F.softmax(output)\n",
      "e:\\OneDrive - Hanoi University of Science and Technology\\Code project\\ML\\NLP\\uvipen_HAN\\src\\sent_att_model.py:29: UserWarning: Implicit dimension choice for softmax has been deprecated. Change the call to include dim=X as an argument.\n",
      "  output = F.softmax(output)\n"
     ]
    },
    {
     "name": "stdout",
     "output_type": "stream",
     "text": [
      "Epoch: 1/100, Iteration: 403/937, Lr: 0.1, Loss: 0.33291882276535034, Accuracy: 0.890625\n"
     ]
    },
    {
     "name": "stderr",
     "output_type": "stream",
     "text": [
      "e:\\OneDrive - Hanoi University of Science and Technology\\Code project\\ML\\NLP\\uvipen_HAN\\src\\word_att_model.py:37: UserWarning: Implicit dimension choice for softmax has been deprecated. Change the call to include dim=X as an argument.\n",
      "  output = F.softmax(output)\n",
      "e:\\OneDrive - Hanoi University of Science and Technology\\Code project\\ML\\NLP\\uvipen_HAN\\src\\sent_att_model.py:29: UserWarning: Implicit dimension choice for softmax has been deprecated. Change the call to include dim=X as an argument.\n",
      "  output = F.softmax(output)\n"
     ]
    },
    {
     "name": "stdout",
     "output_type": "stream",
     "text": [
      "Epoch: 1/100, Iteration: 404/937, Lr: 0.1, Loss: 0.3139658272266388, Accuracy: 0.9140625\n"
     ]
    },
    {
     "name": "stderr",
     "output_type": "stream",
     "text": [
      "e:\\OneDrive - Hanoi University of Science and Technology\\Code project\\ML\\NLP\\uvipen_HAN\\src\\word_att_model.py:37: UserWarning: Implicit dimension choice for softmax has been deprecated. Change the call to include dim=X as an argument.\n",
      "  output = F.softmax(output)\n",
      "e:\\OneDrive - Hanoi University of Science and Technology\\Code project\\ML\\NLP\\uvipen_HAN\\src\\sent_att_model.py:29: UserWarning: Implicit dimension choice for softmax has been deprecated. Change the call to include dim=X as an argument.\n",
      "  output = F.softmax(output)\n"
     ]
    },
    {
     "name": "stdout",
     "output_type": "stream",
     "text": [
      "Epoch: 1/100, Iteration: 405/937, Lr: 0.1, Loss: 0.23180828988552094, Accuracy: 0.9140625\n"
     ]
    },
    {
     "name": "stderr",
     "output_type": "stream",
     "text": [
      "e:\\OneDrive - Hanoi University of Science and Technology\\Code project\\ML\\NLP\\uvipen_HAN\\src\\word_att_model.py:37: UserWarning: Implicit dimension choice for softmax has been deprecated. Change the call to include dim=X as an argument.\n",
      "  output = F.softmax(output)\n",
      "e:\\OneDrive - Hanoi University of Science and Technology\\Code project\\ML\\NLP\\uvipen_HAN\\src\\sent_att_model.py:29: UserWarning: Implicit dimension choice for softmax has been deprecated. Change the call to include dim=X as an argument.\n",
      "  output = F.softmax(output)\n"
     ]
    },
    {
     "name": "stdout",
     "output_type": "stream",
     "text": [
      "Epoch: 1/100, Iteration: 406/937, Lr: 0.1, Loss: 0.3721825182437897, Accuracy: 0.84375\n"
     ]
    },
    {
     "name": "stderr",
     "output_type": "stream",
     "text": [
      "e:\\OneDrive - Hanoi University of Science and Technology\\Code project\\ML\\NLP\\uvipen_HAN\\src\\word_att_model.py:37: UserWarning: Implicit dimension choice for softmax has been deprecated. Change the call to include dim=X as an argument.\n",
      "  output = F.softmax(output)\n",
      "e:\\OneDrive - Hanoi University of Science and Technology\\Code project\\ML\\NLP\\uvipen_HAN\\src\\sent_att_model.py:29: UserWarning: Implicit dimension choice for softmax has been deprecated. Change the call to include dim=X as an argument.\n",
      "  output = F.softmax(output)\n"
     ]
    },
    {
     "name": "stdout",
     "output_type": "stream",
     "text": [
      "Epoch: 1/100, Iteration: 407/937, Lr: 0.1, Loss: 0.4341352880001068, Accuracy: 0.8515625\n"
     ]
    },
    {
     "name": "stderr",
     "output_type": "stream",
     "text": [
      "e:\\OneDrive - Hanoi University of Science and Technology\\Code project\\ML\\NLP\\uvipen_HAN\\src\\word_att_model.py:37: UserWarning: Implicit dimension choice for softmax has been deprecated. Change the call to include dim=X as an argument.\n",
      "  output = F.softmax(output)\n",
      "e:\\OneDrive - Hanoi University of Science and Technology\\Code project\\ML\\NLP\\uvipen_HAN\\src\\sent_att_model.py:29: UserWarning: Implicit dimension choice for softmax has been deprecated. Change the call to include dim=X as an argument.\n",
      "  output = F.softmax(output)\n"
     ]
    },
    {
     "name": "stdout",
     "output_type": "stream",
     "text": [
      "Epoch: 1/100, Iteration: 408/937, Lr: 0.1, Loss: 0.35628509521484375, Accuracy: 0.875\n"
     ]
    },
    {
     "name": "stderr",
     "output_type": "stream",
     "text": [
      "e:\\OneDrive - Hanoi University of Science and Technology\\Code project\\ML\\NLP\\uvipen_HAN\\src\\word_att_model.py:37: UserWarning: Implicit dimension choice for softmax has been deprecated. Change the call to include dim=X as an argument.\n",
      "  output = F.softmax(output)\n",
      "e:\\OneDrive - Hanoi University of Science and Technology\\Code project\\ML\\NLP\\uvipen_HAN\\src\\sent_att_model.py:29: UserWarning: Implicit dimension choice for softmax has been deprecated. Change the call to include dim=X as an argument.\n",
      "  output = F.softmax(output)\n"
     ]
    },
    {
     "name": "stdout",
     "output_type": "stream",
     "text": [
      "Epoch: 1/100, Iteration: 409/937, Lr: 0.1, Loss: 0.18740487098693848, Accuracy: 0.921875\n"
     ]
    },
    {
     "name": "stderr",
     "output_type": "stream",
     "text": [
      "e:\\OneDrive - Hanoi University of Science and Technology\\Code project\\ML\\NLP\\uvipen_HAN\\src\\word_att_model.py:37: UserWarning: Implicit dimension choice for softmax has been deprecated. Change the call to include dim=X as an argument.\n",
      "  output = F.softmax(output)\n",
      "e:\\OneDrive - Hanoi University of Science and Technology\\Code project\\ML\\NLP\\uvipen_HAN\\src\\sent_att_model.py:29: UserWarning: Implicit dimension choice for softmax has been deprecated. Change the call to include dim=X as an argument.\n",
      "  output = F.softmax(output)\n"
     ]
    },
    {
     "name": "stdout",
     "output_type": "stream",
     "text": [
      "Epoch: 1/100, Iteration: 410/937, Lr: 0.1, Loss: 0.23462896049022675, Accuracy: 0.9453125\n"
     ]
    },
    {
     "name": "stderr",
     "output_type": "stream",
     "text": [
      "e:\\OneDrive - Hanoi University of Science and Technology\\Code project\\ML\\NLP\\uvipen_HAN\\src\\word_att_model.py:37: UserWarning: Implicit dimension choice for softmax has been deprecated. Change the call to include dim=X as an argument.\n",
      "  output = F.softmax(output)\n",
      "e:\\OneDrive - Hanoi University of Science and Technology\\Code project\\ML\\NLP\\uvipen_HAN\\src\\sent_att_model.py:29: UserWarning: Implicit dimension choice for softmax has been deprecated. Change the call to include dim=X as an argument.\n",
      "  output = F.softmax(output)\n"
     ]
    },
    {
     "name": "stdout",
     "output_type": "stream",
     "text": [
      "Epoch: 1/100, Iteration: 411/937, Lr: 0.1, Loss: 0.3720323145389557, Accuracy: 0.84375\n"
     ]
    },
    {
     "name": "stderr",
     "output_type": "stream",
     "text": [
      "e:\\OneDrive - Hanoi University of Science and Technology\\Code project\\ML\\NLP\\uvipen_HAN\\src\\word_att_model.py:37: UserWarning: Implicit dimension choice for softmax has been deprecated. Change the call to include dim=X as an argument.\n",
      "  output = F.softmax(output)\n",
      "e:\\OneDrive - Hanoi University of Science and Technology\\Code project\\ML\\NLP\\uvipen_HAN\\src\\sent_att_model.py:29: UserWarning: Implicit dimension choice for softmax has been deprecated. Change the call to include dim=X as an argument.\n",
      "  output = F.softmax(output)\n"
     ]
    },
    {
     "name": "stdout",
     "output_type": "stream",
     "text": [
      "Epoch: 1/100, Iteration: 412/937, Lr: 0.1, Loss: 0.40840649604797363, Accuracy: 0.84375\n"
     ]
    },
    {
     "name": "stderr",
     "output_type": "stream",
     "text": [
      "e:\\OneDrive - Hanoi University of Science and Technology\\Code project\\ML\\NLP\\uvipen_HAN\\src\\word_att_model.py:37: UserWarning: Implicit dimension choice for softmax has been deprecated. Change the call to include dim=X as an argument.\n",
      "  output = F.softmax(output)\n",
      "e:\\OneDrive - Hanoi University of Science and Technology\\Code project\\ML\\NLP\\uvipen_HAN\\src\\sent_att_model.py:29: UserWarning: Implicit dimension choice for softmax has been deprecated. Change the call to include dim=X as an argument.\n",
      "  output = F.softmax(output)\n"
     ]
    },
    {
     "name": "stdout",
     "output_type": "stream",
     "text": [
      "Epoch: 1/100, Iteration: 413/937, Lr: 0.1, Loss: 0.4287600517272949, Accuracy: 0.859375\n"
     ]
    },
    {
     "name": "stderr",
     "output_type": "stream",
     "text": [
      "e:\\OneDrive - Hanoi University of Science and Technology\\Code project\\ML\\NLP\\uvipen_HAN\\src\\word_att_model.py:37: UserWarning: Implicit dimension choice for softmax has been deprecated. Change the call to include dim=X as an argument.\n",
      "  output = F.softmax(output)\n",
      "e:\\OneDrive - Hanoi University of Science and Technology\\Code project\\ML\\NLP\\uvipen_HAN\\src\\sent_att_model.py:29: UserWarning: Implicit dimension choice for softmax has been deprecated. Change the call to include dim=X as an argument.\n",
      "  output = F.softmax(output)\n"
     ]
    },
    {
     "name": "stdout",
     "output_type": "stream",
     "text": [
      "Epoch: 1/100, Iteration: 414/937, Lr: 0.1, Loss: 0.3259941339492798, Accuracy: 0.8984375\n"
     ]
    },
    {
     "name": "stderr",
     "output_type": "stream",
     "text": [
      "e:\\OneDrive - Hanoi University of Science and Technology\\Code project\\ML\\NLP\\uvipen_HAN\\src\\word_att_model.py:37: UserWarning: Implicit dimension choice for softmax has been deprecated. Change the call to include dim=X as an argument.\n",
      "  output = F.softmax(output)\n",
      "e:\\OneDrive - Hanoi University of Science and Technology\\Code project\\ML\\NLP\\uvipen_HAN\\src\\sent_att_model.py:29: UserWarning: Implicit dimension choice for softmax has been deprecated. Change the call to include dim=X as an argument.\n",
      "  output = F.softmax(output)\n"
     ]
    },
    {
     "name": "stdout",
     "output_type": "stream",
     "text": [
      "Epoch: 1/100, Iteration: 415/937, Lr: 0.1, Loss: 0.26564985513687134, Accuracy: 0.8984375\n"
     ]
    },
    {
     "name": "stderr",
     "output_type": "stream",
     "text": [
      "e:\\OneDrive - Hanoi University of Science and Technology\\Code project\\ML\\NLP\\uvipen_HAN\\src\\word_att_model.py:37: UserWarning: Implicit dimension choice for softmax has been deprecated. Change the call to include dim=X as an argument.\n",
      "  output = F.softmax(output)\n",
      "e:\\OneDrive - Hanoi University of Science and Technology\\Code project\\ML\\NLP\\uvipen_HAN\\src\\sent_att_model.py:29: UserWarning: Implicit dimension choice for softmax has been deprecated. Change the call to include dim=X as an argument.\n",
      "  output = F.softmax(output)\n"
     ]
    },
    {
     "name": "stdout",
     "output_type": "stream",
     "text": [
      "Epoch: 1/100, Iteration: 416/937, Lr: 0.1, Loss: 0.3522518277168274, Accuracy: 0.8828125\n"
     ]
    },
    {
     "name": "stderr",
     "output_type": "stream",
     "text": [
      "e:\\OneDrive - Hanoi University of Science and Technology\\Code project\\ML\\NLP\\uvipen_HAN\\src\\word_att_model.py:37: UserWarning: Implicit dimension choice for softmax has been deprecated. Change the call to include dim=X as an argument.\n",
      "  output = F.softmax(output)\n",
      "e:\\OneDrive - Hanoi University of Science and Technology\\Code project\\ML\\NLP\\uvipen_HAN\\src\\sent_att_model.py:29: UserWarning: Implicit dimension choice for softmax has been deprecated. Change the call to include dim=X as an argument.\n",
      "  output = F.softmax(output)\n"
     ]
    },
    {
     "name": "stdout",
     "output_type": "stream",
     "text": [
      "Epoch: 1/100, Iteration: 417/937, Lr: 0.1, Loss: 0.2990483045578003, Accuracy: 0.9140625\n"
     ]
    },
    {
     "name": "stderr",
     "output_type": "stream",
     "text": [
      "e:\\OneDrive - Hanoi University of Science and Technology\\Code project\\ML\\NLP\\uvipen_HAN\\src\\word_att_model.py:37: UserWarning: Implicit dimension choice for softmax has been deprecated. Change the call to include dim=X as an argument.\n",
      "  output = F.softmax(output)\n",
      "e:\\OneDrive - Hanoi University of Science and Technology\\Code project\\ML\\NLP\\uvipen_HAN\\src\\sent_att_model.py:29: UserWarning: Implicit dimension choice for softmax has been deprecated. Change the call to include dim=X as an argument.\n",
      "  output = F.softmax(output)\n"
     ]
    },
    {
     "name": "stdout",
     "output_type": "stream",
     "text": [
      "Epoch: 1/100, Iteration: 418/937, Lr: 0.1, Loss: 0.34931719303131104, Accuracy: 0.8828125\n"
     ]
    },
    {
     "name": "stderr",
     "output_type": "stream",
     "text": [
      "e:\\OneDrive - Hanoi University of Science and Technology\\Code project\\ML\\NLP\\uvipen_HAN\\src\\word_att_model.py:37: UserWarning: Implicit dimension choice for softmax has been deprecated. Change the call to include dim=X as an argument.\n",
      "  output = F.softmax(output)\n",
      "e:\\OneDrive - Hanoi University of Science and Technology\\Code project\\ML\\NLP\\uvipen_HAN\\src\\sent_att_model.py:29: UserWarning: Implicit dimension choice for softmax has been deprecated. Change the call to include dim=X as an argument.\n",
      "  output = F.softmax(output)\n"
     ]
    },
    {
     "name": "stdout",
     "output_type": "stream",
     "text": [
      "Epoch: 1/100, Iteration: 419/937, Lr: 0.1, Loss: 0.29830917716026306, Accuracy: 0.8984375\n"
     ]
    },
    {
     "name": "stderr",
     "output_type": "stream",
     "text": [
      "e:\\OneDrive - Hanoi University of Science and Technology\\Code project\\ML\\NLP\\uvipen_HAN\\src\\word_att_model.py:37: UserWarning: Implicit dimension choice for softmax has been deprecated. Change the call to include dim=X as an argument.\n",
      "  output = F.softmax(output)\n",
      "e:\\OneDrive - Hanoi University of Science and Technology\\Code project\\ML\\NLP\\uvipen_HAN\\src\\sent_att_model.py:29: UserWarning: Implicit dimension choice for softmax has been deprecated. Change the call to include dim=X as an argument.\n",
      "  output = F.softmax(output)\n"
     ]
    },
    {
     "name": "stdout",
     "output_type": "stream",
     "text": [
      "Epoch: 1/100, Iteration: 420/937, Lr: 0.1, Loss: 0.4523698091506958, Accuracy: 0.8671875\n"
     ]
    },
    {
     "name": "stderr",
     "output_type": "stream",
     "text": [
      "e:\\OneDrive - Hanoi University of Science and Technology\\Code project\\ML\\NLP\\uvipen_HAN\\src\\word_att_model.py:37: UserWarning: Implicit dimension choice for softmax has been deprecated. Change the call to include dim=X as an argument.\n",
      "  output = F.softmax(output)\n",
      "e:\\OneDrive - Hanoi University of Science and Technology\\Code project\\ML\\NLP\\uvipen_HAN\\src\\sent_att_model.py:29: UserWarning: Implicit dimension choice for softmax has been deprecated. Change the call to include dim=X as an argument.\n",
      "  output = F.softmax(output)\n"
     ]
    },
    {
     "name": "stdout",
     "output_type": "stream",
     "text": [
      "Epoch: 1/100, Iteration: 421/937, Lr: 0.1, Loss: 0.3458639085292816, Accuracy: 0.890625\n"
     ]
    },
    {
     "name": "stderr",
     "output_type": "stream",
     "text": [
      "e:\\OneDrive - Hanoi University of Science and Technology\\Code project\\ML\\NLP\\uvipen_HAN\\src\\word_att_model.py:37: UserWarning: Implicit dimension choice for softmax has been deprecated. Change the call to include dim=X as an argument.\n",
      "  output = F.softmax(output)\n",
      "e:\\OneDrive - Hanoi University of Science and Technology\\Code project\\ML\\NLP\\uvipen_HAN\\src\\sent_att_model.py:29: UserWarning: Implicit dimension choice for softmax has been deprecated. Change the call to include dim=X as an argument.\n",
      "  output = F.softmax(output)\n"
     ]
    },
    {
     "name": "stdout",
     "output_type": "stream",
     "text": [
      "Epoch: 1/100, Iteration: 422/937, Lr: 0.1, Loss: 0.31237679719924927, Accuracy: 0.921875\n"
     ]
    },
    {
     "name": "stderr",
     "output_type": "stream",
     "text": [
      "e:\\OneDrive - Hanoi University of Science and Technology\\Code project\\ML\\NLP\\uvipen_HAN\\src\\word_att_model.py:37: UserWarning: Implicit dimension choice for softmax has been deprecated. Change the call to include dim=X as an argument.\n",
      "  output = F.softmax(output)\n",
      "e:\\OneDrive - Hanoi University of Science and Technology\\Code project\\ML\\NLP\\uvipen_HAN\\src\\sent_att_model.py:29: UserWarning: Implicit dimension choice for softmax has been deprecated. Change the call to include dim=X as an argument.\n",
      "  output = F.softmax(output)\n"
     ]
    },
    {
     "name": "stdout",
     "output_type": "stream",
     "text": [
      "Epoch: 1/100, Iteration: 423/937, Lr: 0.1, Loss: 0.22921445965766907, Accuracy: 0.9296875\n"
     ]
    },
    {
     "name": "stderr",
     "output_type": "stream",
     "text": [
      "e:\\OneDrive - Hanoi University of Science and Technology\\Code project\\ML\\NLP\\uvipen_HAN\\src\\word_att_model.py:37: UserWarning: Implicit dimension choice for softmax has been deprecated. Change the call to include dim=X as an argument.\n",
      "  output = F.softmax(output)\n",
      "e:\\OneDrive - Hanoi University of Science and Technology\\Code project\\ML\\NLP\\uvipen_HAN\\src\\sent_att_model.py:29: UserWarning: Implicit dimension choice for softmax has been deprecated. Change the call to include dim=X as an argument.\n",
      "  output = F.softmax(output)\n"
     ]
    },
    {
     "name": "stdout",
     "output_type": "stream",
     "text": [
      "Epoch: 1/100, Iteration: 424/937, Lr: 0.1, Loss: 0.28064748644828796, Accuracy: 0.8828125\n"
     ]
    },
    {
     "name": "stderr",
     "output_type": "stream",
     "text": [
      "e:\\OneDrive - Hanoi University of Science and Technology\\Code project\\ML\\NLP\\uvipen_HAN\\src\\word_att_model.py:37: UserWarning: Implicit dimension choice for softmax has been deprecated. Change the call to include dim=X as an argument.\n",
      "  output = F.softmax(output)\n",
      "e:\\OneDrive - Hanoi University of Science and Technology\\Code project\\ML\\NLP\\uvipen_HAN\\src\\sent_att_model.py:29: UserWarning: Implicit dimension choice for softmax has been deprecated. Change the call to include dim=X as an argument.\n",
      "  output = F.softmax(output)\n"
     ]
    },
    {
     "name": "stdout",
     "output_type": "stream",
     "text": [
      "Epoch: 1/100, Iteration: 425/937, Lr: 0.1, Loss: 0.3451853096485138, Accuracy: 0.890625\n"
     ]
    },
    {
     "name": "stderr",
     "output_type": "stream",
     "text": [
      "e:\\OneDrive - Hanoi University of Science and Technology\\Code project\\ML\\NLP\\uvipen_HAN\\src\\word_att_model.py:37: UserWarning: Implicit dimension choice for softmax has been deprecated. Change the call to include dim=X as an argument.\n",
      "  output = F.softmax(output)\n",
      "e:\\OneDrive - Hanoi University of Science and Technology\\Code project\\ML\\NLP\\uvipen_HAN\\src\\sent_att_model.py:29: UserWarning: Implicit dimension choice for softmax has been deprecated. Change the call to include dim=X as an argument.\n",
      "  output = F.softmax(output)\n"
     ]
    },
    {
     "name": "stdout",
     "output_type": "stream",
     "text": [
      "Epoch: 1/100, Iteration: 426/937, Lr: 0.1, Loss: 0.26907822489738464, Accuracy: 0.9140625\n"
     ]
    },
    {
     "name": "stderr",
     "output_type": "stream",
     "text": [
      "e:\\OneDrive - Hanoi University of Science and Technology\\Code project\\ML\\NLP\\uvipen_HAN\\src\\word_att_model.py:37: UserWarning: Implicit dimension choice for softmax has been deprecated. Change the call to include dim=X as an argument.\n",
      "  output = F.softmax(output)\n",
      "e:\\OneDrive - Hanoi University of Science and Technology\\Code project\\ML\\NLP\\uvipen_HAN\\src\\sent_att_model.py:29: UserWarning: Implicit dimension choice for softmax has been deprecated. Change the call to include dim=X as an argument.\n",
      "  output = F.softmax(output)\n"
     ]
    },
    {
     "name": "stdout",
     "output_type": "stream",
     "text": [
      "Epoch: 1/100, Iteration: 427/937, Lr: 0.1, Loss: 0.3729158341884613, Accuracy: 0.875\n"
     ]
    },
    {
     "name": "stderr",
     "output_type": "stream",
     "text": [
      "e:\\OneDrive - Hanoi University of Science and Technology\\Code project\\ML\\NLP\\uvipen_HAN\\src\\word_att_model.py:37: UserWarning: Implicit dimension choice for softmax has been deprecated. Change the call to include dim=X as an argument.\n",
      "  output = F.softmax(output)\n",
      "e:\\OneDrive - Hanoi University of Science and Technology\\Code project\\ML\\NLP\\uvipen_HAN\\src\\sent_att_model.py:29: UserWarning: Implicit dimension choice for softmax has been deprecated. Change the call to include dim=X as an argument.\n",
      "  output = F.softmax(output)\n"
     ]
    },
    {
     "name": "stdout",
     "output_type": "stream",
     "text": [
      "Epoch: 1/100, Iteration: 428/937, Lr: 0.1, Loss: 0.3541719317436218, Accuracy: 0.875\n"
     ]
    },
    {
     "name": "stderr",
     "output_type": "stream",
     "text": [
      "e:\\OneDrive - Hanoi University of Science and Technology\\Code project\\ML\\NLP\\uvipen_HAN\\src\\word_att_model.py:37: UserWarning: Implicit dimension choice for softmax has been deprecated. Change the call to include dim=X as an argument.\n",
      "  output = F.softmax(output)\n",
      "e:\\OneDrive - Hanoi University of Science and Technology\\Code project\\ML\\NLP\\uvipen_HAN\\src\\sent_att_model.py:29: UserWarning: Implicit dimension choice for softmax has been deprecated. Change the call to include dim=X as an argument.\n",
      "  output = F.softmax(output)\n"
     ]
    },
    {
     "name": "stdout",
     "output_type": "stream",
     "text": [
      "Epoch: 1/100, Iteration: 429/937, Lr: 0.1, Loss: 0.3691810667514801, Accuracy: 0.8515625\n"
     ]
    },
    {
     "name": "stderr",
     "output_type": "stream",
     "text": [
      "e:\\OneDrive - Hanoi University of Science and Technology\\Code project\\ML\\NLP\\uvipen_HAN\\src\\word_att_model.py:37: UserWarning: Implicit dimension choice for softmax has been deprecated. Change the call to include dim=X as an argument.\n",
      "  output = F.softmax(output)\n",
      "e:\\OneDrive - Hanoi University of Science and Technology\\Code project\\ML\\NLP\\uvipen_HAN\\src\\sent_att_model.py:29: UserWarning: Implicit dimension choice for softmax has been deprecated. Change the call to include dim=X as an argument.\n",
      "  output = F.softmax(output)\n"
     ]
    },
    {
     "name": "stdout",
     "output_type": "stream",
     "text": [
      "Epoch: 1/100, Iteration: 430/937, Lr: 0.1, Loss: 0.2610822319984436, Accuracy: 0.9375\n"
     ]
    },
    {
     "name": "stderr",
     "output_type": "stream",
     "text": [
      "e:\\OneDrive - Hanoi University of Science and Technology\\Code project\\ML\\NLP\\uvipen_HAN\\src\\word_att_model.py:37: UserWarning: Implicit dimension choice for softmax has been deprecated. Change the call to include dim=X as an argument.\n",
      "  output = F.softmax(output)\n",
      "e:\\OneDrive - Hanoi University of Science and Technology\\Code project\\ML\\NLP\\uvipen_HAN\\src\\sent_att_model.py:29: UserWarning: Implicit dimension choice for softmax has been deprecated. Change the call to include dim=X as an argument.\n",
      "  output = F.softmax(output)\n"
     ]
    },
    {
     "name": "stdout",
     "output_type": "stream",
     "text": [
      "Epoch: 1/100, Iteration: 431/937, Lr: 0.1, Loss: 0.5129589438438416, Accuracy: 0.8203125\n"
     ]
    },
    {
     "name": "stderr",
     "output_type": "stream",
     "text": [
      "e:\\OneDrive - Hanoi University of Science and Technology\\Code project\\ML\\NLP\\uvipen_HAN\\src\\word_att_model.py:37: UserWarning: Implicit dimension choice for softmax has been deprecated. Change the call to include dim=X as an argument.\n",
      "  output = F.softmax(output)\n",
      "e:\\OneDrive - Hanoi University of Science and Technology\\Code project\\ML\\NLP\\uvipen_HAN\\src\\sent_att_model.py:29: UserWarning: Implicit dimension choice for softmax has been deprecated. Change the call to include dim=X as an argument.\n",
      "  output = F.softmax(output)\n"
     ]
    },
    {
     "name": "stdout",
     "output_type": "stream",
     "text": [
      "Epoch: 1/100, Iteration: 432/937, Lr: 0.1, Loss: 0.22523121535778046, Accuracy: 0.9375\n"
     ]
    },
    {
     "name": "stderr",
     "output_type": "stream",
     "text": [
      "e:\\OneDrive - Hanoi University of Science and Technology\\Code project\\ML\\NLP\\uvipen_HAN\\src\\word_att_model.py:37: UserWarning: Implicit dimension choice for softmax has been deprecated. Change the call to include dim=X as an argument.\n",
      "  output = F.softmax(output)\n",
      "e:\\OneDrive - Hanoi University of Science and Technology\\Code project\\ML\\NLP\\uvipen_HAN\\src\\sent_att_model.py:29: UserWarning: Implicit dimension choice for softmax has been deprecated. Change the call to include dim=X as an argument.\n",
      "  output = F.softmax(output)\n"
     ]
    },
    {
     "name": "stdout",
     "output_type": "stream",
     "text": [
      "Epoch: 1/100, Iteration: 433/937, Lr: 0.1, Loss: 0.35417595505714417, Accuracy: 0.8671875\n"
     ]
    },
    {
     "name": "stderr",
     "output_type": "stream",
     "text": [
      "e:\\OneDrive - Hanoi University of Science and Technology\\Code project\\ML\\NLP\\uvipen_HAN\\src\\word_att_model.py:37: UserWarning: Implicit dimension choice for softmax has been deprecated. Change the call to include dim=X as an argument.\n",
      "  output = F.softmax(output)\n",
      "e:\\OneDrive - Hanoi University of Science and Technology\\Code project\\ML\\NLP\\uvipen_HAN\\src\\sent_att_model.py:29: UserWarning: Implicit dimension choice for softmax has been deprecated. Change the call to include dim=X as an argument.\n",
      "  output = F.softmax(output)\n"
     ]
    },
    {
     "name": "stdout",
     "output_type": "stream",
     "text": [
      "Epoch: 1/100, Iteration: 434/937, Lr: 0.1, Loss: 0.27237072587013245, Accuracy: 0.90625\n"
     ]
    },
    {
     "name": "stderr",
     "output_type": "stream",
     "text": [
      "e:\\OneDrive - Hanoi University of Science and Technology\\Code project\\ML\\NLP\\uvipen_HAN\\src\\word_att_model.py:37: UserWarning: Implicit dimension choice for softmax has been deprecated. Change the call to include dim=X as an argument.\n",
      "  output = F.softmax(output)\n",
      "e:\\OneDrive - Hanoi University of Science and Technology\\Code project\\ML\\NLP\\uvipen_HAN\\src\\sent_att_model.py:29: UserWarning: Implicit dimension choice for softmax has been deprecated. Change the call to include dim=X as an argument.\n",
      "  output = F.softmax(output)\n"
     ]
    },
    {
     "name": "stdout",
     "output_type": "stream",
     "text": [
      "Epoch: 1/100, Iteration: 435/937, Lr: 0.1, Loss: 0.3227214515209198, Accuracy: 0.8984375\n"
     ]
    },
    {
     "name": "stderr",
     "output_type": "stream",
     "text": [
      "e:\\OneDrive - Hanoi University of Science and Technology\\Code project\\ML\\NLP\\uvipen_HAN\\src\\word_att_model.py:37: UserWarning: Implicit dimension choice for softmax has been deprecated. Change the call to include dim=X as an argument.\n",
      "  output = F.softmax(output)\n",
      "e:\\OneDrive - Hanoi University of Science and Technology\\Code project\\ML\\NLP\\uvipen_HAN\\src\\sent_att_model.py:29: UserWarning: Implicit dimension choice for softmax has been deprecated. Change the call to include dim=X as an argument.\n",
      "  output = F.softmax(output)\n"
     ]
    },
    {
     "name": "stdout",
     "output_type": "stream",
     "text": [
      "Epoch: 1/100, Iteration: 436/937, Lr: 0.1, Loss: 0.2278708517551422, Accuracy: 0.9140625\n"
     ]
    },
    {
     "name": "stderr",
     "output_type": "stream",
     "text": [
      "e:\\OneDrive - Hanoi University of Science and Technology\\Code project\\ML\\NLP\\uvipen_HAN\\src\\word_att_model.py:37: UserWarning: Implicit dimension choice for softmax has been deprecated. Change the call to include dim=X as an argument.\n",
      "  output = F.softmax(output)\n",
      "e:\\OneDrive - Hanoi University of Science and Technology\\Code project\\ML\\NLP\\uvipen_HAN\\src\\sent_att_model.py:29: UserWarning: Implicit dimension choice for softmax has been deprecated. Change the call to include dim=X as an argument.\n",
      "  output = F.softmax(output)\n"
     ]
    },
    {
     "name": "stdout",
     "output_type": "stream",
     "text": [
      "Epoch: 1/100, Iteration: 437/937, Lr: 0.1, Loss: 0.43091168999671936, Accuracy: 0.859375\n"
     ]
    },
    {
     "name": "stderr",
     "output_type": "stream",
     "text": [
      "e:\\OneDrive - Hanoi University of Science and Technology\\Code project\\ML\\NLP\\uvipen_HAN\\src\\word_att_model.py:37: UserWarning: Implicit dimension choice for softmax has been deprecated. Change the call to include dim=X as an argument.\n",
      "  output = F.softmax(output)\n",
      "e:\\OneDrive - Hanoi University of Science and Technology\\Code project\\ML\\NLP\\uvipen_HAN\\src\\sent_att_model.py:29: UserWarning: Implicit dimension choice for softmax has been deprecated. Change the call to include dim=X as an argument.\n",
      "  output = F.softmax(output)\n"
     ]
    },
    {
     "name": "stdout",
     "output_type": "stream",
     "text": [
      "Epoch: 1/100, Iteration: 438/937, Lr: 0.1, Loss: 0.24951191246509552, Accuracy: 0.921875\n"
     ]
    },
    {
     "name": "stderr",
     "output_type": "stream",
     "text": [
      "e:\\OneDrive - Hanoi University of Science and Technology\\Code project\\ML\\NLP\\uvipen_HAN\\src\\word_att_model.py:37: UserWarning: Implicit dimension choice for softmax has been deprecated. Change the call to include dim=X as an argument.\n",
      "  output = F.softmax(output)\n",
      "e:\\OneDrive - Hanoi University of Science and Technology\\Code project\\ML\\NLP\\uvipen_HAN\\src\\sent_att_model.py:29: UserWarning: Implicit dimension choice for softmax has been deprecated. Change the call to include dim=X as an argument.\n",
      "  output = F.softmax(output)\n"
     ]
    },
    {
     "name": "stdout",
     "output_type": "stream",
     "text": [
      "Epoch: 1/100, Iteration: 439/937, Lr: 0.1, Loss: 0.3698118031024933, Accuracy: 0.890625\n"
     ]
    },
    {
     "name": "stderr",
     "output_type": "stream",
     "text": [
      "e:\\OneDrive - Hanoi University of Science and Technology\\Code project\\ML\\NLP\\uvipen_HAN\\src\\word_att_model.py:37: UserWarning: Implicit dimension choice for softmax has been deprecated. Change the call to include dim=X as an argument.\n",
      "  output = F.softmax(output)\n",
      "e:\\OneDrive - Hanoi University of Science and Technology\\Code project\\ML\\NLP\\uvipen_HAN\\src\\sent_att_model.py:29: UserWarning: Implicit dimension choice for softmax has been deprecated. Change the call to include dim=X as an argument.\n",
      "  output = F.softmax(output)\n"
     ]
    },
    {
     "name": "stdout",
     "output_type": "stream",
     "text": [
      "Epoch: 1/100, Iteration: 440/937, Lr: 0.1, Loss: 0.4018119275569916, Accuracy: 0.8671875\n"
     ]
    },
    {
     "name": "stderr",
     "output_type": "stream",
     "text": [
      "e:\\OneDrive - Hanoi University of Science and Technology\\Code project\\ML\\NLP\\uvipen_HAN\\src\\word_att_model.py:37: UserWarning: Implicit dimension choice for softmax has been deprecated. Change the call to include dim=X as an argument.\n",
      "  output = F.softmax(output)\n",
      "e:\\OneDrive - Hanoi University of Science and Technology\\Code project\\ML\\NLP\\uvipen_HAN\\src\\sent_att_model.py:29: UserWarning: Implicit dimension choice for softmax has been deprecated. Change the call to include dim=X as an argument.\n",
      "  output = F.softmax(output)\n"
     ]
    },
    {
     "name": "stdout",
     "output_type": "stream",
     "text": [
      "Epoch: 1/100, Iteration: 441/937, Lr: 0.1, Loss: 0.3377349078655243, Accuracy: 0.890625\n"
     ]
    },
    {
     "name": "stderr",
     "output_type": "stream",
     "text": [
      "e:\\OneDrive - Hanoi University of Science and Technology\\Code project\\ML\\NLP\\uvipen_HAN\\src\\word_att_model.py:37: UserWarning: Implicit dimension choice for softmax has been deprecated. Change the call to include dim=X as an argument.\n",
      "  output = F.softmax(output)\n",
      "e:\\OneDrive - Hanoi University of Science and Technology\\Code project\\ML\\NLP\\uvipen_HAN\\src\\sent_att_model.py:29: UserWarning: Implicit dimension choice for softmax has been deprecated. Change the call to include dim=X as an argument.\n",
      "  output = F.softmax(output)\n"
     ]
    },
    {
     "name": "stdout",
     "output_type": "stream",
     "text": [
      "Epoch: 1/100, Iteration: 442/937, Lr: 0.1, Loss: 0.3282429575920105, Accuracy: 0.8671875\n"
     ]
    },
    {
     "name": "stderr",
     "output_type": "stream",
     "text": [
      "e:\\OneDrive - Hanoi University of Science and Technology\\Code project\\ML\\NLP\\uvipen_HAN\\src\\word_att_model.py:37: UserWarning: Implicit dimension choice for softmax has been deprecated. Change the call to include dim=X as an argument.\n",
      "  output = F.softmax(output)\n",
      "e:\\OneDrive - Hanoi University of Science and Technology\\Code project\\ML\\NLP\\uvipen_HAN\\src\\sent_att_model.py:29: UserWarning: Implicit dimension choice for softmax has been deprecated. Change the call to include dim=X as an argument.\n",
      "  output = F.softmax(output)\n"
     ]
    },
    {
     "name": "stdout",
     "output_type": "stream",
     "text": [
      "Epoch: 1/100, Iteration: 443/937, Lr: 0.1, Loss: 0.27177175879478455, Accuracy: 0.921875\n"
     ]
    },
    {
     "name": "stderr",
     "output_type": "stream",
     "text": [
      "e:\\OneDrive - Hanoi University of Science and Technology\\Code project\\ML\\NLP\\uvipen_HAN\\src\\word_att_model.py:37: UserWarning: Implicit dimension choice for softmax has been deprecated. Change the call to include dim=X as an argument.\n",
      "  output = F.softmax(output)\n",
      "e:\\OneDrive - Hanoi University of Science and Technology\\Code project\\ML\\NLP\\uvipen_HAN\\src\\sent_att_model.py:29: UserWarning: Implicit dimension choice for softmax has been deprecated. Change the call to include dim=X as an argument.\n",
      "  output = F.softmax(output)\n"
     ]
    },
    {
     "name": "stdout",
     "output_type": "stream",
     "text": [
      "Epoch: 1/100, Iteration: 444/937, Lr: 0.1, Loss: 0.2967354655265808, Accuracy: 0.9140625\n"
     ]
    },
    {
     "name": "stderr",
     "output_type": "stream",
     "text": [
      "e:\\OneDrive - Hanoi University of Science and Technology\\Code project\\ML\\NLP\\uvipen_HAN\\src\\word_att_model.py:37: UserWarning: Implicit dimension choice for softmax has been deprecated. Change the call to include dim=X as an argument.\n",
      "  output = F.softmax(output)\n",
      "e:\\OneDrive - Hanoi University of Science and Technology\\Code project\\ML\\NLP\\uvipen_HAN\\src\\sent_att_model.py:29: UserWarning: Implicit dimension choice for softmax has been deprecated. Change the call to include dim=X as an argument.\n",
      "  output = F.softmax(output)\n"
     ]
    },
    {
     "name": "stdout",
     "output_type": "stream",
     "text": [
      "Epoch: 1/100, Iteration: 445/937, Lr: 0.1, Loss: 0.31885525584220886, Accuracy: 0.90625\n"
     ]
    },
    {
     "name": "stderr",
     "output_type": "stream",
     "text": [
      "e:\\OneDrive - Hanoi University of Science and Technology\\Code project\\ML\\NLP\\uvipen_HAN\\src\\word_att_model.py:37: UserWarning: Implicit dimension choice for softmax has been deprecated. Change the call to include dim=X as an argument.\n",
      "  output = F.softmax(output)\n",
      "e:\\OneDrive - Hanoi University of Science and Technology\\Code project\\ML\\NLP\\uvipen_HAN\\src\\sent_att_model.py:29: UserWarning: Implicit dimension choice for softmax has been deprecated. Change the call to include dim=X as an argument.\n",
      "  output = F.softmax(output)\n"
     ]
    },
    {
     "name": "stdout",
     "output_type": "stream",
     "text": [
      "Epoch: 1/100, Iteration: 446/937, Lr: 0.1, Loss: 0.27204522490501404, Accuracy: 0.921875\n"
     ]
    },
    {
     "name": "stderr",
     "output_type": "stream",
     "text": [
      "e:\\OneDrive - Hanoi University of Science and Technology\\Code project\\ML\\NLP\\uvipen_HAN\\src\\word_att_model.py:37: UserWarning: Implicit dimension choice for softmax has been deprecated. Change the call to include dim=X as an argument.\n",
      "  output = F.softmax(output)\n",
      "e:\\OneDrive - Hanoi University of Science and Technology\\Code project\\ML\\NLP\\uvipen_HAN\\src\\sent_att_model.py:29: UserWarning: Implicit dimension choice for softmax has been deprecated. Change the call to include dim=X as an argument.\n",
      "  output = F.softmax(output)\n"
     ]
    },
    {
     "name": "stdout",
     "output_type": "stream",
     "text": [
      "Epoch: 1/100, Iteration: 447/937, Lr: 0.1, Loss: 0.3566494882106781, Accuracy: 0.9140625\n"
     ]
    },
    {
     "name": "stderr",
     "output_type": "stream",
     "text": [
      "e:\\OneDrive - Hanoi University of Science and Technology\\Code project\\ML\\NLP\\uvipen_HAN\\src\\word_att_model.py:37: UserWarning: Implicit dimension choice for softmax has been deprecated. Change the call to include dim=X as an argument.\n",
      "  output = F.softmax(output)\n",
      "e:\\OneDrive - Hanoi University of Science and Technology\\Code project\\ML\\NLP\\uvipen_HAN\\src\\sent_att_model.py:29: UserWarning: Implicit dimension choice for softmax has been deprecated. Change the call to include dim=X as an argument.\n",
      "  output = F.softmax(output)\n"
     ]
    },
    {
     "name": "stdout",
     "output_type": "stream",
     "text": [
      "Epoch: 1/100, Iteration: 448/937, Lr: 0.1, Loss: 0.2124810665845871, Accuracy: 0.9296875\n"
     ]
    },
    {
     "name": "stderr",
     "output_type": "stream",
     "text": [
      "e:\\OneDrive - Hanoi University of Science and Technology\\Code project\\ML\\NLP\\uvipen_HAN\\src\\word_att_model.py:37: UserWarning: Implicit dimension choice for softmax has been deprecated. Change the call to include dim=X as an argument.\n",
      "  output = F.softmax(output)\n",
      "e:\\OneDrive - Hanoi University of Science and Technology\\Code project\\ML\\NLP\\uvipen_HAN\\src\\sent_att_model.py:29: UserWarning: Implicit dimension choice for softmax has been deprecated. Change the call to include dim=X as an argument.\n",
      "  output = F.softmax(output)\n"
     ]
    },
    {
     "name": "stdout",
     "output_type": "stream",
     "text": [
      "Epoch: 1/100, Iteration: 449/937, Lr: 0.1, Loss: 0.34202373027801514, Accuracy: 0.890625\n"
     ]
    },
    {
     "name": "stderr",
     "output_type": "stream",
     "text": [
      "e:\\OneDrive - Hanoi University of Science and Technology\\Code project\\ML\\NLP\\uvipen_HAN\\src\\word_att_model.py:37: UserWarning: Implicit dimension choice for softmax has been deprecated. Change the call to include dim=X as an argument.\n",
      "  output = F.softmax(output)\n",
      "e:\\OneDrive - Hanoi University of Science and Technology\\Code project\\ML\\NLP\\uvipen_HAN\\src\\sent_att_model.py:29: UserWarning: Implicit dimension choice for softmax has been deprecated. Change the call to include dim=X as an argument.\n",
      "  output = F.softmax(output)\n"
     ]
    },
    {
     "name": "stdout",
     "output_type": "stream",
     "text": [
      "Epoch: 1/100, Iteration: 450/937, Lr: 0.1, Loss: 0.28619441390037537, Accuracy: 0.8984375\n"
     ]
    },
    {
     "name": "stderr",
     "output_type": "stream",
     "text": [
      "e:\\OneDrive - Hanoi University of Science and Technology\\Code project\\ML\\NLP\\uvipen_HAN\\src\\word_att_model.py:37: UserWarning: Implicit dimension choice for softmax has been deprecated. Change the call to include dim=X as an argument.\n",
      "  output = F.softmax(output)\n",
      "e:\\OneDrive - Hanoi University of Science and Technology\\Code project\\ML\\NLP\\uvipen_HAN\\src\\sent_att_model.py:29: UserWarning: Implicit dimension choice for softmax has been deprecated. Change the call to include dim=X as an argument.\n",
      "  output = F.softmax(output)\n"
     ]
    },
    {
     "name": "stdout",
     "output_type": "stream",
     "text": [
      "Epoch: 1/100, Iteration: 451/937, Lr: 0.1, Loss: 0.25699588656425476, Accuracy: 0.90625\n"
     ]
    },
    {
     "name": "stderr",
     "output_type": "stream",
     "text": [
      "e:\\OneDrive - Hanoi University of Science and Technology\\Code project\\ML\\NLP\\uvipen_HAN\\src\\word_att_model.py:37: UserWarning: Implicit dimension choice for softmax has been deprecated. Change the call to include dim=X as an argument.\n",
      "  output = F.softmax(output)\n",
      "e:\\OneDrive - Hanoi University of Science and Technology\\Code project\\ML\\NLP\\uvipen_HAN\\src\\sent_att_model.py:29: UserWarning: Implicit dimension choice for softmax has been deprecated. Change the call to include dim=X as an argument.\n",
      "  output = F.softmax(output)\n"
     ]
    },
    {
     "name": "stdout",
     "output_type": "stream",
     "text": [
      "Epoch: 1/100, Iteration: 452/937, Lr: 0.1, Loss: 0.41655784845352173, Accuracy: 0.890625\n"
     ]
    },
    {
     "name": "stderr",
     "output_type": "stream",
     "text": [
      "e:\\OneDrive - Hanoi University of Science and Technology\\Code project\\ML\\NLP\\uvipen_HAN\\src\\word_att_model.py:37: UserWarning: Implicit dimension choice for softmax has been deprecated. Change the call to include dim=X as an argument.\n",
      "  output = F.softmax(output)\n",
      "e:\\OneDrive - Hanoi University of Science and Technology\\Code project\\ML\\NLP\\uvipen_HAN\\src\\sent_att_model.py:29: UserWarning: Implicit dimension choice for softmax has been deprecated. Change the call to include dim=X as an argument.\n",
      "  output = F.softmax(output)\n"
     ]
    },
    {
     "name": "stdout",
     "output_type": "stream",
     "text": [
      "Epoch: 1/100, Iteration: 453/937, Lr: 0.1, Loss: 0.3090779185295105, Accuracy: 0.875\n"
     ]
    },
    {
     "name": "stderr",
     "output_type": "stream",
     "text": [
      "e:\\OneDrive - Hanoi University of Science and Technology\\Code project\\ML\\NLP\\uvipen_HAN\\src\\word_att_model.py:37: UserWarning: Implicit dimension choice for softmax has been deprecated. Change the call to include dim=X as an argument.\n",
      "  output = F.softmax(output)\n",
      "e:\\OneDrive - Hanoi University of Science and Technology\\Code project\\ML\\NLP\\uvipen_HAN\\src\\sent_att_model.py:29: UserWarning: Implicit dimension choice for softmax has been deprecated. Change the call to include dim=X as an argument.\n",
      "  output = F.softmax(output)\n"
     ]
    },
    {
     "name": "stdout",
     "output_type": "stream",
     "text": [
      "Epoch: 1/100, Iteration: 454/937, Lr: 0.1, Loss: 0.3751150369644165, Accuracy: 0.875\n"
     ]
    },
    {
     "name": "stderr",
     "output_type": "stream",
     "text": [
      "e:\\OneDrive - Hanoi University of Science and Technology\\Code project\\ML\\NLP\\uvipen_HAN\\src\\word_att_model.py:37: UserWarning: Implicit dimension choice for softmax has been deprecated. Change the call to include dim=X as an argument.\n",
      "  output = F.softmax(output)\n",
      "e:\\OneDrive - Hanoi University of Science and Technology\\Code project\\ML\\NLP\\uvipen_HAN\\src\\sent_att_model.py:29: UserWarning: Implicit dimension choice for softmax has been deprecated. Change the call to include dim=X as an argument.\n",
      "  output = F.softmax(output)\n"
     ]
    },
    {
     "name": "stdout",
     "output_type": "stream",
     "text": [
      "Epoch: 1/100, Iteration: 455/937, Lr: 0.1, Loss: 0.3467130959033966, Accuracy: 0.8828125\n"
     ]
    },
    {
     "name": "stderr",
     "output_type": "stream",
     "text": [
      "e:\\OneDrive - Hanoi University of Science and Technology\\Code project\\ML\\NLP\\uvipen_HAN\\src\\word_att_model.py:37: UserWarning: Implicit dimension choice for softmax has been deprecated. Change the call to include dim=X as an argument.\n",
      "  output = F.softmax(output)\n",
      "e:\\OneDrive - Hanoi University of Science and Technology\\Code project\\ML\\NLP\\uvipen_HAN\\src\\sent_att_model.py:29: UserWarning: Implicit dimension choice for softmax has been deprecated. Change the call to include dim=X as an argument.\n",
      "  output = F.softmax(output)\n"
     ]
    },
    {
     "name": "stdout",
     "output_type": "stream",
     "text": [
      "Epoch: 1/100, Iteration: 456/937, Lr: 0.1, Loss: 0.32267871499061584, Accuracy: 0.890625\n"
     ]
    },
    {
     "name": "stderr",
     "output_type": "stream",
     "text": [
      "e:\\OneDrive - Hanoi University of Science and Technology\\Code project\\ML\\NLP\\uvipen_HAN\\src\\word_att_model.py:37: UserWarning: Implicit dimension choice for softmax has been deprecated. Change the call to include dim=X as an argument.\n",
      "  output = F.softmax(output)\n",
      "e:\\OneDrive - Hanoi University of Science and Technology\\Code project\\ML\\NLP\\uvipen_HAN\\src\\sent_att_model.py:29: UserWarning: Implicit dimension choice for softmax has been deprecated. Change the call to include dim=X as an argument.\n",
      "  output = F.softmax(output)\n"
     ]
    },
    {
     "name": "stdout",
     "output_type": "stream",
     "text": [
      "Epoch: 1/100, Iteration: 457/937, Lr: 0.1, Loss: 0.3527684807777405, Accuracy: 0.890625\n"
     ]
    },
    {
     "name": "stderr",
     "output_type": "stream",
     "text": [
      "e:\\OneDrive - Hanoi University of Science and Technology\\Code project\\ML\\NLP\\uvipen_HAN\\src\\word_att_model.py:37: UserWarning: Implicit dimension choice for softmax has been deprecated. Change the call to include dim=X as an argument.\n",
      "  output = F.softmax(output)\n",
      "e:\\OneDrive - Hanoi University of Science and Technology\\Code project\\ML\\NLP\\uvipen_HAN\\src\\sent_att_model.py:29: UserWarning: Implicit dimension choice for softmax has been deprecated. Change the call to include dim=X as an argument.\n",
      "  output = F.softmax(output)\n"
     ]
    },
    {
     "name": "stdout",
     "output_type": "stream",
     "text": [
      "Epoch: 1/100, Iteration: 458/937, Lr: 0.1, Loss: 0.29815733432769775, Accuracy: 0.859375\n"
     ]
    },
    {
     "name": "stderr",
     "output_type": "stream",
     "text": [
      "e:\\OneDrive - Hanoi University of Science and Technology\\Code project\\ML\\NLP\\uvipen_HAN\\src\\word_att_model.py:37: UserWarning: Implicit dimension choice for softmax has been deprecated. Change the call to include dim=X as an argument.\n",
      "  output = F.softmax(output)\n",
      "e:\\OneDrive - Hanoi University of Science and Technology\\Code project\\ML\\NLP\\uvipen_HAN\\src\\sent_att_model.py:29: UserWarning: Implicit dimension choice for softmax has been deprecated. Change the call to include dim=X as an argument.\n",
      "  output = F.softmax(output)\n"
     ]
    },
    {
     "name": "stdout",
     "output_type": "stream",
     "text": [
      "Epoch: 1/100, Iteration: 459/937, Lr: 0.1, Loss: 0.2688917815685272, Accuracy: 0.8984375\n"
     ]
    },
    {
     "name": "stderr",
     "output_type": "stream",
     "text": [
      "e:\\OneDrive - Hanoi University of Science and Technology\\Code project\\ML\\NLP\\uvipen_HAN\\src\\word_att_model.py:37: UserWarning: Implicit dimension choice for softmax has been deprecated. Change the call to include dim=X as an argument.\n",
      "  output = F.softmax(output)\n",
      "e:\\OneDrive - Hanoi University of Science and Technology\\Code project\\ML\\NLP\\uvipen_HAN\\src\\sent_att_model.py:29: UserWarning: Implicit dimension choice for softmax has been deprecated. Change the call to include dim=X as an argument.\n",
      "  output = F.softmax(output)\n"
     ]
    },
    {
     "name": "stdout",
     "output_type": "stream",
     "text": [
      "Epoch: 1/100, Iteration: 460/937, Lr: 0.1, Loss: 0.3917297124862671, Accuracy: 0.84375\n"
     ]
    },
    {
     "name": "stderr",
     "output_type": "stream",
     "text": [
      "e:\\OneDrive - Hanoi University of Science and Technology\\Code project\\ML\\NLP\\uvipen_HAN\\src\\word_att_model.py:37: UserWarning: Implicit dimension choice for softmax has been deprecated. Change the call to include dim=X as an argument.\n",
      "  output = F.softmax(output)\n",
      "e:\\OneDrive - Hanoi University of Science and Technology\\Code project\\ML\\NLP\\uvipen_HAN\\src\\sent_att_model.py:29: UserWarning: Implicit dimension choice for softmax has been deprecated. Change the call to include dim=X as an argument.\n",
      "  output = F.softmax(output)\n"
     ]
    },
    {
     "name": "stdout",
     "output_type": "stream",
     "text": [
      "Epoch: 1/100, Iteration: 461/937, Lr: 0.1, Loss: 0.3508765995502472, Accuracy: 0.8671875\n"
     ]
    },
    {
     "name": "stderr",
     "output_type": "stream",
     "text": [
      "e:\\OneDrive - Hanoi University of Science and Technology\\Code project\\ML\\NLP\\uvipen_HAN\\src\\word_att_model.py:37: UserWarning: Implicit dimension choice for softmax has been deprecated. Change the call to include dim=X as an argument.\n",
      "  output = F.softmax(output)\n",
      "e:\\OneDrive - Hanoi University of Science and Technology\\Code project\\ML\\NLP\\uvipen_HAN\\src\\sent_att_model.py:29: UserWarning: Implicit dimension choice for softmax has been deprecated. Change the call to include dim=X as an argument.\n",
      "  output = F.softmax(output)\n"
     ]
    },
    {
     "name": "stdout",
     "output_type": "stream",
     "text": [
      "Epoch: 1/100, Iteration: 462/937, Lr: 0.1, Loss: 0.28436708450317383, Accuracy: 0.890625\n"
     ]
    },
    {
     "name": "stderr",
     "output_type": "stream",
     "text": [
      "e:\\OneDrive - Hanoi University of Science and Technology\\Code project\\ML\\NLP\\uvipen_HAN\\src\\word_att_model.py:37: UserWarning: Implicit dimension choice for softmax has been deprecated. Change the call to include dim=X as an argument.\n",
      "  output = F.softmax(output)\n",
      "e:\\OneDrive - Hanoi University of Science and Technology\\Code project\\ML\\NLP\\uvipen_HAN\\src\\sent_att_model.py:29: UserWarning: Implicit dimension choice for softmax has been deprecated. Change the call to include dim=X as an argument.\n",
      "  output = F.softmax(output)\n"
     ]
    },
    {
     "name": "stdout",
     "output_type": "stream",
     "text": [
      "Epoch: 1/100, Iteration: 463/937, Lr: 0.1, Loss: 0.2784050405025482, Accuracy: 0.90625\n"
     ]
    },
    {
     "name": "stderr",
     "output_type": "stream",
     "text": [
      "e:\\OneDrive - Hanoi University of Science and Technology\\Code project\\ML\\NLP\\uvipen_HAN\\src\\word_att_model.py:37: UserWarning: Implicit dimension choice for softmax has been deprecated. Change the call to include dim=X as an argument.\n",
      "  output = F.softmax(output)\n",
      "e:\\OneDrive - Hanoi University of Science and Technology\\Code project\\ML\\NLP\\uvipen_HAN\\src\\sent_att_model.py:29: UserWarning: Implicit dimension choice for softmax has been deprecated. Change the call to include dim=X as an argument.\n",
      "  output = F.softmax(output)\n"
     ]
    },
    {
     "name": "stdout",
     "output_type": "stream",
     "text": [
      "Epoch: 1/100, Iteration: 464/937, Lr: 0.1, Loss: 0.3123503029346466, Accuracy: 0.875\n"
     ]
    },
    {
     "name": "stderr",
     "output_type": "stream",
     "text": [
      "e:\\OneDrive - Hanoi University of Science and Technology\\Code project\\ML\\NLP\\uvipen_HAN\\src\\word_att_model.py:37: UserWarning: Implicit dimension choice for softmax has been deprecated. Change the call to include dim=X as an argument.\n",
      "  output = F.softmax(output)\n",
      "e:\\OneDrive - Hanoi University of Science and Technology\\Code project\\ML\\NLP\\uvipen_HAN\\src\\sent_att_model.py:29: UserWarning: Implicit dimension choice for softmax has been deprecated. Change the call to include dim=X as an argument.\n",
      "  output = F.softmax(output)\n"
     ]
    },
    {
     "name": "stdout",
     "output_type": "stream",
     "text": [
      "Epoch: 1/100, Iteration: 465/937, Lr: 0.1, Loss: 0.3321540653705597, Accuracy: 0.890625\n"
     ]
    },
    {
     "name": "stderr",
     "output_type": "stream",
     "text": [
      "e:\\OneDrive - Hanoi University of Science and Technology\\Code project\\ML\\NLP\\uvipen_HAN\\src\\word_att_model.py:37: UserWarning: Implicit dimension choice for softmax has been deprecated. Change the call to include dim=X as an argument.\n",
      "  output = F.softmax(output)\n",
      "e:\\OneDrive - Hanoi University of Science and Technology\\Code project\\ML\\NLP\\uvipen_HAN\\src\\sent_att_model.py:29: UserWarning: Implicit dimension choice for softmax has been deprecated. Change the call to include dim=X as an argument.\n",
      "  output = F.softmax(output)\n"
     ]
    },
    {
     "name": "stdout",
     "output_type": "stream",
     "text": [
      "Epoch: 1/100, Iteration: 466/937, Lr: 0.1, Loss: 0.3000396490097046, Accuracy: 0.9140625\n"
     ]
    },
    {
     "name": "stderr",
     "output_type": "stream",
     "text": [
      "e:\\OneDrive - Hanoi University of Science and Technology\\Code project\\ML\\NLP\\uvipen_HAN\\src\\word_att_model.py:37: UserWarning: Implicit dimension choice for softmax has been deprecated. Change the call to include dim=X as an argument.\n",
      "  output = F.softmax(output)\n",
      "e:\\OneDrive - Hanoi University of Science and Technology\\Code project\\ML\\NLP\\uvipen_HAN\\src\\sent_att_model.py:29: UserWarning: Implicit dimension choice for softmax has been deprecated. Change the call to include dim=X as an argument.\n",
      "  output = F.softmax(output)\n"
     ]
    },
    {
     "name": "stdout",
     "output_type": "stream",
     "text": [
      "Epoch: 1/100, Iteration: 467/937, Lr: 0.1, Loss: 0.2460056096315384, Accuracy: 0.9140625\n"
     ]
    },
    {
     "name": "stderr",
     "output_type": "stream",
     "text": [
      "e:\\OneDrive - Hanoi University of Science and Technology\\Code project\\ML\\NLP\\uvipen_HAN\\src\\word_att_model.py:37: UserWarning: Implicit dimension choice for softmax has been deprecated. Change the call to include dim=X as an argument.\n",
      "  output = F.softmax(output)\n",
      "e:\\OneDrive - Hanoi University of Science and Technology\\Code project\\ML\\NLP\\uvipen_HAN\\src\\sent_att_model.py:29: UserWarning: Implicit dimension choice for softmax has been deprecated. Change the call to include dim=X as an argument.\n",
      "  output = F.softmax(output)\n"
     ]
    },
    {
     "name": "stdout",
     "output_type": "stream",
     "text": [
      "Epoch: 1/100, Iteration: 468/937, Lr: 0.1, Loss: 0.3674352765083313, Accuracy: 0.859375\n"
     ]
    },
    {
     "name": "stderr",
     "output_type": "stream",
     "text": [
      "e:\\OneDrive - Hanoi University of Science and Technology\\Code project\\ML\\NLP\\uvipen_HAN\\src\\word_att_model.py:37: UserWarning: Implicit dimension choice for softmax has been deprecated. Change the call to include dim=X as an argument.\n",
      "  output = F.softmax(output)\n",
      "e:\\OneDrive - Hanoi University of Science and Technology\\Code project\\ML\\NLP\\uvipen_HAN\\src\\sent_att_model.py:29: UserWarning: Implicit dimension choice for softmax has been deprecated. Change the call to include dim=X as an argument.\n",
      "  output = F.softmax(output)\n"
     ]
    },
    {
     "name": "stdout",
     "output_type": "stream",
     "text": [
      "Epoch: 1/100, Iteration: 469/937, Lr: 0.1, Loss: 0.33404746651649475, Accuracy: 0.8828125\n"
     ]
    },
    {
     "name": "stderr",
     "output_type": "stream",
     "text": [
      "e:\\OneDrive - Hanoi University of Science and Technology\\Code project\\ML\\NLP\\uvipen_HAN\\src\\word_att_model.py:37: UserWarning: Implicit dimension choice for softmax has been deprecated. Change the call to include dim=X as an argument.\n",
      "  output = F.softmax(output)\n",
      "e:\\OneDrive - Hanoi University of Science and Technology\\Code project\\ML\\NLP\\uvipen_HAN\\src\\sent_att_model.py:29: UserWarning: Implicit dimension choice for softmax has been deprecated. Change the call to include dim=X as an argument.\n",
      "  output = F.softmax(output)\n"
     ]
    },
    {
     "name": "stdout",
     "output_type": "stream",
     "text": [
      "Epoch: 1/100, Iteration: 470/937, Lr: 0.1, Loss: 0.37390345335006714, Accuracy: 0.890625\n"
     ]
    },
    {
     "name": "stderr",
     "output_type": "stream",
     "text": [
      "e:\\OneDrive - Hanoi University of Science and Technology\\Code project\\ML\\NLP\\uvipen_HAN\\src\\word_att_model.py:37: UserWarning: Implicit dimension choice for softmax has been deprecated. Change the call to include dim=X as an argument.\n",
      "  output = F.softmax(output)\n",
      "e:\\OneDrive - Hanoi University of Science and Technology\\Code project\\ML\\NLP\\uvipen_HAN\\src\\sent_att_model.py:29: UserWarning: Implicit dimension choice for softmax has been deprecated. Change the call to include dim=X as an argument.\n",
      "  output = F.softmax(output)\n"
     ]
    },
    {
     "name": "stdout",
     "output_type": "stream",
     "text": [
      "Epoch: 1/100, Iteration: 471/937, Lr: 0.1, Loss: 0.43266046047210693, Accuracy: 0.875\n"
     ]
    },
    {
     "name": "stderr",
     "output_type": "stream",
     "text": [
      "e:\\OneDrive - Hanoi University of Science and Technology\\Code project\\ML\\NLP\\uvipen_HAN\\src\\word_att_model.py:37: UserWarning: Implicit dimension choice for softmax has been deprecated. Change the call to include dim=X as an argument.\n",
      "  output = F.softmax(output)\n",
      "e:\\OneDrive - Hanoi University of Science and Technology\\Code project\\ML\\NLP\\uvipen_HAN\\src\\sent_att_model.py:29: UserWarning: Implicit dimension choice for softmax has been deprecated. Change the call to include dim=X as an argument.\n",
      "  output = F.softmax(output)\n"
     ]
    },
    {
     "name": "stdout",
     "output_type": "stream",
     "text": [
      "Epoch: 1/100, Iteration: 472/937, Lr: 0.1, Loss: 0.3728237450122833, Accuracy: 0.859375\n"
     ]
    },
    {
     "name": "stderr",
     "output_type": "stream",
     "text": [
      "e:\\OneDrive - Hanoi University of Science and Technology\\Code project\\ML\\NLP\\uvipen_HAN\\src\\word_att_model.py:37: UserWarning: Implicit dimension choice for softmax has been deprecated. Change the call to include dim=X as an argument.\n",
      "  output = F.softmax(output)\n",
      "e:\\OneDrive - Hanoi University of Science and Technology\\Code project\\ML\\NLP\\uvipen_HAN\\src\\sent_att_model.py:29: UserWarning: Implicit dimension choice for softmax has been deprecated. Change the call to include dim=X as an argument.\n",
      "  output = F.softmax(output)\n"
     ]
    },
    {
     "name": "stdout",
     "output_type": "stream",
     "text": [
      "Epoch: 1/100, Iteration: 473/937, Lr: 0.1, Loss: 0.2983998954296112, Accuracy: 0.8984375\n"
     ]
    },
    {
     "name": "stderr",
     "output_type": "stream",
     "text": [
      "e:\\OneDrive - Hanoi University of Science and Technology\\Code project\\ML\\NLP\\uvipen_HAN\\src\\word_att_model.py:37: UserWarning: Implicit dimension choice for softmax has been deprecated. Change the call to include dim=X as an argument.\n",
      "  output = F.softmax(output)\n",
      "e:\\OneDrive - Hanoi University of Science and Technology\\Code project\\ML\\NLP\\uvipen_HAN\\src\\sent_att_model.py:29: UserWarning: Implicit dimension choice for softmax has been deprecated. Change the call to include dim=X as an argument.\n",
      "  output = F.softmax(output)\n"
     ]
    },
    {
     "name": "stdout",
     "output_type": "stream",
     "text": [
      "Epoch: 1/100, Iteration: 474/937, Lr: 0.1, Loss: 0.17089048027992249, Accuracy: 0.953125\n"
     ]
    },
    {
     "name": "stderr",
     "output_type": "stream",
     "text": [
      "e:\\OneDrive - Hanoi University of Science and Technology\\Code project\\ML\\NLP\\uvipen_HAN\\src\\word_att_model.py:37: UserWarning: Implicit dimension choice for softmax has been deprecated. Change the call to include dim=X as an argument.\n",
      "  output = F.softmax(output)\n",
      "e:\\OneDrive - Hanoi University of Science and Technology\\Code project\\ML\\NLP\\uvipen_HAN\\src\\sent_att_model.py:29: UserWarning: Implicit dimension choice for softmax has been deprecated. Change the call to include dim=X as an argument.\n",
      "  output = F.softmax(output)\n"
     ]
    },
    {
     "name": "stdout",
     "output_type": "stream",
     "text": [
      "Epoch: 1/100, Iteration: 475/937, Lr: 0.1, Loss: 0.2852558195590973, Accuracy: 0.90625\n"
     ]
    },
    {
     "name": "stderr",
     "output_type": "stream",
     "text": [
      "e:\\OneDrive - Hanoi University of Science and Technology\\Code project\\ML\\NLP\\uvipen_HAN\\src\\word_att_model.py:37: UserWarning: Implicit dimension choice for softmax has been deprecated. Change the call to include dim=X as an argument.\n",
      "  output = F.softmax(output)\n",
      "e:\\OneDrive - Hanoi University of Science and Technology\\Code project\\ML\\NLP\\uvipen_HAN\\src\\sent_att_model.py:29: UserWarning: Implicit dimension choice for softmax has been deprecated. Change the call to include dim=X as an argument.\n",
      "  output = F.softmax(output)\n"
     ]
    },
    {
     "name": "stdout",
     "output_type": "stream",
     "text": [
      "Epoch: 1/100, Iteration: 476/937, Lr: 0.1, Loss: 0.30471673607826233, Accuracy: 0.890625\n"
     ]
    },
    {
     "name": "stderr",
     "output_type": "stream",
     "text": [
      "e:\\OneDrive - Hanoi University of Science and Technology\\Code project\\ML\\NLP\\uvipen_HAN\\src\\word_att_model.py:37: UserWarning: Implicit dimension choice for softmax has been deprecated. Change the call to include dim=X as an argument.\n",
      "  output = F.softmax(output)\n",
      "e:\\OneDrive - Hanoi University of Science and Technology\\Code project\\ML\\NLP\\uvipen_HAN\\src\\sent_att_model.py:29: UserWarning: Implicit dimension choice for softmax has been deprecated. Change the call to include dim=X as an argument.\n",
      "  output = F.softmax(output)\n"
     ]
    },
    {
     "name": "stdout",
     "output_type": "stream",
     "text": [
      "Epoch: 1/100, Iteration: 477/937, Lr: 0.1, Loss: 0.31395527720451355, Accuracy: 0.8984375\n"
     ]
    },
    {
     "name": "stderr",
     "output_type": "stream",
     "text": [
      "e:\\OneDrive - Hanoi University of Science and Technology\\Code project\\ML\\NLP\\uvipen_HAN\\src\\word_att_model.py:37: UserWarning: Implicit dimension choice for softmax has been deprecated. Change the call to include dim=X as an argument.\n",
      "  output = F.softmax(output)\n",
      "e:\\OneDrive - Hanoi University of Science and Technology\\Code project\\ML\\NLP\\uvipen_HAN\\src\\sent_att_model.py:29: UserWarning: Implicit dimension choice for softmax has been deprecated. Change the call to include dim=X as an argument.\n",
      "  output = F.softmax(output)\n"
     ]
    },
    {
     "name": "stdout",
     "output_type": "stream",
     "text": [
      "Epoch: 1/100, Iteration: 478/937, Lr: 0.1, Loss: 0.31583186984062195, Accuracy: 0.9140625\n"
     ]
    },
    {
     "name": "stderr",
     "output_type": "stream",
     "text": [
      "e:\\OneDrive - Hanoi University of Science and Technology\\Code project\\ML\\NLP\\uvipen_HAN\\src\\word_att_model.py:37: UserWarning: Implicit dimension choice for softmax has been deprecated. Change the call to include dim=X as an argument.\n",
      "  output = F.softmax(output)\n",
      "e:\\OneDrive - Hanoi University of Science and Technology\\Code project\\ML\\NLP\\uvipen_HAN\\src\\sent_att_model.py:29: UserWarning: Implicit dimension choice for softmax has been deprecated. Change the call to include dim=X as an argument.\n",
      "  output = F.softmax(output)\n"
     ]
    },
    {
     "name": "stdout",
     "output_type": "stream",
     "text": [
      "Epoch: 1/100, Iteration: 479/937, Lr: 0.1, Loss: 0.3127312958240509, Accuracy: 0.890625\n"
     ]
    },
    {
     "name": "stderr",
     "output_type": "stream",
     "text": [
      "e:\\OneDrive - Hanoi University of Science and Technology\\Code project\\ML\\NLP\\uvipen_HAN\\src\\word_att_model.py:37: UserWarning: Implicit dimension choice for softmax has been deprecated. Change the call to include dim=X as an argument.\n",
      "  output = F.softmax(output)\n",
      "e:\\OneDrive - Hanoi University of Science and Technology\\Code project\\ML\\NLP\\uvipen_HAN\\src\\sent_att_model.py:29: UserWarning: Implicit dimension choice for softmax has been deprecated. Change the call to include dim=X as an argument.\n",
      "  output = F.softmax(output)\n"
     ]
    },
    {
     "name": "stdout",
     "output_type": "stream",
     "text": [
      "Epoch: 1/100, Iteration: 480/937, Lr: 0.1, Loss: 0.40181028842926025, Accuracy: 0.84375\n"
     ]
    },
    {
     "name": "stderr",
     "output_type": "stream",
     "text": [
      "e:\\OneDrive - Hanoi University of Science and Technology\\Code project\\ML\\NLP\\uvipen_HAN\\src\\word_att_model.py:37: UserWarning: Implicit dimension choice for softmax has been deprecated. Change the call to include dim=X as an argument.\n",
      "  output = F.softmax(output)\n",
      "e:\\OneDrive - Hanoi University of Science and Technology\\Code project\\ML\\NLP\\uvipen_HAN\\src\\sent_att_model.py:29: UserWarning: Implicit dimension choice for softmax has been deprecated. Change the call to include dim=X as an argument.\n",
      "  output = F.softmax(output)\n"
     ]
    },
    {
     "name": "stdout",
     "output_type": "stream",
     "text": [
      "Epoch: 1/100, Iteration: 481/937, Lr: 0.1, Loss: 0.26175346970558167, Accuracy: 0.8984375\n"
     ]
    },
    {
     "name": "stderr",
     "output_type": "stream",
     "text": [
      "e:\\OneDrive - Hanoi University of Science and Technology\\Code project\\ML\\NLP\\uvipen_HAN\\src\\word_att_model.py:37: UserWarning: Implicit dimension choice for softmax has been deprecated. Change the call to include dim=X as an argument.\n",
      "  output = F.softmax(output)\n",
      "e:\\OneDrive - Hanoi University of Science and Technology\\Code project\\ML\\NLP\\uvipen_HAN\\src\\sent_att_model.py:29: UserWarning: Implicit dimension choice for softmax has been deprecated. Change the call to include dim=X as an argument.\n",
      "  output = F.softmax(output)\n"
     ]
    },
    {
     "name": "stdout",
     "output_type": "stream",
     "text": [
      "Epoch: 1/100, Iteration: 482/937, Lr: 0.1, Loss: 0.3277930021286011, Accuracy: 0.875\n"
     ]
    },
    {
     "name": "stderr",
     "output_type": "stream",
     "text": [
      "e:\\OneDrive - Hanoi University of Science and Technology\\Code project\\ML\\NLP\\uvipen_HAN\\src\\word_att_model.py:37: UserWarning: Implicit dimension choice for softmax has been deprecated. Change the call to include dim=X as an argument.\n",
      "  output = F.softmax(output)\n",
      "e:\\OneDrive - Hanoi University of Science and Technology\\Code project\\ML\\NLP\\uvipen_HAN\\src\\sent_att_model.py:29: UserWarning: Implicit dimension choice for softmax has been deprecated. Change the call to include dim=X as an argument.\n",
      "  output = F.softmax(output)\n"
     ]
    },
    {
     "name": "stdout",
     "output_type": "stream",
     "text": [
      "Epoch: 1/100, Iteration: 483/937, Lr: 0.1, Loss: 0.3680128753185272, Accuracy: 0.875\n"
     ]
    },
    {
     "name": "stderr",
     "output_type": "stream",
     "text": [
      "e:\\OneDrive - Hanoi University of Science and Technology\\Code project\\ML\\NLP\\uvipen_HAN\\src\\word_att_model.py:37: UserWarning: Implicit dimension choice for softmax has been deprecated. Change the call to include dim=X as an argument.\n",
      "  output = F.softmax(output)\n",
      "e:\\OneDrive - Hanoi University of Science and Technology\\Code project\\ML\\NLP\\uvipen_HAN\\src\\sent_att_model.py:29: UserWarning: Implicit dimension choice for softmax has been deprecated. Change the call to include dim=X as an argument.\n",
      "  output = F.softmax(output)\n"
     ]
    },
    {
     "name": "stdout",
     "output_type": "stream",
     "text": [
      "Epoch: 1/100, Iteration: 484/937, Lr: 0.1, Loss: 0.2731429636478424, Accuracy: 0.90625\n"
     ]
    },
    {
     "name": "stderr",
     "output_type": "stream",
     "text": [
      "e:\\OneDrive - Hanoi University of Science and Technology\\Code project\\ML\\NLP\\uvipen_HAN\\src\\word_att_model.py:37: UserWarning: Implicit dimension choice for softmax has been deprecated. Change the call to include dim=X as an argument.\n",
      "  output = F.softmax(output)\n",
      "e:\\OneDrive - Hanoi University of Science and Technology\\Code project\\ML\\NLP\\uvipen_HAN\\src\\sent_att_model.py:29: UserWarning: Implicit dimension choice for softmax has been deprecated. Change the call to include dim=X as an argument.\n",
      "  output = F.softmax(output)\n"
     ]
    },
    {
     "name": "stdout",
     "output_type": "stream",
     "text": [
      "Epoch: 1/100, Iteration: 485/937, Lr: 0.1, Loss: 0.3975723087787628, Accuracy: 0.890625\n"
     ]
    },
    {
     "name": "stderr",
     "output_type": "stream",
     "text": [
      "e:\\OneDrive - Hanoi University of Science and Technology\\Code project\\ML\\NLP\\uvipen_HAN\\src\\word_att_model.py:37: UserWarning: Implicit dimension choice for softmax has been deprecated. Change the call to include dim=X as an argument.\n",
      "  output = F.softmax(output)\n",
      "e:\\OneDrive - Hanoi University of Science and Technology\\Code project\\ML\\NLP\\uvipen_HAN\\src\\sent_att_model.py:29: UserWarning: Implicit dimension choice for softmax has been deprecated. Change the call to include dim=X as an argument.\n",
      "  output = F.softmax(output)\n"
     ]
    },
    {
     "name": "stdout",
     "output_type": "stream",
     "text": [
      "Epoch: 1/100, Iteration: 486/937, Lr: 0.1, Loss: 0.3867546021938324, Accuracy: 0.875\n"
     ]
    },
    {
     "name": "stderr",
     "output_type": "stream",
     "text": [
      "e:\\OneDrive - Hanoi University of Science and Technology\\Code project\\ML\\NLP\\uvipen_HAN\\src\\word_att_model.py:37: UserWarning: Implicit dimension choice for softmax has been deprecated. Change the call to include dim=X as an argument.\n",
      "  output = F.softmax(output)\n",
      "e:\\OneDrive - Hanoi University of Science and Technology\\Code project\\ML\\NLP\\uvipen_HAN\\src\\sent_att_model.py:29: UserWarning: Implicit dimension choice for softmax has been deprecated. Change the call to include dim=X as an argument.\n",
      "  output = F.softmax(output)\n"
     ]
    },
    {
     "name": "stdout",
     "output_type": "stream",
     "text": [
      "Epoch: 1/100, Iteration: 487/937, Lr: 0.1, Loss: 0.34549111127853394, Accuracy: 0.9140625\n"
     ]
    },
    {
     "name": "stderr",
     "output_type": "stream",
     "text": [
      "e:\\OneDrive - Hanoi University of Science and Technology\\Code project\\ML\\NLP\\uvipen_HAN\\src\\word_att_model.py:37: UserWarning: Implicit dimension choice for softmax has been deprecated. Change the call to include dim=X as an argument.\n",
      "  output = F.softmax(output)\n",
      "e:\\OneDrive - Hanoi University of Science and Technology\\Code project\\ML\\NLP\\uvipen_HAN\\src\\sent_att_model.py:29: UserWarning: Implicit dimension choice for softmax has been deprecated. Change the call to include dim=X as an argument.\n",
      "  output = F.softmax(output)\n"
     ]
    },
    {
     "name": "stdout",
     "output_type": "stream",
     "text": [
      "Epoch: 1/100, Iteration: 488/937, Lr: 0.1, Loss: 0.28523072600364685, Accuracy: 0.9140625\n"
     ]
    },
    {
     "name": "stderr",
     "output_type": "stream",
     "text": [
      "e:\\OneDrive - Hanoi University of Science and Technology\\Code project\\ML\\NLP\\uvipen_HAN\\src\\word_att_model.py:37: UserWarning: Implicit dimension choice for softmax has been deprecated. Change the call to include dim=X as an argument.\n",
      "  output = F.softmax(output)\n",
      "e:\\OneDrive - Hanoi University of Science and Technology\\Code project\\ML\\NLP\\uvipen_HAN\\src\\sent_att_model.py:29: UserWarning: Implicit dimension choice for softmax has been deprecated. Change the call to include dim=X as an argument.\n",
      "  output = F.softmax(output)\n"
     ]
    },
    {
     "name": "stdout",
     "output_type": "stream",
     "text": [
      "Epoch: 1/100, Iteration: 489/937, Lr: 0.1, Loss: 0.2739543318748474, Accuracy: 0.890625\n"
     ]
    },
    {
     "name": "stderr",
     "output_type": "stream",
     "text": [
      "e:\\OneDrive - Hanoi University of Science and Technology\\Code project\\ML\\NLP\\uvipen_HAN\\src\\word_att_model.py:37: UserWarning: Implicit dimension choice for softmax has been deprecated. Change the call to include dim=X as an argument.\n",
      "  output = F.softmax(output)\n",
      "e:\\OneDrive - Hanoi University of Science and Technology\\Code project\\ML\\NLP\\uvipen_HAN\\src\\sent_att_model.py:29: UserWarning: Implicit dimension choice for softmax has been deprecated. Change the call to include dim=X as an argument.\n",
      "  output = F.softmax(output)\n"
     ]
    },
    {
     "name": "stdout",
     "output_type": "stream",
     "text": [
      "Epoch: 1/100, Iteration: 490/937, Lr: 0.1, Loss: 0.2969055771827698, Accuracy: 0.8828125\n"
     ]
    },
    {
     "name": "stderr",
     "output_type": "stream",
     "text": [
      "e:\\OneDrive - Hanoi University of Science and Technology\\Code project\\ML\\NLP\\uvipen_HAN\\src\\word_att_model.py:37: UserWarning: Implicit dimension choice for softmax has been deprecated. Change the call to include dim=X as an argument.\n",
      "  output = F.softmax(output)\n",
      "e:\\OneDrive - Hanoi University of Science and Technology\\Code project\\ML\\NLP\\uvipen_HAN\\src\\sent_att_model.py:29: UserWarning: Implicit dimension choice for softmax has been deprecated. Change the call to include dim=X as an argument.\n",
      "  output = F.softmax(output)\n"
     ]
    },
    {
     "name": "stdout",
     "output_type": "stream",
     "text": [
      "Epoch: 1/100, Iteration: 491/937, Lr: 0.1, Loss: 0.4060324728488922, Accuracy: 0.8359375\n"
     ]
    },
    {
     "name": "stderr",
     "output_type": "stream",
     "text": [
      "e:\\OneDrive - Hanoi University of Science and Technology\\Code project\\ML\\NLP\\uvipen_HAN\\src\\word_att_model.py:37: UserWarning: Implicit dimension choice for softmax has been deprecated. Change the call to include dim=X as an argument.\n",
      "  output = F.softmax(output)\n",
      "e:\\OneDrive - Hanoi University of Science and Technology\\Code project\\ML\\NLP\\uvipen_HAN\\src\\sent_att_model.py:29: UserWarning: Implicit dimension choice for softmax has been deprecated. Change the call to include dim=X as an argument.\n",
      "  output = F.softmax(output)\n"
     ]
    },
    {
     "name": "stdout",
     "output_type": "stream",
     "text": [
      "Epoch: 1/100, Iteration: 492/937, Lr: 0.1, Loss: 0.2719869017601013, Accuracy: 0.90625\n"
     ]
    },
    {
     "name": "stderr",
     "output_type": "stream",
     "text": [
      "e:\\OneDrive - Hanoi University of Science and Technology\\Code project\\ML\\NLP\\uvipen_HAN\\src\\word_att_model.py:37: UserWarning: Implicit dimension choice for softmax has been deprecated. Change the call to include dim=X as an argument.\n",
      "  output = F.softmax(output)\n",
      "e:\\OneDrive - Hanoi University of Science and Technology\\Code project\\ML\\NLP\\uvipen_HAN\\src\\sent_att_model.py:29: UserWarning: Implicit dimension choice for softmax has been deprecated. Change the call to include dim=X as an argument.\n",
      "  output = F.softmax(output)\n"
     ]
    },
    {
     "name": "stdout",
     "output_type": "stream",
     "text": [
      "Epoch: 1/100, Iteration: 493/937, Lr: 0.1, Loss: 0.3286866843700409, Accuracy: 0.859375\n"
     ]
    },
    {
     "name": "stderr",
     "output_type": "stream",
     "text": [
      "e:\\OneDrive - Hanoi University of Science and Technology\\Code project\\ML\\NLP\\uvipen_HAN\\src\\word_att_model.py:37: UserWarning: Implicit dimension choice for softmax has been deprecated. Change the call to include dim=X as an argument.\n",
      "  output = F.softmax(output)\n",
      "e:\\OneDrive - Hanoi University of Science and Technology\\Code project\\ML\\NLP\\uvipen_HAN\\src\\sent_att_model.py:29: UserWarning: Implicit dimension choice for softmax has been deprecated. Change the call to include dim=X as an argument.\n",
      "  output = F.softmax(output)\n"
     ]
    },
    {
     "name": "stdout",
     "output_type": "stream",
     "text": [
      "Epoch: 1/100, Iteration: 494/937, Lr: 0.1, Loss: 0.343420147895813, Accuracy: 0.890625\n"
     ]
    },
    {
     "name": "stderr",
     "output_type": "stream",
     "text": [
      "e:\\OneDrive - Hanoi University of Science and Technology\\Code project\\ML\\NLP\\uvipen_HAN\\src\\word_att_model.py:37: UserWarning: Implicit dimension choice for softmax has been deprecated. Change the call to include dim=X as an argument.\n",
      "  output = F.softmax(output)\n",
      "e:\\OneDrive - Hanoi University of Science and Technology\\Code project\\ML\\NLP\\uvipen_HAN\\src\\sent_att_model.py:29: UserWarning: Implicit dimension choice for softmax has been deprecated. Change the call to include dim=X as an argument.\n",
      "  output = F.softmax(output)\n"
     ]
    },
    {
     "name": "stdout",
     "output_type": "stream",
     "text": [
      "Epoch: 1/100, Iteration: 495/937, Lr: 0.1, Loss: 0.3687891364097595, Accuracy: 0.859375\n"
     ]
    },
    {
     "name": "stderr",
     "output_type": "stream",
     "text": [
      "e:\\OneDrive - Hanoi University of Science and Technology\\Code project\\ML\\NLP\\uvipen_HAN\\src\\word_att_model.py:37: UserWarning: Implicit dimension choice for softmax has been deprecated. Change the call to include dim=X as an argument.\n",
      "  output = F.softmax(output)\n",
      "e:\\OneDrive - Hanoi University of Science and Technology\\Code project\\ML\\NLP\\uvipen_HAN\\src\\sent_att_model.py:29: UserWarning: Implicit dimension choice for softmax has been deprecated. Change the call to include dim=X as an argument.\n",
      "  output = F.softmax(output)\n"
     ]
    },
    {
     "name": "stdout",
     "output_type": "stream",
     "text": [
      "Epoch: 1/100, Iteration: 496/937, Lr: 0.1, Loss: 0.47299399971961975, Accuracy: 0.828125\n"
     ]
    },
    {
     "name": "stderr",
     "output_type": "stream",
     "text": [
      "e:\\OneDrive - Hanoi University of Science and Technology\\Code project\\ML\\NLP\\uvipen_HAN\\src\\word_att_model.py:37: UserWarning: Implicit dimension choice for softmax has been deprecated. Change the call to include dim=X as an argument.\n",
      "  output = F.softmax(output)\n",
      "e:\\OneDrive - Hanoi University of Science and Technology\\Code project\\ML\\NLP\\uvipen_HAN\\src\\sent_att_model.py:29: UserWarning: Implicit dimension choice for softmax has been deprecated. Change the call to include dim=X as an argument.\n",
      "  output = F.softmax(output)\n"
     ]
    },
    {
     "name": "stdout",
     "output_type": "stream",
     "text": [
      "Epoch: 1/100, Iteration: 497/937, Lr: 0.1, Loss: 0.27106255292892456, Accuracy: 0.90625\n"
     ]
    },
    {
     "name": "stderr",
     "output_type": "stream",
     "text": [
      "e:\\OneDrive - Hanoi University of Science and Technology\\Code project\\ML\\NLP\\uvipen_HAN\\src\\word_att_model.py:37: UserWarning: Implicit dimension choice for softmax has been deprecated. Change the call to include dim=X as an argument.\n",
      "  output = F.softmax(output)\n",
      "e:\\OneDrive - Hanoi University of Science and Technology\\Code project\\ML\\NLP\\uvipen_HAN\\src\\sent_att_model.py:29: UserWarning: Implicit dimension choice for softmax has been deprecated. Change the call to include dim=X as an argument.\n",
      "  output = F.softmax(output)\n"
     ]
    },
    {
     "name": "stdout",
     "output_type": "stream",
     "text": [
      "Epoch: 1/100, Iteration: 498/937, Lr: 0.1, Loss: 0.3136570453643799, Accuracy: 0.8984375\n"
     ]
    },
    {
     "name": "stderr",
     "output_type": "stream",
     "text": [
      "e:\\OneDrive - Hanoi University of Science and Technology\\Code project\\ML\\NLP\\uvipen_HAN\\src\\word_att_model.py:37: UserWarning: Implicit dimension choice for softmax has been deprecated. Change the call to include dim=X as an argument.\n",
      "  output = F.softmax(output)\n",
      "e:\\OneDrive - Hanoi University of Science and Technology\\Code project\\ML\\NLP\\uvipen_HAN\\src\\sent_att_model.py:29: UserWarning: Implicit dimension choice for softmax has been deprecated. Change the call to include dim=X as an argument.\n",
      "  output = F.softmax(output)\n"
     ]
    },
    {
     "name": "stdout",
     "output_type": "stream",
     "text": [
      "Epoch: 1/100, Iteration: 499/937, Lr: 0.1, Loss: 0.3655800223350525, Accuracy: 0.8671875\n"
     ]
    },
    {
     "name": "stderr",
     "output_type": "stream",
     "text": [
      "e:\\OneDrive - Hanoi University of Science and Technology\\Code project\\ML\\NLP\\uvipen_HAN\\src\\word_att_model.py:37: UserWarning: Implicit dimension choice for softmax has been deprecated. Change the call to include dim=X as an argument.\n",
      "  output = F.softmax(output)\n",
      "e:\\OneDrive - Hanoi University of Science and Technology\\Code project\\ML\\NLP\\uvipen_HAN\\src\\sent_att_model.py:29: UserWarning: Implicit dimension choice for softmax has been deprecated. Change the call to include dim=X as an argument.\n",
      "  output = F.softmax(output)\n"
     ]
    },
    {
     "name": "stdout",
     "output_type": "stream",
     "text": [
      "Epoch: 1/100, Iteration: 500/937, Lr: 0.1, Loss: 0.3509911298751831, Accuracy: 0.875\n"
     ]
    },
    {
     "name": "stderr",
     "output_type": "stream",
     "text": [
      "e:\\OneDrive - Hanoi University of Science and Technology\\Code project\\ML\\NLP\\uvipen_HAN\\src\\word_att_model.py:37: UserWarning: Implicit dimension choice for softmax has been deprecated. Change the call to include dim=X as an argument.\n",
      "  output = F.softmax(output)\n",
      "e:\\OneDrive - Hanoi University of Science and Technology\\Code project\\ML\\NLP\\uvipen_HAN\\src\\sent_att_model.py:29: UserWarning: Implicit dimension choice for softmax has been deprecated. Change the call to include dim=X as an argument.\n",
      "  output = F.softmax(output)\n"
     ]
    },
    {
     "name": "stdout",
     "output_type": "stream",
     "text": [
      "Epoch: 1/100, Iteration: 501/937, Lr: 0.1, Loss: 0.33991673588752747, Accuracy: 0.8828125\n"
     ]
    },
    {
     "name": "stderr",
     "output_type": "stream",
     "text": [
      "e:\\OneDrive - Hanoi University of Science and Technology\\Code project\\ML\\NLP\\uvipen_HAN\\src\\word_att_model.py:37: UserWarning: Implicit dimension choice for softmax has been deprecated. Change the call to include dim=X as an argument.\n",
      "  output = F.softmax(output)\n",
      "e:\\OneDrive - Hanoi University of Science and Technology\\Code project\\ML\\NLP\\uvipen_HAN\\src\\sent_att_model.py:29: UserWarning: Implicit dimension choice for softmax has been deprecated. Change the call to include dim=X as an argument.\n",
      "  output = F.softmax(output)\n"
     ]
    },
    {
     "name": "stdout",
     "output_type": "stream",
     "text": [
      "Epoch: 1/100, Iteration: 502/937, Lr: 0.1, Loss: 0.3623066246509552, Accuracy: 0.859375\n"
     ]
    },
    {
     "name": "stderr",
     "output_type": "stream",
     "text": [
      "e:\\OneDrive - Hanoi University of Science and Technology\\Code project\\ML\\NLP\\uvipen_HAN\\src\\word_att_model.py:37: UserWarning: Implicit dimension choice for softmax has been deprecated. Change the call to include dim=X as an argument.\n",
      "  output = F.softmax(output)\n",
      "e:\\OneDrive - Hanoi University of Science and Technology\\Code project\\ML\\NLP\\uvipen_HAN\\src\\sent_att_model.py:29: UserWarning: Implicit dimension choice for softmax has been deprecated. Change the call to include dim=X as an argument.\n",
      "  output = F.softmax(output)\n"
     ]
    },
    {
     "name": "stdout",
     "output_type": "stream",
     "text": [
      "Epoch: 1/100, Iteration: 503/937, Lr: 0.1, Loss: 0.4049890339374542, Accuracy: 0.84375\n"
     ]
    },
    {
     "name": "stderr",
     "output_type": "stream",
     "text": [
      "e:\\OneDrive - Hanoi University of Science and Technology\\Code project\\ML\\NLP\\uvipen_HAN\\src\\word_att_model.py:37: UserWarning: Implicit dimension choice for softmax has been deprecated. Change the call to include dim=X as an argument.\n",
      "  output = F.softmax(output)\n",
      "e:\\OneDrive - Hanoi University of Science and Technology\\Code project\\ML\\NLP\\uvipen_HAN\\src\\sent_att_model.py:29: UserWarning: Implicit dimension choice for softmax has been deprecated. Change the call to include dim=X as an argument.\n",
      "  output = F.softmax(output)\n"
     ]
    },
    {
     "name": "stdout",
     "output_type": "stream",
     "text": [
      "Epoch: 1/100, Iteration: 504/937, Lr: 0.1, Loss: 0.3541257083415985, Accuracy: 0.8515625\n"
     ]
    },
    {
     "name": "stderr",
     "output_type": "stream",
     "text": [
      "e:\\OneDrive - Hanoi University of Science and Technology\\Code project\\ML\\NLP\\uvipen_HAN\\src\\word_att_model.py:37: UserWarning: Implicit dimension choice for softmax has been deprecated. Change the call to include dim=X as an argument.\n",
      "  output = F.softmax(output)\n",
      "e:\\OneDrive - Hanoi University of Science and Technology\\Code project\\ML\\NLP\\uvipen_HAN\\src\\sent_att_model.py:29: UserWarning: Implicit dimension choice for softmax has been deprecated. Change the call to include dim=X as an argument.\n",
      "  output = F.softmax(output)\n"
     ]
    },
    {
     "name": "stdout",
     "output_type": "stream",
     "text": [
      "Epoch: 1/100, Iteration: 505/937, Lr: 0.1, Loss: 0.21163509786128998, Accuracy: 0.921875\n"
     ]
    },
    {
     "name": "stderr",
     "output_type": "stream",
     "text": [
      "e:\\OneDrive - Hanoi University of Science and Technology\\Code project\\ML\\NLP\\uvipen_HAN\\src\\word_att_model.py:37: UserWarning: Implicit dimension choice for softmax has been deprecated. Change the call to include dim=X as an argument.\n",
      "  output = F.softmax(output)\n",
      "e:\\OneDrive - Hanoi University of Science and Technology\\Code project\\ML\\NLP\\uvipen_HAN\\src\\sent_att_model.py:29: UserWarning: Implicit dimension choice for softmax has been deprecated. Change the call to include dim=X as an argument.\n",
      "  output = F.softmax(output)\n"
     ]
    },
    {
     "name": "stdout",
     "output_type": "stream",
     "text": [
      "Epoch: 1/100, Iteration: 506/937, Lr: 0.1, Loss: 0.36911383271217346, Accuracy: 0.8671875\n"
     ]
    },
    {
     "name": "stderr",
     "output_type": "stream",
     "text": [
      "e:\\OneDrive - Hanoi University of Science and Technology\\Code project\\ML\\NLP\\uvipen_HAN\\src\\word_att_model.py:37: UserWarning: Implicit dimension choice for softmax has been deprecated. Change the call to include dim=X as an argument.\n",
      "  output = F.softmax(output)\n",
      "e:\\OneDrive - Hanoi University of Science and Technology\\Code project\\ML\\NLP\\uvipen_HAN\\src\\sent_att_model.py:29: UserWarning: Implicit dimension choice for softmax has been deprecated. Change the call to include dim=X as an argument.\n",
      "  output = F.softmax(output)\n"
     ]
    },
    {
     "name": "stdout",
     "output_type": "stream",
     "text": [
      "Epoch: 1/100, Iteration: 507/937, Lr: 0.1, Loss: 0.2608306407928467, Accuracy: 0.90625\n"
     ]
    },
    {
     "name": "stderr",
     "output_type": "stream",
     "text": [
      "e:\\OneDrive - Hanoi University of Science and Technology\\Code project\\ML\\NLP\\uvipen_HAN\\src\\word_att_model.py:37: UserWarning: Implicit dimension choice for softmax has been deprecated. Change the call to include dim=X as an argument.\n",
      "  output = F.softmax(output)\n",
      "e:\\OneDrive - Hanoi University of Science and Technology\\Code project\\ML\\NLP\\uvipen_HAN\\src\\sent_att_model.py:29: UserWarning: Implicit dimension choice for softmax has been deprecated. Change the call to include dim=X as an argument.\n",
      "  output = F.softmax(output)\n"
     ]
    },
    {
     "name": "stdout",
     "output_type": "stream",
     "text": [
      "Epoch: 1/100, Iteration: 508/937, Lr: 0.1, Loss: 0.4013770818710327, Accuracy: 0.8671875\n"
     ]
    },
    {
     "name": "stderr",
     "output_type": "stream",
     "text": [
      "e:\\OneDrive - Hanoi University of Science and Technology\\Code project\\ML\\NLP\\uvipen_HAN\\src\\word_att_model.py:37: UserWarning: Implicit dimension choice for softmax has been deprecated. Change the call to include dim=X as an argument.\n",
      "  output = F.softmax(output)\n",
      "e:\\OneDrive - Hanoi University of Science and Technology\\Code project\\ML\\NLP\\uvipen_HAN\\src\\sent_att_model.py:29: UserWarning: Implicit dimension choice for softmax has been deprecated. Change the call to include dim=X as an argument.\n",
      "  output = F.softmax(output)\n"
     ]
    },
    {
     "name": "stdout",
     "output_type": "stream",
     "text": [
      "Epoch: 1/100, Iteration: 509/937, Lr: 0.1, Loss: 0.33068594336509705, Accuracy: 0.890625\n"
     ]
    },
    {
     "name": "stderr",
     "output_type": "stream",
     "text": [
      "e:\\OneDrive - Hanoi University of Science and Technology\\Code project\\ML\\NLP\\uvipen_HAN\\src\\word_att_model.py:37: UserWarning: Implicit dimension choice for softmax has been deprecated. Change the call to include dim=X as an argument.\n",
      "  output = F.softmax(output)\n",
      "e:\\OneDrive - Hanoi University of Science and Technology\\Code project\\ML\\NLP\\uvipen_HAN\\src\\sent_att_model.py:29: UserWarning: Implicit dimension choice for softmax has been deprecated. Change the call to include dim=X as an argument.\n",
      "  output = F.softmax(output)\n"
     ]
    },
    {
     "name": "stdout",
     "output_type": "stream",
     "text": [
      "Epoch: 1/100, Iteration: 510/937, Lr: 0.1, Loss: 0.3403695523738861, Accuracy: 0.890625\n"
     ]
    },
    {
     "name": "stderr",
     "output_type": "stream",
     "text": [
      "e:\\OneDrive - Hanoi University of Science and Technology\\Code project\\ML\\NLP\\uvipen_HAN\\src\\word_att_model.py:37: UserWarning: Implicit dimension choice for softmax has been deprecated. Change the call to include dim=X as an argument.\n",
      "  output = F.softmax(output)\n",
      "e:\\OneDrive - Hanoi University of Science and Technology\\Code project\\ML\\NLP\\uvipen_HAN\\src\\sent_att_model.py:29: UserWarning: Implicit dimension choice for softmax has been deprecated. Change the call to include dim=X as an argument.\n",
      "  output = F.softmax(output)\n"
     ]
    },
    {
     "name": "stdout",
     "output_type": "stream",
     "text": [
      "Epoch: 1/100, Iteration: 511/937, Lr: 0.1, Loss: 0.3404328227043152, Accuracy: 0.84375\n"
     ]
    },
    {
     "name": "stderr",
     "output_type": "stream",
     "text": [
      "e:\\OneDrive - Hanoi University of Science and Technology\\Code project\\ML\\NLP\\uvipen_HAN\\src\\word_att_model.py:37: UserWarning: Implicit dimension choice for softmax has been deprecated. Change the call to include dim=X as an argument.\n",
      "  output = F.softmax(output)\n",
      "e:\\OneDrive - Hanoi University of Science and Technology\\Code project\\ML\\NLP\\uvipen_HAN\\src\\sent_att_model.py:29: UserWarning: Implicit dimension choice for softmax has been deprecated. Change the call to include dim=X as an argument.\n",
      "  output = F.softmax(output)\n"
     ]
    },
    {
     "name": "stdout",
     "output_type": "stream",
     "text": [
      "Epoch: 1/100, Iteration: 512/937, Lr: 0.1, Loss: 0.30144304037094116, Accuracy: 0.8828125\n"
     ]
    },
    {
     "name": "stderr",
     "output_type": "stream",
     "text": [
      "e:\\OneDrive - Hanoi University of Science and Technology\\Code project\\ML\\NLP\\uvipen_HAN\\src\\word_att_model.py:37: UserWarning: Implicit dimension choice for softmax has been deprecated. Change the call to include dim=X as an argument.\n",
      "  output = F.softmax(output)\n",
      "e:\\OneDrive - Hanoi University of Science and Technology\\Code project\\ML\\NLP\\uvipen_HAN\\src\\sent_att_model.py:29: UserWarning: Implicit dimension choice for softmax has been deprecated. Change the call to include dim=X as an argument.\n",
      "  output = F.softmax(output)\n"
     ]
    },
    {
     "name": "stdout",
     "output_type": "stream",
     "text": [
      "Epoch: 1/100, Iteration: 513/937, Lr: 0.1, Loss: 0.367249071598053, Accuracy: 0.8984375\n"
     ]
    },
    {
     "name": "stderr",
     "output_type": "stream",
     "text": [
      "e:\\OneDrive - Hanoi University of Science and Technology\\Code project\\ML\\NLP\\uvipen_HAN\\src\\word_att_model.py:37: UserWarning: Implicit dimension choice for softmax has been deprecated. Change the call to include dim=X as an argument.\n",
      "  output = F.softmax(output)\n",
      "e:\\OneDrive - Hanoi University of Science and Technology\\Code project\\ML\\NLP\\uvipen_HAN\\src\\sent_att_model.py:29: UserWarning: Implicit dimension choice for softmax has been deprecated. Change the call to include dim=X as an argument.\n",
      "  output = F.softmax(output)\n"
     ]
    },
    {
     "name": "stdout",
     "output_type": "stream",
     "text": [
      "Epoch: 1/100, Iteration: 514/937, Lr: 0.1, Loss: 0.38501885533332825, Accuracy: 0.8671875\n"
     ]
    },
    {
     "name": "stderr",
     "output_type": "stream",
     "text": [
      "e:\\OneDrive - Hanoi University of Science and Technology\\Code project\\ML\\NLP\\uvipen_HAN\\src\\word_att_model.py:37: UserWarning: Implicit dimension choice for softmax has been deprecated. Change the call to include dim=X as an argument.\n",
      "  output = F.softmax(output)\n",
      "e:\\OneDrive - Hanoi University of Science and Technology\\Code project\\ML\\NLP\\uvipen_HAN\\src\\sent_att_model.py:29: UserWarning: Implicit dimension choice for softmax has been deprecated. Change the call to include dim=X as an argument.\n",
      "  output = F.softmax(output)\n"
     ]
    },
    {
     "name": "stdout",
     "output_type": "stream",
     "text": [
      "Epoch: 1/100, Iteration: 515/937, Lr: 0.1, Loss: 0.3316597044467926, Accuracy: 0.875\n"
     ]
    },
    {
     "name": "stderr",
     "output_type": "stream",
     "text": [
      "e:\\OneDrive - Hanoi University of Science and Technology\\Code project\\ML\\NLP\\uvipen_HAN\\src\\word_att_model.py:37: UserWarning: Implicit dimension choice for softmax has been deprecated. Change the call to include dim=X as an argument.\n",
      "  output = F.softmax(output)\n",
      "e:\\OneDrive - Hanoi University of Science and Technology\\Code project\\ML\\NLP\\uvipen_HAN\\src\\sent_att_model.py:29: UserWarning: Implicit dimension choice for softmax has been deprecated. Change the call to include dim=X as an argument.\n",
      "  output = F.softmax(output)\n"
     ]
    },
    {
     "name": "stdout",
     "output_type": "stream",
     "text": [
      "Epoch: 1/100, Iteration: 516/937, Lr: 0.1, Loss: 0.3891277313232422, Accuracy: 0.84375\n"
     ]
    },
    {
     "name": "stderr",
     "output_type": "stream",
     "text": [
      "e:\\OneDrive - Hanoi University of Science and Technology\\Code project\\ML\\NLP\\uvipen_HAN\\src\\word_att_model.py:37: UserWarning: Implicit dimension choice for softmax has been deprecated. Change the call to include dim=X as an argument.\n",
      "  output = F.softmax(output)\n",
      "e:\\OneDrive - Hanoi University of Science and Technology\\Code project\\ML\\NLP\\uvipen_HAN\\src\\sent_att_model.py:29: UserWarning: Implicit dimension choice for softmax has been deprecated. Change the call to include dim=X as an argument.\n",
      "  output = F.softmax(output)\n"
     ]
    },
    {
     "name": "stdout",
     "output_type": "stream",
     "text": [
      "Epoch: 1/100, Iteration: 517/937, Lr: 0.1, Loss: 0.31681686639785767, Accuracy: 0.90625\n"
     ]
    },
    {
     "name": "stderr",
     "output_type": "stream",
     "text": [
      "e:\\OneDrive - Hanoi University of Science and Technology\\Code project\\ML\\NLP\\uvipen_HAN\\src\\word_att_model.py:37: UserWarning: Implicit dimension choice for softmax has been deprecated. Change the call to include dim=X as an argument.\n",
      "  output = F.softmax(output)\n",
      "e:\\OneDrive - Hanoi University of Science and Technology\\Code project\\ML\\NLP\\uvipen_HAN\\src\\sent_att_model.py:29: UserWarning: Implicit dimension choice for softmax has been deprecated. Change the call to include dim=X as an argument.\n",
      "  output = F.softmax(output)\n"
     ]
    },
    {
     "name": "stdout",
     "output_type": "stream",
     "text": [
      "Epoch: 1/100, Iteration: 518/937, Lr: 0.1, Loss: 0.3450619578361511, Accuracy: 0.8828125\n"
     ]
    },
    {
     "name": "stderr",
     "output_type": "stream",
     "text": [
      "e:\\OneDrive - Hanoi University of Science and Technology\\Code project\\ML\\NLP\\uvipen_HAN\\src\\word_att_model.py:37: UserWarning: Implicit dimension choice for softmax has been deprecated. Change the call to include dim=X as an argument.\n",
      "  output = F.softmax(output)\n",
      "e:\\OneDrive - Hanoi University of Science and Technology\\Code project\\ML\\NLP\\uvipen_HAN\\src\\sent_att_model.py:29: UserWarning: Implicit dimension choice for softmax has been deprecated. Change the call to include dim=X as an argument.\n",
      "  output = F.softmax(output)\n"
     ]
    },
    {
     "name": "stdout",
     "output_type": "stream",
     "text": [
      "Epoch: 1/100, Iteration: 519/937, Lr: 0.1, Loss: 0.24996492266654968, Accuracy: 0.90625\n"
     ]
    },
    {
     "name": "stderr",
     "output_type": "stream",
     "text": [
      "e:\\OneDrive - Hanoi University of Science and Technology\\Code project\\ML\\NLP\\uvipen_HAN\\src\\word_att_model.py:37: UserWarning: Implicit dimension choice for softmax has been deprecated. Change the call to include dim=X as an argument.\n",
      "  output = F.softmax(output)\n",
      "e:\\OneDrive - Hanoi University of Science and Technology\\Code project\\ML\\NLP\\uvipen_HAN\\src\\sent_att_model.py:29: UserWarning: Implicit dimension choice for softmax has been deprecated. Change the call to include dim=X as an argument.\n",
      "  output = F.softmax(output)\n"
     ]
    },
    {
     "name": "stdout",
     "output_type": "stream",
     "text": [
      "Epoch: 1/100, Iteration: 520/937, Lr: 0.1, Loss: 0.264705628156662, Accuracy: 0.890625\n"
     ]
    },
    {
     "name": "stderr",
     "output_type": "stream",
     "text": [
      "e:\\OneDrive - Hanoi University of Science and Technology\\Code project\\ML\\NLP\\uvipen_HAN\\src\\word_att_model.py:37: UserWarning: Implicit dimension choice for softmax has been deprecated. Change the call to include dim=X as an argument.\n",
      "  output = F.softmax(output)\n",
      "e:\\OneDrive - Hanoi University of Science and Technology\\Code project\\ML\\NLP\\uvipen_HAN\\src\\sent_att_model.py:29: UserWarning: Implicit dimension choice for softmax has been deprecated. Change the call to include dim=X as an argument.\n",
      "  output = F.softmax(output)\n"
     ]
    },
    {
     "name": "stdout",
     "output_type": "stream",
     "text": [
      "Epoch: 1/100, Iteration: 521/937, Lr: 0.1, Loss: 0.23342226445674896, Accuracy: 0.8984375\n"
     ]
    },
    {
     "name": "stderr",
     "output_type": "stream",
     "text": [
      "e:\\OneDrive - Hanoi University of Science and Technology\\Code project\\ML\\NLP\\uvipen_HAN\\src\\word_att_model.py:37: UserWarning: Implicit dimension choice for softmax has been deprecated. Change the call to include dim=X as an argument.\n",
      "  output = F.softmax(output)\n",
      "e:\\OneDrive - Hanoi University of Science and Technology\\Code project\\ML\\NLP\\uvipen_HAN\\src\\sent_att_model.py:29: UserWarning: Implicit dimension choice for softmax has been deprecated. Change the call to include dim=X as an argument.\n",
      "  output = F.softmax(output)\n"
     ]
    },
    {
     "name": "stdout",
     "output_type": "stream",
     "text": [
      "Epoch: 1/100, Iteration: 522/937, Lr: 0.1, Loss: 0.4194830060005188, Accuracy: 0.828125\n"
     ]
    },
    {
     "name": "stderr",
     "output_type": "stream",
     "text": [
      "e:\\OneDrive - Hanoi University of Science and Technology\\Code project\\ML\\NLP\\uvipen_HAN\\src\\word_att_model.py:37: UserWarning: Implicit dimension choice for softmax has been deprecated. Change the call to include dim=X as an argument.\n",
      "  output = F.softmax(output)\n",
      "e:\\OneDrive - Hanoi University of Science and Technology\\Code project\\ML\\NLP\\uvipen_HAN\\src\\sent_att_model.py:29: UserWarning: Implicit dimension choice for softmax has been deprecated. Change the call to include dim=X as an argument.\n",
      "  output = F.softmax(output)\n"
     ]
    },
    {
     "name": "stdout",
     "output_type": "stream",
     "text": [
      "Epoch: 1/100, Iteration: 523/937, Lr: 0.1, Loss: 0.3153308033943176, Accuracy: 0.8828125\n"
     ]
    },
    {
     "name": "stderr",
     "output_type": "stream",
     "text": [
      "e:\\OneDrive - Hanoi University of Science and Technology\\Code project\\ML\\NLP\\uvipen_HAN\\src\\word_att_model.py:37: UserWarning: Implicit dimension choice for softmax has been deprecated. Change the call to include dim=X as an argument.\n",
      "  output = F.softmax(output)\n",
      "e:\\OneDrive - Hanoi University of Science and Technology\\Code project\\ML\\NLP\\uvipen_HAN\\src\\sent_att_model.py:29: UserWarning: Implicit dimension choice for softmax has been deprecated. Change the call to include dim=X as an argument.\n",
      "  output = F.softmax(output)\n"
     ]
    },
    {
     "name": "stdout",
     "output_type": "stream",
     "text": [
      "Epoch: 1/100, Iteration: 524/937, Lr: 0.1, Loss: 0.35140836238861084, Accuracy: 0.921875\n"
     ]
    },
    {
     "name": "stderr",
     "output_type": "stream",
     "text": [
      "e:\\OneDrive - Hanoi University of Science and Technology\\Code project\\ML\\NLP\\uvipen_HAN\\src\\word_att_model.py:37: UserWarning: Implicit dimension choice for softmax has been deprecated. Change the call to include dim=X as an argument.\n",
      "  output = F.softmax(output)\n",
      "e:\\OneDrive - Hanoi University of Science and Technology\\Code project\\ML\\NLP\\uvipen_HAN\\src\\sent_att_model.py:29: UserWarning: Implicit dimension choice for softmax has been deprecated. Change the call to include dim=X as an argument.\n",
      "  output = F.softmax(output)\n"
     ]
    },
    {
     "name": "stdout",
     "output_type": "stream",
     "text": [
      "Epoch: 1/100, Iteration: 525/937, Lr: 0.1, Loss: 0.3404546082019806, Accuracy: 0.90625\n"
     ]
    },
    {
     "name": "stderr",
     "output_type": "stream",
     "text": [
      "e:\\OneDrive - Hanoi University of Science and Technology\\Code project\\ML\\NLP\\uvipen_HAN\\src\\word_att_model.py:37: UserWarning: Implicit dimension choice for softmax has been deprecated. Change the call to include dim=X as an argument.\n",
      "  output = F.softmax(output)\n",
      "e:\\OneDrive - Hanoi University of Science and Technology\\Code project\\ML\\NLP\\uvipen_HAN\\src\\sent_att_model.py:29: UserWarning: Implicit dimension choice for softmax has been deprecated. Change the call to include dim=X as an argument.\n",
      "  output = F.softmax(output)\n"
     ]
    },
    {
     "name": "stdout",
     "output_type": "stream",
     "text": [
      "Epoch: 1/100, Iteration: 526/937, Lr: 0.1, Loss: 0.27678343653678894, Accuracy: 0.90625\n"
     ]
    },
    {
     "name": "stderr",
     "output_type": "stream",
     "text": [
      "e:\\OneDrive - Hanoi University of Science and Technology\\Code project\\ML\\NLP\\uvipen_HAN\\src\\word_att_model.py:37: UserWarning: Implicit dimension choice for softmax has been deprecated. Change the call to include dim=X as an argument.\n",
      "  output = F.softmax(output)\n",
      "e:\\OneDrive - Hanoi University of Science and Technology\\Code project\\ML\\NLP\\uvipen_HAN\\src\\sent_att_model.py:29: UserWarning: Implicit dimension choice for softmax has been deprecated. Change the call to include dim=X as an argument.\n",
      "  output = F.softmax(output)\n"
     ]
    },
    {
     "name": "stdout",
     "output_type": "stream",
     "text": [
      "Epoch: 1/100, Iteration: 527/937, Lr: 0.1, Loss: 0.26949310302734375, Accuracy: 0.8828125\n"
     ]
    },
    {
     "name": "stderr",
     "output_type": "stream",
     "text": [
      "e:\\OneDrive - Hanoi University of Science and Technology\\Code project\\ML\\NLP\\uvipen_HAN\\src\\word_att_model.py:37: UserWarning: Implicit dimension choice for softmax has been deprecated. Change the call to include dim=X as an argument.\n",
      "  output = F.softmax(output)\n",
      "e:\\OneDrive - Hanoi University of Science and Technology\\Code project\\ML\\NLP\\uvipen_HAN\\src\\sent_att_model.py:29: UserWarning: Implicit dimension choice for softmax has been deprecated. Change the call to include dim=X as an argument.\n",
      "  output = F.softmax(output)\n"
     ]
    },
    {
     "name": "stdout",
     "output_type": "stream",
     "text": [
      "Epoch: 1/100, Iteration: 528/937, Lr: 0.1, Loss: 0.5169165730476379, Accuracy: 0.8359375\n"
     ]
    },
    {
     "name": "stderr",
     "output_type": "stream",
     "text": [
      "e:\\OneDrive - Hanoi University of Science and Technology\\Code project\\ML\\NLP\\uvipen_HAN\\src\\word_att_model.py:37: UserWarning: Implicit dimension choice for softmax has been deprecated. Change the call to include dim=X as an argument.\n",
      "  output = F.softmax(output)\n",
      "e:\\OneDrive - Hanoi University of Science and Technology\\Code project\\ML\\NLP\\uvipen_HAN\\src\\sent_att_model.py:29: UserWarning: Implicit dimension choice for softmax has been deprecated. Change the call to include dim=X as an argument.\n",
      "  output = F.softmax(output)\n"
     ]
    },
    {
     "name": "stdout",
     "output_type": "stream",
     "text": [
      "Epoch: 1/100, Iteration: 529/937, Lr: 0.1, Loss: 0.4283798038959503, Accuracy: 0.8359375\n"
     ]
    },
    {
     "name": "stderr",
     "output_type": "stream",
     "text": [
      "e:\\OneDrive - Hanoi University of Science and Technology\\Code project\\ML\\NLP\\uvipen_HAN\\src\\word_att_model.py:37: UserWarning: Implicit dimension choice for softmax has been deprecated. Change the call to include dim=X as an argument.\n",
      "  output = F.softmax(output)\n",
      "e:\\OneDrive - Hanoi University of Science and Technology\\Code project\\ML\\NLP\\uvipen_HAN\\src\\sent_att_model.py:29: UserWarning: Implicit dimension choice for softmax has been deprecated. Change the call to include dim=X as an argument.\n",
      "  output = F.softmax(output)\n"
     ]
    },
    {
     "name": "stdout",
     "output_type": "stream",
     "text": [
      "Epoch: 1/100, Iteration: 530/937, Lr: 0.1, Loss: 0.5505043268203735, Accuracy: 0.828125\n"
     ]
    },
    {
     "name": "stderr",
     "output_type": "stream",
     "text": [
      "e:\\OneDrive - Hanoi University of Science and Technology\\Code project\\ML\\NLP\\uvipen_HAN\\src\\word_att_model.py:37: UserWarning: Implicit dimension choice for softmax has been deprecated. Change the call to include dim=X as an argument.\n",
      "  output = F.softmax(output)\n",
      "e:\\OneDrive - Hanoi University of Science and Technology\\Code project\\ML\\NLP\\uvipen_HAN\\src\\sent_att_model.py:29: UserWarning: Implicit dimension choice for softmax has been deprecated. Change the call to include dim=X as an argument.\n",
      "  output = F.softmax(output)\n"
     ]
    },
    {
     "name": "stdout",
     "output_type": "stream",
     "text": [
      "Epoch: 1/100, Iteration: 531/937, Lr: 0.1, Loss: 0.2730771005153656, Accuracy: 0.890625\n"
     ]
    },
    {
     "name": "stderr",
     "output_type": "stream",
     "text": [
      "e:\\OneDrive - Hanoi University of Science and Technology\\Code project\\ML\\NLP\\uvipen_HAN\\src\\word_att_model.py:37: UserWarning: Implicit dimension choice for softmax has been deprecated. Change the call to include dim=X as an argument.\n",
      "  output = F.softmax(output)\n",
      "e:\\OneDrive - Hanoi University of Science and Technology\\Code project\\ML\\NLP\\uvipen_HAN\\src\\sent_att_model.py:29: UserWarning: Implicit dimension choice for softmax has been deprecated. Change the call to include dim=X as an argument.\n",
      "  output = F.softmax(output)\n"
     ]
    },
    {
     "name": "stdout",
     "output_type": "stream",
     "text": [
      "Epoch: 1/100, Iteration: 532/937, Lr: 0.1, Loss: 0.42637088894844055, Accuracy: 0.8203125\n"
     ]
    },
    {
     "name": "stderr",
     "output_type": "stream",
     "text": [
      "e:\\OneDrive - Hanoi University of Science and Technology\\Code project\\ML\\NLP\\uvipen_HAN\\src\\word_att_model.py:37: UserWarning: Implicit dimension choice for softmax has been deprecated. Change the call to include dim=X as an argument.\n",
      "  output = F.softmax(output)\n",
      "e:\\OneDrive - Hanoi University of Science and Technology\\Code project\\ML\\NLP\\uvipen_HAN\\src\\sent_att_model.py:29: UserWarning: Implicit dimension choice for softmax has been deprecated. Change the call to include dim=X as an argument.\n",
      "  output = F.softmax(output)\n"
     ]
    },
    {
     "name": "stdout",
     "output_type": "stream",
     "text": [
      "Epoch: 1/100, Iteration: 533/937, Lr: 0.1, Loss: 0.30108094215393066, Accuracy: 0.890625\n"
     ]
    },
    {
     "name": "stderr",
     "output_type": "stream",
     "text": [
      "e:\\OneDrive - Hanoi University of Science and Technology\\Code project\\ML\\NLP\\uvipen_HAN\\src\\word_att_model.py:37: UserWarning: Implicit dimension choice for softmax has been deprecated. Change the call to include dim=X as an argument.\n",
      "  output = F.softmax(output)\n",
      "e:\\OneDrive - Hanoi University of Science and Technology\\Code project\\ML\\NLP\\uvipen_HAN\\src\\sent_att_model.py:29: UserWarning: Implicit dimension choice for softmax has been deprecated. Change the call to include dim=X as an argument.\n",
      "  output = F.softmax(output)\n"
     ]
    },
    {
     "name": "stdout",
     "output_type": "stream",
     "text": [
      "Epoch: 1/100, Iteration: 534/937, Lr: 0.1, Loss: 0.2909543514251709, Accuracy: 0.890625\n"
     ]
    },
    {
     "name": "stderr",
     "output_type": "stream",
     "text": [
      "e:\\OneDrive - Hanoi University of Science and Technology\\Code project\\ML\\NLP\\uvipen_HAN\\src\\word_att_model.py:37: UserWarning: Implicit dimension choice for softmax has been deprecated. Change the call to include dim=X as an argument.\n",
      "  output = F.softmax(output)\n",
      "e:\\OneDrive - Hanoi University of Science and Technology\\Code project\\ML\\NLP\\uvipen_HAN\\src\\sent_att_model.py:29: UserWarning: Implicit dimension choice for softmax has been deprecated. Change the call to include dim=X as an argument.\n",
      "  output = F.softmax(output)\n"
     ]
    },
    {
     "name": "stdout",
     "output_type": "stream",
     "text": [
      "Epoch: 1/100, Iteration: 535/937, Lr: 0.1, Loss: 0.2565373182296753, Accuracy: 0.921875\n"
     ]
    },
    {
     "name": "stderr",
     "output_type": "stream",
     "text": [
      "e:\\OneDrive - Hanoi University of Science and Technology\\Code project\\ML\\NLP\\uvipen_HAN\\src\\word_att_model.py:37: UserWarning: Implicit dimension choice for softmax has been deprecated. Change the call to include dim=X as an argument.\n",
      "  output = F.softmax(output)\n",
      "e:\\OneDrive - Hanoi University of Science and Technology\\Code project\\ML\\NLP\\uvipen_HAN\\src\\sent_att_model.py:29: UserWarning: Implicit dimension choice for softmax has been deprecated. Change the call to include dim=X as an argument.\n",
      "  output = F.softmax(output)\n"
     ]
    },
    {
     "name": "stdout",
     "output_type": "stream",
     "text": [
      "Epoch: 1/100, Iteration: 536/937, Lr: 0.1, Loss: 0.20729058980941772, Accuracy: 0.9453125\n"
     ]
    },
    {
     "name": "stderr",
     "output_type": "stream",
     "text": [
      "e:\\OneDrive - Hanoi University of Science and Technology\\Code project\\ML\\NLP\\uvipen_HAN\\src\\word_att_model.py:37: UserWarning: Implicit dimension choice for softmax has been deprecated. Change the call to include dim=X as an argument.\n",
      "  output = F.softmax(output)\n",
      "e:\\OneDrive - Hanoi University of Science and Technology\\Code project\\ML\\NLP\\uvipen_HAN\\src\\sent_att_model.py:29: UserWarning: Implicit dimension choice for softmax has been deprecated. Change the call to include dim=X as an argument.\n",
      "  output = F.softmax(output)\n"
     ]
    },
    {
     "name": "stdout",
     "output_type": "stream",
     "text": [
      "Epoch: 1/100, Iteration: 537/937, Lr: 0.1, Loss: 0.320768803358078, Accuracy: 0.8515625\n"
     ]
    },
    {
     "name": "stderr",
     "output_type": "stream",
     "text": [
      "e:\\OneDrive - Hanoi University of Science and Technology\\Code project\\ML\\NLP\\uvipen_HAN\\src\\word_att_model.py:37: UserWarning: Implicit dimension choice for softmax has been deprecated. Change the call to include dim=X as an argument.\n",
      "  output = F.softmax(output)\n",
      "e:\\OneDrive - Hanoi University of Science and Technology\\Code project\\ML\\NLP\\uvipen_HAN\\src\\sent_att_model.py:29: UserWarning: Implicit dimension choice for softmax has been deprecated. Change the call to include dim=X as an argument.\n",
      "  output = F.softmax(output)\n"
     ]
    },
    {
     "name": "stdout",
     "output_type": "stream",
     "text": [
      "Epoch: 1/100, Iteration: 538/937, Lr: 0.1, Loss: 0.22442302107810974, Accuracy: 0.90625\n"
     ]
    },
    {
     "name": "stderr",
     "output_type": "stream",
     "text": [
      "e:\\OneDrive - Hanoi University of Science and Technology\\Code project\\ML\\NLP\\uvipen_HAN\\src\\word_att_model.py:37: UserWarning: Implicit dimension choice for softmax has been deprecated. Change the call to include dim=X as an argument.\n",
      "  output = F.softmax(output)\n",
      "e:\\OneDrive - Hanoi University of Science and Technology\\Code project\\ML\\NLP\\uvipen_HAN\\src\\sent_att_model.py:29: UserWarning: Implicit dimension choice for softmax has been deprecated. Change the call to include dim=X as an argument.\n",
      "  output = F.softmax(output)\n"
     ]
    },
    {
     "name": "stdout",
     "output_type": "stream",
     "text": [
      "Epoch: 1/100, Iteration: 539/937, Lr: 0.1, Loss: 0.3364996910095215, Accuracy: 0.890625\n"
     ]
    },
    {
     "name": "stderr",
     "output_type": "stream",
     "text": [
      "e:\\OneDrive - Hanoi University of Science and Technology\\Code project\\ML\\NLP\\uvipen_HAN\\src\\word_att_model.py:37: UserWarning: Implicit dimension choice for softmax has been deprecated. Change the call to include dim=X as an argument.\n",
      "  output = F.softmax(output)\n",
      "e:\\OneDrive - Hanoi University of Science and Technology\\Code project\\ML\\NLP\\uvipen_HAN\\src\\sent_att_model.py:29: UserWarning: Implicit dimension choice for softmax has been deprecated. Change the call to include dim=X as an argument.\n",
      "  output = F.softmax(output)\n"
     ]
    },
    {
     "name": "stdout",
     "output_type": "stream",
     "text": [
      "Epoch: 1/100, Iteration: 540/937, Lr: 0.1, Loss: 0.2514446973800659, Accuracy: 0.9375\n"
     ]
    },
    {
     "name": "stderr",
     "output_type": "stream",
     "text": [
      "e:\\OneDrive - Hanoi University of Science and Technology\\Code project\\ML\\NLP\\uvipen_HAN\\src\\word_att_model.py:37: UserWarning: Implicit dimension choice for softmax has been deprecated. Change the call to include dim=X as an argument.\n",
      "  output = F.softmax(output)\n",
      "e:\\OneDrive - Hanoi University of Science and Technology\\Code project\\ML\\NLP\\uvipen_HAN\\src\\sent_att_model.py:29: UserWarning: Implicit dimension choice for softmax has been deprecated. Change the call to include dim=X as an argument.\n",
      "  output = F.softmax(output)\n"
     ]
    },
    {
     "name": "stdout",
     "output_type": "stream",
     "text": [
      "Epoch: 1/100, Iteration: 541/937, Lr: 0.1, Loss: 0.32441914081573486, Accuracy: 0.8828125\n"
     ]
    },
    {
     "name": "stderr",
     "output_type": "stream",
     "text": [
      "e:\\OneDrive - Hanoi University of Science and Technology\\Code project\\ML\\NLP\\uvipen_HAN\\src\\word_att_model.py:37: UserWarning: Implicit dimension choice for softmax has been deprecated. Change the call to include dim=X as an argument.\n",
      "  output = F.softmax(output)\n",
      "e:\\OneDrive - Hanoi University of Science and Technology\\Code project\\ML\\NLP\\uvipen_HAN\\src\\sent_att_model.py:29: UserWarning: Implicit dimension choice for softmax has been deprecated. Change the call to include dim=X as an argument.\n",
      "  output = F.softmax(output)\n"
     ]
    },
    {
     "name": "stdout",
     "output_type": "stream",
     "text": [
      "Epoch: 1/100, Iteration: 542/937, Lr: 0.1, Loss: 0.228777676820755, Accuracy: 0.921875\n"
     ]
    },
    {
     "name": "stderr",
     "output_type": "stream",
     "text": [
      "e:\\OneDrive - Hanoi University of Science and Technology\\Code project\\ML\\NLP\\uvipen_HAN\\src\\word_att_model.py:37: UserWarning: Implicit dimension choice for softmax has been deprecated. Change the call to include dim=X as an argument.\n",
      "  output = F.softmax(output)\n",
      "e:\\OneDrive - Hanoi University of Science and Technology\\Code project\\ML\\NLP\\uvipen_HAN\\src\\sent_att_model.py:29: UserWarning: Implicit dimension choice for softmax has been deprecated. Change the call to include dim=X as an argument.\n",
      "  output = F.softmax(output)\n"
     ]
    },
    {
     "name": "stdout",
     "output_type": "stream",
     "text": [
      "Epoch: 1/100, Iteration: 543/937, Lr: 0.1, Loss: 0.379593163728714, Accuracy: 0.875\n"
     ]
    },
    {
     "name": "stderr",
     "output_type": "stream",
     "text": [
      "e:\\OneDrive - Hanoi University of Science and Technology\\Code project\\ML\\NLP\\uvipen_HAN\\src\\word_att_model.py:37: UserWarning: Implicit dimension choice for softmax has been deprecated. Change the call to include dim=X as an argument.\n",
      "  output = F.softmax(output)\n",
      "e:\\OneDrive - Hanoi University of Science and Technology\\Code project\\ML\\NLP\\uvipen_HAN\\src\\sent_att_model.py:29: UserWarning: Implicit dimension choice for softmax has been deprecated. Change the call to include dim=X as an argument.\n",
      "  output = F.softmax(output)\n"
     ]
    },
    {
     "name": "stdout",
     "output_type": "stream",
     "text": [
      "Epoch: 1/100, Iteration: 544/937, Lr: 0.1, Loss: 0.25738492608070374, Accuracy: 0.8984375\n"
     ]
    },
    {
     "name": "stderr",
     "output_type": "stream",
     "text": [
      "e:\\OneDrive - Hanoi University of Science and Technology\\Code project\\ML\\NLP\\uvipen_HAN\\src\\word_att_model.py:37: UserWarning: Implicit dimension choice for softmax has been deprecated. Change the call to include dim=X as an argument.\n",
      "  output = F.softmax(output)\n",
      "e:\\OneDrive - Hanoi University of Science and Technology\\Code project\\ML\\NLP\\uvipen_HAN\\src\\sent_att_model.py:29: UserWarning: Implicit dimension choice for softmax has been deprecated. Change the call to include dim=X as an argument.\n",
      "  output = F.softmax(output)\n"
     ]
    },
    {
     "name": "stdout",
     "output_type": "stream",
     "text": [
      "Epoch: 1/100, Iteration: 545/937, Lr: 0.1, Loss: 0.2905104458332062, Accuracy: 0.9140625\n"
     ]
    },
    {
     "name": "stderr",
     "output_type": "stream",
     "text": [
      "e:\\OneDrive - Hanoi University of Science and Technology\\Code project\\ML\\NLP\\uvipen_HAN\\src\\word_att_model.py:37: UserWarning: Implicit dimension choice for softmax has been deprecated. Change the call to include dim=X as an argument.\n",
      "  output = F.softmax(output)\n",
      "e:\\OneDrive - Hanoi University of Science and Technology\\Code project\\ML\\NLP\\uvipen_HAN\\src\\sent_att_model.py:29: UserWarning: Implicit dimension choice for softmax has been deprecated. Change the call to include dim=X as an argument.\n",
      "  output = F.softmax(output)\n"
     ]
    },
    {
     "name": "stdout",
     "output_type": "stream",
     "text": [
      "Epoch: 1/100, Iteration: 546/937, Lr: 0.1, Loss: 0.28516173362731934, Accuracy: 0.9296875\n"
     ]
    },
    {
     "name": "stderr",
     "output_type": "stream",
     "text": [
      "e:\\OneDrive - Hanoi University of Science and Technology\\Code project\\ML\\NLP\\uvipen_HAN\\src\\word_att_model.py:37: UserWarning: Implicit dimension choice for softmax has been deprecated. Change the call to include dim=X as an argument.\n",
      "  output = F.softmax(output)\n",
      "e:\\OneDrive - Hanoi University of Science and Technology\\Code project\\ML\\NLP\\uvipen_HAN\\src\\sent_att_model.py:29: UserWarning: Implicit dimension choice for softmax has been deprecated. Change the call to include dim=X as an argument.\n",
      "  output = F.softmax(output)\n"
     ]
    },
    {
     "name": "stdout",
     "output_type": "stream",
     "text": [
      "Epoch: 1/100, Iteration: 547/937, Lr: 0.1, Loss: 0.2590956687927246, Accuracy: 0.921875\n"
     ]
    },
    {
     "name": "stderr",
     "output_type": "stream",
     "text": [
      "e:\\OneDrive - Hanoi University of Science and Technology\\Code project\\ML\\NLP\\uvipen_HAN\\src\\word_att_model.py:37: UserWarning: Implicit dimension choice for softmax has been deprecated. Change the call to include dim=X as an argument.\n",
      "  output = F.softmax(output)\n",
      "e:\\OneDrive - Hanoi University of Science and Technology\\Code project\\ML\\NLP\\uvipen_HAN\\src\\sent_att_model.py:29: UserWarning: Implicit dimension choice for softmax has been deprecated. Change the call to include dim=X as an argument.\n",
      "  output = F.softmax(output)\n"
     ]
    },
    {
     "name": "stdout",
     "output_type": "stream",
     "text": [
      "Epoch: 1/100, Iteration: 548/937, Lr: 0.1, Loss: 0.32609593868255615, Accuracy: 0.8984375\n"
     ]
    },
    {
     "name": "stderr",
     "output_type": "stream",
     "text": [
      "e:\\OneDrive - Hanoi University of Science and Technology\\Code project\\ML\\NLP\\uvipen_HAN\\src\\word_att_model.py:37: UserWarning: Implicit dimension choice for softmax has been deprecated. Change the call to include dim=X as an argument.\n",
      "  output = F.softmax(output)\n",
      "e:\\OneDrive - Hanoi University of Science and Technology\\Code project\\ML\\NLP\\uvipen_HAN\\src\\sent_att_model.py:29: UserWarning: Implicit dimension choice for softmax has been deprecated. Change the call to include dim=X as an argument.\n",
      "  output = F.softmax(output)\n"
     ]
    },
    {
     "name": "stdout",
     "output_type": "stream",
     "text": [
      "Epoch: 1/100, Iteration: 549/937, Lr: 0.1, Loss: 0.4273616075515747, Accuracy: 0.828125\n"
     ]
    },
    {
     "name": "stderr",
     "output_type": "stream",
     "text": [
      "e:\\OneDrive - Hanoi University of Science and Technology\\Code project\\ML\\NLP\\uvipen_HAN\\src\\word_att_model.py:37: UserWarning: Implicit dimension choice for softmax has been deprecated. Change the call to include dim=X as an argument.\n",
      "  output = F.softmax(output)\n",
      "e:\\OneDrive - Hanoi University of Science and Technology\\Code project\\ML\\NLP\\uvipen_HAN\\src\\sent_att_model.py:29: UserWarning: Implicit dimension choice for softmax has been deprecated. Change the call to include dim=X as an argument.\n",
      "  output = F.softmax(output)\n"
     ]
    },
    {
     "name": "stdout",
     "output_type": "stream",
     "text": [
      "Epoch: 1/100, Iteration: 550/937, Lr: 0.1, Loss: 0.313780277967453, Accuracy: 0.9140625\n"
     ]
    },
    {
     "name": "stderr",
     "output_type": "stream",
     "text": [
      "e:\\OneDrive - Hanoi University of Science and Technology\\Code project\\ML\\NLP\\uvipen_HAN\\src\\word_att_model.py:37: UserWarning: Implicit dimension choice for softmax has been deprecated. Change the call to include dim=X as an argument.\n",
      "  output = F.softmax(output)\n",
      "e:\\OneDrive - Hanoi University of Science and Technology\\Code project\\ML\\NLP\\uvipen_HAN\\src\\sent_att_model.py:29: UserWarning: Implicit dimension choice for softmax has been deprecated. Change the call to include dim=X as an argument.\n",
      "  output = F.softmax(output)\n"
     ]
    },
    {
     "name": "stdout",
     "output_type": "stream",
     "text": [
      "Epoch: 1/100, Iteration: 551/937, Lr: 0.1, Loss: 0.27429860830307007, Accuracy: 0.9140625\n"
     ]
    },
    {
     "name": "stderr",
     "output_type": "stream",
     "text": [
      "e:\\OneDrive - Hanoi University of Science and Technology\\Code project\\ML\\NLP\\uvipen_HAN\\src\\word_att_model.py:37: UserWarning: Implicit dimension choice for softmax has been deprecated. Change the call to include dim=X as an argument.\n",
      "  output = F.softmax(output)\n",
      "e:\\OneDrive - Hanoi University of Science and Technology\\Code project\\ML\\NLP\\uvipen_HAN\\src\\sent_att_model.py:29: UserWarning: Implicit dimension choice for softmax has been deprecated. Change the call to include dim=X as an argument.\n",
      "  output = F.softmax(output)\n"
     ]
    },
    {
     "name": "stdout",
     "output_type": "stream",
     "text": [
      "Epoch: 1/100, Iteration: 552/937, Lr: 0.1, Loss: 0.3059181869029999, Accuracy: 0.90625\n"
     ]
    },
    {
     "name": "stderr",
     "output_type": "stream",
     "text": [
      "e:\\OneDrive - Hanoi University of Science and Technology\\Code project\\ML\\NLP\\uvipen_HAN\\src\\word_att_model.py:37: UserWarning: Implicit dimension choice for softmax has been deprecated. Change the call to include dim=X as an argument.\n",
      "  output = F.softmax(output)\n",
      "e:\\OneDrive - Hanoi University of Science and Technology\\Code project\\ML\\NLP\\uvipen_HAN\\src\\sent_att_model.py:29: UserWarning: Implicit dimension choice for softmax has been deprecated. Change the call to include dim=X as an argument.\n",
      "  output = F.softmax(output)\n"
     ]
    },
    {
     "name": "stdout",
     "output_type": "stream",
     "text": [
      "Epoch: 1/100, Iteration: 553/937, Lr: 0.1, Loss: 0.2563518285751343, Accuracy: 0.90625\n"
     ]
    },
    {
     "name": "stderr",
     "output_type": "stream",
     "text": [
      "e:\\OneDrive - Hanoi University of Science and Technology\\Code project\\ML\\NLP\\uvipen_HAN\\src\\word_att_model.py:37: UserWarning: Implicit dimension choice for softmax has been deprecated. Change the call to include dim=X as an argument.\n",
      "  output = F.softmax(output)\n",
      "e:\\OneDrive - Hanoi University of Science and Technology\\Code project\\ML\\NLP\\uvipen_HAN\\src\\sent_att_model.py:29: UserWarning: Implicit dimension choice for softmax has been deprecated. Change the call to include dim=X as an argument.\n",
      "  output = F.softmax(output)\n"
     ]
    },
    {
     "name": "stdout",
     "output_type": "stream",
     "text": [
      "Epoch: 1/100, Iteration: 554/937, Lr: 0.1, Loss: 0.22802524268627167, Accuracy: 0.890625\n"
     ]
    },
    {
     "name": "stderr",
     "output_type": "stream",
     "text": [
      "e:\\OneDrive - Hanoi University of Science and Technology\\Code project\\ML\\NLP\\uvipen_HAN\\src\\word_att_model.py:37: UserWarning: Implicit dimension choice for softmax has been deprecated. Change the call to include dim=X as an argument.\n",
      "  output = F.softmax(output)\n",
      "e:\\OneDrive - Hanoi University of Science and Technology\\Code project\\ML\\NLP\\uvipen_HAN\\src\\sent_att_model.py:29: UserWarning: Implicit dimension choice for softmax has been deprecated. Change the call to include dim=X as an argument.\n",
      "  output = F.softmax(output)\n"
     ]
    },
    {
     "name": "stdout",
     "output_type": "stream",
     "text": [
      "Epoch: 1/100, Iteration: 555/937, Lr: 0.1, Loss: 0.3815692067146301, Accuracy: 0.875\n"
     ]
    },
    {
     "name": "stderr",
     "output_type": "stream",
     "text": [
      "e:\\OneDrive - Hanoi University of Science and Technology\\Code project\\ML\\NLP\\uvipen_HAN\\src\\word_att_model.py:37: UserWarning: Implicit dimension choice for softmax has been deprecated. Change the call to include dim=X as an argument.\n",
      "  output = F.softmax(output)\n",
      "e:\\OneDrive - Hanoi University of Science and Technology\\Code project\\ML\\NLP\\uvipen_HAN\\src\\sent_att_model.py:29: UserWarning: Implicit dimension choice for softmax has been deprecated. Change the call to include dim=X as an argument.\n",
      "  output = F.softmax(output)\n"
     ]
    },
    {
     "name": "stdout",
     "output_type": "stream",
     "text": [
      "Epoch: 1/100, Iteration: 556/937, Lr: 0.1, Loss: 0.3614989221096039, Accuracy: 0.8515625\n"
     ]
    },
    {
     "name": "stderr",
     "output_type": "stream",
     "text": [
      "e:\\OneDrive - Hanoi University of Science and Technology\\Code project\\ML\\NLP\\uvipen_HAN\\src\\word_att_model.py:37: UserWarning: Implicit dimension choice for softmax has been deprecated. Change the call to include dim=X as an argument.\n",
      "  output = F.softmax(output)\n",
      "e:\\OneDrive - Hanoi University of Science and Technology\\Code project\\ML\\NLP\\uvipen_HAN\\src\\sent_att_model.py:29: UserWarning: Implicit dimension choice for softmax has been deprecated. Change the call to include dim=X as an argument.\n",
      "  output = F.softmax(output)\n"
     ]
    },
    {
     "name": "stdout",
     "output_type": "stream",
     "text": [
      "Epoch: 1/100, Iteration: 557/937, Lr: 0.1, Loss: 0.2446800023317337, Accuracy: 0.921875\n"
     ]
    },
    {
     "name": "stderr",
     "output_type": "stream",
     "text": [
      "e:\\OneDrive - Hanoi University of Science and Technology\\Code project\\ML\\NLP\\uvipen_HAN\\src\\word_att_model.py:37: UserWarning: Implicit dimension choice for softmax has been deprecated. Change the call to include dim=X as an argument.\n",
      "  output = F.softmax(output)\n",
      "e:\\OneDrive - Hanoi University of Science and Technology\\Code project\\ML\\NLP\\uvipen_HAN\\src\\sent_att_model.py:29: UserWarning: Implicit dimension choice for softmax has been deprecated. Change the call to include dim=X as an argument.\n",
      "  output = F.softmax(output)\n"
     ]
    },
    {
     "name": "stdout",
     "output_type": "stream",
     "text": [
      "Epoch: 1/100, Iteration: 558/937, Lr: 0.1, Loss: 0.354164719581604, Accuracy: 0.859375\n"
     ]
    },
    {
     "name": "stderr",
     "output_type": "stream",
     "text": [
      "e:\\OneDrive - Hanoi University of Science and Technology\\Code project\\ML\\NLP\\uvipen_HAN\\src\\word_att_model.py:37: UserWarning: Implicit dimension choice for softmax has been deprecated. Change the call to include dim=X as an argument.\n",
      "  output = F.softmax(output)\n",
      "e:\\OneDrive - Hanoi University of Science and Technology\\Code project\\ML\\NLP\\uvipen_HAN\\src\\sent_att_model.py:29: UserWarning: Implicit dimension choice for softmax has been deprecated. Change the call to include dim=X as an argument.\n",
      "  output = F.softmax(output)\n"
     ]
    },
    {
     "name": "stdout",
     "output_type": "stream",
     "text": [
      "Epoch: 1/100, Iteration: 559/937, Lr: 0.1, Loss: 0.4241602122783661, Accuracy: 0.8515625\n"
     ]
    },
    {
     "name": "stderr",
     "output_type": "stream",
     "text": [
      "e:\\OneDrive - Hanoi University of Science and Technology\\Code project\\ML\\NLP\\uvipen_HAN\\src\\word_att_model.py:37: UserWarning: Implicit dimension choice for softmax has been deprecated. Change the call to include dim=X as an argument.\n",
      "  output = F.softmax(output)\n",
      "e:\\OneDrive - Hanoi University of Science and Technology\\Code project\\ML\\NLP\\uvipen_HAN\\src\\sent_att_model.py:29: UserWarning: Implicit dimension choice for softmax has been deprecated. Change the call to include dim=X as an argument.\n",
      "  output = F.softmax(output)\n"
     ]
    },
    {
     "name": "stdout",
     "output_type": "stream",
     "text": [
      "Epoch: 1/100, Iteration: 560/937, Lr: 0.1, Loss: 0.31641271710395813, Accuracy: 0.8671875\n"
     ]
    },
    {
     "name": "stderr",
     "output_type": "stream",
     "text": [
      "e:\\OneDrive - Hanoi University of Science and Technology\\Code project\\ML\\NLP\\uvipen_HAN\\src\\word_att_model.py:37: UserWarning: Implicit dimension choice for softmax has been deprecated. Change the call to include dim=X as an argument.\n",
      "  output = F.softmax(output)\n",
      "e:\\OneDrive - Hanoi University of Science and Technology\\Code project\\ML\\NLP\\uvipen_HAN\\src\\sent_att_model.py:29: UserWarning: Implicit dimension choice for softmax has been deprecated. Change the call to include dim=X as an argument.\n",
      "  output = F.softmax(output)\n"
     ]
    },
    {
     "name": "stdout",
     "output_type": "stream",
     "text": [
      "Epoch: 1/100, Iteration: 561/937, Lr: 0.1, Loss: 0.3296302556991577, Accuracy: 0.8828125\n"
     ]
    },
    {
     "name": "stderr",
     "output_type": "stream",
     "text": [
      "e:\\OneDrive - Hanoi University of Science and Technology\\Code project\\ML\\NLP\\uvipen_HAN\\src\\word_att_model.py:37: UserWarning: Implicit dimension choice for softmax has been deprecated. Change the call to include dim=X as an argument.\n",
      "  output = F.softmax(output)\n",
      "e:\\OneDrive - Hanoi University of Science and Technology\\Code project\\ML\\NLP\\uvipen_HAN\\src\\sent_att_model.py:29: UserWarning: Implicit dimension choice for softmax has been deprecated. Change the call to include dim=X as an argument.\n",
      "  output = F.softmax(output)\n"
     ]
    },
    {
     "name": "stdout",
     "output_type": "stream",
     "text": [
      "Epoch: 1/100, Iteration: 562/937, Lr: 0.1, Loss: 0.35631248354911804, Accuracy: 0.8828125\n"
     ]
    },
    {
     "name": "stderr",
     "output_type": "stream",
     "text": [
      "e:\\OneDrive - Hanoi University of Science and Technology\\Code project\\ML\\NLP\\uvipen_HAN\\src\\word_att_model.py:37: UserWarning: Implicit dimension choice for softmax has been deprecated. Change the call to include dim=X as an argument.\n",
      "  output = F.softmax(output)\n",
      "e:\\OneDrive - Hanoi University of Science and Technology\\Code project\\ML\\NLP\\uvipen_HAN\\src\\sent_att_model.py:29: UserWarning: Implicit dimension choice for softmax has been deprecated. Change the call to include dim=X as an argument.\n",
      "  output = F.softmax(output)\n"
     ]
    },
    {
     "name": "stdout",
     "output_type": "stream",
     "text": [
      "Epoch: 1/100, Iteration: 563/937, Lr: 0.1, Loss: 0.38104623556137085, Accuracy: 0.875\n"
     ]
    },
    {
     "name": "stderr",
     "output_type": "stream",
     "text": [
      "e:\\OneDrive - Hanoi University of Science and Technology\\Code project\\ML\\NLP\\uvipen_HAN\\src\\word_att_model.py:37: UserWarning: Implicit dimension choice for softmax has been deprecated. Change the call to include dim=X as an argument.\n",
      "  output = F.softmax(output)\n",
      "e:\\OneDrive - Hanoi University of Science and Technology\\Code project\\ML\\NLP\\uvipen_HAN\\src\\sent_att_model.py:29: UserWarning: Implicit dimension choice for softmax has been deprecated. Change the call to include dim=X as an argument.\n",
      "  output = F.softmax(output)\n"
     ]
    },
    {
     "name": "stdout",
     "output_type": "stream",
     "text": [
      "Epoch: 1/100, Iteration: 564/937, Lr: 0.1, Loss: 0.41163384914398193, Accuracy: 0.8671875\n"
     ]
    },
    {
     "name": "stderr",
     "output_type": "stream",
     "text": [
      "e:\\OneDrive - Hanoi University of Science and Technology\\Code project\\ML\\NLP\\uvipen_HAN\\src\\word_att_model.py:37: UserWarning: Implicit dimension choice for softmax has been deprecated. Change the call to include dim=X as an argument.\n",
      "  output = F.softmax(output)\n",
      "e:\\OneDrive - Hanoi University of Science and Technology\\Code project\\ML\\NLP\\uvipen_HAN\\src\\sent_att_model.py:29: UserWarning: Implicit dimension choice for softmax has been deprecated. Change the call to include dim=X as an argument.\n",
      "  output = F.softmax(output)\n"
     ]
    },
    {
     "name": "stdout",
     "output_type": "stream",
     "text": [
      "Epoch: 1/100, Iteration: 565/937, Lr: 0.1, Loss: 0.4001053273677826, Accuracy: 0.859375\n"
     ]
    },
    {
     "name": "stderr",
     "output_type": "stream",
     "text": [
      "e:\\OneDrive - Hanoi University of Science and Technology\\Code project\\ML\\NLP\\uvipen_HAN\\src\\word_att_model.py:37: UserWarning: Implicit dimension choice for softmax has been deprecated. Change the call to include dim=X as an argument.\n",
      "  output = F.softmax(output)\n",
      "e:\\OneDrive - Hanoi University of Science and Technology\\Code project\\ML\\NLP\\uvipen_HAN\\src\\sent_att_model.py:29: UserWarning: Implicit dimension choice for softmax has been deprecated. Change the call to include dim=X as an argument.\n",
      "  output = F.softmax(output)\n"
     ]
    },
    {
     "name": "stdout",
     "output_type": "stream",
     "text": [
      "Epoch: 1/100, Iteration: 566/937, Lr: 0.1, Loss: 0.37664464116096497, Accuracy: 0.890625\n"
     ]
    },
    {
     "name": "stderr",
     "output_type": "stream",
     "text": [
      "e:\\OneDrive - Hanoi University of Science and Technology\\Code project\\ML\\NLP\\uvipen_HAN\\src\\word_att_model.py:37: UserWarning: Implicit dimension choice for softmax has been deprecated. Change the call to include dim=X as an argument.\n",
      "  output = F.softmax(output)\n",
      "e:\\OneDrive - Hanoi University of Science and Technology\\Code project\\ML\\NLP\\uvipen_HAN\\src\\sent_att_model.py:29: UserWarning: Implicit dimension choice for softmax has been deprecated. Change the call to include dim=X as an argument.\n",
      "  output = F.softmax(output)\n"
     ]
    },
    {
     "name": "stdout",
     "output_type": "stream",
     "text": [
      "Epoch: 1/100, Iteration: 567/937, Lr: 0.1, Loss: 0.3940674662590027, Accuracy: 0.859375\n"
     ]
    },
    {
     "name": "stderr",
     "output_type": "stream",
     "text": [
      "e:\\OneDrive - Hanoi University of Science and Technology\\Code project\\ML\\NLP\\uvipen_HAN\\src\\word_att_model.py:37: UserWarning: Implicit dimension choice for softmax has been deprecated. Change the call to include dim=X as an argument.\n",
      "  output = F.softmax(output)\n",
      "e:\\OneDrive - Hanoi University of Science and Technology\\Code project\\ML\\NLP\\uvipen_HAN\\src\\sent_att_model.py:29: UserWarning: Implicit dimension choice for softmax has been deprecated. Change the call to include dim=X as an argument.\n",
      "  output = F.softmax(output)\n"
     ]
    },
    {
     "name": "stdout",
     "output_type": "stream",
     "text": [
      "Epoch: 1/100, Iteration: 568/937, Lr: 0.1, Loss: 0.3142296075820923, Accuracy: 0.890625\n"
     ]
    },
    {
     "name": "stderr",
     "output_type": "stream",
     "text": [
      "e:\\OneDrive - Hanoi University of Science and Technology\\Code project\\ML\\NLP\\uvipen_HAN\\src\\word_att_model.py:37: UserWarning: Implicit dimension choice for softmax has been deprecated. Change the call to include dim=X as an argument.\n",
      "  output = F.softmax(output)\n",
      "e:\\OneDrive - Hanoi University of Science and Technology\\Code project\\ML\\NLP\\uvipen_HAN\\src\\sent_att_model.py:29: UserWarning: Implicit dimension choice for softmax has been deprecated. Change the call to include dim=X as an argument.\n",
      "  output = F.softmax(output)\n"
     ]
    },
    {
     "name": "stdout",
     "output_type": "stream",
     "text": [
      "Epoch: 1/100, Iteration: 569/937, Lr: 0.1, Loss: 0.20240448415279388, Accuracy: 0.9375\n"
     ]
    },
    {
     "name": "stderr",
     "output_type": "stream",
     "text": [
      "e:\\OneDrive - Hanoi University of Science and Technology\\Code project\\ML\\NLP\\uvipen_HAN\\src\\word_att_model.py:37: UserWarning: Implicit dimension choice for softmax has been deprecated. Change the call to include dim=X as an argument.\n",
      "  output = F.softmax(output)\n",
      "e:\\OneDrive - Hanoi University of Science and Technology\\Code project\\ML\\NLP\\uvipen_HAN\\src\\sent_att_model.py:29: UserWarning: Implicit dimension choice for softmax has been deprecated. Change the call to include dim=X as an argument.\n",
      "  output = F.softmax(output)\n"
     ]
    },
    {
     "name": "stdout",
     "output_type": "stream",
     "text": [
      "Epoch: 1/100, Iteration: 570/937, Lr: 0.1, Loss: 0.3305780291557312, Accuracy: 0.8828125\n"
     ]
    },
    {
     "name": "stderr",
     "output_type": "stream",
     "text": [
      "e:\\OneDrive - Hanoi University of Science and Technology\\Code project\\ML\\NLP\\uvipen_HAN\\src\\word_att_model.py:37: UserWarning: Implicit dimension choice for softmax has been deprecated. Change the call to include dim=X as an argument.\n",
      "  output = F.softmax(output)\n",
      "e:\\OneDrive - Hanoi University of Science and Technology\\Code project\\ML\\NLP\\uvipen_HAN\\src\\sent_att_model.py:29: UserWarning: Implicit dimension choice for softmax has been deprecated. Change the call to include dim=X as an argument.\n",
      "  output = F.softmax(output)\n"
     ]
    },
    {
     "name": "stdout",
     "output_type": "stream",
     "text": [
      "Epoch: 1/100, Iteration: 571/937, Lr: 0.1, Loss: 0.42377179861068726, Accuracy: 0.8671875\n"
     ]
    },
    {
     "name": "stderr",
     "output_type": "stream",
     "text": [
      "e:\\OneDrive - Hanoi University of Science and Technology\\Code project\\ML\\NLP\\uvipen_HAN\\src\\word_att_model.py:37: UserWarning: Implicit dimension choice for softmax has been deprecated. Change the call to include dim=X as an argument.\n",
      "  output = F.softmax(output)\n",
      "e:\\OneDrive - Hanoi University of Science and Technology\\Code project\\ML\\NLP\\uvipen_HAN\\src\\sent_att_model.py:29: UserWarning: Implicit dimension choice for softmax has been deprecated. Change the call to include dim=X as an argument.\n",
      "  output = F.softmax(output)\n"
     ]
    },
    {
     "name": "stdout",
     "output_type": "stream",
     "text": [
      "Epoch: 1/100, Iteration: 572/937, Lr: 0.1, Loss: 0.3564264178276062, Accuracy: 0.875\n"
     ]
    },
    {
     "name": "stderr",
     "output_type": "stream",
     "text": [
      "e:\\OneDrive - Hanoi University of Science and Technology\\Code project\\ML\\NLP\\uvipen_HAN\\src\\word_att_model.py:37: UserWarning: Implicit dimension choice for softmax has been deprecated. Change the call to include dim=X as an argument.\n",
      "  output = F.softmax(output)\n",
      "e:\\OneDrive - Hanoi University of Science and Technology\\Code project\\ML\\NLP\\uvipen_HAN\\src\\sent_att_model.py:29: UserWarning: Implicit dimension choice for softmax has been deprecated. Change the call to include dim=X as an argument.\n",
      "  output = F.softmax(output)\n"
     ]
    },
    {
     "name": "stdout",
     "output_type": "stream",
     "text": [
      "Epoch: 1/100, Iteration: 573/937, Lr: 0.1, Loss: 0.3149333596229553, Accuracy: 0.8828125\n"
     ]
    },
    {
     "name": "stderr",
     "output_type": "stream",
     "text": [
      "e:\\OneDrive - Hanoi University of Science and Technology\\Code project\\ML\\NLP\\uvipen_HAN\\src\\word_att_model.py:37: UserWarning: Implicit dimension choice for softmax has been deprecated. Change the call to include dim=X as an argument.\n",
      "  output = F.softmax(output)\n",
      "e:\\OneDrive - Hanoi University of Science and Technology\\Code project\\ML\\NLP\\uvipen_HAN\\src\\sent_att_model.py:29: UserWarning: Implicit dimension choice for softmax has been deprecated. Change the call to include dim=X as an argument.\n",
      "  output = F.softmax(output)\n"
     ]
    },
    {
     "name": "stdout",
     "output_type": "stream",
     "text": [
      "Epoch: 1/100, Iteration: 574/937, Lr: 0.1, Loss: 0.37323901057243347, Accuracy: 0.8828125\n"
     ]
    },
    {
     "name": "stderr",
     "output_type": "stream",
     "text": [
      "e:\\OneDrive - Hanoi University of Science and Technology\\Code project\\ML\\NLP\\uvipen_HAN\\src\\word_att_model.py:37: UserWarning: Implicit dimension choice for softmax has been deprecated. Change the call to include dim=X as an argument.\n",
      "  output = F.softmax(output)\n",
      "e:\\OneDrive - Hanoi University of Science and Technology\\Code project\\ML\\NLP\\uvipen_HAN\\src\\sent_att_model.py:29: UserWarning: Implicit dimension choice for softmax has been deprecated. Change the call to include dim=X as an argument.\n",
      "  output = F.softmax(output)\n"
     ]
    },
    {
     "name": "stdout",
     "output_type": "stream",
     "text": [
      "Epoch: 1/100, Iteration: 575/937, Lr: 0.1, Loss: 0.3437774181365967, Accuracy: 0.8828125\n"
     ]
    },
    {
     "name": "stderr",
     "output_type": "stream",
     "text": [
      "e:\\OneDrive - Hanoi University of Science and Technology\\Code project\\ML\\NLP\\uvipen_HAN\\src\\word_att_model.py:37: UserWarning: Implicit dimension choice for softmax has been deprecated. Change the call to include dim=X as an argument.\n",
      "  output = F.softmax(output)\n",
      "e:\\OneDrive - Hanoi University of Science and Technology\\Code project\\ML\\NLP\\uvipen_HAN\\src\\sent_att_model.py:29: UserWarning: Implicit dimension choice for softmax has been deprecated. Change the call to include dim=X as an argument.\n",
      "  output = F.softmax(output)\n"
     ]
    },
    {
     "name": "stdout",
     "output_type": "stream",
     "text": [
      "Epoch: 1/100, Iteration: 576/937, Lr: 0.1, Loss: 0.45719900727272034, Accuracy: 0.859375\n"
     ]
    },
    {
     "name": "stderr",
     "output_type": "stream",
     "text": [
      "e:\\OneDrive - Hanoi University of Science and Technology\\Code project\\ML\\NLP\\uvipen_HAN\\src\\word_att_model.py:37: UserWarning: Implicit dimension choice for softmax has been deprecated. Change the call to include dim=X as an argument.\n",
      "  output = F.softmax(output)\n",
      "e:\\OneDrive - Hanoi University of Science and Technology\\Code project\\ML\\NLP\\uvipen_HAN\\src\\sent_att_model.py:29: UserWarning: Implicit dimension choice for softmax has been deprecated. Change the call to include dim=X as an argument.\n",
      "  output = F.softmax(output)\n"
     ]
    },
    {
     "name": "stdout",
     "output_type": "stream",
     "text": [
      "Epoch: 1/100, Iteration: 577/937, Lr: 0.1, Loss: 0.4045047163963318, Accuracy: 0.859375\n"
     ]
    },
    {
     "name": "stderr",
     "output_type": "stream",
     "text": [
      "e:\\OneDrive - Hanoi University of Science and Technology\\Code project\\ML\\NLP\\uvipen_HAN\\src\\word_att_model.py:37: UserWarning: Implicit dimension choice for softmax has been deprecated. Change the call to include dim=X as an argument.\n",
      "  output = F.softmax(output)\n",
      "e:\\OneDrive - Hanoi University of Science and Technology\\Code project\\ML\\NLP\\uvipen_HAN\\src\\sent_att_model.py:29: UserWarning: Implicit dimension choice for softmax has been deprecated. Change the call to include dim=X as an argument.\n",
      "  output = F.softmax(output)\n"
     ]
    },
    {
     "name": "stdout",
     "output_type": "stream",
     "text": [
      "Epoch: 1/100, Iteration: 578/937, Lr: 0.1, Loss: 0.38483911752700806, Accuracy: 0.8359375\n"
     ]
    },
    {
     "name": "stderr",
     "output_type": "stream",
     "text": [
      "e:\\OneDrive - Hanoi University of Science and Technology\\Code project\\ML\\NLP\\uvipen_HAN\\src\\word_att_model.py:37: UserWarning: Implicit dimension choice for softmax has been deprecated. Change the call to include dim=X as an argument.\n",
      "  output = F.softmax(output)\n",
      "e:\\OneDrive - Hanoi University of Science and Technology\\Code project\\ML\\NLP\\uvipen_HAN\\src\\sent_att_model.py:29: UserWarning: Implicit dimension choice for softmax has been deprecated. Change the call to include dim=X as an argument.\n",
      "  output = F.softmax(output)\n"
     ]
    },
    {
     "name": "stdout",
     "output_type": "stream",
     "text": [
      "Epoch: 1/100, Iteration: 579/937, Lr: 0.1, Loss: 0.3537331223487854, Accuracy: 0.875\n"
     ]
    },
    {
     "name": "stderr",
     "output_type": "stream",
     "text": [
      "e:\\OneDrive - Hanoi University of Science and Technology\\Code project\\ML\\NLP\\uvipen_HAN\\src\\word_att_model.py:37: UserWarning: Implicit dimension choice for softmax has been deprecated. Change the call to include dim=X as an argument.\n",
      "  output = F.softmax(output)\n",
      "e:\\OneDrive - Hanoi University of Science and Technology\\Code project\\ML\\NLP\\uvipen_HAN\\src\\sent_att_model.py:29: UserWarning: Implicit dimension choice for softmax has been deprecated. Change the call to include dim=X as an argument.\n",
      "  output = F.softmax(output)\n"
     ]
    },
    {
     "name": "stdout",
     "output_type": "stream",
     "text": [
      "Epoch: 1/100, Iteration: 580/937, Lr: 0.1, Loss: 0.2948653995990753, Accuracy: 0.8984375\n"
     ]
    },
    {
     "name": "stderr",
     "output_type": "stream",
     "text": [
      "e:\\OneDrive - Hanoi University of Science and Technology\\Code project\\ML\\NLP\\uvipen_HAN\\src\\word_att_model.py:37: UserWarning: Implicit dimension choice for softmax has been deprecated. Change the call to include dim=X as an argument.\n",
      "  output = F.softmax(output)\n",
      "e:\\OneDrive - Hanoi University of Science and Technology\\Code project\\ML\\NLP\\uvipen_HAN\\src\\sent_att_model.py:29: UserWarning: Implicit dimension choice for softmax has been deprecated. Change the call to include dim=X as an argument.\n",
      "  output = F.softmax(output)\n"
     ]
    },
    {
     "name": "stdout",
     "output_type": "stream",
     "text": [
      "Epoch: 1/100, Iteration: 581/937, Lr: 0.1, Loss: 0.283987432718277, Accuracy: 0.890625\n"
     ]
    },
    {
     "name": "stderr",
     "output_type": "stream",
     "text": [
      "e:\\OneDrive - Hanoi University of Science and Technology\\Code project\\ML\\NLP\\uvipen_HAN\\src\\word_att_model.py:37: UserWarning: Implicit dimension choice for softmax has been deprecated. Change the call to include dim=X as an argument.\n",
      "  output = F.softmax(output)\n",
      "e:\\OneDrive - Hanoi University of Science and Technology\\Code project\\ML\\NLP\\uvipen_HAN\\src\\sent_att_model.py:29: UserWarning: Implicit dimension choice for softmax has been deprecated. Change the call to include dim=X as an argument.\n",
      "  output = F.softmax(output)\n"
     ]
    },
    {
     "name": "stdout",
     "output_type": "stream",
     "text": [
      "Epoch: 1/100, Iteration: 582/937, Lr: 0.1, Loss: 0.34010520577430725, Accuracy: 0.890625\n"
     ]
    },
    {
     "name": "stderr",
     "output_type": "stream",
     "text": [
      "e:\\OneDrive - Hanoi University of Science and Technology\\Code project\\ML\\NLP\\uvipen_HAN\\src\\word_att_model.py:37: UserWarning: Implicit dimension choice for softmax has been deprecated. Change the call to include dim=X as an argument.\n",
      "  output = F.softmax(output)\n",
      "e:\\OneDrive - Hanoi University of Science and Technology\\Code project\\ML\\NLP\\uvipen_HAN\\src\\sent_att_model.py:29: UserWarning: Implicit dimension choice for softmax has been deprecated. Change the call to include dim=X as an argument.\n",
      "  output = F.softmax(output)\n"
     ]
    },
    {
     "name": "stdout",
     "output_type": "stream",
     "text": [
      "Epoch: 1/100, Iteration: 583/937, Lr: 0.1, Loss: 0.25893434882164, Accuracy: 0.90625\n"
     ]
    },
    {
     "name": "stderr",
     "output_type": "stream",
     "text": [
      "e:\\OneDrive - Hanoi University of Science and Technology\\Code project\\ML\\NLP\\uvipen_HAN\\src\\word_att_model.py:37: UserWarning: Implicit dimension choice for softmax has been deprecated. Change the call to include dim=X as an argument.\n",
      "  output = F.softmax(output)\n",
      "e:\\OneDrive - Hanoi University of Science and Technology\\Code project\\ML\\NLP\\uvipen_HAN\\src\\sent_att_model.py:29: UserWarning: Implicit dimension choice for softmax has been deprecated. Change the call to include dim=X as an argument.\n",
      "  output = F.softmax(output)\n"
     ]
    },
    {
     "name": "stdout",
     "output_type": "stream",
     "text": [
      "Epoch: 1/100, Iteration: 584/937, Lr: 0.1, Loss: 0.4183022379875183, Accuracy: 0.84375\n"
     ]
    },
    {
     "name": "stderr",
     "output_type": "stream",
     "text": [
      "e:\\OneDrive - Hanoi University of Science and Technology\\Code project\\ML\\NLP\\uvipen_HAN\\src\\word_att_model.py:37: UserWarning: Implicit dimension choice for softmax has been deprecated. Change the call to include dim=X as an argument.\n",
      "  output = F.softmax(output)\n",
      "e:\\OneDrive - Hanoi University of Science and Technology\\Code project\\ML\\NLP\\uvipen_HAN\\src\\sent_att_model.py:29: UserWarning: Implicit dimension choice for softmax has been deprecated. Change the call to include dim=X as an argument.\n",
      "  output = F.softmax(output)\n"
     ]
    },
    {
     "name": "stdout",
     "output_type": "stream",
     "text": [
      "Epoch: 1/100, Iteration: 585/937, Lr: 0.1, Loss: 0.23835718631744385, Accuracy: 0.921875\n"
     ]
    },
    {
     "name": "stderr",
     "output_type": "stream",
     "text": [
      "e:\\OneDrive - Hanoi University of Science and Technology\\Code project\\ML\\NLP\\uvipen_HAN\\src\\word_att_model.py:37: UserWarning: Implicit dimension choice for softmax has been deprecated. Change the call to include dim=X as an argument.\n",
      "  output = F.softmax(output)\n",
      "e:\\OneDrive - Hanoi University of Science and Technology\\Code project\\ML\\NLP\\uvipen_HAN\\src\\sent_att_model.py:29: UserWarning: Implicit dimension choice for softmax has been deprecated. Change the call to include dim=X as an argument.\n",
      "  output = F.softmax(output)\n"
     ]
    },
    {
     "name": "stdout",
     "output_type": "stream",
     "text": [
      "Epoch: 1/100, Iteration: 586/937, Lr: 0.1, Loss: 0.3163719177246094, Accuracy: 0.8671875\n"
     ]
    },
    {
     "name": "stderr",
     "output_type": "stream",
     "text": [
      "e:\\OneDrive - Hanoi University of Science and Technology\\Code project\\ML\\NLP\\uvipen_HAN\\src\\word_att_model.py:37: UserWarning: Implicit dimension choice for softmax has been deprecated. Change the call to include dim=X as an argument.\n",
      "  output = F.softmax(output)\n",
      "e:\\OneDrive - Hanoi University of Science and Technology\\Code project\\ML\\NLP\\uvipen_HAN\\src\\sent_att_model.py:29: UserWarning: Implicit dimension choice for softmax has been deprecated. Change the call to include dim=X as an argument.\n",
      "  output = F.softmax(output)\n"
     ]
    },
    {
     "name": "stdout",
     "output_type": "stream",
     "text": [
      "Epoch: 1/100, Iteration: 587/937, Lr: 0.1, Loss: 0.31960371136665344, Accuracy: 0.890625\n"
     ]
    },
    {
     "name": "stderr",
     "output_type": "stream",
     "text": [
      "e:\\OneDrive - Hanoi University of Science and Technology\\Code project\\ML\\NLP\\uvipen_HAN\\src\\word_att_model.py:37: UserWarning: Implicit dimension choice for softmax has been deprecated. Change the call to include dim=X as an argument.\n",
      "  output = F.softmax(output)\n",
      "e:\\OneDrive - Hanoi University of Science and Technology\\Code project\\ML\\NLP\\uvipen_HAN\\src\\sent_att_model.py:29: UserWarning: Implicit dimension choice for softmax has been deprecated. Change the call to include dim=X as an argument.\n",
      "  output = F.softmax(output)\n"
     ]
    },
    {
     "name": "stdout",
     "output_type": "stream",
     "text": [
      "Epoch: 1/100, Iteration: 588/937, Lr: 0.1, Loss: 0.24164409935474396, Accuracy: 0.9140625\n"
     ]
    },
    {
     "name": "stderr",
     "output_type": "stream",
     "text": [
      "e:\\OneDrive - Hanoi University of Science and Technology\\Code project\\ML\\NLP\\uvipen_HAN\\src\\word_att_model.py:37: UserWarning: Implicit dimension choice for softmax has been deprecated. Change the call to include dim=X as an argument.\n",
      "  output = F.softmax(output)\n",
      "e:\\OneDrive - Hanoi University of Science and Technology\\Code project\\ML\\NLP\\uvipen_HAN\\src\\sent_att_model.py:29: UserWarning: Implicit dimension choice for softmax has been deprecated. Change the call to include dim=X as an argument.\n",
      "  output = F.softmax(output)\n"
     ]
    },
    {
     "name": "stdout",
     "output_type": "stream",
     "text": [
      "Epoch: 1/100, Iteration: 589/937, Lr: 0.1, Loss: 0.2809910476207733, Accuracy: 0.90625\n"
     ]
    },
    {
     "name": "stderr",
     "output_type": "stream",
     "text": [
      "e:\\OneDrive - Hanoi University of Science and Technology\\Code project\\ML\\NLP\\uvipen_HAN\\src\\word_att_model.py:37: UserWarning: Implicit dimension choice for softmax has been deprecated. Change the call to include dim=X as an argument.\n",
      "  output = F.softmax(output)\n",
      "e:\\OneDrive - Hanoi University of Science and Technology\\Code project\\ML\\NLP\\uvipen_HAN\\src\\sent_att_model.py:29: UserWarning: Implicit dimension choice for softmax has been deprecated. Change the call to include dim=X as an argument.\n",
      "  output = F.softmax(output)\n"
     ]
    },
    {
     "name": "stdout",
     "output_type": "stream",
     "text": [
      "Epoch: 1/100, Iteration: 590/937, Lr: 0.1, Loss: 0.28565457463264465, Accuracy: 0.890625\n"
     ]
    },
    {
     "name": "stderr",
     "output_type": "stream",
     "text": [
      "e:\\OneDrive - Hanoi University of Science and Technology\\Code project\\ML\\NLP\\uvipen_HAN\\src\\word_att_model.py:37: UserWarning: Implicit dimension choice for softmax has been deprecated. Change the call to include dim=X as an argument.\n",
      "  output = F.softmax(output)\n",
      "e:\\OneDrive - Hanoi University of Science and Technology\\Code project\\ML\\NLP\\uvipen_HAN\\src\\sent_att_model.py:29: UserWarning: Implicit dimension choice for softmax has been deprecated. Change the call to include dim=X as an argument.\n",
      "  output = F.softmax(output)\n"
     ]
    },
    {
     "name": "stdout",
     "output_type": "stream",
     "text": [
      "Epoch: 1/100, Iteration: 591/937, Lr: 0.1, Loss: 0.2675113379955292, Accuracy: 0.8984375\n"
     ]
    },
    {
     "name": "stderr",
     "output_type": "stream",
     "text": [
      "e:\\OneDrive - Hanoi University of Science and Technology\\Code project\\ML\\NLP\\uvipen_HAN\\src\\word_att_model.py:37: UserWarning: Implicit dimension choice for softmax has been deprecated. Change the call to include dim=X as an argument.\n",
      "  output = F.softmax(output)\n",
      "e:\\OneDrive - Hanoi University of Science and Technology\\Code project\\ML\\NLP\\uvipen_HAN\\src\\sent_att_model.py:29: UserWarning: Implicit dimension choice for softmax has been deprecated. Change the call to include dim=X as an argument.\n",
      "  output = F.softmax(output)\n"
     ]
    },
    {
     "name": "stdout",
     "output_type": "stream",
     "text": [
      "Epoch: 1/100, Iteration: 592/937, Lr: 0.1, Loss: 0.34071582555770874, Accuracy: 0.890625\n"
     ]
    },
    {
     "name": "stderr",
     "output_type": "stream",
     "text": [
      "e:\\OneDrive - Hanoi University of Science and Technology\\Code project\\ML\\NLP\\uvipen_HAN\\src\\word_att_model.py:37: UserWarning: Implicit dimension choice for softmax has been deprecated. Change the call to include dim=X as an argument.\n",
      "  output = F.softmax(output)\n",
      "e:\\OneDrive - Hanoi University of Science and Technology\\Code project\\ML\\NLP\\uvipen_HAN\\src\\sent_att_model.py:29: UserWarning: Implicit dimension choice for softmax has been deprecated. Change the call to include dim=X as an argument.\n",
      "  output = F.softmax(output)\n"
     ]
    },
    {
     "name": "stdout",
     "output_type": "stream",
     "text": [
      "Epoch: 1/100, Iteration: 593/937, Lr: 0.1, Loss: 0.25535738468170166, Accuracy: 0.9140625\n"
     ]
    },
    {
     "name": "stderr",
     "output_type": "stream",
     "text": [
      "e:\\OneDrive - Hanoi University of Science and Technology\\Code project\\ML\\NLP\\uvipen_HAN\\src\\word_att_model.py:37: UserWarning: Implicit dimension choice for softmax has been deprecated. Change the call to include dim=X as an argument.\n",
      "  output = F.softmax(output)\n",
      "e:\\OneDrive - Hanoi University of Science and Technology\\Code project\\ML\\NLP\\uvipen_HAN\\src\\sent_att_model.py:29: UserWarning: Implicit dimension choice for softmax has been deprecated. Change the call to include dim=X as an argument.\n",
      "  output = F.softmax(output)\n"
     ]
    },
    {
     "name": "stdout",
     "output_type": "stream",
     "text": [
      "Epoch: 1/100, Iteration: 594/937, Lr: 0.1, Loss: 0.3539809286594391, Accuracy: 0.875\n"
     ]
    },
    {
     "name": "stderr",
     "output_type": "stream",
     "text": [
      "e:\\OneDrive - Hanoi University of Science and Technology\\Code project\\ML\\NLP\\uvipen_HAN\\src\\word_att_model.py:37: UserWarning: Implicit dimension choice for softmax has been deprecated. Change the call to include dim=X as an argument.\n",
      "  output = F.softmax(output)\n",
      "e:\\OneDrive - Hanoi University of Science and Technology\\Code project\\ML\\NLP\\uvipen_HAN\\src\\sent_att_model.py:29: UserWarning: Implicit dimension choice for softmax has been deprecated. Change the call to include dim=X as an argument.\n",
      "  output = F.softmax(output)\n"
     ]
    },
    {
     "name": "stdout",
     "output_type": "stream",
     "text": [
      "Epoch: 1/100, Iteration: 595/937, Lr: 0.1, Loss: 0.3171292841434479, Accuracy: 0.8828125\n"
     ]
    },
    {
     "name": "stderr",
     "output_type": "stream",
     "text": [
      "e:\\OneDrive - Hanoi University of Science and Technology\\Code project\\ML\\NLP\\uvipen_HAN\\src\\word_att_model.py:37: UserWarning: Implicit dimension choice for softmax has been deprecated. Change the call to include dim=X as an argument.\n",
      "  output = F.softmax(output)\n",
      "e:\\OneDrive - Hanoi University of Science and Technology\\Code project\\ML\\NLP\\uvipen_HAN\\src\\sent_att_model.py:29: UserWarning: Implicit dimension choice for softmax has been deprecated. Change the call to include dim=X as an argument.\n",
      "  output = F.softmax(output)\n"
     ]
    },
    {
     "name": "stdout",
     "output_type": "stream",
     "text": [
      "Epoch: 1/100, Iteration: 596/937, Lr: 0.1, Loss: 0.25512588024139404, Accuracy: 0.8984375\n"
     ]
    },
    {
     "name": "stderr",
     "output_type": "stream",
     "text": [
      "e:\\OneDrive - Hanoi University of Science and Technology\\Code project\\ML\\NLP\\uvipen_HAN\\src\\word_att_model.py:37: UserWarning: Implicit dimension choice for softmax has been deprecated. Change the call to include dim=X as an argument.\n",
      "  output = F.softmax(output)\n",
      "e:\\OneDrive - Hanoi University of Science and Technology\\Code project\\ML\\NLP\\uvipen_HAN\\src\\sent_att_model.py:29: UserWarning: Implicit dimension choice for softmax has been deprecated. Change the call to include dim=X as an argument.\n",
      "  output = F.softmax(output)\n"
     ]
    },
    {
     "name": "stdout",
     "output_type": "stream",
     "text": [
      "Epoch: 1/100, Iteration: 597/937, Lr: 0.1, Loss: 0.3578643500804901, Accuracy: 0.875\n"
     ]
    },
    {
     "name": "stderr",
     "output_type": "stream",
     "text": [
      "e:\\OneDrive - Hanoi University of Science and Technology\\Code project\\ML\\NLP\\uvipen_HAN\\src\\word_att_model.py:37: UserWarning: Implicit dimension choice for softmax has been deprecated. Change the call to include dim=X as an argument.\n",
      "  output = F.softmax(output)\n",
      "e:\\OneDrive - Hanoi University of Science and Technology\\Code project\\ML\\NLP\\uvipen_HAN\\src\\sent_att_model.py:29: UserWarning: Implicit dimension choice for softmax has been deprecated. Change the call to include dim=X as an argument.\n",
      "  output = F.softmax(output)\n"
     ]
    },
    {
     "name": "stdout",
     "output_type": "stream",
     "text": [
      "Epoch: 1/100, Iteration: 598/937, Lr: 0.1, Loss: 0.2781752943992615, Accuracy: 0.921875\n"
     ]
    },
    {
     "name": "stderr",
     "output_type": "stream",
     "text": [
      "e:\\OneDrive - Hanoi University of Science and Technology\\Code project\\ML\\NLP\\uvipen_HAN\\src\\word_att_model.py:37: UserWarning: Implicit dimension choice for softmax has been deprecated. Change the call to include dim=X as an argument.\n",
      "  output = F.softmax(output)\n",
      "e:\\OneDrive - Hanoi University of Science and Technology\\Code project\\ML\\NLP\\uvipen_HAN\\src\\sent_att_model.py:29: UserWarning: Implicit dimension choice for softmax has been deprecated. Change the call to include dim=X as an argument.\n",
      "  output = F.softmax(output)\n"
     ]
    },
    {
     "name": "stdout",
     "output_type": "stream",
     "text": [
      "Epoch: 1/100, Iteration: 599/937, Lr: 0.1, Loss: 0.4069300889968872, Accuracy: 0.8828125\n"
     ]
    },
    {
     "name": "stderr",
     "output_type": "stream",
     "text": [
      "e:\\OneDrive - Hanoi University of Science and Technology\\Code project\\ML\\NLP\\uvipen_HAN\\src\\word_att_model.py:37: UserWarning: Implicit dimension choice for softmax has been deprecated. Change the call to include dim=X as an argument.\n",
      "  output = F.softmax(output)\n",
      "e:\\OneDrive - Hanoi University of Science and Technology\\Code project\\ML\\NLP\\uvipen_HAN\\src\\sent_att_model.py:29: UserWarning: Implicit dimension choice for softmax has been deprecated. Change the call to include dim=X as an argument.\n",
      "  output = F.softmax(output)\n"
     ]
    },
    {
     "name": "stdout",
     "output_type": "stream",
     "text": [
      "Epoch: 1/100, Iteration: 600/937, Lr: 0.1, Loss: 0.3314140737056732, Accuracy: 0.8828125\n"
     ]
    },
    {
     "name": "stderr",
     "output_type": "stream",
     "text": [
      "e:\\OneDrive - Hanoi University of Science and Technology\\Code project\\ML\\NLP\\uvipen_HAN\\src\\word_att_model.py:37: UserWarning: Implicit dimension choice for softmax has been deprecated. Change the call to include dim=X as an argument.\n",
      "  output = F.softmax(output)\n",
      "e:\\OneDrive - Hanoi University of Science and Technology\\Code project\\ML\\NLP\\uvipen_HAN\\src\\sent_att_model.py:29: UserWarning: Implicit dimension choice for softmax has been deprecated. Change the call to include dim=X as an argument.\n",
      "  output = F.softmax(output)\n"
     ]
    },
    {
     "name": "stdout",
     "output_type": "stream",
     "text": [
      "Epoch: 1/100, Iteration: 601/937, Lr: 0.1, Loss: 0.2786036729812622, Accuracy: 0.90625\n"
     ]
    },
    {
     "name": "stderr",
     "output_type": "stream",
     "text": [
      "e:\\OneDrive - Hanoi University of Science and Technology\\Code project\\ML\\NLP\\uvipen_HAN\\src\\word_att_model.py:37: UserWarning: Implicit dimension choice for softmax has been deprecated. Change the call to include dim=X as an argument.\n",
      "  output = F.softmax(output)\n",
      "e:\\OneDrive - Hanoi University of Science and Technology\\Code project\\ML\\NLP\\uvipen_HAN\\src\\sent_att_model.py:29: UserWarning: Implicit dimension choice for softmax has been deprecated. Change the call to include dim=X as an argument.\n",
      "  output = F.softmax(output)\n"
     ]
    },
    {
     "name": "stdout",
     "output_type": "stream",
     "text": [
      "Epoch: 1/100, Iteration: 602/937, Lr: 0.1, Loss: 0.45557594299316406, Accuracy: 0.8125\n"
     ]
    },
    {
     "name": "stderr",
     "output_type": "stream",
     "text": [
      "e:\\OneDrive - Hanoi University of Science and Technology\\Code project\\ML\\NLP\\uvipen_HAN\\src\\word_att_model.py:37: UserWarning: Implicit dimension choice for softmax has been deprecated. Change the call to include dim=X as an argument.\n",
      "  output = F.softmax(output)\n",
      "e:\\OneDrive - Hanoi University of Science and Technology\\Code project\\ML\\NLP\\uvipen_HAN\\src\\sent_att_model.py:29: UserWarning: Implicit dimension choice for softmax has been deprecated. Change the call to include dim=X as an argument.\n",
      "  output = F.softmax(output)\n"
     ]
    },
    {
     "name": "stdout",
     "output_type": "stream",
     "text": [
      "Epoch: 1/100, Iteration: 603/937, Lr: 0.1, Loss: 0.28139540553092957, Accuracy: 0.9140625\n"
     ]
    },
    {
     "name": "stderr",
     "output_type": "stream",
     "text": [
      "e:\\OneDrive - Hanoi University of Science and Technology\\Code project\\ML\\NLP\\uvipen_HAN\\src\\word_att_model.py:37: UserWarning: Implicit dimension choice for softmax has been deprecated. Change the call to include dim=X as an argument.\n",
      "  output = F.softmax(output)\n",
      "e:\\OneDrive - Hanoi University of Science and Technology\\Code project\\ML\\NLP\\uvipen_HAN\\src\\sent_att_model.py:29: UserWarning: Implicit dimension choice for softmax has been deprecated. Change the call to include dim=X as an argument.\n",
      "  output = F.softmax(output)\n"
     ]
    },
    {
     "name": "stdout",
     "output_type": "stream",
     "text": [
      "Epoch: 1/100, Iteration: 604/937, Lr: 0.1, Loss: 0.4177826941013336, Accuracy: 0.8828125\n"
     ]
    },
    {
     "name": "stderr",
     "output_type": "stream",
     "text": [
      "e:\\OneDrive - Hanoi University of Science and Technology\\Code project\\ML\\NLP\\uvipen_HAN\\src\\word_att_model.py:37: UserWarning: Implicit dimension choice for softmax has been deprecated. Change the call to include dim=X as an argument.\n",
      "  output = F.softmax(output)\n",
      "e:\\OneDrive - Hanoi University of Science and Technology\\Code project\\ML\\NLP\\uvipen_HAN\\src\\sent_att_model.py:29: UserWarning: Implicit dimension choice for softmax has been deprecated. Change the call to include dim=X as an argument.\n",
      "  output = F.softmax(output)\n"
     ]
    },
    {
     "name": "stdout",
     "output_type": "stream",
     "text": [
      "Epoch: 1/100, Iteration: 605/937, Lr: 0.1, Loss: 0.4084931015968323, Accuracy: 0.8515625\n"
     ]
    },
    {
     "name": "stderr",
     "output_type": "stream",
     "text": [
      "e:\\OneDrive - Hanoi University of Science and Technology\\Code project\\ML\\NLP\\uvipen_HAN\\src\\word_att_model.py:37: UserWarning: Implicit dimension choice for softmax has been deprecated. Change the call to include dim=X as an argument.\n",
      "  output = F.softmax(output)\n",
      "e:\\OneDrive - Hanoi University of Science and Technology\\Code project\\ML\\NLP\\uvipen_HAN\\src\\sent_att_model.py:29: UserWarning: Implicit dimension choice for softmax has been deprecated. Change the call to include dim=X as an argument.\n",
      "  output = F.softmax(output)\n"
     ]
    },
    {
     "name": "stdout",
     "output_type": "stream",
     "text": [
      "Epoch: 1/100, Iteration: 606/937, Lr: 0.1, Loss: 0.4210132658481598, Accuracy: 0.8203125\n"
     ]
    },
    {
     "name": "stderr",
     "output_type": "stream",
     "text": [
      "e:\\OneDrive - Hanoi University of Science and Technology\\Code project\\ML\\NLP\\uvipen_HAN\\src\\word_att_model.py:37: UserWarning: Implicit dimension choice for softmax has been deprecated. Change the call to include dim=X as an argument.\n",
      "  output = F.softmax(output)\n",
      "e:\\OneDrive - Hanoi University of Science and Technology\\Code project\\ML\\NLP\\uvipen_HAN\\src\\sent_att_model.py:29: UserWarning: Implicit dimension choice for softmax has been deprecated. Change the call to include dim=X as an argument.\n",
      "  output = F.softmax(output)\n"
     ]
    },
    {
     "name": "stdout",
     "output_type": "stream",
     "text": [
      "Epoch: 1/100, Iteration: 607/937, Lr: 0.1, Loss: 0.3215322196483612, Accuracy: 0.859375\n"
     ]
    },
    {
     "name": "stderr",
     "output_type": "stream",
     "text": [
      "e:\\OneDrive - Hanoi University of Science and Technology\\Code project\\ML\\NLP\\uvipen_HAN\\src\\word_att_model.py:37: UserWarning: Implicit dimension choice for softmax has been deprecated. Change the call to include dim=X as an argument.\n",
      "  output = F.softmax(output)\n",
      "e:\\OneDrive - Hanoi University of Science and Technology\\Code project\\ML\\NLP\\uvipen_HAN\\src\\sent_att_model.py:29: UserWarning: Implicit dimension choice for softmax has been deprecated. Change the call to include dim=X as an argument.\n",
      "  output = F.softmax(output)\n"
     ]
    },
    {
     "name": "stdout",
     "output_type": "stream",
     "text": [
      "Epoch: 1/100, Iteration: 608/937, Lr: 0.1, Loss: 0.34097906947135925, Accuracy: 0.890625\n"
     ]
    },
    {
     "name": "stderr",
     "output_type": "stream",
     "text": [
      "e:\\OneDrive - Hanoi University of Science and Technology\\Code project\\ML\\NLP\\uvipen_HAN\\src\\word_att_model.py:37: UserWarning: Implicit dimension choice for softmax has been deprecated. Change the call to include dim=X as an argument.\n",
      "  output = F.softmax(output)\n",
      "e:\\OneDrive - Hanoi University of Science and Technology\\Code project\\ML\\NLP\\uvipen_HAN\\src\\sent_att_model.py:29: UserWarning: Implicit dimension choice for softmax has been deprecated. Change the call to include dim=X as an argument.\n",
      "  output = F.softmax(output)\n"
     ]
    },
    {
     "name": "stdout",
     "output_type": "stream",
     "text": [
      "Epoch: 1/100, Iteration: 609/937, Lr: 0.1, Loss: 0.35854119062423706, Accuracy: 0.8828125\n"
     ]
    },
    {
     "name": "stderr",
     "output_type": "stream",
     "text": [
      "e:\\OneDrive - Hanoi University of Science and Technology\\Code project\\ML\\NLP\\uvipen_HAN\\src\\word_att_model.py:37: UserWarning: Implicit dimension choice for softmax has been deprecated. Change the call to include dim=X as an argument.\n",
      "  output = F.softmax(output)\n",
      "e:\\OneDrive - Hanoi University of Science and Technology\\Code project\\ML\\NLP\\uvipen_HAN\\src\\sent_att_model.py:29: UserWarning: Implicit dimension choice for softmax has been deprecated. Change the call to include dim=X as an argument.\n",
      "  output = F.softmax(output)\n"
     ]
    },
    {
     "name": "stdout",
     "output_type": "stream",
     "text": [
      "Epoch: 1/100, Iteration: 610/937, Lr: 0.1, Loss: 0.25816017389297485, Accuracy: 0.9296875\n"
     ]
    },
    {
     "name": "stderr",
     "output_type": "stream",
     "text": [
      "e:\\OneDrive - Hanoi University of Science and Technology\\Code project\\ML\\NLP\\uvipen_HAN\\src\\word_att_model.py:37: UserWarning: Implicit dimension choice for softmax has been deprecated. Change the call to include dim=X as an argument.\n",
      "  output = F.softmax(output)\n",
      "e:\\OneDrive - Hanoi University of Science and Technology\\Code project\\ML\\NLP\\uvipen_HAN\\src\\sent_att_model.py:29: UserWarning: Implicit dimension choice for softmax has been deprecated. Change the call to include dim=X as an argument.\n",
      "  output = F.softmax(output)\n"
     ]
    },
    {
     "name": "stdout",
     "output_type": "stream",
     "text": [
      "Epoch: 1/100, Iteration: 611/937, Lr: 0.1, Loss: 0.2996786832809448, Accuracy: 0.8828125\n"
     ]
    },
    {
     "name": "stderr",
     "output_type": "stream",
     "text": [
      "e:\\OneDrive - Hanoi University of Science and Technology\\Code project\\ML\\NLP\\uvipen_HAN\\src\\word_att_model.py:37: UserWarning: Implicit dimension choice for softmax has been deprecated. Change the call to include dim=X as an argument.\n",
      "  output = F.softmax(output)\n",
      "e:\\OneDrive - Hanoi University of Science and Technology\\Code project\\ML\\NLP\\uvipen_HAN\\src\\sent_att_model.py:29: UserWarning: Implicit dimension choice for softmax has been deprecated. Change the call to include dim=X as an argument.\n",
      "  output = F.softmax(output)\n"
     ]
    },
    {
     "name": "stdout",
     "output_type": "stream",
     "text": [
      "Epoch: 1/100, Iteration: 612/937, Lr: 0.1, Loss: 0.3816477060317993, Accuracy: 0.8828125\n"
     ]
    },
    {
     "name": "stderr",
     "output_type": "stream",
     "text": [
      "e:\\OneDrive - Hanoi University of Science and Technology\\Code project\\ML\\NLP\\uvipen_HAN\\src\\word_att_model.py:37: UserWarning: Implicit dimension choice for softmax has been deprecated. Change the call to include dim=X as an argument.\n",
      "  output = F.softmax(output)\n",
      "e:\\OneDrive - Hanoi University of Science and Technology\\Code project\\ML\\NLP\\uvipen_HAN\\src\\sent_att_model.py:29: UserWarning: Implicit dimension choice for softmax has been deprecated. Change the call to include dim=X as an argument.\n",
      "  output = F.softmax(output)\n"
     ]
    },
    {
     "name": "stdout",
     "output_type": "stream",
     "text": [
      "Epoch: 1/100, Iteration: 613/937, Lr: 0.1, Loss: 0.48320111632347107, Accuracy: 0.859375\n"
     ]
    },
    {
     "name": "stderr",
     "output_type": "stream",
     "text": [
      "e:\\OneDrive - Hanoi University of Science and Technology\\Code project\\ML\\NLP\\uvipen_HAN\\src\\word_att_model.py:37: UserWarning: Implicit dimension choice for softmax has been deprecated. Change the call to include dim=X as an argument.\n",
      "  output = F.softmax(output)\n",
      "e:\\OneDrive - Hanoi University of Science and Technology\\Code project\\ML\\NLP\\uvipen_HAN\\src\\sent_att_model.py:29: UserWarning: Implicit dimension choice for softmax has been deprecated. Change the call to include dim=X as an argument.\n",
      "  output = F.softmax(output)\n"
     ]
    },
    {
     "name": "stdout",
     "output_type": "stream",
     "text": [
      "Epoch: 1/100, Iteration: 614/937, Lr: 0.1, Loss: 0.269226610660553, Accuracy: 0.90625\n"
     ]
    },
    {
     "ename": "KeyboardInterrupt",
     "evalue": "",
     "output_type": "error",
     "traceback": [
      "\u001b[1;31m---------------------------------------------------------------------------\u001b[0m",
      "\u001b[1;31mKeyboardInterrupt\u001b[0m                         Traceback (most recent call last)",
      "Cell \u001b[1;32mIn[7], line 5\u001b[0m\n\u001b[0;32m      2\u001b[0m num_iter_per_epoch \u001b[38;5;241m=\u001b[39m \u001b[38;5;28mlen\u001b[39m(training_generator)\n\u001b[0;32m      3\u001b[0m \u001b[38;5;28;01mfor\u001b[39;00m epoch \u001b[38;5;129;01min\u001b[39;00m \u001b[38;5;28mrange\u001b[39m(opt\u001b[38;5;241m.\u001b[39mnum_epoches):\n\u001b[0;32m      4\u001b[0m     \u001b[38;5;66;03m# Training phase\u001b[39;00m\n\u001b[1;32m----> 5\u001b[0m \u001b[43m    \u001b[49m\u001b[38;5;28;43;01mfor\u001b[39;49;00m\u001b[43m \u001b[49m\u001b[38;5;28;43miter\u001b[39;49m\u001b[43m,\u001b[49m\u001b[43m \u001b[49m\u001b[43m(\u001b[49m\u001b[43mfeature\u001b[49m\u001b[43m,\u001b[49m\u001b[43m \u001b[49m\u001b[43mlabel\u001b[49m\u001b[43m)\u001b[49m\u001b[43m \u001b[49m\u001b[38;5;129;43;01min\u001b[39;49;00m\u001b[43m \u001b[49m\u001b[38;5;28;43menumerate\u001b[39;49m\u001b[43m(\u001b[49m\u001b[43mtraining_generator\u001b[49m\u001b[43m)\u001b[49m\u001b[43m:\u001b[49m\n\u001b[0;32m      6\u001b[0m \u001b[43m        \u001b[49m\u001b[38;5;28;43;01mif\u001b[39;49;00m\u001b[43m \u001b[49m\u001b[43mtorch\u001b[49m\u001b[38;5;241;43m.\u001b[39;49m\u001b[43mcuda\u001b[49m\u001b[38;5;241;43m.\u001b[39;49m\u001b[43mis_available\u001b[49m\u001b[43m(\u001b[49m\u001b[43m)\u001b[49m\u001b[43m:\u001b[49m\n\u001b[0;32m      7\u001b[0m \u001b[43m            \u001b[49m\u001b[43mfeature\u001b[49m\u001b[43m \u001b[49m\u001b[38;5;241;43m=\u001b[39;49m\u001b[43m \u001b[49m\u001b[43mfeature\u001b[49m\u001b[38;5;241;43m.\u001b[39;49m\u001b[43mcuda\u001b[49m\u001b[43m(\u001b[49m\u001b[43m)\u001b[49m\n",
      "File \u001b[1;32mc:\\Users\\Admin\\miniconda3\\envs\\env1\\Lib\\site-packages\\torch\\utils\\data\\dataloader.py:631\u001b[0m, in \u001b[0;36m_BaseDataLoaderIter.__next__\u001b[1;34m(self)\u001b[0m\n\u001b[0;32m    628\u001b[0m \u001b[38;5;28;01mif\u001b[39;00m \u001b[38;5;28mself\u001b[39m\u001b[38;5;241m.\u001b[39m_sampler_iter \u001b[38;5;129;01mis\u001b[39;00m \u001b[38;5;28;01mNone\u001b[39;00m:\n\u001b[0;32m    629\u001b[0m     \u001b[38;5;66;03m# TODO(https://github.com/pytorch/pytorch/issues/76750)\u001b[39;00m\n\u001b[0;32m    630\u001b[0m     \u001b[38;5;28mself\u001b[39m\u001b[38;5;241m.\u001b[39m_reset()  \u001b[38;5;66;03m# type: ignore[call-arg]\u001b[39;00m\n\u001b[1;32m--> 631\u001b[0m data \u001b[38;5;241m=\u001b[39m \u001b[38;5;28;43mself\u001b[39;49m\u001b[38;5;241;43m.\u001b[39;49m\u001b[43m_next_data\u001b[49m\u001b[43m(\u001b[49m\u001b[43m)\u001b[49m\n\u001b[0;32m    632\u001b[0m \u001b[38;5;28mself\u001b[39m\u001b[38;5;241m.\u001b[39m_num_yielded \u001b[38;5;241m+\u001b[39m\u001b[38;5;241m=\u001b[39m \u001b[38;5;241m1\u001b[39m\n\u001b[0;32m    633\u001b[0m \u001b[38;5;28;01mif\u001b[39;00m \u001b[38;5;28mself\u001b[39m\u001b[38;5;241m.\u001b[39m_dataset_kind \u001b[38;5;241m==\u001b[39m _DatasetKind\u001b[38;5;241m.\u001b[39mIterable \u001b[38;5;129;01mand\u001b[39;00m \\\n\u001b[0;32m    634\u001b[0m         \u001b[38;5;28mself\u001b[39m\u001b[38;5;241m.\u001b[39m_IterableDataset_len_called \u001b[38;5;129;01mis\u001b[39;00m \u001b[38;5;129;01mnot\u001b[39;00m \u001b[38;5;28;01mNone\u001b[39;00m \u001b[38;5;129;01mand\u001b[39;00m \\\n\u001b[0;32m    635\u001b[0m         \u001b[38;5;28mself\u001b[39m\u001b[38;5;241m.\u001b[39m_num_yielded \u001b[38;5;241m>\u001b[39m \u001b[38;5;28mself\u001b[39m\u001b[38;5;241m.\u001b[39m_IterableDataset_len_called:\n",
      "File \u001b[1;32mc:\\Users\\Admin\\miniconda3\\envs\\env1\\Lib\\site-packages\\torch\\utils\\data\\dataloader.py:675\u001b[0m, in \u001b[0;36m_SingleProcessDataLoaderIter._next_data\u001b[1;34m(self)\u001b[0m\n\u001b[0;32m    673\u001b[0m \u001b[38;5;28;01mdef\u001b[39;00m \u001b[38;5;21m_next_data\u001b[39m(\u001b[38;5;28mself\u001b[39m):\n\u001b[0;32m    674\u001b[0m     index \u001b[38;5;241m=\u001b[39m \u001b[38;5;28mself\u001b[39m\u001b[38;5;241m.\u001b[39m_next_index()  \u001b[38;5;66;03m# may raise StopIteration\u001b[39;00m\n\u001b[1;32m--> 675\u001b[0m     data \u001b[38;5;241m=\u001b[39m \u001b[38;5;28;43mself\u001b[39;49m\u001b[38;5;241;43m.\u001b[39;49m\u001b[43m_dataset_fetcher\u001b[49m\u001b[38;5;241;43m.\u001b[39;49m\u001b[43mfetch\u001b[49m\u001b[43m(\u001b[49m\u001b[43mindex\u001b[49m\u001b[43m)\u001b[49m  \u001b[38;5;66;03m# may raise StopIteration\u001b[39;00m\n\u001b[0;32m    676\u001b[0m     \u001b[38;5;28;01mif\u001b[39;00m \u001b[38;5;28mself\u001b[39m\u001b[38;5;241m.\u001b[39m_pin_memory:\n\u001b[0;32m    677\u001b[0m         data \u001b[38;5;241m=\u001b[39m _utils\u001b[38;5;241m.\u001b[39mpin_memory\u001b[38;5;241m.\u001b[39mpin_memory(data, \u001b[38;5;28mself\u001b[39m\u001b[38;5;241m.\u001b[39m_pin_memory_device)\n",
      "File \u001b[1;32mc:\\Users\\Admin\\miniconda3\\envs\\env1\\Lib\\site-packages\\torch\\utils\\data\\_utils\\fetch.py:51\u001b[0m, in \u001b[0;36m_MapDatasetFetcher.fetch\u001b[1;34m(self, possibly_batched_index)\u001b[0m\n\u001b[0;32m     49\u001b[0m         data \u001b[38;5;241m=\u001b[39m \u001b[38;5;28mself\u001b[39m\u001b[38;5;241m.\u001b[39mdataset\u001b[38;5;241m.\u001b[39m__getitems__(possibly_batched_index)\n\u001b[0;32m     50\u001b[0m     \u001b[38;5;28;01melse\u001b[39;00m:\n\u001b[1;32m---> 51\u001b[0m         data \u001b[38;5;241m=\u001b[39m \u001b[43m[\u001b[49m\u001b[38;5;28;43mself\u001b[39;49m\u001b[38;5;241;43m.\u001b[39;49m\u001b[43mdataset\u001b[49m\u001b[43m[\u001b[49m\u001b[43midx\u001b[49m\u001b[43m]\u001b[49m\u001b[43m \u001b[49m\u001b[38;5;28;43;01mfor\u001b[39;49;00m\u001b[43m \u001b[49m\u001b[43midx\u001b[49m\u001b[43m \u001b[49m\u001b[38;5;129;43;01min\u001b[39;49;00m\u001b[43m \u001b[49m\u001b[43mpossibly_batched_index\u001b[49m\u001b[43m]\u001b[49m\n\u001b[0;32m     52\u001b[0m \u001b[38;5;28;01melse\u001b[39;00m:\n\u001b[0;32m     53\u001b[0m     data \u001b[38;5;241m=\u001b[39m \u001b[38;5;28mself\u001b[39m\u001b[38;5;241m.\u001b[39mdataset[possibly_batched_index]\n",
      "File \u001b[1;32mc:\\Users\\Admin\\miniconda3\\envs\\env1\\Lib\\site-packages\\torch\\utils\\data\\_utils\\fetch.py:51\u001b[0m, in \u001b[0;36m<listcomp>\u001b[1;34m(.0)\u001b[0m\n\u001b[0;32m     49\u001b[0m         data \u001b[38;5;241m=\u001b[39m \u001b[38;5;28mself\u001b[39m\u001b[38;5;241m.\u001b[39mdataset\u001b[38;5;241m.\u001b[39m__getitems__(possibly_batched_index)\n\u001b[0;32m     50\u001b[0m     \u001b[38;5;28;01melse\u001b[39;00m:\n\u001b[1;32m---> 51\u001b[0m         data \u001b[38;5;241m=\u001b[39m [\u001b[38;5;28;43mself\u001b[39;49m\u001b[38;5;241;43m.\u001b[39;49m\u001b[43mdataset\u001b[49m\u001b[43m[\u001b[49m\u001b[43midx\u001b[49m\u001b[43m]\u001b[49m \u001b[38;5;28;01mfor\u001b[39;00m idx \u001b[38;5;129;01min\u001b[39;00m possibly_batched_index]\n\u001b[0;32m     52\u001b[0m \u001b[38;5;28;01melse\u001b[39;00m:\n\u001b[0;32m     53\u001b[0m     data \u001b[38;5;241m=\u001b[39m \u001b[38;5;28mself\u001b[39m\u001b[38;5;241m.\u001b[39mdataset[possibly_batched_index]\n",
      "File \u001b[1;32me:\\OneDrive - Hanoi University of Science and Technology\\Code project\\ML\\NLP\\uvipen_HAN\\src\\dataset.py:40\u001b[0m, in \u001b[0;36mMyDataset.__getitem__\u001b[1;34m(self, index)\u001b[0m\n\u001b[0;32m     38\u001b[0m label \u001b[38;5;241m=\u001b[39m \u001b[38;5;28mself\u001b[39m\u001b[38;5;241m.\u001b[39mlabels[index]\n\u001b[0;32m     39\u001b[0m text \u001b[38;5;241m=\u001b[39m \u001b[38;5;28mself\u001b[39m\u001b[38;5;241m.\u001b[39mtexts[index]\n\u001b[1;32m---> 40\u001b[0m document_encode \u001b[38;5;241m=\u001b[39m \u001b[43m[\u001b[49m\n\u001b[0;32m     41\u001b[0m \u001b[43m    \u001b[49m\u001b[43m[\u001b[49m\u001b[38;5;28;43mself\u001b[39;49m\u001b[38;5;241;43m.\u001b[39;49m\u001b[43mdict\u001b[49m\u001b[38;5;241;43m.\u001b[39;49m\u001b[43mindex\u001b[49m\u001b[43m(\u001b[49m\u001b[43mword\u001b[49m\u001b[43m)\u001b[49m\u001b[43m \u001b[49m\u001b[38;5;28;43;01mif\u001b[39;49;00m\u001b[43m \u001b[49m\u001b[43mword\u001b[49m\u001b[43m \u001b[49m\u001b[38;5;129;43;01min\u001b[39;49;00m\u001b[43m \u001b[49m\u001b[38;5;28;43mself\u001b[39;49m\u001b[38;5;241;43m.\u001b[39;49m\u001b[43mdict\u001b[49m\u001b[43m \u001b[49m\u001b[38;5;28;43;01melse\u001b[39;49;00m\u001b[43m \u001b[49m\u001b[38;5;241;43m-\u001b[39;49m\u001b[38;5;241;43m1\u001b[39;49m\u001b[43m \u001b[49m\u001b[38;5;28;43;01mfor\u001b[39;49;00m\u001b[43m \u001b[49m\u001b[43mword\u001b[49m\u001b[43m \u001b[49m\u001b[38;5;129;43;01min\u001b[39;49;00m\u001b[43m \u001b[49m\u001b[43mword_tokenize\u001b[49m\u001b[43m(\u001b[49m\u001b[43mtext\u001b[49m\u001b[38;5;241;43m=\u001b[39;49m\u001b[43msentences\u001b[49m\u001b[43m)\u001b[49m\u001b[43m]\u001b[49m\u001b[43m \u001b[49m\u001b[38;5;28;43;01mfor\u001b[39;49;00m\u001b[43m \u001b[49m\u001b[43msentences\u001b[49m\n\u001b[0;32m     42\u001b[0m \u001b[43m    \u001b[49m\u001b[38;5;129;43;01min\u001b[39;49;00m\n\u001b[0;32m     43\u001b[0m \u001b[43m    \u001b[49m\u001b[43msent_tokenize\u001b[49m\u001b[43m(\u001b[49m\u001b[43mtext\u001b[49m\u001b[38;5;241;43m=\u001b[39;49m\u001b[43mtext\u001b[49m\u001b[43m)\u001b[49m\u001b[43m]\u001b[49m\n\u001b[0;32m     45\u001b[0m \u001b[38;5;28;01mfor\u001b[39;00m sentences \u001b[38;5;129;01min\u001b[39;00m document_encode:\n\u001b[0;32m     46\u001b[0m     \u001b[38;5;28;01mif\u001b[39;00m \u001b[38;5;28mlen\u001b[39m(sentences) \u001b[38;5;241m<\u001b[39m \u001b[38;5;28mself\u001b[39m\u001b[38;5;241m.\u001b[39mmax_length_word:\n",
      "File \u001b[1;32me:\\OneDrive - Hanoi University of Science and Technology\\Code project\\ML\\NLP\\uvipen_HAN\\src\\dataset.py:41\u001b[0m, in \u001b[0;36m<listcomp>\u001b[1;34m(.0)\u001b[0m\n\u001b[0;32m     38\u001b[0m label \u001b[38;5;241m=\u001b[39m \u001b[38;5;28mself\u001b[39m\u001b[38;5;241m.\u001b[39mlabels[index]\n\u001b[0;32m     39\u001b[0m text \u001b[38;5;241m=\u001b[39m \u001b[38;5;28mself\u001b[39m\u001b[38;5;241m.\u001b[39mtexts[index]\n\u001b[0;32m     40\u001b[0m document_encode \u001b[38;5;241m=\u001b[39m [\n\u001b[1;32m---> 41\u001b[0m     \u001b[43m[\u001b[49m\u001b[38;5;28;43mself\u001b[39;49m\u001b[38;5;241;43m.\u001b[39;49m\u001b[43mdict\u001b[49m\u001b[38;5;241;43m.\u001b[39;49m\u001b[43mindex\u001b[49m\u001b[43m(\u001b[49m\u001b[43mword\u001b[49m\u001b[43m)\u001b[49m\u001b[43m \u001b[49m\u001b[38;5;28;43;01mif\u001b[39;49;00m\u001b[43m \u001b[49m\u001b[43mword\u001b[49m\u001b[43m \u001b[49m\u001b[38;5;129;43;01min\u001b[39;49;00m\u001b[43m \u001b[49m\u001b[38;5;28;43mself\u001b[39;49m\u001b[38;5;241;43m.\u001b[39;49m\u001b[43mdict\u001b[49m\u001b[43m \u001b[49m\u001b[38;5;28;43;01melse\u001b[39;49;00m\u001b[43m \u001b[49m\u001b[38;5;241;43m-\u001b[39;49m\u001b[38;5;241;43m1\u001b[39;49m\u001b[43m \u001b[49m\u001b[38;5;28;43;01mfor\u001b[39;49;00m\u001b[43m \u001b[49m\u001b[43mword\u001b[49m\u001b[43m \u001b[49m\u001b[38;5;129;43;01min\u001b[39;49;00m\u001b[43m \u001b[49m\u001b[43mword_tokenize\u001b[49m\u001b[43m(\u001b[49m\u001b[43mtext\u001b[49m\u001b[38;5;241;43m=\u001b[39;49m\u001b[43msentences\u001b[49m\u001b[43m)\u001b[49m\u001b[43m]\u001b[49m \u001b[38;5;28;01mfor\u001b[39;00m sentences\n\u001b[0;32m     42\u001b[0m     \u001b[38;5;129;01min\u001b[39;00m\n\u001b[0;32m     43\u001b[0m     sent_tokenize(text\u001b[38;5;241m=\u001b[39mtext)]\n\u001b[0;32m     45\u001b[0m \u001b[38;5;28;01mfor\u001b[39;00m sentences \u001b[38;5;129;01min\u001b[39;00m document_encode:\n\u001b[0;32m     46\u001b[0m     \u001b[38;5;28;01mif\u001b[39;00m \u001b[38;5;28mlen\u001b[39m(sentences) \u001b[38;5;241m<\u001b[39m \u001b[38;5;28mself\u001b[39m\u001b[38;5;241m.\u001b[39mmax_length_word:\n",
      "File \u001b[1;32me:\\OneDrive - Hanoi University of Science and Technology\\Code project\\ML\\NLP\\uvipen_HAN\\src\\dataset.py:41\u001b[0m, in \u001b[0;36m<listcomp>\u001b[1;34m(.0)\u001b[0m\n\u001b[0;32m     38\u001b[0m label \u001b[38;5;241m=\u001b[39m \u001b[38;5;28mself\u001b[39m\u001b[38;5;241m.\u001b[39mlabels[index]\n\u001b[0;32m     39\u001b[0m text \u001b[38;5;241m=\u001b[39m \u001b[38;5;28mself\u001b[39m\u001b[38;5;241m.\u001b[39mtexts[index]\n\u001b[0;32m     40\u001b[0m document_encode \u001b[38;5;241m=\u001b[39m [\n\u001b[1;32m---> 41\u001b[0m     [\u001b[38;5;28mself\u001b[39m\u001b[38;5;241m.\u001b[39mdict\u001b[38;5;241m.\u001b[39mindex(word) \u001b[38;5;28;01mif\u001b[39;00m word \u001b[38;5;129;01min\u001b[39;00m \u001b[38;5;28mself\u001b[39m\u001b[38;5;241m.\u001b[39mdict \u001b[38;5;28;01melse\u001b[39;00m \u001b[38;5;241m-\u001b[39m\u001b[38;5;241m1\u001b[39m \u001b[38;5;28;01mfor\u001b[39;00m word \u001b[38;5;129;01min\u001b[39;00m word_tokenize(text\u001b[38;5;241m=\u001b[39msentences)] \u001b[38;5;28;01mfor\u001b[39;00m sentences\n\u001b[0;32m     42\u001b[0m     \u001b[38;5;129;01min\u001b[39;00m\n\u001b[0;32m     43\u001b[0m     sent_tokenize(text\u001b[38;5;241m=\u001b[39mtext)]\n\u001b[0;32m     45\u001b[0m \u001b[38;5;28;01mfor\u001b[39;00m sentences \u001b[38;5;129;01min\u001b[39;00m document_encode:\n\u001b[0;32m     46\u001b[0m     \u001b[38;5;28;01mif\u001b[39;00m \u001b[38;5;28mlen\u001b[39m(sentences) \u001b[38;5;241m<\u001b[39m \u001b[38;5;28mself\u001b[39m\u001b[38;5;241m.\u001b[39mmax_length_word:\n",
      "\u001b[1;31mKeyboardInterrupt\u001b[0m: "
     ]
    }
   ],
   "source": [
    "model.train()\n",
    "num_iter_per_epoch = len(training_generator)\n",
    "for epoch in range(opt.num_epoches):\n",
    "    # Training phase\n",
    "    for iter, (feature, label) in enumerate(training_generator):\n",
    "        if torch.cuda.is_available():\n",
    "            feature = feature.cuda()\n",
    "            label = label.cuda()\n",
    "        optimizer.zero_grad()\n",
    "        model._init_hidden_state()\n",
    "        predictions = model(feature)\n",
    "        loss = criterion(predictions, label)\n",
    "        loss.backward()\n",
    "        optimizer.step()\n",
    "        training_metrics = get_evaluation(label.cpu().numpy(), predictions.cpu().detach().numpy(), list_metrics=[\"accuracy\"])\n",
    "        \n",
    "        # Log training information\n",
    "        print(\"Epoch: {}/{}, Iteration: {}/{}, Lr: {}, Loss: {}, Accuracy: {}\".format(\n",
    "            epoch + 1,\n",
    "            opt.num_epoches,\n",
    "            iter + 1,\n",
    "            num_iter_per_epoch,\n",
    "            optimizer.param_groups[0]['lr'],\n",
    "            loss, training_metrics[\"accuracy\"]))\n",
    "        writer.add_scalar('Train/Loss', loss, epoch * num_iter_per_epoch + iter)\n",
    "        writer.add_scalar('Train/Accuracy', training_metrics[\"accuracy\"], epoch * num_iter_per_epoch + iter)\n",
    "    \n",
    "    # Testing phase\n",
    "    if epoch % opt.test_interval == 0:\n",
    "        model.eval()\n",
    "        loss_ls = []\n",
    "        te_label_ls = []\n",
    "        te_pred_ls = []\n",
    "\n",
    "        # Testing process\n",
    "        for te_feature, te_label in test_generator:\n",
    "            num_sample = len(te_label)\n",
    "            if torch.cuda.is_available():\n",
    "                te_feature = te_feature.cuda()\n",
    "                te_label = te_label.cuda()\n",
    "            # Forward pass\n",
    "            with torch.no_grad():\n",
    "                model._init_hidden_state(num_sample)\n",
    "                te_predictions = model(te_feature)\n",
    "\n",
    "            # Compute loss\n",
    "            te_loss = criterion(te_predictions, te_label)\n",
    "            loss_ls.append(te_loss * num_sample)\n",
    "            te_label_ls.extend(te_label.clone().cpu())\n",
    "            te_pred_ls.append(te_predictions.clone().cpu())\n",
    "\n",
    "        # Compute testing metrics\n",
    "        te_loss = sum(loss_ls) / test_set.__len__()\n",
    "        te_pred = torch.cat(te_pred_ls, 0)\n",
    "        te_label = np.array(te_label_ls)\n",
    "        test_metrics = get_evaluation(te_label, te_pred.numpy(), list_metrics=[\"accuracy\", \"confusion_matrix\"])\n",
    "        \n",
    "        # Log testing information\n",
    "        output_file.write(\n",
    "            \"Epoch: {}/{} \\nTest loss: {} Test accuracy: {} \\nTest confusion matrix: \\n{}\\n\\n\".format(\n",
    "                epoch + 1, opt.num_epoches,\n",
    "                te_loss,\n",
    "                test_metrics[\"accuracy\"],\n",
    "                test_metrics[\"confusion_matrix\"]))\n",
    "        print(\"Epoch: {}/{}, Lr: {}, Loss: {}, Accuracy: {}\".format(\n",
    "            epoch + 1,\n",
    "            opt.num_epoches,\n",
    "            optimizer.param_groups[0]['lr'],\n",
    "            te_loss, test_metrics[\"accuracy\"]))\n",
    "        writer.add_scalar('Test/Loss', te_loss, epoch)\n",
    "        writer.add_scalar('Test/Accuracy', test_metrics[\"accuracy\"], epoch)\n",
    "        model.train()\n",
    "        if te_loss + opt.es_min_delta < best_loss:\n",
    "            best_loss = te_loss\n",
    "            best_epoch = epoch\n",
    "            torch.save(model, opt.saved_path + os.sep + \"whole_model_han\")\n",
    "\n",
    "        # Early stopping\n",
    "        if epoch - best_epoch > opt.es_patience > 0:\n",
    "            print(\"Stop training at epoch {}. The lowest loss achieved is {}\".format(epoch, te_loss))\n",
    "            break"
   ]
  }
 ],
 "metadata": {
  "kernelspec": {
   "display_name": "env1",
   "language": "python",
   "name": "python3"
  },
  "language_info": {
   "codemirror_mode": {
    "name": "ipython",
    "version": 3
   },
   "file_extension": ".py",
   "mimetype": "text/x-python",
   "name": "python",
   "nbconvert_exporter": "python",
   "pygments_lexer": "ipython3",
   "version": "3.11.5"
  }
 },
 "nbformat": 4,
 "nbformat_minor": 2
}
